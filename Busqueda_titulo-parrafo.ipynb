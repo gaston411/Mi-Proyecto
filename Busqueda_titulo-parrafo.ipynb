{
 "cells": [
  {
   "cell_type": "markdown",
   "metadata": {},
   "source": [
    "# Limpieza de texto\n",
    "### Creación de los dataframe y limpieza de texto"
   ]
  },
  {
   "cell_type": "code",
   "execution_count": 1,
   "metadata": {},
   "outputs": [],
   "source": [
    "import pandas as pd\n",
    "import numpy as np\n",
    "from pprint import pprint\n",
    "\n",
    "df = pd.read_csv('pericias_medicas.csv', sep=',',  encoding='utf-8')\n",
    "#convierte en string los datos de la columna text\n",
    "df1 = df['text'].apply(str)"
   ]
  },
  {
   "cell_type": "code",
   "execution_count": 2,
   "metadata": {},
   "outputs": [],
   "source": [
    "# Limpieza de texto\n",
    "# Primera etapa de la limpieza de texto\n",
    "import re, string, unicodedata\n",
    "'''\n",
    "Se hace la eliminacion de texto entre corchetes, acentos, signos de puntuacion (excepto . y :), palabras con numeros.\n",
    "Se eliminan los espacios de sobra\n",
    "Se eliminan \\r, \\t, \\v, \\f, \\a\n",
    "'''\n",
    "def limpiarTexto1(txt: str, bert=False, nums=False) -> str:\n",
    "    \"\"\"\n",
    "    Elimina caracteres no deseados\n",
    "    Params:\n",
    "        **txt**:texto a ser limpiado de caracteres no desaeados\n",
    "    \"\"\"\n",
    "    if nums:\n",
    "        txt = re.sub(r'\\d+', ' ', txt)\n",
    "    if not bert:\n",
    "        txt = txt.translate(str.maketrans(\n",
    "            'áéíóúýàèìòùÁÉÍÓÚÀÈÌÒÙÝ', 'aeiouyaeiouAEIOUAEIOUY'))\n",
    "\n",
    "    '''\n",
    "    Eliminamos caracteres especiales: tabulador orizontal(\\t), tabulador vertical(\\v), \n",
    "    retorno de carro(\\r), avance de pagina(\\f), \n",
    "    caracter de retroceso: Marca el límite de una palabra(\\b), \n",
    "    '''\n",
    "    txt = txt.replace('\\r', ' ').replace(\"\\v\", ' ').replace(\n",
    "        \"\\t\", ' ').replace(\"\\f\", ' ').replace(\"\\a\", ' ').replace(\"\\b\", ' ')\n",
    "    txt = re.sub(' +', ' ', txt)\n",
    "    txt = txt.strip()\n",
    "    return txt\n",
    "df1 = df1.apply(str)\n",
    "df1 = df1.apply(limpiarTexto1)"
   ]
  },
  {
   "cell_type": "code",
   "execution_count": 3,
   "metadata": {},
   "outputs": [],
   "source": [
    "# Segunda fase de limpieza\n",
    "# Se eliminan todos los elementos que meten ruido al texto y que no fueron eliminados en la fase de limpieza 1.\n",
    "import re\n",
    "\n",
    "def limpiarTexto2(text):\n",
    "    text = re.sub('^ ',' ',text)\n",
    "    text = re.sub('\\n +\\n','\\n',text)\n",
    "    text = re.sub(' +\\n\\n','\\n',text)\n",
    "    text = re.sub('\\n\\n+','\\n',text)\n",
    "    text = re.sub(' \\n','\\n',text)\n",
    "    text = re.sub('\\d\\n','',text)\n",
    "    text = re.sub('\\x0c','',text)\n",
    "    text = re.sub('\\u200b\\n','',text)\n",
    "    text = re.sub('\\d{3,100}','',text)\n",
    "    text = re.sub('\\d+-\\d+','',text)\n",
    "    text = re.sub('\\x0c','',text)\n",
    "    text = re.sub('[nN]º|[nN][. ]º','',text)\n",
    "    text = re.sub('[º<>/]','',text)\n",
    "    text = re.sub('\\d{3,100}','',text)\n",
    "    text = re.sub('[a-zA-z-.]+@[a-zA-Z]+.com','',text)\n",
    "    return text\n",
    "\n",
    "df1 = df1.apply(limpiarTexto2)"
   ]
  },
  {
   "cell_type": "code",
   "execution_count": 4,
   "metadata": {},
   "outputs": [],
   "source": [
    "# Tercera fase de limpieza\n",
    "# Eliminamos las lineas que no son de utilidad para el analisis o que van a afectar los resultados del mismo.\n",
    "# Ejemplo de linea eliminada: las lineas que comienzan con \"Se encuentra contestada en.....\"\n",
    "import re\n",
    "\n",
    "def limpiarTexto3(text):\n",
    "    text = re.sub('[a-z1-9.]+[).-] [s|S]e encuentra contestad[a|o] .+[. \\n]','',text)\n",
    "    text = re.sub('[0-9]+[. ]+[yY]a fue contestado.+[.\\n]','',text)\n",
    "    text = re.sub('[fF]oja [1-9].+\\n', '', text)\n",
    "    text = re.sub('[pP]regunta[ 0-9]+[)].+\\n|[rR]espuesta[ 0-9]+[)].+\\n','',text)#elimina oraciones comenzadas en preguta/respuesta.\n",
    "    text = re.sub('V[. ]+[S\\n\\.]+', '', text)\n",
    "    #text = re.sub('[IV]+.[A-Z]{1,3}[\\n.]', '', text)\n",
    "    text = re.sub('[I][.][P][.]','',text)\n",
    "    text = re.sub('[I][.][T][.]','',text)\n",
    "    text = re.sub('[I][.][A][.]','',text)\n",
    "    text = re.sub('[I][.][L][.]','',text)\n",
    "    text = re.sub('[I][.][B][.]','',text)\n",
    "    text = re.sub('[I][.][N][.]','',text)\n",
    "    text = re.sub('[I][.][V][.]','',text)\n",
    "    text = re.sub('[V][.][M][.]','',text)\n",
    "    text = re.sub('[V][.][A][.]','',text)\n",
    "\n",
    "    return text\n",
    "\n",
    "dfLimpio = df1.apply(limpiarTexto3)\n",
    "dfLimpio = dfLimpio.apply(limpiarTexto2)\n",
    "#pprint(dfLimpio[0])"
   ]
  },
  {
   "cell_type": "markdown",
   "metadata": {},
   "source": [
    "# Busqueda de titulos"
   ]
  },
  {
   "cell_type": "code",
   "execution_count": 5,
   "metadata": {},
   "outputs": [],
   "source": [
    "# Busca títulos en mayusculas\n",
    "def buscarTitulosMayusculas(text):\n",
    "    # Expresiín regular para encontrar títulos en mayusculas.\n",
    "    tituloMayusculas =re.compile(r'(I{1,3}|IV|V|VI{1,3}|IX|X)[-.) ]+[A-Z -]+[:\\.\\n]') #[1-9]|\n",
    "    titulosMayusculasEncontrados = []\n",
    "\n",
    "    for m in tituloMayusculas.finditer(text):\n",
    "        if len(m.group()) > 8:\n",
    "            titulosMayusculasEncontrados.append(m.group())\n",
    "\n",
    "    return titulosMayusculasEncontrados\n",
    "# titulosMAyuscula: lista que guarda los títulos en mayusculas\n",
    "titulosMayusculas=[]\n",
    "for expediente in dfLimpio:\n",
    "    titulosMayusculas.append(buscarTitulosMayusculas(expediente))\n",
    "\n",
    "dfTitulosMayusculasConStops = pd.DataFrame(titulosMayusculas)\n"
   ]
  },
  {
   "cell_type": "markdown",
   "metadata": {},
   "source": [
    "# Creacion de dataframe de solo titulos en mayusculas"
   ]
  },
  {
   "cell_type": "code",
   "execution_count": null,
   "metadata": {},
   "outputs": [],
   "source": [
    "# Creamos un dataframe para guardar expedientes que solamente tienen titulos en mayusculas\n",
    "#dfTitulosMayusculas = pd.DataFrame(columns=['id', 'expediente'])\n",
    "\n",
    "# Guardo en dfTitulosMayusculas los expedientes y su indice dentro del dataframe limpio (con todos los expedientes)\n",
    "expConTitulosMayusculas = []\n",
    "for id,titulo in  enumerate(dfLimpio):\n",
    "    if len(titulosMayusculas[id]) > 0:\n",
    "        expConTitulosMayusculas.append((id,titulo))\n",
    "\n",
    "dfTitulosMayusculas = pd.DataFrame(expConTitulosMayusculas, columns=['id','expediente'])\n",
    "pprint(dfTitulosMayusculas)"
   ]
  },
  {
   "cell_type": "code",
   "execution_count": 7,
   "metadata": {},
   "outputs": [],
   "source": [
    "dfTitulosMayusculas.to_excel('titulos_mayusculas.xlsx', index=False)"
   ]
  },
  {
   "cell_type": "markdown",
   "metadata": {},
   "source": [
    "### Expedientes con titulos en mayusculas sobre el total de expedientes"
   ]
  },
  {
   "cell_type": "code",
   "execution_count": null,
   "metadata": {},
   "outputs": [],
   "source": [
    "print(f'''\n",
    "Cantidad de expediente que tienen titulos en mayusculas:        {len(dfTitulosMayusculas)}\n",
    "Cantidad de expedientes que no tienen titulos en mayusculas:    {len(dfLimpio) - len(dfTitulosMayusculas)}  \n",
    "Total de expedientes: {len(dfLimpio)} \n",
    "''')"
   ]
  },
  {
   "cell_type": "code",
   "execution_count": null,
   "metadata": {},
   "outputs": [],
   "source": [
    "# Creo un grafico de torta\n",
    "import matplotlib.pyplot as plt\n",
    "\n",
    "totalExp = len(dfLimpio)\n",
    "totalExpMayusculas = len(dfTitulosMayusculas)\n",
    "\n",
    "# Creación de grafico de torta de la cantidad de expedientes con títulos en mayúsculas sobre el total de expedientes.\n",
    "cantExp = [totalExp, totalExpMayusculas]\n",
    "nombreTitulos = ['Total de Expedientes', 'Total de Expedientes con Títulos en Mayúsculas']\n",
    "colores = ['#2C4AF1','#2CF168']\n",
    "desfase=(0,0.1)\n",
    "\n",
    "plt.pie(cantExp, labels=nombreTitulos, autopct= '%0.1f %%', colors=colores, explode=desfase) #, explode=desfase\n",
    "plt"
   ]
  },
  {
   "cell_type": "markdown",
   "metadata": {},
   "source": [
    "## Titulos y ubicacion"
   ]
  },
  {
   "cell_type": "code",
   "execution_count": null,
   "metadata": {},
   "outputs": [],
   "source": [
    "# Encontrar la ubicacion del titulo en el documento\n",
    "titulosPosicion=[]\n",
    "\n",
    "for titulo in titulosMayusculas[1]:\n",
    "    inicioTitulo = dfLimpio[1].index(titulo)\n",
    "    palabrasPorTitulo = len(titulo)\n",
    "    finalTitulo = inicioTitulo + palabrasPorTitulo\n",
    "    titulosPosicion.append((titulo, inicioTitulo, finalTitulo, palabrasPorTitulo))\n",
    "\n",
    "pprint(titulosPosicion)\n",
    "\n",
    "\n",
    "#anotar parrafos entre titulos.\n",
    "#parrafo = texto[inicio:inicio+1]\n",
    "#mostrar las secciones\n",
    "#estadisiticas de titulos interdocumentos"
   ]
  },
  {
   "cell_type": "code",
   "execution_count": null,
   "metadata": {},
   "outputs": [],
   "source": [
    "# Creo una variable que contiene el párrafo de un título en particular\n",
    "parrafoConsideraciones = dfLimpio[1][45833:46645]\n",
    "len(parrafoConsideraciones)\n",
    "pprint(parrafoConsideraciones)"
   ]
  },
  {
   "cell_type": "markdown",
   "metadata": {},
   "source": [
    "# DATAFRAME DE UBICACIÓN DE TÍTULOS"
   ]
  },
  {
   "cell_type": "code",
   "execution_count": null,
   "metadata": {},
   "outputs": [],
   "source": [
    "# Encontrar la ubicacion del titulo en el documento\n",
    "titulosPosicion1=[]\n",
    "\n",
    "for i in range(len(dfLimpio)):\n",
    "    for titulo in titulosMayusculas[i]:\n",
    "        inicioTitulo = dfLimpio[i].index(titulo)\n",
    "        palabrasPorTitulo = len(titulo)\n",
    "        finalTitulo = inicioTitulo + palabrasPorTitulo\n",
    "        titulosPosicion1.append((i,titulo, inicioTitulo, finalTitulo, palabrasPorTitulo))\n",
    "\n",
    "dfUbicacionTitulos = pd.DataFrame(titulosPosicion1,columns=['id','titulo','inicio','fin','longitud'])"
   ]
  },
  {
   "cell_type": "code",
   "execution_count": null,
   "metadata": {},
   "outputs": [],
   "source": [
    "#pprint(dfLimpio[430][19713:20498])"
   ]
  },
  {
   "cell_type": "markdown",
   "metadata": {},
   "source": [
    "### CREO UN DOCUMENTO HTLM PARA MOSTRAR LOS RESULTADOS DE LA BUSQUEDA"
   ]
  },
  {
   "cell_type": "code",
   "execution_count": 12,
   "metadata": {},
   "outputs": [],
   "source": [
    "# Creamos un dataframe para colocar el salto de linea en formato HTML\n",
    "dfLimpioHTML = dfLimpio.apply(str)\n",
    "def limpiarTextoHTML(text):\n",
    "    text = text.strip().replace('\\n','<br>')\n",
    "    return text\n",
    "\n",
    "dfLimpioHTML = dfLimpioHTML.apply(limpiarTextoHTML)\n",
    "parrafoConsideraciones = limpiarTextoHTML(parrafoConsideraciones)"
   ]
  },
  {
   "cell_type": "code",
   "execution_count": 13,
   "metadata": {},
   "outputs": [],
   "source": [
    "colors = {\n",
    "    'procedimientos': '#cd5c5c',\n",
    "    'cuerpos': '#99ccff',\n",
    "    'afecciones': '#ffa500'\n",
    "}\n",
    "\n",
    "body = f'''\n",
    "        <p>\n",
    "        {dfLimpioHTML[1]}\n",
    "        </p>\n",
    "        <br>\n",
    "        '''\n",
    "body = body.replace(parrafoConsideraciones,f'<span style=\"background-color: #99ccff\">{parrafoConsideraciones}</span>')\n",
    "for titulo in titulosMayusculas[1]:\n",
    "    body = body.replace(titulo,f'<span style=\"background-color: #cd5c5c\">{titulo}</span>')\n",
    "with open('parrafos.html','w', encoding=\"utf-8\") as f:\n",
    "    f.write(body)"
   ]
  },
  {
   "cell_type": "code",
   "execution_count": 14,
   "metadata": {},
   "outputs": [],
   "source": [
    "# contar las oraciones por parrafo.\n",
    "# contar oraciones por parrafo."
   ]
  }
 ],
 "metadata": {
  "interpreter": {
   "hash": "42875111758dffc1ca879dbe67063d4b14d2fb8b4b9c438105dae1201065df52"
  },
  "kernelspec": {
   "display_name": "Python 3.8.8 ('base')",
   "language": "python",
   "name": "python3"
  },
  "language_info": {
   "codemirror_mode": {
    "name": "ipython",
    "version": 3
   },
   "file_extension": ".py",
   "mimetype": "text/x-python",
   "name": "python",
   "nbconvert_exporter": "python",
   "pygments_lexer": "ipython3",
   "version": "3.8.8"
  },
  "orig_nbformat": 4
 },
 "nbformat": 4,
 "nbformat_minor": 2
}
