{
 "cells": [
  {
   "cell_type": "markdown",
   "metadata": {},
   "source": [
    "# Limpieza de texto\n",
    "### Creación de los dataframe y limpieza de texto"
   ]
  },
  {
   "cell_type": "code",
   "execution_count": 1,
   "metadata": {},
   "outputs": [],
   "source": [
    "import pandas as pd\n",
    "import numpy as np\n",
    "from pprint import pprint\n",
    "\n",
    "df = pd.read_csv('pericias_medicas.csv', sep=',',  encoding='utf-8')\n",
    "#convierte en string los datos de la columna text\n",
    "df1 = df['text'].apply(str)"
   ]
  },
  {
   "cell_type": "code",
   "execution_count": 2,
   "metadata": {},
   "outputs": [],
   "source": [
    "import re\n",
    "def general(txt: str, bert=False, nums=True) -> str:\n",
    "    \"\"\"\n",
    "    Elimina caracteres no deseados\n",
    "    Params:\n",
    "        **txt**:texto a ser limpiado de caracteres no desaeados\n",
    "    \"\"\"\n",
    "    if nums:\n",
    "        txt = re.sub(r'\\d+', ' ', txt)\n",
    "    if not bert:\n",
    "        txt = txt.translate(str.maketrans(\n",
    "            'áéíóúýàèìòùÁÉÍÓÚÀÈÌÒÙÝ', 'aeiouyaeiouAEIOUAEIOUY'))\n",
    "        txt = re.sub(r'[^\\w\\s]', '', txt)\n",
    "\n",
    "    txt = txt.replace('\\r', ' ').replace(\"\\v\", ' ').replace(\n",
    "        \"\\t\", ' ').replace(\"\\f\", ' ').replace(\"\\a\", ' ').replace(\"\\b\", ' ')\n",
    "    txt = re.sub(' +', ' ', txt)\n",
    "    txt = txt.strip()\n",
    "    return txt"
   ]
  },
  {
   "cell_type": "markdown",
   "metadata": {},
   "source": [
    "# Eliminación de expedientes que no son pericias médicas."
   ]
  },
  {
   "cell_type": "code",
   "execution_count": 3,
   "metadata": {},
   "outputs": [],
   "source": [
    "# Elimino expedientes que no son pericuas medicas\n",
    "noPericiasMedicas=[]\n",
    "for i,expediente in enumerate(df1):\n",
    "    exp = general(expediente)\n",
    "    if len(exp.split()) < 300:\n",
    "        totalPalabras = len(exp.split())\n",
    "        noPericiasMedicas.append((i, expediente, totalPalabras))\n",
    "        df1 = df1.drop(i)\n",
    "\n",
    "dfNoPericiasMedicas = pd.DataFrame(noPericiasMedicas,columns=['id','expediente', 'total de palabras'])"
   ]
  },
  {
   "cell_type": "code",
   "execution_count": 89,
   "metadata": {},
   "outputs": [
    {
     "data": {
      "text/plain": [
       "615"
      ]
     },
     "execution_count": 89,
     "metadata": {},
     "output_type": "execute_result"
    }
   ],
   "source": [
    "len(dfNoPericiasMedicas)"
   ]
  },
  {
   "cell_type": "code",
   "execution_count": 4,
   "metadata": {},
   "outputs": [],
   "source": [
    "df1.reset_index(drop=True, inplace=True)"
   ]
  },
  {
   "cell_type": "code",
   "execution_count": 5,
   "metadata": {},
   "outputs": [
    {
     "name": "stdout",
     "output_type": "stream",
     "text": [
      "CNT74807/2016\n",
      "perito medico presenta informe pericial [presentado 12 01 2019 18 33]\n"
     ]
    }
   ],
   "source": [
    "print(df.expediente[200])\n",
    "print(df.descripcion[200])"
   ]
  },
  {
   "cell_type": "code",
   "execution_count": 6,
   "metadata": {},
   "outputs": [
    {
     "name": "stdout",
     "output_type": "stream",
     "text": [
      "CNT49991/2016\n",
      "perito psicologa presenta respuesta [presentado 03 09 2018 23 47]\n"
     ]
    }
   ],
   "source": [
    "print(df.expediente[3436])\n",
    "print(df.descripcion[3436])"
   ]
  },
  {
   "cell_type": "code",
   "execution_count": 7,
   "metadata": {},
   "outputs": [
    {
     "name": "stdout",
     "output_type": "stream",
     "text": [
      "CNT11480/2016\n",
      "perito informa  parte 1 de 2  [presentado 18 03 2019 16 42]\n"
     ]
    }
   ],
   "source": [
    "print(df.expediente[2000])\n",
    "print(df.descripcion[2000])"
   ]
  },
  {
   "cell_type": "code",
   "execution_count": 8,
   "metadata": {},
   "outputs": [
    {
     "name": "stdout",
     "output_type": "stream",
     "text": [
      "(' \\n'\n",
      " '\\n'\n",
      " ' \\n'\n",
      " '\\n'\n",
      " ' \\n'\n",
      " '\\n'\n",
      " ' \\n'\n",
      " '\\n'\n",
      " ' \\n'\n",
      " '\\n'\n",
      " ' \\n'\n",
      " '\\n'\n",
      " ' \\n'\n",
      " '\\n'\n",
      " 'Juzgado Nacional del Trabajo nº 24 \\n'\n",
      " '\\n'\n",
      " 'Diagonal Roque Sáenz Peña 760, 3ºP. \\n'\n",
      " '\\n'\n",
      " 'OBSERVA PERICIA MEDICA - SOLICITA ACLARACIONES \\n'\n",
      " '\\n'\n",
      " 'Señor Juez: \\n'\n",
      " '\\n'\n",
      " ' HORACIO  CESAR  MATEO,  Letrado  Inscripto  en  la  matrícula \\n'\n",
      " '\\n'\n",
      " 'respectiva  T°68  F°555  C.P.A.C.F.,  D.N.I.  18.123.659,  CUIT:  '\n",
      " '20-18123659-1,  IVA: \\n'\n",
      " '\\n'\n",
      " 'Responsable \\n'\n",
      " '\\n'\n",
      " 'Inscripto, \\n'\n",
      " '\\n'\n",
      " 'domicilio \\n'\n",
      " '\\n'\n",
      " 'electronico \\n'\n",
      " '\\n'\n",
      " 'CUIT \\n'\n",
      " '\\n'\n",
      " '20-18123659-1, \\n'\n",
      " '\\n'\n",
      " 'info@estudiomateo.net,  en  mi  carácter  de  letrado  apoderado  de  la  '\n",
      " 'parte  actora, \\n'\n",
      " '\\n'\n",
      " 'manteniendo  domicilio  legal  físico  en  la  calle  Lavalle  N°  1388,  '\n",
      " 'casillero  1301,  de  la \\n'\n",
      " '\\n'\n",
      " 'Ciudad  Autónoma  de  Buenos  Aires,  en  los  autos  caratulados  '\n",
      " '\"ZERRIZUELA,  JUAN \\n'\n",
      " '\\n'\n",
      " 'OSCAR  C/  EXPERTA  ART  S.A.    s/  ACCIDENTE  -  LEY  ESPECIAL\"  Expte.  '\n",
      " 'Nº \\n'\n",
      " '\\n'\n",
      " '27.605/2015, a V.S. respetuosamente digo: \\n'\n",
      " '\\n'\n",
      " 'I.-  Vengo  en  legal  tiempo  y  forma  a  contestar  el  traslado  de  la  '\n",
      " 'pericia \\n'\n",
      " '\\n'\n",
      " 'médica  -  psicológica,  cuyo  traslado  me  fuera  conferido  mediante  '\n",
      " 'cédula  electrónica  en \\n'\n",
      " '\\n'\n",
      " 'fecha  26  de  agosto  del  corriente,  en  base  a  las  consideraciones  '\n",
      " 'que  expondré  a \\n'\n",
      " '\\n'\n",
      " 'continuación. \\n'\n",
      " '\\n'\n",
      " 'II.  Que  esta  parte  observa  la  forma  en  que  el  perito  Dr.  '\n",
      " 'Lapman, \\n'\n",
      " '\\n'\n",
      " 'determina el porcentaje de incapacidad psicológica, haciendo el cálculo en '\n",
      " 'relación al total \\n'\n",
      " '\\n'\n",
      " 'utilizando la teoria de la INCAPACIDAD RESTANTE. \\n'\n",
      " '\\n'\n",
      " 'Que  lo  referente  a  la  aplicación  del  Método  Balthazar  o  '\n",
      " 'Incapacidad \\n'\n",
      " '\\n'\n",
      " 'restante,  la  jurisprudencia  es  unánime  en  cuanto  a  que  dicha  '\n",
      " 'fórmula  se  emplee  para \\n'\n",
      " '\\n'\n",
      " 'siniestros  sucesivos  o  concomitantes  y  no  cuando  las  patologías  '\n",
      " 'son  consecuencia  de  un \\n'\n",
      " '\\n'\n",
      " 'mismo accidente, como en el caso de autos. \\n'\n",
      " '\\n'\n",
      " 'III.  Por  lo  expuesto,  solicito  la  sumatoria  de  las  tarifas  '\n",
      " 'calculadas  en \\n'\n",
      " '\\n'\n",
      " 'forma autónoma, es decir la fisica por un lado y la psicologica por otro, '\n",
      " 'debido a que, de la \\n'\n",
      " '\\n'\n",
      " '\\x0c'\n",
      " 'forma  realizada  por  el  perito,  termina  siendo  perjudicial  para  el  '\n",
      " 'actor  ya  que  el  crédito \\n'\n",
      " '\\n'\n",
      " 'alimentario\" del trabajador se ve disminuido. \\n'\n",
      " '\\n'\n",
      " 'IV.- PETITORIO.- \\n'\n",
      " '\\n'\n",
      " 'Por todo lo expuesto solicito: \\n'\n",
      " '\\n'\n",
      " '1) Se tenga por contestado el traslado y por formulada la observación. \\n'\n",
      " '\\n'\n",
      " '2) Oportunamente se de traslado al perito de la observación formulada. \\n'\n",
      " '\\n'\n",
      " 'Proveer de conformidad, que \\n'\n",
      " '\\n'\n",
      " 'SERÁ JUSTICIA. \\n'\n",
      " '\\n'\n",
      " ' \\n'\n",
      " '\\n'\n",
      " ' \\n'\n",
      " '\\n'\n",
      " ' \\n'\n",
      " '\\n'\n",
      " ' \\n'\n",
      " '\\n'\n",
      " '\\x0c')\n"
     ]
    }
   ],
   "source": [
    "pprint(dfNoPericiasMedicas.expediente[7])"
   ]
  },
  {
   "cell_type": "code",
   "execution_count": 9,
   "metadata": {},
   "outputs": [],
   "source": [
    "# Limpieza de texto\n",
    "# Primera etapa de la limpieza de texto\n",
    "import re, string, unicodedata\n",
    "'''\n",
    "Se hace la eliminacion de texto entre corchetes, acentos, signos de puntuacion (excepto . y :), palabras con numeros.\n",
    "Se eliminan los espacios de sobra\n",
    "Se eliminan \\r, \\t, \\v, \\f, \\a\n",
    "'''\n",
    "def limpiarTexto1(txt: str, bert=False, nums=False) -> str:\n",
    "    \"\"\"\n",
    "    Elimina caracteres no deseados\n",
    "    Params:\n",
    "        **txt**:texto a ser limpiado de caracteres no desaeados\n",
    "    \"\"\"\n",
    "    if nums:\n",
    "        txt = re.sub(r'\\d+', ' ', txt)\n",
    "    if not bert:\n",
    "        txt = txt.translate(str.maketrans(\n",
    "            'áéíóúýàèìòùÁÉÍÓÚÀÈÌÒÙÝ', 'aeiouyaeiouAEIOUAEIOUY'))\n",
    "\n",
    "    '''\n",
    "    Eliminamos caracteres especiales: tabulador horizontal(\\t), tabulador vertical(\\v), \n",
    "    retorno de carro(\\r), avance de pagina(\\f), \n",
    "    caracter de retroceso: Marca el límite de una palabra(\\b), \n",
    "    '''\n",
    "    txt = txt.replace('\\r', ' ').replace(\"\\v\", ' ').replace(\n",
    "        \"\\t\", ' ').replace(\"\\f\", ' ').replace(\"\\a\", ' ').replace(\"\\b\", ' ')\n",
    "    txt = re.sub(' +', ' ', txt)\n",
    "    txt = txt.strip()\n",
    "    return txt\n",
    "df1 = df1.apply(str)\n",
    "df1 = df1.apply(limpiarTexto1)"
   ]
  },
  {
   "cell_type": "code",
   "execution_count": 10,
   "metadata": {},
   "outputs": [],
   "source": [
    "# Segunda fase de limpieza\n",
    "# Se eliminan todos los elementos que meten ruido al texto y que no fueron eliminados en la fase de limpieza 1.\n",
    "import re\n",
    "\n",
    "def limpiarTexto2(text):\n",
    "    text = re.sub('^ ',' ',text)\n",
    "    text = re.sub('\\n +\\n','\\n',text)\n",
    "    text = re.sub(' +\\n\\n','\\n',text)\n",
    "    text = re.sub('\\n\\n+','\\n',text)\n",
    "    text = re.sub(' \\n','\\n',text)\n",
    "    text = re.sub('\\d\\n','',text)\n",
    "    text = re.sub('\\x0c','',text)\n",
    "    text = re.sub('\\u200b\\n','',text)\n",
    "    text = re.sub('\\d{3,100}','',text)\n",
    "    text = re.sub('\\d+-\\d+','',text)\n",
    "    text = re.sub('\\x0c','',text)\n",
    "    text = re.sub('[nN]º|[nN][. ]º','',text)\n",
    "    text = re.sub('[º<>/]','',text)\n",
    "    text = re.sub('\\d{3,100}','',text)\n",
    "    text = re.sub('[a-zA-z-.]+@[a-zA-Z]+.com','',text)\n",
    "    return text\n",
    "\n",
    "df1 = df1.apply(limpiarTexto2)"
   ]
  },
  {
   "cell_type": "code",
   "execution_count": 11,
   "metadata": {},
   "outputs": [],
   "source": [
    "# Tercera fase de limpieza\n",
    "# Eliminamos las lineas que no son de utilidad para el analisis o que van a afectar los resultados del mismo.\n",
    "# Ejemplo de linea eliminada: las lineas que comienzan con \"Se encuentra contestada en.....\"\n",
    "import re\n",
    "\n",
    "def limpiarTexto3(text):\n",
    "    text = re.sub('[a-z1-9.]+[).-] [s|S]e encuentra contestad[a|o] .+[. \\n]','',text)\n",
    "    text = re.sub('[0-9]+[. ]+[yY]a fue contestado.+[.\\n]','',text)\n",
    "    text = re.sub('[fF]oja [1-9].+\\n', '', text)\n",
    "    text = re.sub('[pP]regunta[ 0-9]+[)].+\\n|[rR]espuesta[ 0-9]+[)].+\\n','',text)#elimina oraciones comenzadas en preguta/respuesta.\n",
    "    text = re.sub('V[. ]+[S\\n\\.]+', '', text)\n",
    "    #text = re.sub('[IV]+.[A-Z]{1,3}[\\n.]', '', text)\n",
    "    text = re.sub('[I][.][P][.]','',text)\n",
    "    text = re.sub('[I][.][T][.]','',text)\n",
    "    text = re.sub('[I][.][A][.]','',text)\n",
    "    text = re.sub('[I][.][L][.]','',text)\n",
    "    text = re.sub('[I][.][B][.]','',text)\n",
    "    text = re.sub('[I][.][N][.]','',text)\n",
    "    text = re.sub('[I][.][V][.]','',text)\n",
    "    text = re.sub('[V][.][M][.]','',text)\n",
    "    text = re.sub('[V][.][A][.]','',text)\n",
    "\n",
    "    return text\n",
    "\n",
    "dfLimpio = df1.apply(limpiarTexto3)\n",
    "dfLimpio = dfLimpio.apply(limpiarTexto2)\n",
    "#pprint(dfLimpio[0])"
   ]
  },
  {
   "cell_type": "code",
   "execution_count": 12,
   "metadata": {},
   "outputs": [],
   "source": [
    "# limpiar titulos\n",
    "def limpiar_palabras(text):\n",
    "    text = re.sub(r'(I{1,3}|IV|V|VI{1,4}|IX|X)[). -]|[^\\w\\s]',' ',text)\n",
    "    #text = re.sub(r'(i{1,3}|iv|v|vi{1,4}|ix|x)[). -]|[^\\w\\s]','',text)\n",
    "    text=text.lower()\n",
    "    text = [\n",
    "        i for i in text.split() if len(i) > 3\n",
    "    ]\n",
    "    return ' '.join(text)"
   ]
  },
  {
   "cell_type": "markdown",
   "metadata": {},
   "source": [
    "#### Eliminar stopwords"
   ]
  },
  {
   "cell_type": "code",
   "execution_count": 13,
   "metadata": {},
   "outputs": [],
   "source": [
    "import nltk\n",
    "import re\n",
    "\n",
    "stops = nltk.corpus.stopwords.words('spanish')\n",
    "\n",
    "def remove_stops(texto: str) -> str:\n",
    "    \"\"\"\n",
    "    Función que elimina stopwords\n",
    "    Params:\n",
    "        **texto**:texto a ser limpiado de stopwords\n",
    "\n",
    "    \"\"\"\n",
    "    #texto = limpiar_palabras(texto)\n",
    "    texto = [\n",
    "        i for i in texto.split() if i not in stops\n",
    "    ]\n",
    "    return ' '.join(texto)"
   ]
  },
  {
   "cell_type": "markdown",
   "metadata": {},
   "source": [
    "# Busqueda de titulos"
   ]
  },
  {
   "cell_type": "markdown",
   "metadata": {},
   "source": [
    "## Títulos con números romanos y en mayúsculas"
   ]
  },
  {
   "cell_type": "code",
   "execution_count": 14,
   "metadata": {},
   "outputs": [],
   "source": [
    "# Busca títulos en mayusculas\n",
    "def buscarTitulosMayusculas(text):\n",
    "    # Expresiín regular para encontrar títulos en mayusculas.\n",
    "    tituloMayusculas =re.compile(r'(I{1,3}|IV|V|VI{1,3}|IX|X)[-.) ]+[A-Z -]+[:\\.\\n]') #[1-9]|\n",
    "    titulosMayusculasEncontrados = []\n",
    "\n",
    "    for m in tituloMayusculas.finditer(text):\n",
    "        if len(m.group()) > 8:\n",
    "            titulosMayusculasEncontrados.append(m.group())\n",
    "\n",
    "    return titulosMayusculasEncontrados\n",
    "# titulosMAyuscula: lista que guarda los títulos en mayusculas\n",
    "titulosMayusculas=[]\n",
    "for expediente in dfLimpio:\n",
    "    titulosMayusculas.append(buscarTitulosMayusculas(expediente))\n",
    "\n",
    "dfTitulosMayusculasConStops = pd.DataFrame(titulosMayusculas)\n"
   ]
  },
  {
   "cell_type": "markdown",
   "metadata": {},
   "source": [
    "# Creacion de dataframe de solo titulos en mayusculas"
   ]
  },
  {
   "cell_type": "code",
   "execution_count": 15,
   "metadata": {},
   "outputs": [],
   "source": [
    "# Creamos un dataframe para guardar expedientes que solamente tienen titulos en mayusculas\n",
    "# Guardo en dfTitulosMayusculas los expedientes y su indice dentro del dataframe limpio (con todos los expedientes)\n",
    "expConTitulosMayusculas = []\n",
    "expSinTitulosEncontrados = []\n",
    "for id,titulo in  enumerate(dfLimpio):\n",
    "    if len(titulosMayusculas[id]) > 0:\n",
    "        expConTitulosMayusculas.append((id,titulo))\n",
    "    else:\n",
    "        expSinTitulosEncontrados.append((id,titulo))\n",
    "\n",
    "\n",
    "dfTitulosMayusculas = pd.DataFrame(expConTitulosMayusculas, columns=['id','expediente'])\n",
    "dfSinTitulosEncontrados = pd.DataFrame(expSinTitulosEncontrados, columns=['id','expediente'])\n",
    "#pprint(dfTitulosMayusculas)"
   ]
  },
  {
   "cell_type": "code",
   "execution_count": 16,
   "metadata": {},
   "outputs": [],
   "source": [
    "dfSinTitulosEncontrados['expediente'] = dfSinTitulosEncontrados['expediente'].apply(remove_stops)\n",
    "# dfSinTitulosEncontrados['expediente'] = dfSinTitulosEncontrados['expediente'].apply(limpiarTexto1)\n",
    "# dfSinTitulosEncontrados['expediente'] = dfSinTitulosEncontrados['expediente'].apply(limpiarTexto2)\n",
    "# dfSinTitulosEncontrados['expediente'] = dfSinTitulosEncontrados['expediente'].apply(limpiarTexto3)\n"
   ]
  },
  {
   "cell_type": "markdown",
   "metadata": {},
   "source": [
    "# NUEVAS BUSQUEDAS\n",
    "### Títulos con números latinos y romanos en mayúsculas. Escritos en mayusculas y minusculas."
   ]
  },
  {
   "cell_type": "code",
   "execution_count": 17,
   "metadata": {},
   "outputs": [],
   "source": [
    "# Busca títulos en mayusculas o minusculas comenzados con numeros latinos o romanos\n",
    "def buscarTitulosLatinosMayusculas(text):\n",
    "    # Expresiín regular para encontrar títulos en mayusculas.\n",
    "    tituloMayusculas =re.compile(r'((I{1,3}|IV|V|VI{1,3}|IX|X)|[0-9]+)[.)-]+[A-Za-z -]+[:\\.\\n]') #[1-9]|\n",
    "    titulosMayusculasEncontrados = []\n",
    "    #i=1\n",
    "    for m in tituloMayusculas.finditer(text):\n",
    "        if len(m.group()) > 8 and len(m.group().split()) <= 5:# and re.findall(str(i),m.group()):\n",
    "            titulosMayusculasEncontrados.append(m.group())\n",
    "\n",
    "\n",
    "    return titulosMayusculasEncontrados\n",
    "# titulosLatinosMayusculas: lista que guarda los títulos encontrados\n",
    "titulosLatinosMayusculas=[]\n",
    "for expediente in dfSinTitulosEncontrados['expediente']:\n",
    "    #if len(buscarTitulosLatinosMayusculas(expediente)) > 3:\n",
    "    titulosLatinosMayusculas.append(buscarTitulosLatinosMayusculas(expediente))"
   ]
  },
  {
   "cell_type": "markdown",
   "metadata": {},
   "source": [
    "# Dataframe de títulos candidatos"
   ]
  },
  {
   "cell_type": "code",
   "execution_count": 18,
   "metadata": {},
   "outputs": [],
   "source": [
    "# Encontrar la ubicacion del titulo en el documento\n",
    "titulosCandidatos=[]\n",
    "tipo='candidato'\n",
    "expSinTitulosEncontrados = dfSinTitulosEncontrados['expediente'].apply(str)\n",
    "for i in range(len(expSinTitulosEncontrados)):\n",
    "    for titulo in titulosLatinosMayusculas[i]:\n",
    "        inicioTitulo = expSinTitulosEncontrados[i].index(titulo)\n",
    "        caracteres = len(titulo)\n",
    "        titulo = re.sub('[-]',' ',titulo)\n",
    "        titulo = limpiar_palabras(titulo)\n",
    "        palabrasPorTitulo = len(titulo.split())\n",
    "        finalTitulo = inicioTitulo + caracteres\n",
    "        titulosCandidatos.append((i,tipo,titulo, inicioTitulo, finalTitulo, palabrasPorTitulo))\n",
    "\n",
    "dfTitulosCandidatos = pd.DataFrame(titulosCandidatos,columns=['id','tipo','titulo','inicio','fin','longitud'])"
   ]
  },
  {
   "cell_type": "code",
   "execution_count": 19,
   "metadata": {},
   "outputs": [],
   "source": [
    "# Creamos un dataframe para guardar expedientes que no tienen ningun titulo candidato\n",
    "\n",
    "# Guardo en dfSinTitulos los expedientes y su indice que no tienen titulos candidatos en el dataframe dfSinTitulosEncontrados\n",
    "expConTitulosCandidatos = []\n",
    "expSinTitulos=[]\n",
    "for id,titulo in  enumerate(dfSinTitulosEncontrados['expediente']):\n",
    "    if len(titulosLatinosMayusculas[id]) > 0:\n",
    "        expConTitulosCandidatos.append((id,titulo))\n",
    "    else:\n",
    "        expSinTitulos.append((id,titulo))\n",
    "\n",
    "dfExpTitulosCandidatos = pd.DataFrame(expConTitulosCandidatos, columns=['id','expediente'])\n",
    "dfSinTitulos = pd.DataFrame(expSinTitulos, columns=['id','expediente'])"
   ]
  },
  {
   "cell_type": "code",
   "execution_count": 20,
   "metadata": {},
   "outputs": [],
   "source": [
    "expConTitulosMayusculas = []\n",
    "expSinTitulosEncontrados = []\n",
    "for id,titulo in  enumerate(dfLimpio):\n",
    "    if len(titulosMayusculas[id]) > 0:\n",
    "        expConTitulosMayusculas.append((id,titulo))\n",
    "    else:\n",
    "        expSinTitulosEncontrados.append((id,titulo))\n",
    "\n",
    "\n",
    "dfTitulosMayusculas = pd.DataFrame(expConTitulosMayusculas, columns=['id','expediente'])\n",
    "dfSinTitulosEncontrados = pd.DataFrame(expSinTitulosEncontrados, columns=['id','expediente'])\n",
    "#pprint(dfTitulosMayusculas)"
   ]
  },
  {
   "cell_type": "code",
   "execution_count": 21,
   "metadata": {},
   "outputs": [
    {
     "name": "stdout",
     "output_type": "stream",
     "text": [
      "460\n"
     ]
    }
   ],
   "source": [
    "pprint(len(dfSinTitulos.expediente[0].split()))\n",
    "#pprint(df.text[14])"
   ]
  },
  {
   "cell_type": "markdown",
   "metadata": {},
   "source": [
    "# Expedientes con títulos candidatos y expedientes sin títulos localizados."
   ]
  },
  {
   "cell_type": "code",
   "execution_count": 22,
   "metadata": {},
   "outputs": [
    {
     "name": "stdout",
     "output_type": "stream",
     "text": [
      "\n",
      "Cantidad de expediente que tienen titulos candidatos:        1723\n",
      "Cantidad de expedientes que no tienen titulos localizados:    284  \n",
      "Total de expedientes: 2007 \n"
     ]
    }
   ],
   "source": [
    "print(f'''\n",
    "Cantidad de expediente que tienen titulos candidatos:        {len(dfExpTitulosCandidatos)}\n",
    "Cantidad de expedientes que no tienen titulos localizados:    {len(dfSinTitulos)}  \n",
    "Total de expedientes: {len(dfSinTitulosEncontrados)} ''')"
   ]
  },
  {
   "cell_type": "code",
   "execution_count": 23,
   "metadata": {},
   "outputs": [
    {
     "data": {
      "image/png": "[encoded data removed]",
      "text/plain": [
       "<Figure size 432x288 with 1 Axes>"
      ]
     },
     "metadata": {},
     "output_type": "display_data"
    }
   ],
   "source": [
    "# Creo un grafico de torta\n",
    "import matplotlib.pyplot as plt\n",
    "\n",
    "totalExp = len(dfSinTitulosEncontrados)\n",
    "totalExpSinEncontrar = len(dfSinTitulos)\n",
    "\n",
    "# Creación de grafico de torta de la cantidad de expedientes con títulos en mayúsculas sobre el total de expedientes.\n",
    "cantExp = [totalExp, totalExpSinEncontrar]\n",
    "nombreTitulos = ['Total de Expedientes con Títulos Candidatos', 'Total de Expedientes sin Títulos Encontrados']\n",
    "colores = ['#6DEA53','#FA3333']\n",
    "desfase=(0,0.1)\n",
    "\n",
    "plt.pie(cantExp, labels=nombreTitulos, autopct= '%0.1f %%', colors=colores, explode=desfase) #, explode=desfase\n",
    "plt.show()"
   ]
  },
  {
   "cell_type": "markdown",
   "metadata": {},
   "source": [
    "### Títulos con números romanos en minusculas. Escritos en mayusculas y minusculas."
   ]
  },
  {
   "cell_type": "code",
   "execution_count": 24,
   "metadata": {},
   "outputs": [],
   "source": [
    "# Busca títulos en mayusculas o minusculas que comienzan con numeros romanos en minuscula.\n",
    "def buscarTitulosRomanosMinusculas(text):\n",
    "    # Expresiín regular para encontrar títulos en mayusculas.\n",
    "    tituloMayusculas =re.compile(r'(i{1,3}|iv|v|vi{1,3}|ix|x)[.)-]+[A-Za-z -]+[:\\.\\n]') #[1-9]|\n",
    "    titulosMayusculasEncontrados = []\n",
    "    #i=1\n",
    "    for m in tituloMayusculas.finditer(text):\n",
    "        if len(m.group()) > 8 and len(m.group().split()) <= 5:# and re.findall(str(i),m.group()):\n",
    "            titulosMayusculasEncontrados.append(m.group())\n",
    "            #i=i+1\n",
    "\n",
    "    return titulosMayusculasEncontrados\n",
    "# titulosMAyuscula: lista que guarda los títulos en mayusculas\n",
    "titulosRomanosMinusculas=[]\n",
    "for expediente in dfSinTitulosEncontrados['expediente']:\n",
    "    if len(buscarTitulosRomanosMinusculas(expediente)) > 3:\n",
    "        titulosRomanosMinusculas.append(buscarTitulosRomanosMinusculas(expediente))"
   ]
  },
  {
   "cell_type": "code",
   "execution_count": 25,
   "metadata": {},
   "outputs": [],
   "source": [
    "dfTitulosMayusculas.to_excel('titulos_mayusculas.xlsx', index=False)"
   ]
  },
  {
   "cell_type": "markdown",
   "metadata": {},
   "source": [
    "# Expedientes con titulos en mayusculas sobre el total de expedientes"
   ]
  },
  {
   "cell_type": "code",
   "execution_count": 26,
   "metadata": {},
   "outputs": [
    {
     "name": "stdout",
     "output_type": "stream",
     "text": [
      "\n",
      "Cantidad de expediente que tienen titulos en mayusculas:        1184\n",
      "Cantidad de expedientes que no tienen titulos en mayusculas:    2007  \n",
      "Total de expedientes: 3191 \n"
     ]
    }
   ],
   "source": [
    "print(f'''\n",
    "Cantidad de expediente que tienen titulos en mayusculas:        {len(dfTitulosMayusculas)}\n",
    "Cantidad de expedientes que no tienen titulos en mayusculas:    {len(dfLimpio) - len(dfTitulosMayusculas)}  \n",
    "Total de expedientes: {len(dfLimpio)} ''')"
   ]
  },
  {
   "cell_type": "code",
   "execution_count": 27,
   "metadata": {},
   "outputs": [
    {
     "data": {
      "image/png": "[encoded data removed]",
      "text/plain": [
       "<Figure size 432x288 with 1 Axes>"
      ]
     },
     "metadata": {},
     "output_type": "display_data"
    }
   ],
   "source": [
    "# Creo un grafico de torta\n",
    "import matplotlib.pyplot as plt\n",
    "\n",
    "totalExp = len(dfLimpio)\n",
    "totalExpMayusculas = len(dfTitulosMayusculas)\n",
    "\n",
    "# Creación de grafico de torta de la cantidad de expedientes con títulos en mayúsculas sobre el total de expedientes.\n",
    "cantExp = [totalExp, totalExpMayusculas]\n",
    "nombreTitulos = ['Total de Expedientes', 'Total de Expedientes con Títulos en Mayúsculas']\n",
    "colores = ['#2C4AF1','#2CF168']\n",
    "desfase=(0,0.1)\n",
    "\n",
    "plt.pie(cantExp, labels=nombreTitulos, autopct= '%0.1f %%', colors=colores, explode=desfase) #, explode=desfase\n",
    "plt.show()"
   ]
  },
  {
   "cell_type": "code",
   "execution_count": 28,
   "metadata": {},
   "outputs": [
    {
     "data": {
      "image/png": "[encoded data removed]",
      "text/plain": [
       "<Figure size 432x288 with 1 Axes>"
      ]
     },
     "metadata": {},
     "output_type": "display_data"
    }
   ],
   "source": [
    "# Creo un grafico de torta expedientes por tipo de busqueda.\n",
    "import matplotlib.pyplot as plt\n",
    "\n",
    "totalCandidatos = len(dfTitulosCandidatos)\n",
    "totalExpMayusculas = len(dfTitulosMayusculas)\n",
    "totalSinTitulos = len(dfSinTitulos)\n",
    "\n",
    "# Creación de grafico de torta de la cantidad de expedientes con títulos en mayúsculas sobre el total de expedientes.\n",
    "cantExp = [totalCandidatos, totalExpMayusculas, totalSinTitulos]\n",
    "nombreTitulos = ['Expedientes candidatos', 'Expedientes con Títulos en Mayúsculas', 'Expedientes sin Titulos']\n",
    "colores = ['#2C4AF1','#2CF168', 'r']\n",
    "desfase=(0,0,0.1)\n",
    "\n",
    "plt.pie(cantExp, labels=nombreTitulos, autopct= '%0.1f %%', colors=colores, explode=desfase) #, explode=desfase\n",
    "plt.show()"
   ]
  },
  {
   "cell_type": "markdown",
   "metadata": {},
   "source": [
    "## Titulos y ubicacion"
   ]
  },
  {
   "cell_type": "code",
   "execution_count": 29,
   "metadata": {},
   "outputs": [
    {
     "name": "stdout",
     "output_type": "stream",
     "text": [
      "[('I-PROEMIO:', 161, 171, 10),\n",
      " ('II-ANTECEDENTES DE INTERES MEDICO-LEGAL:', 690, 730, 40),\n",
      " ('III-EXAMEN FISICO DEL ACTOR:', 1646, 1674, 28),\n",
      " ('IV-CONSIDERACIONES MEDICO-LEGALES:', 9140, 9174, 34),\n",
      " ('VII-CONCLUSIONES.', 19171, 19188, 17),\n",
      " ('VII-INCAPACIDAD:', 20974, 20990, 16),\n",
      " ('VIII CONTESTACION DE LOS PUNTOS DE PERICIA:', 21297, 21340, 43),\n",
      " ('IX-PETITORIO:', 21411, 21424, 13)]\n"
     ]
    }
   ],
   "source": [
    "# Encontrar la ubicacion del titulo en el documento\n",
    "titulosPosicion=[]\n",
    "\n",
    "for titulo in titulosMayusculas[0]:\n",
    "    inicioTitulo = dfLimpio[0].index(titulo)\n",
    "    palabrasPorTitulo = len(titulo)\n",
    "    finalTitulo = inicioTitulo + palabrasPorTitulo\n",
    "    titulosPosicion.append((titulo, inicioTitulo, finalTitulo, palabrasPorTitulo))\n",
    "\n",
    "pprint(titulosPosicion)"
   ]
  },
  {
   "cell_type": "code",
   "execution_count": 30,
   "metadata": {},
   "outputs": [
    {
     "name": "stdout",
     "output_type": "stream",
     "text": [
      "('juez nacional hortas maria andrea perito medico oficio siguientes autos '\n",
      " 'domicilio constituido calle austria piso dpto capital domicilio electronico '\n",
      " 'cumplimiento dispuesto referente presentes autos despues haber examinado '\n",
      " 'dijo boiero franco ivan tomaron momento examen clinico actual consideraron '\n",
      " 'capacidad generica particular puntos pericia solicitados partes')\n",
      "'LONGITUD DE PALABRAS: 44'\n"
     ]
    }
   ],
   "source": [
    "# Creo una variable que contiene el párrafo de un título en particular\n",
    "parrafoConsideraciones = dfLimpio[0][171:690]\n",
    "#parrafoConsideraciones = general(parrafoConsideraciones)\n",
    "parrafoConsideraciones = remove_stops(parrafoConsideraciones)\n",
    "parrafoConsideraciones = limpiar_palabras(parrafoConsideraciones)\n",
    "pprint(parrafoConsideraciones)\n",
    "pprint(f'LONGITUD DE PALABRAS: {len(parrafoConsideraciones.split())}')"
   ]
  },
  {
   "cell_type": "markdown",
   "metadata": {},
   "source": [
    "# DATAFRAME DE UBICACIÓN DE TÍTULOS"
   ]
  },
  {
   "cell_type": "code",
   "execution_count": 31,
   "metadata": {},
   "outputs": [],
   "source": [
    "# Encontrar la ubicacion del titulo en el documento\n",
    "titulosPosicion1=[]\n",
    "expedientesRaros = []\n",
    "tipo='encontrado'\n",
    "for i in range(len(dfLimpio)):\n",
    "    for titulo in titulosMayusculas[i]:\n",
    "        inicioTitulo = dfLimpio[i].index(titulo)\n",
    "        caracteres = len(titulo)\n",
    "        titulo = re.sub('[\\n\\.):-]',' ',titulo)\n",
    "        titulo = limpiar_palabras(titulo)\n",
    "        palabrasPorTitulo = len(titulo.split())\n",
    "        finalTitulo = inicioTitulo + caracteres\n",
    "        #if palabrasPorTitulo > 0:\n",
    "        titulosPosicion1.append((i, tipo, titulo, inicioTitulo, finalTitulo, palabrasPorTitulo))\n",
    "        #else:\n",
    "         \n",
    "        #   expedientesRaros.append((i, str(dfLimpio[i])))\n",
    "\n",
    "dfUbicacionTitulos = pd.DataFrame(titulosPosicion1,columns=['id','tipo','titulo','inicio','fin','longitud'])"
   ]
  },
  {
   "cell_type": "code",
   "execution_count": 32,
   "metadata": {},
   "outputs": [],
   "source": [
    "#dfUbicacionTitulos = dfUbicacionTitulos.drop(dfUbicacionTitulos[dfUbicacionTitulos['titulo'] ==''].index)\n",
    "#Aplicando esto, de 5776 filas, se reduce a 5390. "
   ]
  },
  {
   "cell_type": "code",
   "execution_count": 33,
   "metadata": {},
   "outputs": [],
   "source": [
    "#pprint(dfLimpio[488][9541:])\n",
    "#pprint(dfLimpio[1736])"
   ]
  },
  {
   "cell_type": "code",
   "execution_count": 34,
   "metadata": {},
   "outputs": [],
   "source": [
    "#pprint(df1[3639])\n",
    "#df.expediente[3639]"
   ]
  },
  {
   "cell_type": "markdown",
   "metadata": {},
   "source": [
    "## Calculo de la longitud de los parrafos"
   ]
  },
  {
   "cell_type": "code",
   "execution_count": 35,
   "metadata": {},
   "outputs": [],
   "source": [
    "# Calculo la longitud de caracteres de parrafos\n",
    "def longitud_parrafos(ubicacion, original):\n",
    "    parrafos=[]\n",
    "    for i in range(len(ubicacion)):\n",
    "        if i < len(ubicacion)-1:\n",
    "            inicio = ubicacion['inicio'][i]\n",
    "            fin = ubicacion['inicio'][i+1]\n",
    "            idDf = ubicacion['id'][i]\n",
    "            if (fin-inicio) > 0:\n",
    "                parrafo = original[idDf][inicio:fin]\n",
    "                parrafo = remove_stops(parrafo)\n",
    "                parrafo = general(parrafo)\n",
    "               \n",
    "                #parrafo = limpiar_palabras(parrafo)\n",
    "                caracteres = len(parrafo.split())\n",
    "                parrafos.append(caracteres)\n",
    "            else:\n",
    "                parrafo = original[idDf][inicio:]\n",
    "                parrafo = general(parrafo)\n",
    "                parrafo = remove_stops(parrafo)\n",
    "                parrafo = limpiar_palabras(parrafo)\n",
    "                caracteres = len(parrafo.split())\n",
    "                parrafos.append(caracteres)\n",
    "    return parrafos\n",
    "\n",
    "longitudP = longitud_parrafos(dfUbicacionTitulos, dfLimpio)"
   ]
  },
  {
   "cell_type": "code",
   "execution_count": 36,
   "metadata": {},
   "outputs": [],
   "source": [
    "dfUbicacionTitulos['longitud_parrafo'] = pd.DataFrame(longitudP)"
   ]
  },
  {
   "cell_type": "code",
   "execution_count": 37,
   "metadata": {},
   "outputs": [
    {
     "name": "stderr",
     "output_type": "stream",
     "text": [
      "C:\\Users\\gasto\\AppData\\Local\\Temp\\ipykernel_9040\\2840726199.py:1: SettingWithCopyWarning: \n",
      "A value is trying to be set on a copy of a slice from a DataFrame\n",
      "\n",
      "See the caveats in the documentation: https://pandas.pydata.org/pandas-docs/stable/user_guide/indexing.html#returning-a-view-versus-a-copy\n",
      "  dfUbicacionTitulos.longitud_parrafo[5775] = 112\n",
      "C:\\Users\\gasto\\AppData\\Local\\Temp\\ipykernel_9040\\2840726199.py:2: SettingWithCopyWarning: \n",
      "A value is trying to be set on a copy of a slice from a DataFrame\n",
      "\n",
      "See the caveats in the documentation: https://pandas.pydata.org/pandas-docs/stable/user_guide/indexing.html#returning-a-view-versus-a-copy\n",
      "  dfUbicacionTitulos.longitud_parrafo[5389] = 112\n"
     ]
    }
   ],
   "source": [
    "dfUbicacionTitulos.longitud_parrafo[5775] = 112\n",
    "dfUbicacionTitulos.longitud_parrafo[5389] = 112"
   ]
  },
  {
   "cell_type": "code",
   "execution_count": 38,
   "metadata": {},
   "outputs": [],
   "source": [
    "dfUbicacionTitulos['titulo'].to_csv('titulosEncontrados.csv',index=False)\n",
    "dfUbicacionTitulos.to_csv('df_TitulosEncontrados.csv',index=False)\n",
    "dfUbicacionTitulos.to_excel('df_TitulosEncontrados.xlsx',index=False)"
   ]
  },
  {
   "cell_type": "code",
   "execution_count": 39,
   "metadata": {},
   "outputs": [],
   "source": [
    "dfTitulosCandidatos.to_csv('df_titulosCandidatos.csv',index=False)\n",
    "dfTitulosCandidatos.to_excel('df_titulosCandidatos.xlsx', index=False)\n",
    "dfTitulosCandidatos['titulo'].to_csv('titulosCandidatos.csv',index=False)"
   ]
  },
  {
   "cell_type": "code",
   "execution_count": 40,
   "metadata": {},
   "outputs": [
    {
     "data": {
      "text/plain": [
       "count    5671.000000\n",
       "mean        2.254629\n",
       "std         1.357344\n",
       "min         0.000000\n",
       "25%         1.000000\n",
       "50%         2.000000\n",
       "75%         3.000000\n",
       "max         8.000000\n",
       "Name: longitud, dtype: float64"
      ]
     },
     "execution_count": 40,
     "metadata": {},
     "output_type": "execute_result"
    }
   ],
   "source": [
    "dfUbicacionTitulos['longitud'].describe()"
   ]
  },
  {
   "cell_type": "code",
   "execution_count": 41,
   "metadata": {},
   "outputs": [],
   "source": [
    "#pprint(dfLimpio[1736][14170:])"
   ]
  },
  {
   "cell_type": "code",
   "execution_count": 42,
   "metadata": {},
   "outputs": [],
   "source": [
    "# Creo una lista de parrafos\n",
    "def extraer_parrafos(ubicacion, original):\n",
    "    parrafos=[]\n",
    "    for i in range(len(ubicacion)):\n",
    "        if i < len(ubicacion)-1:\n",
    "            inicio = ubicacion['fin'][i]\n",
    "            fin = ubicacion['inicio'][i+1]\n",
    "            idDf = ubicacion['id'][i]\n",
    "            if (fin-inicio) > 0:\n",
    "                parrafo = original[idDf][inicio:fin]\n",
    "                caracteres = general(parrafo)\n",
    "                caracteres = remove_stops(caracteres)\n",
    "                caracteres = limpiar_palabras(caracteres)\n",
    "                caracteres = caracteres.split(sep=' ')\n",
    "                parrafos.append(caracteres)\n",
    "            else:\n",
    "                parrafo = original[idDf][inicio:]\n",
    "                caracteres = general(parrafo)\n",
    "                caracteres = remove_stops(caracteres)\n",
    "                caracteres = limpiar_palabras(caracteres)\n",
    "                caracteres = caracteres.split(sep=' ')\n",
    "                parrafos.append(caracteres)\n",
    "    return parrafos\n",
    "\n",
    "parrafos = extraer_parrafos(dfUbicacionTitulos,dfLimpio)"
   ]
  },
  {
   "cell_type": "code",
   "execution_count": 43,
   "metadata": {},
   "outputs": [],
   "source": [
    "#dfLimpio[0][172:690]#161:690\n",
    "#parrafos[0]"
   ]
  },
  {
   "cell_type": "code",
   "execution_count": 44,
   "metadata": {},
   "outputs": [
    {
     "name": "stdout",
     "output_type": "stream",
     "text": [
      "LONGITUD DE PALABRAS: 44\n"
     ]
    }
   ],
   "source": [
    "print(f'LONGITUD DE PALABRAS: {len(parrafos[0])}')"
   ]
  },
  {
   "cell_type": "code",
   "execution_count": 45,
   "metadata": {},
   "outputs": [],
   "source": [
    "#parrafos[0]"
   ]
  },
  {
   "cell_type": "code",
   "execution_count": 46,
   "metadata": {},
   "outputs": [],
   "source": [
    "#df['expediente'][165]"
   ]
  },
  {
   "cell_type": "markdown",
   "metadata": {},
   "source": [
    "# CREACION DE DOCUMENTO HTML\n",
    "## MUESTRO LOS TITULOS Y PARRAFOS ENCONTRADOS"
   ]
  },
  {
   "cell_type": "code",
   "execution_count": 47,
   "metadata": {},
   "outputs": [],
   "source": [
    "# Creamos un dataframe para colocar el salto de linea en formato HTML\n",
    "dfLimpioHTML = dfLimpio.apply(str)\n",
    "def limpiarTextoHTML(text):\n",
    "    text = text.strip().replace('\\n','<br>')\n",
    "    return text\n",
    "\n",
    "dfLimpioHTML = dfLimpioHTML.apply(limpiarTextoHTML)\n",
    "parrafoConsideraciones = limpiarTextoHTML(parrafoConsideraciones)"
   ]
  },
  {
   "cell_type": "code",
   "execution_count": 48,
   "metadata": {},
   "outputs": [],
   "source": [
    "colors = {\n",
    "    'procedimientos': '#cd5c5c',\n",
    "    'cuerpos': '#99ccff',\n",
    "    'afecciones': '#ffa500'\n",
    "}\n",
    "\n",
    "body = f'''\n",
    "        <p>\n",
    "        {dfLimpioHTML[1]}\n",
    "        </p>\n",
    "        <br>\n",
    "        '''\n",
    "body = body.replace(parrafoConsideraciones,f'<span style=\"background-color: #99ccff\">{parrafoConsideraciones}</span>')\n",
    "for titulo in titulosMayusculas[1]:\n",
    "    body = body.replace(titulo,f'<span style=\"background-color: #cd5c5c\">{titulo}</span>')\n",
    "with open('parrafos.html','w', encoding=\"utf-8\") as f:\n",
    "    f.write(body)"
   ]
  },
  {
   "cell_type": "markdown",
   "metadata": {},
   "source": [
    "# Gráfico de frecuencia de palabras por párrafo. Histograma."
   ]
  },
  {
   "cell_type": "code",
   "execution_count": 49,
   "metadata": {},
   "outputs": [
    {
     "data": {
      "image/png": "[encoded data removed]",
      "text/plain": [
       "<Figure size 432x288 with 1 Axes>"
      ]
     },
     "metadata": {
      "needs_background": "light"
     },
     "output_type": "display_data"
    }
   ],
   "source": [
    "import matplotlib.pyplot as plt\n",
    "\n",
    "longParrafos = dfUbicacionTitulos['longitud_parrafo']\n",
    "bins1 = [0, 25, 50, 75, 100, 125, 150, 175, 200] #, 2000, 2500, 3000, 3500, 4000, 4500, 5000, 5500, 6000\n",
    "\n",
    "plt.hist(longParrafos, bins1, edgecolor='black', label='Párrafos - Palabras')\n",
    "plt.xlabel('Cantidad en palabras')\n",
    "plt.ylabel('Cantidad de párrafos')\n",
    "plt.legend()\n",
    "plt.show()"
   ]
  },
  {
   "cell_type": "code",
   "execution_count": 50,
   "metadata": {},
   "outputs": [
    {
     "data": {
      "image/png": "[encoded data removed]",
      "text/plain": [
       "<Figure size 432x288 with 1 Axes>"
      ]
     },
     "metadata": {
      "needs_background": "light"
     },
     "output_type": "display_data"
    }
   ],
   "source": [
    "import matplotlib.pyplot as plt\n",
    "\n",
    "longParrafos = dfUbicacionTitulos['longitud_parrafo']\n",
    "#bins2 = [0,50, 100,150, 200,250, 300,350, 400,450, 500,550, 600,650, 700,750, 800,850, 900,950, 1000]#[0, 100, 200, 300, 400, 500, 600, 700, 800, 900, 1000] #, 2000, 2500, 3000, 3500, 4000, 4500, 5000, 5500, 6000\n",
    "\n",
    "plt.hist(longParrafos, bins=range(0,50,1),ec='k',label='Párrafos - Palabras', align='mid')\n",
    "plt.xlabel('Cantidad de palabras')\n",
    "plt.ylabel('Cantidad de párrafos')\n",
    "plt.legend()\n",
    "#plt.axis([1,100,1,300])\n",
    "plt.show()\n",
    "# total de parrafos 5775\n",
    "# limpiar titulos con parrafos de menos de 10 palabras."
   ]
  },
  {
   "cell_type": "code",
   "execution_count": 51,
   "metadata": {},
   "outputs": [
    {
     "data": {
      "image/png": "[encoded data removed]",
      "text/plain": [
       "<Figure size 432x288 with 1 Axes>"
      ]
     },
     "metadata": {
      "needs_background": "light"
     },
     "output_type": "display_data"
    }
   ],
   "source": [
    "import matplotlib.pyplot as plt\n",
    "\n",
    "longParrafos = dfUbicacionTitulos['longitud_parrafo']\n",
    "bins3 = [0, 500, 1000, 1500, 2000, 2500, 3000, 3500, 4000, 4500, 5000]\n",
    "\n",
    "plt.hist(longParrafos, bins3, edgecolor='black', label='Párrafos - Palabras')\n",
    "plt.legend()\n",
    "plt.xlabel('Cantidad en palabras')\n",
    "plt.ylabel('Cantidad de párrafos')\n",
    "plt.show()"
   ]
  },
  {
   "cell_type": "markdown",
   "metadata": {},
   "source": [
    "# Gráfico de frecuencia de palabras por párrafo. BoxPlot."
   ]
  },
  {
   "cell_type": "code",
   "execution_count": 52,
   "metadata": {},
   "outputs": [],
   "source": [
    "dfUbicacionTitulosLimpio = dfUbicacionTitulos.drop(dfUbicacionTitulos[dfUbicacionTitulos['titulo'] ==''].index)\n",
    "dfUbicacionTitulosLimpio = dfUbicacionTitulos.drop(dfUbicacionTitulos[dfUbicacionTitulos['longitud_parrafo'] > 1000].index)\n",
    "longParrafosBox = dfUbicacionTitulosLimpio['longitud_parrafo']"
   ]
  },
  {
   "cell_type": "code",
   "execution_count": 53,
   "metadata": {},
   "outputs": [
    {
     "data": {
      "image/png": "[encoded data removed]",
      "text/plain": [
       "<Figure size 432x288 with 1 Axes>"
      ]
     },
     "metadata": {
      "needs_background": "light"
     },
     "output_type": "display_data"
    }
   ],
   "source": [
    "plt.boxplot(longParrafosBox)\n",
    "plt.title('Distribucion de frecuencia de palabras por párrafo')\n",
    "plt.xlabel('Párrafos')\n",
    "plt.ylabel('Cantidad de párrafos')\n",
    "plt.show()"
   ]
  },
  {
   "cell_type": "code",
   "execution_count": 54,
   "metadata": {},
   "outputs": [
    {
     "data": {
      "text/plain": [
       "count    5170.000000\n",
       "mean      204.570793\n",
       "std       227.318345\n",
       "min         0.000000\n",
       "25%        40.000000\n",
       "50%       107.000000\n",
       "75%       293.000000\n",
       "max       999.000000\n",
       "Name: longitud_parrafo, dtype: float64"
      ]
     },
     "execution_count": 54,
     "metadata": {},
     "output_type": "execute_result"
    }
   ],
   "source": [
    "longParrafosBox.describe()"
   ]
  },
  {
   "cell_type": "code",
   "execution_count": 55,
   "metadata": {},
   "outputs": [
    {
     "data": {
      "text/plain": [
       "999.0"
      ]
     },
     "execution_count": 55,
     "metadata": {},
     "output_type": "execute_result"
    }
   ],
   "source": [
    "longParrafosBox.max()"
   ]
  },
  {
   "cell_type": "code",
   "execution_count": 56,
   "metadata": {},
   "outputs": [
    {
     "data": {
      "text/plain": [
       "<AxesSubplot:>"
      ]
     },
     "execution_count": 56,
     "metadata": {},
     "output_type": "execute_result"
    },
    {
     "data": {
      "image/png": "[encoded data removed]",
      "text/plain": [
       "<Figure size 432x288 with 1 Axes>"
      ]
     },
     "metadata": {
      "needs_background": "light"
     },
     "output_type": "display_data"
    }
   ],
   "source": [
    "dfUbicacionTitulos['longitud_parrafo'].plot(kind='box')"
   ]
  },
  {
   "cell_type": "markdown",
   "metadata": {},
   "source": [
    "# TF-IDF"
   ]
  },
  {
   "cell_type": "code",
   "execution_count": 57,
   "metadata": {},
   "outputs": [],
   "source": [
    "import numpy as np\n",
    "import pandas as pd\n",
    "import nltk\n",
    "import re\n",
    "import os\n",
    "import codecs\n",
    "from sklearn import feature_extraction"
   ]
  },
  {
   "cell_type": "code",
   "execution_count": 58,
   "metadata": {},
   "outputs": [],
   "source": [
    "from nltk.stem.snowball import SnowballStemmer\n",
    "stemmer = SnowballStemmer(\"spanish\")"
   ]
  },
  {
   "cell_type": "code",
   "execution_count": 59,
   "metadata": {},
   "outputs": [],
   "source": [
    "\n",
    "# here I define a tokenizer and stemmer which returns the set of stems in the text that it is passed\n",
    "\n",
    "def tokenize_and_stem(text):\n",
    "    # first tokenize by sentence, then by word to ensure that punctuation is caught as it's own token\n",
    "    tokens = [word for sent in nltk.sent_tokenize(text) for word in nltk.word_tokenize(sent)]\n",
    "    filtered_tokens = []\n",
    "    # filter out any tokens not containing letters (e.g., numeric tokens, raw punctuation)\n",
    "    for token in tokens:\n",
    "        if re.search('[a-zA-Z]', token):\n",
    "            filtered_tokens.append(token)\n",
    "    stems = [stemmer.stem(t) for t in filtered_tokens]\n",
    "    return stems\n",
    "\n",
    "\n",
    "def tokenize_only(text):\n",
    "    # first tokenize by sentence, then by word to ensure that punctuation is caught as it's own token\n",
    "    tokens = [word.lower() for sent in nltk.sent_tokenize(text) for word in nltk.word_tokenize(sent)]\n",
    "    filtered_tokens = []\n",
    "    # filter out any tokens not containing letters (e.g., numeric tokens, raw punctuation)\n",
    "    for token in tokens:\n",
    "        if re.search('[a-zA-Z]', token):\n",
    "            filtered_tokens.append(token)\n",
    "    return filtered_tokens"
   ]
  },
  {
   "cell_type": "code",
   "execution_count": 60,
   "metadata": {},
   "outputs": [],
   "source": [
    "# #not super pythonic, no, not at all.\n",
    "# #use extend so it's a big flat list of vocab\n",
    "totalvocab_stemmed = []\n",
    "totalvocab_tokenized = []\n",
    "for i in dfUbicacionTitulos['titulo']:\n",
    "    allwords_stemmed = tokenize_and_stem(i) #for each item in 'synopses', tokenize/stem\n",
    "    totalvocab_stemmed.extend(allwords_stemmed) #extend the 'totalvocab_stemmed' list\n",
    "    \n",
    "    allwords_tokenized = tokenize_only(i)\n",
    "    totalvocab_tokenized.extend(allwords_tokenized)"
   ]
  },
  {
   "cell_type": "code",
   "execution_count": 61,
   "metadata": {},
   "outputs": [
    {
     "name": "stdout",
     "output_type": "stream",
     "text": [
      "there are 12786 items in vocab_frame\n"
     ]
    }
   ],
   "source": [
    "vocab_frame = pd.DataFrame({'words': totalvocab_tokenized}, index = totalvocab_stemmed)\n",
    "print ('there are ' + str(vocab_frame.shape[0]) + ' items in vocab_frame')"
   ]
  },
  {
   "cell_type": "code",
   "execution_count": 62,
   "metadata": {},
   "outputs": [
    {
     "name": "stdout",
     "output_type": "stream",
     "text": [
      "(13455, 25)\n"
     ]
    }
   ],
   "source": [
    "from sklearn.feature_extraction.text import TfidfVectorizer\n",
    "\n",
    "#define vectorizer parameters\n",
    "tfidf_vectorizer = TfidfVectorizer(max_df=0.95, max_features=25,\n",
    "                                 min_df=100,\n",
    "                                 use_idf=True, ngram_range=(1,4))# tokenizer=tokenize_and_stem\n",
    "\n",
    "tfidf_matrix = tfidf_vectorizer.fit(dfUbicacionTitulos['titulo']) #fit the vectorizer to synopses\n",
    "tfidf_final = tfidf_matrix.transform(dfTitulosCandidatos['titulo'])\n",
    "print(tfidf_final.shape)"
   ]
  },
  {
   "cell_type": "code",
   "execution_count": 63,
   "metadata": {},
   "outputs": [],
   "source": [
    "terms = tfidf_vectorizer.get_feature_names_out()"
   ]
  },
  {
   "cell_type": "code",
   "execution_count": 64,
   "metadata": {},
   "outputs": [
    {
     "data": {
      "text/plain": [
       "array(['actor', 'antecedentes', 'antecedentes autos', 'autos', 'clinica',\n",
       "       'conclusiones', 'consideraciones', 'consideraciones medico',\n",
       "       'consideraciones medico legales', 'contestacion',\n",
       "       'contestacion puntos', 'examen', 'historia', 'historia clinica',\n",
       "       'interes', 'interes medico', 'legal', 'legales', 'medico',\n",
       "       'medico legal', 'medico legales', 'pericia', 'petitorio', 'puntos',\n",
       "       'puntos pericia'], dtype=object)"
      ]
     },
     "execution_count": 64,
     "metadata": {},
     "output_type": "execute_result"
    }
   ],
   "source": [
    "terms"
   ]
  },
  {
   "cell_type": "markdown",
   "metadata": {},
   "source": [
    "## CountVectorizer"
   ]
  },
  {
   "cell_type": "code",
   "execution_count": 65,
   "metadata": {},
   "outputs": [],
   "source": [
    "from sklearn.feature_extraction.text import CountVectorizer\n",
    "\n",
    "coun_vect = CountVectorizer()\n",
    "count_matrix = coun_vect.fit(dfUbicacionTitulos['titulo'])\n",
    "count_final = count_matrix.transform(dfTitulosCandidatos['titulo'])\n",
    "count_array = count_final.toarray()\n"
   ]
  },
  {
   "cell_type": "code",
   "execution_count": 66,
   "metadata": {},
   "outputs": [
    {
     "data": {
      "text/plain": [
       "array(['aaec', 'abdomen', 'abodarje', ..., 'wiberg', 'wiuerg', 'zambrano'],\n",
       "      dtype=object)"
      ]
     },
     "execution_count": 66,
     "metadata": {},
     "output_type": "execute_result"
    }
   ],
   "source": [
    "count_matrix.get_feature_names_out()"
   ]
  },
  {
   "cell_type": "markdown",
   "metadata": {},
   "source": [
    "# PRUEBAS"
   ]
  },
  {
   "cell_type": "code",
   "execution_count": 67,
   "metadata": {},
   "outputs": [],
   "source": [
    "# Se unen los dos dataframes en uno solo: Guardo los titulos encontrados y titulos candidatos en un solo dataframe\n",
    "dfTitulos = pd.concat([dfUbicacionTitulos, dfTitulosCandidatos], ignore_index=True)\n",
    "\n",
    "# Se seleccionan y renombran las columnas de interés\n",
    "dfTitulos = dfTitulos[['id', 'tipo', 'titulo', 'inicio', 'fin', 'longitud']]\n",
    "dfTitulos.columns = ['id', 'tipo', 'titulo', 'inicio', 'fin', 'longitud']"
   ]
  },
  {
   "cell_type": "code",
   "execution_count": 68,
   "metadata": {},
   "outputs": [],
   "source": [
    "# Guardo los titulos encontrados y titulos candidatos en un solo dataframe y lo convierot a un archivo .csv\n",
    "dfTitulos.to_csv('dftitulos.csv',index=False)"
   ]
  },
  {
   "cell_type": "code",
   "execution_count": 69,
   "metadata": {},
   "outputs": [],
   "source": [
    "def limpiar_tokenizar(text):\n",
    "    tokenizado=[]\n",
    "    for titulo in text:\n",
    "        # Tokenización por palabras individuales\n",
    "        tokenizado.append(titulo.split(sep = ' '))\n",
    "    return(tokenizado)"
   ]
  },
  {
   "cell_type": "code",
   "execution_count": 70,
   "metadata": {},
   "outputs": [
    {
     "data": {
      "text/html": [
       "<div>\n",
       "<style scoped>\n",
       "    .dataframe tbody tr th:only-of-type {\n",
       "        vertical-align: middle;\n",
       "    }\n",
       "\n",
       "    .dataframe tbody tr th {\n",
       "        vertical-align: top;\n",
       "    }\n",
       "\n",
       "    .dataframe thead th {\n",
       "        text-align: right;\n",
       "    }\n",
       "</style>\n",
       "<table border=\"1\" class=\"dataframe\">\n",
       "  <thead>\n",
       "    <tr style=\"text-align: right;\">\n",
       "      <th></th>\n",
       "      <th>titulo</th>\n",
       "      <th>titulo_tokenizado</th>\n",
       "    </tr>\n",
       "  </thead>\n",
       "  <tbody>\n",
       "    <tr>\n",
       "      <th>0</th>\n",
       "      <td>proemio</td>\n",
       "      <td>[proemio]</td>\n",
       "    </tr>\n",
       "    <tr>\n",
       "      <th>1</th>\n",
       "      <td>antecedentes interes medico legal</td>\n",
       "      <td>[antecedentes, interes, medico, legal]</td>\n",
       "    </tr>\n",
       "    <tr>\n",
       "      <th>2</th>\n",
       "      <td>examen fisico actor</td>\n",
       "      <td>[examen, fisico, actor]</td>\n",
       "    </tr>\n",
       "    <tr>\n",
       "      <th>3</th>\n",
       "      <td>consideraciones medico legales</td>\n",
       "      <td>[consideraciones, medico, legales]</td>\n",
       "    </tr>\n",
       "    <tr>\n",
       "      <th>4</th>\n",
       "      <td>conclusiones</td>\n",
       "      <td>[conclusiones]</td>\n",
       "    </tr>\n",
       "  </tbody>\n",
       "</table>\n",
       "</div>"
      ],
      "text/plain": [
       "                              titulo                       titulo_tokenizado\n",
       "0                            proemio                               [proemio]\n",
       "1  antecedentes interes medico legal  [antecedentes, interes, medico, legal]\n",
       "2                examen fisico actor                 [examen, fisico, actor]\n",
       "3     consideraciones medico legales      [consideraciones, medico, legales]\n",
       "4                       conclusiones                          [conclusiones]"
      ]
     },
     "execution_count": 70,
     "metadata": {},
     "output_type": "execute_result"
    }
   ],
   "source": [
    "dfTitulos['titulo_tokenizado'] = limpiar_tokenizar(dfTitulos['titulo'])\n",
    "dfTitulos[['titulo', 'titulo_tokenizado']].head()"
   ]
  },
  {
   "cell_type": "code",
   "execution_count": 71,
   "metadata": {},
   "outputs": [
    {
     "data": {
      "text/html": [
       "<div>\n",
       "<style scoped>\n",
       "    .dataframe tbody tr th:only-of-type {\n",
       "        vertical-align: middle;\n",
       "    }\n",
       "\n",
       "    .dataframe tbody tr th {\n",
       "        vertical-align: top;\n",
       "    }\n",
       "\n",
       "    .dataframe thead th {\n",
       "        text-align: right;\n",
       "    }\n",
       "</style>\n",
       "<table border=\"1\" class=\"dataframe\">\n",
       "  <thead>\n",
       "    <tr style=\"text-align: right;\">\n",
       "      <th></th>\n",
       "      <th>id</th>\n",
       "      <th>tipo</th>\n",
       "      <th>inicio</th>\n",
       "      <th>fin</th>\n",
       "      <th>token</th>\n",
       "    </tr>\n",
       "  </thead>\n",
       "  <tbody>\n",
       "    <tr>\n",
       "      <th>0</th>\n",
       "      <td>0</td>\n",
       "      <td>encontrado</td>\n",
       "      <td>161</td>\n",
       "      <td>171</td>\n",
       "      <td>proemio</td>\n",
       "    </tr>\n",
       "    <tr>\n",
       "      <th>1</th>\n",
       "      <td>0</td>\n",
       "      <td>encontrado</td>\n",
       "      <td>690</td>\n",
       "      <td>730</td>\n",
       "      <td>antecedentes</td>\n",
       "    </tr>\n",
       "    <tr>\n",
       "      <th>1</th>\n",
       "      <td>0</td>\n",
       "      <td>encontrado</td>\n",
       "      <td>690</td>\n",
       "      <td>730</td>\n",
       "      <td>interes</td>\n",
       "    </tr>\n",
       "  </tbody>\n",
       "</table>\n",
       "</div>"
      ],
      "text/plain": [
       "   id        tipo  inicio  fin         token\n",
       "0   0  encontrado     161  171       proemio\n",
       "1   0  encontrado     690  730  antecedentes\n",
       "1   0  encontrado     690  730       interes"
      ]
     },
     "execution_count": 71,
     "metadata": {},
     "output_type": "execute_result"
    }
   ],
   "source": [
    "# Unnest de la columna titulo_tokenizado\n",
    "# ==============================================================================\n",
    "titulos_tidy = dfTitulos.explode(column='titulo_tokenizado')\n",
    "titulos_tidy = titulos_tidy.drop(columns='titulo')\n",
    "titulos_tidy = titulos_tidy.drop(columns='longitud')\n",
    "titulos_tidy = titulos_tidy.rename(columns={'titulo_tokenizado':'token'})\n",
    "titulos_tidy = titulos_tidy.drop(titulos_tidy[titulos_tidy['token'] ==''].index)\n",
    "titulos_tidy.head(3)"
   ]
  },
  {
   "cell_type": "markdown",
   "metadata": {},
   "source": [
    "## Frecuencia de título"
   ]
  },
  {
   "cell_type": "code",
   "execution_count": 72,
   "metadata": {},
   "outputs": [
    {
     "name": "stdout",
     "output_type": "stream",
     "text": [
      "--------------------------\n",
      "Palabras totales por títulos\n",
      "--------------------------\n"
     ]
    },
    {
     "data": {
      "text/plain": [
       "tipo\n",
       "candidato     28071\n",
       "encontrado    12786\n",
       "Name: token, dtype: int64"
      ]
     },
     "execution_count": 72,
     "metadata": {},
     "output_type": "execute_result"
    }
   ],
   "source": [
    "# Palabras totales utilizadas por cada autor\n",
    "# ==============================================================================\n",
    "print('--------------------------')\n",
    "print('Palabras totales por títulos')\n",
    "print('--------------------------')\n",
    "titulos_tidy.groupby(by='tipo')['token'].count()"
   ]
  },
  {
   "cell_type": "code",
   "execution_count": 73,
   "metadata": {},
   "outputs": [
    {
     "name": "stdout",
     "output_type": "stream",
     "text": [
      "----------------------------\n",
      "Palabras distintas por títulos\n",
      "----------------------------\n"
     ]
    },
    {
     "data": {
      "text/plain": [
       "tipo\n",
       "candidato     3277\n",
       "encontrado    1026\n",
       "Name: token, dtype: int64"
      ]
     },
     "execution_count": 73,
     "metadata": {},
     "output_type": "execute_result"
    }
   ],
   "source": [
    "# Palabras distintas por títulos\n",
    "# ==============================================================================\n",
    "print('----------------------------')\n",
    "print('Palabras distintas por títulos')\n",
    "print('----------------------------')\n",
    "titulos_tidy.groupby(by='tipo')['token'].nunique()"
   ]
  },
  {
   "cell_type": "code",
   "execution_count": 74,
   "metadata": {},
   "outputs": [
    {
     "data": {
      "text/html": [
       "<div>\n",
       "<style scoped>\n",
       "    .dataframe tbody tr th:only-of-type {\n",
       "        vertical-align: middle;\n",
       "    }\n",
       "\n",
       "    .dataframe tbody tr th {\n",
       "        vertical-align: top;\n",
       "    }\n",
       "\n",
       "    .dataframe thead th {\n",
       "        text-align: right;\n",
       "    }\n",
       "</style>\n",
       "<table border=\"1\" class=\"dataframe\">\n",
       "  <thead>\n",
       "    <tr style=\"text-align: right;\">\n",
       "      <th></th>\n",
       "      <th>mean</th>\n",
       "      <th>std</th>\n",
       "    </tr>\n",
       "    <tr>\n",
       "      <th>tipo</th>\n",
       "      <th></th>\n",
       "      <th></th>\n",
       "    </tr>\n",
       "  </thead>\n",
       "  <tbody>\n",
       "    <tr>\n",
       "      <th>candidato</th>\n",
       "      <td>16.415789</td>\n",
       "      <td>16.982719</td>\n",
       "    </tr>\n",
       "    <tr>\n",
       "      <th>encontrado</th>\n",
       "      <td>11.118261</td>\n",
       "      <td>8.571205</td>\n",
       "    </tr>\n",
       "  </tbody>\n",
       "</table>\n",
       "</div>"
      ],
      "text/plain": [
       "                 mean        std\n",
       "tipo                            \n",
       "candidato   16.415789  16.982719\n",
       "encontrado  11.118261   8.571205"
      ]
     },
     "execution_count": 74,
     "metadata": {},
     "output_type": "execute_result"
    }
   ],
   "source": [
    "# Longitud media y desviación de los titulos de cada tipo\n",
    "# ==============================================================================\n",
    "temp_df = pd.DataFrame(titulos_tidy.groupby(by = [\"tipo\", \"id\"])[\"token\"].count())\n",
    "temp_df.reset_index().groupby(\"tipo\")[\"token\"].agg(['mean', 'std'])"
   ]
  },
  {
   "cell_type": "code",
   "execution_count": 75,
   "metadata": {},
   "outputs": [
    {
     "name": "stdout",
     "output_type": "stream",
     "text": [
      "Top 5 títulos más repetidos por tipo\n"
     ]
    },
    {
     "data": {
      "text/html": [
       "<div>\n",
       "<style scoped>\n",
       "    .dataframe tbody tr th:only-of-type {\n",
       "        vertical-align: middle;\n",
       "    }\n",
       "\n",
       "    .dataframe tbody tr th {\n",
       "        vertical-align: top;\n",
       "    }\n",
       "\n",
       "    .dataframe thead th {\n",
       "        text-align: right;\n",
       "    }\n",
       "</style>\n",
       "<table border=\"1\" class=\"dataframe\">\n",
       "  <thead>\n",
       "    <tr style=\"text-align: right;\">\n",
       "      <th></th>\n",
       "      <th></th>\n",
       "      <th>tipo</th>\n",
       "      <th>token</th>\n",
       "      <th>count</th>\n",
       "    </tr>\n",
       "    <tr>\n",
       "      <th>tipo</th>\n",
       "      <th></th>\n",
       "      <th></th>\n",
       "      <th></th>\n",
       "      <th></th>\n",
       "    </tr>\n",
       "  </thead>\n",
       "  <tbody>\n",
       "    <tr>\n",
       "      <th rowspan=\"5\" valign=\"top\">candidato</th>\n",
       "      <th>2750</th>\n",
       "      <td>candidato</td>\n",
       "      <td>respuesta</td>\n",
       "      <td>635</td>\n",
       "    </tr>\n",
       "    <tr>\n",
       "      <th>1238</th>\n",
       "      <td>candidato</td>\n",
       "      <td>examen</td>\n",
       "      <td>613</td>\n",
       "    </tr>\n",
       "    <tr>\n",
       "      <th>1640</th>\n",
       "      <td>candidato</td>\n",
       "      <td>informe</td>\n",
       "      <td>542</td>\n",
       "    </tr>\n",
       "    <tr>\n",
       "      <th>1938</th>\n",
       "      <td>candidato</td>\n",
       "      <td>medico</td>\n",
       "      <td>519</td>\n",
       "    </tr>\n",
       "    <tr>\n",
       "      <th>618</th>\n",
       "      <td>candidato</td>\n",
       "      <td>consideraciones</td>\n",
       "      <td>390</td>\n",
       "    </tr>\n",
       "    <tr>\n",
       "      <th rowspan=\"5\" valign=\"top\">encontrado</th>\n",
       "      <th>3868</th>\n",
       "      <td>encontrado</td>\n",
       "      <td>medico</td>\n",
       "      <td>827</td>\n",
       "    </tr>\n",
       "    <tr>\n",
       "      <th>4085</th>\n",
       "      <td>encontrado</td>\n",
       "      <td>puntos</td>\n",
       "      <td>609</td>\n",
       "    </tr>\n",
       "    <tr>\n",
       "      <th>3471</th>\n",
       "      <td>encontrado</td>\n",
       "      <td>conclusiones</td>\n",
       "      <td>576</td>\n",
       "    </tr>\n",
       "    <tr>\n",
       "      <th>3993</th>\n",
       "      <td>encontrado</td>\n",
       "      <td>pericia</td>\n",
       "      <td>537</td>\n",
       "    </tr>\n",
       "    <tr>\n",
       "      <th>3374</th>\n",
       "      <td>encontrado</td>\n",
       "      <td>antecedentes</td>\n",
       "      <td>485</td>\n",
       "    </tr>\n",
       "  </tbody>\n",
       "</table>\n",
       "</div>"
      ],
      "text/plain": [
       "                       tipo            token  count\n",
       "tipo                                               \n",
       "candidato  2750   candidato        respuesta    635\n",
       "           1238   candidato           examen    613\n",
       "           1640   candidato          informe    542\n",
       "           1938   candidato           medico    519\n",
       "           618    candidato  consideraciones    390\n",
       "encontrado 3868  encontrado           medico    827\n",
       "           4085  encontrado           puntos    609\n",
       "           3471  encontrado     conclusiones    576\n",
       "           3993  encontrado          pericia    537\n",
       "           3374  encontrado     antecedentes    485"
      ]
     },
     "execution_count": 75,
     "metadata": {},
     "output_type": "execute_result"
    }
   ],
   "source": [
    "# Top 5 títulos más repetidos por tipo\n",
    "# ==============================================================================\n",
    "print('Top 5 títulos más repetidos por tipo')\n",
    "titulos_tidy.groupby(['tipo','token'])['token'] \\\n",
    " .count() \\\n",
    " .reset_index(name='count') \\\n",
    " .groupby('tipo') \\\n",
    " .apply(lambda x: x.sort_values('count', ascending=False).head(5))"
   ]
  },
  {
   "cell_type": "code",
   "execution_count": 76,
   "metadata": {},
   "outputs": [
    {
     "data": {
      "image/png": "[encoded data removed]",
      "text/plain": [
       "<Figure size 720x1152 with 2 Axes>"
      ]
     },
     "metadata": {
      "needs_background": "light"
     },
     "output_type": "display_data"
    }
   ],
   "source": [
    "# Top 10 títulos por tipo \n",
    "# ==============================================================================\n",
    "fig, axs = plt.subplots(nrows=2, ncols=1,figsize=(10, 16))\n",
    "for i, tipo in enumerate(titulos_tidy.tipo.unique()):\n",
    "    df_temp = titulos_tidy[titulos_tidy.tipo == tipo]\n",
    "    counts  = df_temp['token'].value_counts(ascending=False).head(25)\n",
    "    counts.plot(kind='barh', color='firebrick', ax=axs[i])\n",
    "    axs[i].invert_yaxis()\n",
    "    axs[i].set_title(tipo)\n",
    "\n",
    "fig.tight_layout()"
   ]
  },
  {
   "cell_type": "code",
   "execution_count": 77,
   "metadata": {},
   "outputs": [],
   "source": [
    "# Pivotado de títutlos por tipo y token.\n",
    "# ==============================================================================\n",
    "titulos_pivot = titulos_tidy.groupby([\"tipo\",\"token\"])[\"token\"] \\\n",
    "                .agg([\"count\"]).reset_index() \\\n",
    "                .pivot(index = \"token\" , columns=\"tipo\", values= \"count\")\n",
    "titulos_pivot.columns.name = None"
   ]
  },
  {
   "cell_type": "code",
   "execution_count": 78,
   "metadata": {},
   "outputs": [
    {
     "data": {
      "text/plain": [
       "'aacs'"
      ]
     },
     "execution_count": 78,
     "metadata": {},
     "output_type": "execute_result"
    }
   ],
   "source": [
    "titulos_pivot.encontrado.index[0]"
   ]
  },
  {
   "cell_type": "code",
   "execution_count": 79,
   "metadata": {},
   "outputs": [
    {
     "name": "stdout",
     "output_type": "stream",
     "text": [
      "actor\n",
      "actora\n",
      "antecedentes\n",
      "autos\n",
      "complementarios\n",
      "conclusiones\n",
      "consideraciones\n",
      "datos\n",
      "estudios\n",
      "examen\n",
      "hechos\n",
      "incapacidad\n",
      "interes\n",
      "legal\n",
      "legales\n",
      "medico\n",
      "pericia\n",
      "personales\n",
      "petitorio\n",
      "puntos\n"
     ]
    }
   ],
   "source": [
    "for i, count in enumerate(titulos_pivot.encontrado):\n",
    "    if titulos_pivot.candidato[i] > 80 and count > 80:\n",
    "        print(titulos_pivot.index[i])"
   ]
  },
  {
   "cell_type": "code",
   "execution_count": 80,
   "metadata": {},
   "outputs": [],
   "source": [
    "# Test de correlación (coseno) por títulos candidato y título encontrado\n",
    "# ==============================================================================\n",
    "from scipy.spatial.distance import cosine\n",
    "\n",
    "def similitud_coseno(a,b):\n",
    "    distancia = cosine(a,b)\n",
    "    return distancia\n",
    "\n",
    "matriz_corr = titulos_pivot.corr(method=similitud_coseno)"
   ]
  },
  {
   "cell_type": "code",
   "execution_count": 81,
   "metadata": {},
   "outputs": [
    {
     "name": "stdout",
     "output_type": "stream",
     "text": [
      "Correlación entre tipos de títulos\n"
     ]
    },
    {
     "data": {
      "text/html": [
       "<div>\n",
       "<style scoped>\n",
       "    .dataframe tbody tr th:only-of-type {\n",
       "        vertical-align: middle;\n",
       "    }\n",
       "\n",
       "    .dataframe tbody tr th {\n",
       "        vertical-align: top;\n",
       "    }\n",
       "\n",
       "    .dataframe thead th {\n",
       "        text-align: right;\n",
       "    }\n",
       "</style>\n",
       "<table border=\"1\" class=\"dataframe\">\n",
       "  <thead>\n",
       "    <tr style=\"text-align: right;\">\n",
       "      <th></th>\n",
       "      <th>candidato</th>\n",
       "      <th>encontrado</th>\n",
       "    </tr>\n",
       "  </thead>\n",
       "  <tbody>\n",
       "    <tr>\n",
       "      <th>candidato</th>\n",
       "      <td>1.000000</td>\n",
       "      <td>0.357158</td>\n",
       "    </tr>\n",
       "    <tr>\n",
       "      <th>encontrado</th>\n",
       "      <td>0.357158</td>\n",
       "      <td>1.000000</td>\n",
       "    </tr>\n",
       "  </tbody>\n",
       "</table>\n",
       "</div>"
      ],
      "text/plain": [
       "            candidato  encontrado\n",
       "candidato    1.000000    0.357158\n",
       "encontrado   0.357158    1.000000"
      ]
     },
     "execution_count": 81,
     "metadata": {},
     "output_type": "execute_result"
    }
   ],
   "source": [
    "print('Correlación entre tipos de títulos')\n",
    "matriz_corr"
   ]
  },
  {
   "cell_type": "code",
   "execution_count": 82,
   "metadata": {},
   "outputs": [
    {
     "data": {
      "image/png": "[encoded data removed]",
      "text/plain": [
       "<Figure size 720x432 with 1 Axes>"
      ]
     },
     "metadata": {
      "needs_background": "light"
     },
     "output_type": "display_data"
    }
   ],
   "source": [
    "import seaborn as sns\n",
    "\n",
    "# Gráfico de correlación\n",
    "# ==============================================================================\n",
    "f, ax = plt.subplots(figsize=(10, 6))\n",
    "temp = titulos_pivot.dropna()\n",
    "sns.regplot(\n",
    "    x  = np.log(temp.candidato),\n",
    "    y  = np.log(temp.encontrado),\n",
    "    scatter_kws =  {'alpha': 0.05},\n",
    "    ax = ax\n",
    ");\n",
    "for i in np.random.choice(range(temp.shape[0]), 100):\n",
    "    ax.annotate(\n",
    "        text  = temp.index[i],\n",
    "        xy    = (np.log(temp.candidato[i]), np.log(temp.encontrado[i])),\n",
    "        alpha = 0.7\n",
    "    )"
   ]
  },
  {
   "cell_type": "code",
   "execution_count": 83,
   "metadata": {},
   "outputs": [
    {
     "name": "stdout",
     "output_type": "stream",
     "text": [
      "Palabras comunes entre títulos encontrados y títulos candidatos: 575\n"
     ]
    }
   ],
   "source": [
    "# Número de palabras comunes en títulos encotnrados y candidatos.\n",
    "# ==============================================================================\n",
    "titulo_encontrado = set(titulos_tidy[titulos_tidy.tipo == 'encontrado']['token'])\n",
    "titulo_candidato = set(titulos_tidy[titulos_tidy.tipo == 'candidato']['token'])\n",
    "\n",
    "\n",
    "print(f\"Palabras comunes entre títulos encontrados y títulos candidatos: {len(titulo_encontrado.intersection(titulo_candidato))}\")"
   ]
  },
  {
   "cell_type": "code",
   "execution_count": 84,
   "metadata": {},
   "outputs": [],
   "source": [
    "# Cálculo del log of odds ratio de cada palabra títulos encontrados y títulos candidatos\n",
    "# ==============================================================================\n",
    "# Pivotaje y despivotaje\n",
    "titulos_pivot = titulos_tidy.groupby([\"tipo\",\"token\"])[\"token\"] \\\n",
    "                .agg([\"count\"]).reset_index() \\\n",
    "                .pivot(index = \"token\" , columns=\"tipo\", values= \"count\")\n",
    "\n",
    "titulos_pivot = titulos_pivot.fillna(value=0)\n",
    "titulos_pivot.columns.name = None\n",
    "\n",
    "titulos_unpivot = titulos_pivot.melt(value_name='n', var_name='tipo', ignore_index=False)\n",
    "titulos_unpivot = titulos_unpivot.reset_index()\n",
    "\n",
    "# Selección de los títlos encontrados y candidatos. \n",
    "titulos_unpivot = titulos_unpivot[titulos_unpivot.tipo.isin(['encontrado', 'candidato'])]\n",
    "\n",
    "# Se añade el total de palabras de cada titulo.\n",
    "titulos_unpivot = titulos_unpivot.merge(\n",
    "                    titulos_tidy.groupby('tipo')['token'].count().rename('N'),\n",
    "                    how = 'left',\n",
    "                    on  = 'tipo'\n",
    "                 )\n",
    "\n",
    "# Cálculo de odds y log of odds de cada palabra\n",
    "titulos_logOdds = titulos_unpivot.copy()\n",
    "titulos_logOdds['odds'] = (titulos_logOdds.n + 1) / (titulos_logOdds.N + 1)\n",
    "titulos_logOdds = titulos_logOdds[['token', 'tipo', 'odds']] \\\n",
    "                    .pivot(index='token', columns='tipo', values='odds')\n",
    "titulos_logOdds.columns.name = None\n",
    "\n",
    "titulos_logOdds['log_odds']     = np.log(titulos_logOdds.encontrado/titulos_logOdds.candidato)\n",
    "titulos_logOdds['abs_log_odds'] = np.abs(titulos_logOdds.log_odds)\n",
    "\n",
    "# Si el logaritmo de odds es mayor que cero, significa que es una palabra con\n",
    "# mayor probabilidad de ser título encontrado. Esto es así porque el ratio sea ha\n",
    "# calculado como encontrado/candidato.\n",
    "titulos_logOdds['tipo_frecuente'] = np.where(titulos_logOdds.log_odds > 0,\n",
    "                                              \"encontrado\",\n",
    "                                              \"candidato\"\n",
    "                                    )"
   ]
  },
  {
   "cell_type": "code",
   "execution_count": 93,
   "metadata": {},
   "outputs": [
    {
     "name": "stdout",
     "output_type": "stream",
     "text": [
      "-----------------------------------\n",
      "Top 10 palabras más diferenciadas en títulos encontrados y tíulos candidatos\n",
      "-----------------------------------\n"
     ]
    },
    {
     "data": {
      "text/html": [
       "<div>\n",
       "<style scoped>\n",
       "    .dataframe tbody tr th:only-of-type {\n",
       "        vertical-align: middle;\n",
       "    }\n",
       "\n",
       "    .dataframe tbody tr th {\n",
       "        vertical-align: top;\n",
       "    }\n",
       "\n",
       "    .dataframe thead th {\n",
       "        text-align: right;\n",
       "    }\n",
       "</style>\n",
       "<table border=\"1\" class=\"dataframe\">\n",
       "  <thead>\n",
       "    <tr style=\"text-align: right;\">\n",
       "      <th></th>\n",
       "      <th>candidato</th>\n",
       "      <th>encontrado</th>\n",
       "      <th>log_odds</th>\n",
       "      <th>abs_log_odds</th>\n",
       "      <th>tipo_frecuente</th>\n",
       "    </tr>\n",
       "    <tr>\n",
       "      <th>token</th>\n",
       "      <th></th>\n",
       "      <th></th>\n",
       "      <th></th>\n",
       "      <th></th>\n",
       "      <th></th>\n",
       "    </tr>\n",
       "  </thead>\n",
       "  <tbody>\n",
       "    <tr>\n",
       "      <th>integral</th>\n",
       "      <td>0.000036</td>\n",
       "      <td>0.004145</td>\n",
       "      <td>4.756636</td>\n",
       "      <td>4.756636</td>\n",
       "      <td>encontrado</td>\n",
       "    </tr>\n",
       "    <tr>\n",
       "      <th>realizado</th>\n",
       "      <td>0.006946</td>\n",
       "      <td>0.000078</td>\n",
       "      <td>-4.486656</td>\n",
       "      <td>4.486656</td>\n",
       "      <td>candidato</td>\n",
       "    </tr>\n",
       "    <tr>\n",
       "      <th>discusion</th>\n",
       "      <td>0.000036</td>\n",
       "      <td>0.003050</td>\n",
       "      <td>4.449905</td>\n",
       "      <td>4.449905</td>\n",
       "      <td>encontrado</td>\n",
       "    </tr>\n",
       "    <tr>\n",
       "      <th>auxiliares</th>\n",
       "      <td>0.000036</td>\n",
       "      <td>0.003050</td>\n",
       "      <td>4.449905</td>\n",
       "      <td>4.449905</td>\n",
       "      <td>encontrado</td>\n",
       "    </tr>\n",
       "    <tr>\n",
       "      <th>remitir</th>\n",
       "      <td>0.004880</td>\n",
       "      <td>0.000078</td>\n",
       "      <td>-4.133637</td>\n",
       "      <td>4.133637</td>\n",
       "      <td>candidato</td>\n",
       "    </tr>\n",
       "    <tr>\n",
       "      <th>contestar</th>\n",
       "      <td>0.000036</td>\n",
       "      <td>0.002190</td>\n",
       "      <td>4.118548</td>\n",
       "      <td>4.118548</td>\n",
       "      <td>encontrado</td>\n",
       "    </tr>\n",
       "    <tr>\n",
       "      <th>llevados</th>\n",
       "      <td>0.000071</td>\n",
       "      <td>0.003832</td>\n",
       "      <td>3.985017</td>\n",
       "      <td>3.985017</td>\n",
       "      <td>encontrado</td>\n",
       "    </tr>\n",
       "    <tr>\n",
       "      <th>sido</th>\n",
       "      <td>0.004168</td>\n",
       "      <td>0.000078</td>\n",
       "      <td>-3.975830</td>\n",
       "      <td>3.975830</td>\n",
       "      <td>candidato</td>\n",
       "    </tr>\n",
       "    <tr>\n",
       "      <th>cabo</th>\n",
       "      <td>0.000071</td>\n",
       "      <td>0.003754</td>\n",
       "      <td>3.964397</td>\n",
       "      <td>3.964397</td>\n",
       "      <td>encontrado</td>\n",
       "    </tr>\n",
       "    <tr>\n",
       "      <th>cuerpo</th>\n",
       "      <td>0.004097</td>\n",
       "      <td>0.000078</td>\n",
       "      <td>-3.958589</td>\n",
       "      <td>3.958589</td>\n",
       "      <td>candidato</td>\n",
       "    </tr>\n",
       "    <tr>\n",
       "      <th>remitirse</th>\n",
       "      <td>0.004061</td>\n",
       "      <td>0.000078</td>\n",
       "      <td>-3.949855</td>\n",
       "      <td>3.949855</td>\n",
       "      <td>candidato</td>\n",
       "    </tr>\n",
       "    <tr>\n",
       "      <th>desarrollado</th>\n",
       "      <td>0.004025</td>\n",
       "      <td>0.000078</td>\n",
       "      <td>-3.941044</td>\n",
       "      <td>3.941044</td>\n",
       "      <td>candidato</td>\n",
       "    </tr>\n",
       "    <tr>\n",
       "      <th>oficio</th>\n",
       "      <td>0.000071</td>\n",
       "      <td>0.003597</td>\n",
       "      <td>3.921838</td>\n",
       "      <td>3.921838</td>\n",
       "      <td>encontrado</td>\n",
       "    </tr>\n",
       "    <tr>\n",
       "      <th>galeano</th>\n",
       "      <td>0.000036</td>\n",
       "      <td>0.001799</td>\n",
       "      <td>3.921838</td>\n",
       "      <td>3.921838</td>\n",
       "      <td>encontrado</td>\n",
       "    </tr>\n",
       "    <tr>\n",
       "      <th>rotacion</th>\n",
       "      <td>0.003918</td>\n",
       "      <td>0.000078</td>\n",
       "      <td>-3.914137</td>\n",
       "      <td>3.914137</td>\n",
       "      <td>candidato</td>\n",
       "    </tr>\n",
       "    <tr>\n",
       "      <th>romina</th>\n",
       "      <td>0.000036</td>\n",
       "      <td>0.001642</td>\n",
       "      <td>3.830866</td>\n",
       "      <td>3.830866</td>\n",
       "      <td>encontrado</td>\n",
       "    </tr>\n",
       "    <tr>\n",
       "      <th>alejadra</th>\n",
       "      <td>0.000036</td>\n",
       "      <td>0.001564</td>\n",
       "      <td>3.782076</td>\n",
       "      <td>3.782076</td>\n",
       "      <td>encontrado</td>\n",
       "    </tr>\n",
       "    <tr>\n",
       "      <th>contestado</th>\n",
       "      <td>0.003242</td>\n",
       "      <td>0.000078</td>\n",
       "      <td>-3.724516</td>\n",
       "      <td>3.724516</td>\n",
       "      <td>candidato</td>\n",
       "    </tr>\n",
       "    <tr>\n",
       "      <th>dato</th>\n",
       "      <td>0.003170</td>\n",
       "      <td>0.000078</td>\n",
       "      <td>-3.702293</td>\n",
       "      <td>3.702293</td>\n",
       "      <td>candidato</td>\n",
       "    </tr>\n",
       "    <tr>\n",
       "      <th>juicio</th>\n",
       "      <td>0.003170</td>\n",
       "      <td>0.000078</td>\n",
       "      <td>-3.702293</td>\n",
       "      <td>3.702293</td>\n",
       "      <td>candidato</td>\n",
       "    </tr>\n",
       "    <tr>\n",
       "      <th>contestada</th>\n",
       "      <td>0.003135</td>\n",
       "      <td>0.000078</td>\n",
       "      <td>-3.690993</td>\n",
       "      <td>3.690993</td>\n",
       "      <td>candidato</td>\n",
       "    </tr>\n",
       "    <tr>\n",
       "      <th>problematica</th>\n",
       "      <td>0.000107</td>\n",
       "      <td>0.004067</td>\n",
       "      <td>3.638975</td>\n",
       "      <td>3.638975</td>\n",
       "      <td>encontrado</td>\n",
       "    </tr>\n",
       "    <tr>\n",
       "      <th>remito</th>\n",
       "      <td>0.002921</td>\n",
       "      <td>0.000078</td>\n",
       "      <td>-3.620376</td>\n",
       "      <td>3.620376</td>\n",
       "      <td>candidato</td>\n",
       "    </tr>\n",
       "    <tr>\n",
       "      <th>cardio</th>\n",
       "      <td>0.000036</td>\n",
       "      <td>0.001329</td>\n",
       "      <td>3.619557</td>\n",
       "      <td>3.619557</td>\n",
       "      <td>encontrado</td>\n",
       "    </tr>\n",
       "    <tr>\n",
       "      <th>idem</th>\n",
       "      <td>0.002814</td>\n",
       "      <td>0.000078</td>\n",
       "      <td>-3.583104</td>\n",
       "      <td>3.583104</td>\n",
       "      <td>candidato</td>\n",
       "    </tr>\n",
       "    <tr>\n",
       "      <th>aportadas</th>\n",
       "      <td>0.000036</td>\n",
       "      <td>0.001251</td>\n",
       "      <td>3.558932</td>\n",
       "      <td>3.558932</td>\n",
       "      <td>encontrado</td>\n",
       "    </tr>\n",
       "    <tr>\n",
       "      <th>patologicos</th>\n",
       "      <td>0.000036</td>\n",
       "      <td>0.001251</td>\n",
       "      <td>3.558932</td>\n",
       "      <td>3.558932</td>\n",
       "      <td>encontrado</td>\n",
       "    </tr>\n",
       "    <tr>\n",
       "      <th>bibliiografia</th>\n",
       "      <td>0.000036</td>\n",
       "      <td>0.001251</td>\n",
       "      <td>3.558932</td>\n",
       "      <td>3.558932</td>\n",
       "      <td>encontrado</td>\n",
       "    </tr>\n",
       "    <tr>\n",
       "      <th>pensamiento</th>\n",
       "      <td>0.002672</td>\n",
       "      <td>0.000078</td>\n",
       "      <td>-3.531145</td>\n",
       "      <td>3.531145</td>\n",
       "      <td>candidato</td>\n",
       "    </tr>\n",
       "    <tr>\n",
       "      <th>considerar</th>\n",
       "      <td>0.000036</td>\n",
       "      <td>0.001173</td>\n",
       "      <td>3.494394</td>\n",
       "      <td>3.494394</td>\n",
       "      <td>encontrado</td>\n",
       "    </tr>\n",
       "  </tbody>\n",
       "</table>\n",
       "</div>"
      ],
      "text/plain": [
       "               candidato  encontrado  log_odds  abs_log_odds tipo_frecuente\n",
       "token                                                                      \n",
       "integral        0.000036    0.004145  4.756636      4.756636     encontrado\n",
       "realizado       0.006946    0.000078 -4.486656      4.486656      candidato\n",
       "discusion       0.000036    0.003050  4.449905      4.449905     encontrado\n",
       "auxiliares      0.000036    0.003050  4.449905      4.449905     encontrado\n",
       "remitir         0.004880    0.000078 -4.133637      4.133637      candidato\n",
       "contestar       0.000036    0.002190  4.118548      4.118548     encontrado\n",
       "llevados        0.000071    0.003832  3.985017      3.985017     encontrado\n",
       "sido            0.004168    0.000078 -3.975830      3.975830      candidato\n",
       "cabo            0.000071    0.003754  3.964397      3.964397     encontrado\n",
       "cuerpo          0.004097    0.000078 -3.958589      3.958589      candidato\n",
       "remitirse       0.004061    0.000078 -3.949855      3.949855      candidato\n",
       "desarrollado    0.004025    0.000078 -3.941044      3.941044      candidato\n",
       "oficio          0.000071    0.003597  3.921838      3.921838     encontrado\n",
       "galeano         0.000036    0.001799  3.921838      3.921838     encontrado\n",
       "rotacion        0.003918    0.000078 -3.914137      3.914137      candidato\n",
       "romina          0.000036    0.001642  3.830866      3.830866     encontrado\n",
       "alejadra        0.000036    0.001564  3.782076      3.782076     encontrado\n",
       "contestado      0.003242    0.000078 -3.724516      3.724516      candidato\n",
       "dato            0.003170    0.000078 -3.702293      3.702293      candidato\n",
       "juicio          0.003170    0.000078 -3.702293      3.702293      candidato\n",
       "contestada      0.003135    0.000078 -3.690993      3.690993      candidato\n",
       "problematica    0.000107    0.004067  3.638975      3.638975     encontrado\n",
       "remito          0.002921    0.000078 -3.620376      3.620376      candidato\n",
       "cardio          0.000036    0.001329  3.619557      3.619557     encontrado\n",
       "idem            0.002814    0.000078 -3.583104      3.583104      candidato\n",
       "aportadas       0.000036    0.001251  3.558932      3.558932     encontrado\n",
       "patologicos     0.000036    0.001251  3.558932      3.558932     encontrado\n",
       "bibliiografia   0.000036    0.001251  3.558932      3.558932     encontrado\n",
       "pensamiento     0.002672    0.000078 -3.531145      3.531145      candidato\n",
       "considerar      0.000036    0.001173  3.494394      3.494394     encontrado"
      ]
     },
     "execution_count": 93,
     "metadata": {},
     "output_type": "execute_result"
    }
   ],
   "source": [
    "print('-----------------------------------')\n",
    "print('Top 10 palabras más diferenciadas en títulos encontrados y tíulos candidatos')\n",
    "print('-----------------------------------')\n",
    "titulos_logOdds.sort_values('abs_log_odds', ascending=False).head(30)"
   ]
  },
  {
   "cell_type": "code",
   "execution_count": 86,
   "metadata": {},
   "outputs": [
    {
     "data": {
      "image/png": "[encoded data removed]",
      "text/plain": [
       "<Figure size 720x864 with 1 Axes>"
      ]
     },
     "metadata": {
      "needs_background": "light"
     },
     "output_type": "display_data"
    }
   ],
   "source": [
    "# Top 15 palabras más características de cada tipo de título\n",
    "# ==============================================================================\n",
    "\n",
    "top_30 = titulos_logOdds[['log_odds', 'abs_log_odds', 'tipo_frecuente']] \\\n",
    "        .groupby('tipo_frecuente') \\\n",
    "        .apply(lambda x: x.nlargest(30, columns='abs_log_odds').reset_index()) \\\n",
    "        .reset_index(drop=True) \\\n",
    "        .sort_values('log_odds')\n",
    "\n",
    "f, ax = plt.subplots(figsize=(10, 12))\n",
    "sns.barplot(\n",
    "    x    = 'log_odds',\n",
    "    y    = 'token',\n",
    "    hue  = 'tipo_frecuente',\n",
    "    data = top_30,\n",
    "    ax   = ax\n",
    ")\n",
    "ax.set_title('Top 10 palabras más características de cada tipo de título')\n",
    "ax.set_xlabel('log odds ratio (titulos encontrados / titulos candidatos)');"
   ]
  },
  {
   "cell_type": "code",
   "execution_count": 87,
   "metadata": {},
   "outputs": [],
   "source": [
    "nuevosTitulosEncontrados = []\n",
    "for encontrado in titulo_encontrado:\n",
    "    for candidato in titulo_candidato:\n",
    "        if encontrado == candidato :\n",
    "            nuevosTitulosEncontrados.append(candidato)"
   ]
  },
  {
   "cell_type": "code",
   "execution_count": 88,
   "metadata": {},
   "outputs": [
    {
     "data": {
      "text/plain": [
       "['estudio',\n",
       " 'peritado',\n",
       " 'paciente',\n",
       " 'tobillo',\n",
       " 'presento',\n",
       " 'heredofamiliares',\n",
       " 'vista',\n",
       " 'guillermo',\n",
       " 'carlos',\n",
       " 'laboral',\n",
       " 'salud',\n",
       " 'izquierda',\n",
       " 'relatos',\n",
       " 'obtenido',\n",
       " 'dorsal',\n",
       " 'mecanismo',\n",
       " 'adjunto',\n",
       " 'profesional',\n",
       " 'cuenta',\n",
       " 'analizada',\n",
       " 'psicoterapeutico',\n",
       " 'resumen',\n",
       " 'actividad',\n",
       " 'observan',\n",
       " 'dorso',\n",
       " 'siguientes',\n",
       " 'electromiograma',\n",
       " 'integracion',\n",
       " 'psiquico',\n",
       " 'posee',\n",
       " 'maniobras',\n",
       " 'medicolegales',\n",
       " 'region',\n",
       " 'moderado',\n",
       " 'responsabilidad',\n",
       " 'funciones',\n",
       " 'deportes',\n",
       " 'comision',\n",
       " 'atencion',\n",
       " 'psicodiagnostico',\n",
       " 'cronica',\n",
       " 'actualmente',\n",
       " 'clinica',\n",
       " 'anamnesis',\n",
       " 'inicio',\n",
       " 'peritada',\n",
       " 'exclusivamente',\n",
       " 'aguda',\n",
       " 'invocado',\n",
       " 'prueba',\n",
       " 'radio',\n",
       " 'punto',\n",
       " 'denunciada',\n",
       " 'eventos',\n",
       " 'vicente',\n",
       " 'paso',\n",
       " 'inferiores',\n",
       " 'imagenes',\n",
       " 'descriptas',\n",
       " 'craneo',\n",
       " 'aplicacion',\n",
       " 'actualidad',\n",
       " 'ocular',\n",
       " 'abdomen',\n",
       " 'magnetica',\n",
       " 'dedo',\n",
       " 'especialista',\n",
       " 'vivencial',\n",
       " 'habil',\n",
       " 'fobica',\n",
       " 'ambos',\n",
       " 'mismo',\n",
       " 'digo',\n",
       " 'afeccion',\n",
       " 'manos',\n",
       " 'espinograma',\n",
       " 'juez',\n",
       " 'domicilio',\n",
       " 'tener',\n",
       " 'personalidad',\n",
       " 'vinculable',\n",
       " 'mmss',\n",
       " 'mayor',\n",
       " 'superior',\n",
       " 'utilizada',\n",
       " 'sesiones',\n",
       " 'previa',\n",
       " 'diagnostico',\n",
       " 'contacto',\n",
       " 'sufrido',\n",
       " 'desde',\n",
       " 'todas',\n",
       " 'diagnosticas',\n",
       " 'nervio',\n",
       " 'ligamento',\n",
       " 'rorschach',\n",
       " 'depende',\n",
       " 'prevencion',\n",
       " 'jose',\n",
       " 'demandada',\n",
       " 'signos',\n",
       " 'trabajo',\n",
       " 'conducta',\n",
       " 'otorgo',\n",
       " 'cabo',\n",
       " 'cuestionario',\n",
       " 'presente',\n",
       " 'aseguradora',\n",
       " 'presentar',\n",
       " 'dolorosa',\n",
       " 'relatados',\n",
       " 'pruebas',\n",
       " 'superiores',\n",
       " 'psicologico',\n",
       " 'cprovincia',\n",
       " 'labora',\n",
       " 'demanda',\n",
       " 'factores',\n",
       " 'evaluado',\n",
       " 'patologias',\n",
       " 'nacional',\n",
       " 'antecedente',\n",
       " 'efectivamente',\n",
       " 'radiculopatia',\n",
       " 'autos',\n",
       " 'codo',\n",
       " 'consideraciones',\n",
       " 'sensibilidad',\n",
       " 'previas',\n",
       " 'personales',\n",
       " 'debio',\n",
       " 'porcentaje',\n",
       " 'misma',\n",
       " 'nuevo',\n",
       " 'potenciales',\n",
       " 'parte',\n",
       " 'utilizados',\n",
       " 'anestesia',\n",
       " 'desiderativo',\n",
       " 'consecuencia',\n",
       " 'riesgo',\n",
       " 'secuela',\n",
       " 'otras',\n",
       " 'esfera',\n",
       " 'dificultad',\n",
       " 'complementarios',\n",
       " 'documentacion',\n",
       " 'obrante',\n",
       " 'correspondiente',\n",
       " 'terminos',\n",
       " 'derecha',\n",
       " 'miembros',\n",
       " 'todo',\n",
       " 'documental',\n",
       " 'relato',\n",
       " 'alteraciones',\n",
       " 'limitacion',\n",
       " 'aparato',\n",
       " 'documentales',\n",
       " 'examen',\n",
       " 'esfuerzo',\n",
       " 'secuelas',\n",
       " 'lucas',\n",
       " 'realizacion',\n",
       " 'conclusiones',\n",
       " 'contraste',\n",
       " 'forma',\n",
       " 'conforme',\n",
       " 'traslado',\n",
       " 'respiratorio',\n",
       " 'fuero',\n",
       " 'traumatica',\n",
       " 'rodillas',\n",
       " 'psiquica',\n",
       " 'tratamiento',\n",
       " 'prestaciones',\n",
       " 'realizar',\n",
       " 'rodilla',\n",
       " 'citados',\n",
       " 'baremos',\n",
       " 'fecha',\n",
       " 'sobre',\n",
       " 'ansioso',\n",
       " 'hombro',\n",
       " 'momento',\n",
       " 'conciencia',\n",
       " 'partes',\n",
       " 'luscher',\n",
       " 'hechos',\n",
       " 'fisico',\n",
       " 'medicolegal',\n",
       " 'informes',\n",
       " 'presentacion',\n",
       " 'acerca',\n",
       " 'litis',\n",
       " 'concausalmente',\n",
       " 'observaciones',\n",
       " 'conduccion',\n",
       " 'brazo',\n",
       " 'buenos',\n",
       " 'clasificacion',\n",
       " 'respuesta',\n",
       " 'utilizado',\n",
       " 'pericia',\n",
       " 'laborativa',\n",
       " 'bibliografia',\n",
       " 'medica',\n",
       " 'medic',\n",
       " 'disco',\n",
       " 'contrato',\n",
       " 'discurso',\n",
       " 'vengo',\n",
       " 'psicodiagnostica',\n",
       " 'trastornos',\n",
       " 'funcional',\n",
       " 'maniobra',\n",
       " 'enfermera',\n",
       " 'conclusion',\n",
       " 'acredita',\n",
       " 'correcta',\n",
       " 'administradas',\n",
       " 'accidente',\n",
       " 'adams',\n",
       " 'indica',\n",
       " 'procedimientos',\n",
       " 'enfermedad',\n",
       " 'segun',\n",
       " 'presenta',\n",
       " 'orden',\n",
       " 'resorte',\n",
       " 'ciudad',\n",
       " 'tobillos',\n",
       " 'valuacion',\n",
       " 'incapacidad',\n",
       " 'perfil',\n",
       " 'actora',\n",
       " 'informado',\n",
       " 'provincia',\n",
       " 'electronico',\n",
       " 'material',\n",
       " 'levin',\n",
       " 'expuesto',\n",
       " 'comentado',\n",
       " 'laura',\n",
       " 'concentracion',\n",
       " 'lumbalgia',\n",
       " 'perito',\n",
       " 'externo',\n",
       " 'determinacion',\n",
       " 'revisacion',\n",
       " 'leve',\n",
       " 'adjuntos',\n",
       " 'presentes',\n",
       " 'constituye',\n",
       " 'normales',\n",
       " 'laborales',\n",
       " 'utilizadas',\n",
       " 'recomendaciones',\n",
       " 'peritacion',\n",
       " 'adecuado',\n",
       " 'parcial',\n",
       " 'metodologia',\n",
       " 'incluida',\n",
       " 'sintesis',\n",
       " 'eventual',\n",
       " 'social',\n",
       " 'lumbosacra',\n",
       " 'traves',\n",
       " 'realizados',\n",
       " 'cuit',\n",
       " 'valoracion',\n",
       " 'identificacion',\n",
       " 'fractura',\n",
       " 'sintomatologia',\n",
       " 'direccion',\n",
       " 'referencia',\n",
       " 'dicha',\n",
       " 'existe',\n",
       " 'normal',\n",
       " 'veces',\n",
       " 'fobias',\n",
       " 'hipoacusia',\n",
       " 'respondiendo',\n",
       " 'informando',\n",
       " 'referencias',\n",
       " 'traumatismo',\n",
       " 'importancia',\n",
       " 'luxacion',\n",
       " 'alonso',\n",
       " 'ambas',\n",
       " 'experta',\n",
       " 'menisco',\n",
       " 'hidrartrosis',\n",
       " 'explorados',\n",
       " 'pero',\n",
       " 'bostezos',\n",
       " 'patologia',\n",
       " 'recibe',\n",
       " 'tareas',\n",
       " 'psicosemiologia',\n",
       " 'oseas',\n",
       " 'asociacion',\n",
       " 'estimacion',\n",
       " 'baremo',\n",
       " 'vida',\n",
       " 'afecta',\n",
       " 'psicologica',\n",
       " 'dictamen',\n",
       " 'continuar',\n",
       " 'conformidad',\n",
       " 'actividades',\n",
       " 'daniel',\n",
       " 'entrevista',\n",
       " 'denunciados',\n",
       " 'argentina',\n",
       " 'derecho',\n",
       " 'manifestaciones',\n",
       " 'perdida',\n",
       " 'velocidad',\n",
       " 'calculo',\n",
       " 'lumbar',\n",
       " 'solicito',\n",
       " 'psicofisica',\n",
       " 'solicitado',\n",
       " 'propuestos',\n",
       " 'pcia',\n",
       " 'podria',\n",
       " 'examinado',\n",
       " 'filiacion',\n",
       " 'padece',\n",
       " 'recibio',\n",
       " 'para',\n",
       " 'medical',\n",
       " 'resonancia',\n",
       " 'factor',\n",
       " 'javier',\n",
       " 'causa',\n",
       " 'algun',\n",
       " 'constancias',\n",
       " 'cirugia',\n",
       " 'memoria',\n",
       " 'depresion',\n",
       " 'lesion',\n",
       " 'indice',\n",
       " 'copia',\n",
       " 'degenerativa',\n",
       " 'tambien',\n",
       " 'preguntas',\n",
       " 'proceso',\n",
       " 'mentales',\n",
       " 'especiales',\n",
       " 'general',\n",
       " 'hospital',\n",
       " 'depresiva',\n",
       " 'luego',\n",
       " 'efecto',\n",
       " 'conservada',\n",
       " 'introduccion',\n",
       " 'experto',\n",
       " 'experticia',\n",
       " 'indicacion',\n",
       " 'interno',\n",
       " 'interes',\n",
       " 'medico',\n",
       " 'medicos',\n",
       " 'relevantes',\n",
       " 'evaluacion',\n",
       " 'ofrecidos',\n",
       " 'omint',\n",
       " 'efectuadas',\n",
       " 'anormal',\n",
       " 'actual',\n",
       " 'puede',\n",
       " 'psiquiatrica',\n",
       " 'informe',\n",
       " 'nuclear',\n",
       " 'neurotica',\n",
       " 'motivo',\n",
       " 'tecnica',\n",
       " 'tiempo',\n",
       " 'clinicas',\n",
       " 'familiares',\n",
       " 'resultados',\n",
       " 'recalificacion',\n",
       " 'llevados',\n",
       " 'habituales',\n",
       " 'psicologicos',\n",
       " 'cubital',\n",
       " 'sector',\n",
       " 'legales',\n",
       " 'diligencias',\n",
       " 'alberto',\n",
       " 'respuestas',\n",
       " 'proemio',\n",
       " 'letrado',\n",
       " 'nucleo',\n",
       " 'denunciadas',\n",
       " 'columna',\n",
       " 'semiologico',\n",
       " 'superar',\n",
       " 'garcia',\n",
       " 'vazquez',\n",
       " 'correcto',\n",
       " 'historia',\n",
       " 'musculos',\n",
       " 'gonzalez',\n",
       " 'plantar',\n",
       " 'reaccion',\n",
       " 'contesto',\n",
       " 'contesta',\n",
       " 'casanova',\n",
       " 'requirio',\n",
       " 'manifiesta',\n",
       " 'psicologicas',\n",
       " 'afecciones',\n",
       " 'otro',\n",
       " 'frente',\n",
       " 'ninguna',\n",
       " 'panoramica',\n",
       " 'origen',\n",
       " 'protrusiones',\n",
       " 'tampoco',\n",
       " 'puntos',\n",
       " 'anterior',\n",
       " 'expediente',\n",
       " 'plan',\n",
       " 'siguiente',\n",
       " 'operaciones',\n",
       " 'sufre',\n",
       " 'estado',\n",
       " 'realizadas',\n",
       " 'ansiosa',\n",
       " 'intervenido',\n",
       " 'lesiones',\n",
       " 'ponderacion',\n",
       " 'causalidad',\n",
       " 'raiz',\n",
       " 'contestacion',\n",
       " 'izquierdo',\n",
       " 'relacion',\n",
       " 'medicas',\n",
       " 'trabajador',\n",
       " 'supra',\n",
       " 'protesis',\n",
       " 'objeto',\n",
       " 'servicio',\n",
       " 'consultada',\n",
       " 'apoyo',\n",
       " 'vital',\n",
       " 'inconstitucionalidad',\n",
       " 'anatomo',\n",
       " 'actitud',\n",
       " 'caso',\n",
       " 'adjuntada',\n",
       " 'criterios',\n",
       " 'interrogatorio',\n",
       " 'encuentra',\n",
       " 'tora',\n",
       " 'oficio',\n",
       " 'bibliograficas',\n",
       " 'argentinas',\n",
       " 'galeno',\n",
       " 'trauma',\n",
       " 'carpal',\n",
       " 'existen',\n",
       " 'periciado',\n",
       " 'datos',\n",
       " 'denuncia',\n",
       " 'actor',\n",
       " 'base',\n",
       " 'cambio',\n",
       " 'tarea',\n",
       " 'semiologia',\n",
       " 'cerebro',\n",
       " 'control',\n",
       " 'reclamo',\n",
       " 'grado',\n",
       " 'solicita',\n",
       " 'positivos',\n",
       " 'trastorno',\n",
       " 'dichos',\n",
       " 'porcentajes',\n",
       " 'juzgado',\n",
       " 'global',\n",
       " 'digital',\n",
       " 'rvan',\n",
       " 'neurologico',\n",
       " 'considera',\n",
       " 'tres',\n",
       " 'varices',\n",
       " 'mismas',\n",
       " 'causal',\n",
       " 'elementos',\n",
       " 'habitual',\n",
       " 'requiere',\n",
       " 'prosopografia',\n",
       " 'asistencia',\n",
       " 'estudios',\n",
       " 'carga',\n",
       " 'adaptativo',\n",
       " 'antebrazo',\n",
       " 'actuales',\n",
       " 'terapia',\n",
       " 'analisis',\n",
       " 'adjuntados',\n",
       " 'cuerno',\n",
       " 'dolor',\n",
       " 'alta',\n",
       " 'enfermedades',\n",
       " 'entrevistado',\n",
       " 'metodo',\n",
       " 'claudio',\n",
       " 'decreto',\n",
       " 'pierna',\n",
       " 'hecho',\n",
       " 'obtenidos',\n",
       " 'necesitaria',\n",
       " 'clinico',\n",
       " 'solicitados',\n",
       " 'psiquicas',\n",
       " 'evocados',\n",
       " 'lateral',\n",
       " 'establecer',\n",
       " 'angustia',\n",
       " 'necesidad',\n",
       " 'febrero',\n",
       " 'persona',\n",
       " 'anexo',\n",
       " 'psiquiatrico',\n",
       " 'como',\n",
       " 'civil',\n",
       " 'aires',\n",
       " 'meniscal',\n",
       " 'hernia',\n",
       " 'petitorio',\n",
       " 'mano',\n",
       " 'swiss',\n",
       " 'pericial',\n",
       " 'tendencia',\n",
       " 'adjunta',\n",
       " 'agregados',\n",
       " 'psicologo',\n",
       " 'tecnicas',\n",
       " 'antecedentes',\n",
       " 'sintomas',\n",
       " 'problematica',\n",
       " 'legista',\n",
       " 'edad',\n",
       " 'diagnostica',\n",
       " 'futuro',\n",
       " 'psicoterapeutica',\n",
       " 'esta',\n",
       " 'posterior',\n",
       " 'manifestacion',\n",
       " 'hijos',\n",
       " 'alteracion',\n",
       " 'informara',\n",
       " 'traumatico',\n",
       " 'periciales',\n",
       " 'manual',\n",
       " 'fisica',\n",
       " 'cervical',\n",
       " 'agregada',\n",
       " 'proveer',\n",
       " 'corroboracion',\n",
       " 'largo',\n",
       " 'supuesto',\n",
       " 'examenes',\n",
       " 'alguna',\n",
       " 'clinicos',\n",
       " 'realiza',\n",
       " 'tiene',\n",
       " 'legal',\n",
       " 'mapfre',\n",
       " 'palpacion']"
      ]
     },
     "execution_count": 88,
     "metadata": {},
     "output_type": "execute_result"
    }
   ],
   "source": [
    "nuevosTitulosEncontrados"
   ]
  },
  {
   "cell_type": "code",
   "execution_count": 103,
   "metadata": {},
   "outputs": [
    {
     "data": {
      "text/html": [
       "<div>\n",
       "<style scoped>\n",
       "    .dataframe tbody tr th:only-of-type {\n",
       "        vertical-align: middle;\n",
       "    }\n",
       "\n",
       "    .dataframe tbody tr th {\n",
       "        vertical-align: top;\n",
       "    }\n",
       "\n",
       "    .dataframe thead th {\n",
       "        text-align: right;\n",
       "    }\n",
       "</style>\n",
       "<table border=\"1\" class=\"dataframe\">\n",
       "  <thead>\n",
       "    <tr style=\"text-align: right;\">\n",
       "      <th></th>\n",
       "      <th>token</th>\n",
       "      <th>log_odds</th>\n",
       "      <th>abs_log_odds</th>\n",
       "      <th>tipo_frecuente</th>\n",
       "    </tr>\n",
       "  </thead>\n",
       "  <tbody>\n",
       "    <tr>\n",
       "      <th>0</th>\n",
       "      <td>realizado</td>\n",
       "      <td>-4.486656</td>\n",
       "      <td>4.486656</td>\n",
       "      <td>candidato</td>\n",
       "    </tr>\n",
       "    <tr>\n",
       "      <th>1</th>\n",
       "      <td>remitir</td>\n",
       "      <td>-4.133637</td>\n",
       "      <td>4.133637</td>\n",
       "      <td>candidato</td>\n",
       "    </tr>\n",
       "    <tr>\n",
       "      <th>2</th>\n",
       "      <td>sido</td>\n",
       "      <td>-3.975830</td>\n",
       "      <td>3.975830</td>\n",
       "      <td>candidato</td>\n",
       "    </tr>\n",
       "    <tr>\n",
       "      <th>3</th>\n",
       "      <td>cuerpo</td>\n",
       "      <td>-3.958589</td>\n",
       "      <td>3.958589</td>\n",
       "      <td>candidato</td>\n",
       "    </tr>\n",
       "    <tr>\n",
       "      <th>4</th>\n",
       "      <td>remitirse</td>\n",
       "      <td>-3.949855</td>\n",
       "      <td>3.949855</td>\n",
       "      <td>candidato</td>\n",
       "    </tr>\n",
       "    <tr>\n",
       "      <th>5</th>\n",
       "      <td>desarrollado</td>\n",
       "      <td>-3.941044</td>\n",
       "      <td>3.941044</td>\n",
       "      <td>candidato</td>\n",
       "    </tr>\n",
       "    <tr>\n",
       "      <th>6</th>\n",
       "      <td>rotacion</td>\n",
       "      <td>-3.914137</td>\n",
       "      <td>3.914137</td>\n",
       "      <td>candidato</td>\n",
       "    </tr>\n",
       "    <tr>\n",
       "      <th>7</th>\n",
       "      <td>contestado</td>\n",
       "      <td>-3.724516</td>\n",
       "      <td>3.724516</td>\n",
       "      <td>candidato</td>\n",
       "    </tr>\n",
       "    <tr>\n",
       "      <th>8</th>\n",
       "      <td>dato</td>\n",
       "      <td>-3.702293</td>\n",
       "      <td>3.702293</td>\n",
       "      <td>candidato</td>\n",
       "    </tr>\n",
       "    <tr>\n",
       "      <th>9</th>\n",
       "      <td>juicio</td>\n",
       "      <td>-3.702293</td>\n",
       "      <td>3.702293</td>\n",
       "      <td>candidato</td>\n",
       "    </tr>\n",
       "    <tr>\n",
       "      <th>10</th>\n",
       "      <td>contestada</td>\n",
       "      <td>-3.690993</td>\n",
       "      <td>3.690993</td>\n",
       "      <td>candidato</td>\n",
       "    </tr>\n",
       "    <tr>\n",
       "      <th>11</th>\n",
       "      <td>remito</td>\n",
       "      <td>-3.620376</td>\n",
       "      <td>3.620376</td>\n",
       "      <td>candidato</td>\n",
       "    </tr>\n",
       "    <tr>\n",
       "      <th>12</th>\n",
       "      <td>idem</td>\n",
       "      <td>-3.583104</td>\n",
       "      <td>3.583104</td>\n",
       "      <td>candidato</td>\n",
       "    </tr>\n",
       "    <tr>\n",
       "      <th>13</th>\n",
       "      <td>pensamiento</td>\n",
       "      <td>-3.531145</td>\n",
       "      <td>3.531145</td>\n",
       "      <td>candidato</td>\n",
       "    </tr>\n",
       "    <tr>\n",
       "      <th>14</th>\n",
       "      <td>extension</td>\n",
       "      <td>-3.447763</td>\n",
       "      <td>3.447763</td>\n",
       "      <td>candidato</td>\n",
       "    </tr>\n",
       "    <tr>\n",
       "      <th>15</th>\n",
       "      <td>consignado</td>\n",
       "      <td>-3.418349</td>\n",
       "      <td>3.418349</td>\n",
       "      <td>candidato</td>\n",
       "    </tr>\n",
       "    <tr>\n",
       "      <th>16</th>\n",
       "      <td>ideas</td>\n",
       "      <td>-3.418349</td>\n",
       "      <td>3.418349</td>\n",
       "      <td>candidato</td>\n",
       "    </tr>\n",
       "    <tr>\n",
       "      <th>17</th>\n",
       "      <td>determine</td>\n",
       "      <td>-3.403311</td>\n",
       "      <td>3.403311</td>\n",
       "      <td>candidato</td>\n",
       "    </tr>\n",
       "    <tr>\n",
       "      <th>18</th>\n",
       "      <td>flexion</td>\n",
       "      <td>-3.388044</td>\n",
       "      <td>3.388044</td>\n",
       "      <td>candidato</td>\n",
       "    </tr>\n",
       "    <tr>\n",
       "      <th>19</th>\n",
       "      <td>sensopercepcion</td>\n",
       "      <td>-3.388044</td>\n",
       "      <td>3.388044</td>\n",
       "      <td>candidato</td>\n",
       "    </tr>\n",
       "    <tr>\n",
       "      <th>20</th>\n",
       "      <td>imaginacion</td>\n",
       "      <td>-3.340791</td>\n",
       "      <td>3.340791</td>\n",
       "      <td>candidato</td>\n",
       "    </tr>\n",
       "    <tr>\n",
       "      <th>21</th>\n",
       "      <td>item</td>\n",
       "      <td>-3.340791</td>\n",
       "      <td>3.340791</td>\n",
       "      <td>candidato</td>\n",
       "    </tr>\n",
       "    <tr>\n",
       "      <th>22</th>\n",
       "      <td>tipo</td>\n",
       "      <td>-3.340791</td>\n",
       "      <td>3.340791</td>\n",
       "      <td>candidato</td>\n",
       "    </tr>\n",
       "    <tr>\n",
       "      <th>23</th>\n",
       "      <td>dice</td>\n",
       "      <td>-3.324530</td>\n",
       "      <td>3.324530</td>\n",
       "      <td>candidato</td>\n",
       "    </tr>\n",
       "    <tr>\n",
       "      <th>24</th>\n",
       "      <td>informa</td>\n",
       "      <td>-3.324530</td>\n",
       "      <td>3.324530</td>\n",
       "      <td>candidato</td>\n",
       "    </tr>\n",
       "    <tr>\n",
       "      <th>25</th>\n",
       "      <td>inclinacion</td>\n",
       "      <td>-3.291194</td>\n",
       "      <td>3.291194</td>\n",
       "      <td>candidato</td>\n",
       "    </tr>\n",
       "    <tr>\n",
       "      <th>26</th>\n",
       "      <td>consta</td>\n",
       "      <td>-3.239008</td>\n",
       "      <td>3.239008</td>\n",
       "      <td>candidato</td>\n",
       "    </tr>\n",
       "    <tr>\n",
       "      <th>27</th>\n",
       "      <td>orientacion</td>\n",
       "      <td>-3.239008</td>\n",
       "      <td>3.239008</td>\n",
       "      <td>candidato</td>\n",
       "    </tr>\n",
       "    <tr>\n",
       "      <th>28</th>\n",
       "      <td>afectividad</td>\n",
       "      <td>-3.220990</td>\n",
       "      <td>3.220990</td>\n",
       "      <td>candidato</td>\n",
       "    </tr>\n",
       "    <tr>\n",
       "      <th>29</th>\n",
       "      <td>informe</td>\n",
       "      <td>-3.208181</td>\n",
       "      <td>3.208181</td>\n",
       "      <td>candidato</td>\n",
       "    </tr>\n",
       "    <tr>\n",
       "      <th>59</th>\n",
       "      <td>factico</td>\n",
       "      <td>3.184239</td>\n",
       "      <td>3.184239</td>\n",
       "      <td>encontrado</td>\n",
       "    </tr>\n",
       "    <tr>\n",
       "      <th>58</th>\n",
       "      <td>experta</td>\n",
       "      <td>3.184239</td>\n",
       "      <td>3.184239</td>\n",
       "      <td>encontrado</td>\n",
       "    </tr>\n",
       "    <tr>\n",
       "      <th>57</th>\n",
       "      <td>para</td>\n",
       "      <td>3.234883</td>\n",
       "      <td>3.234883</td>\n",
       "      <td>encontrado</td>\n",
       "    </tr>\n",
       "    <tr>\n",
       "      <th>56</th>\n",
       "      <td>metodos</td>\n",
       "      <td>3.271250</td>\n",
       "      <td>3.271250</td>\n",
       "      <td>encontrado</td>\n",
       "    </tr>\n",
       "    <tr>\n",
       "      <th>55</th>\n",
       "      <td>letrados</td>\n",
       "      <td>3.271250</td>\n",
       "      <td>3.271250</td>\n",
       "      <td>encontrado</td>\n",
       "    </tr>\n",
       "    <tr>\n",
       "      <th>54</th>\n",
       "      <td>preambulo</td>\n",
       "      <td>3.351293</td>\n",
       "      <td>3.351293</td>\n",
       "      <td>encontrado</td>\n",
       "    </tr>\n",
       "    <tr>\n",
       "      <th>53</th>\n",
       "      <td>considerados</td>\n",
       "      <td>3.351293</td>\n",
       "      <td>3.351293</td>\n",
       "      <td>encontrado</td>\n",
       "    </tr>\n",
       "    <tr>\n",
       "      <th>52</th>\n",
       "      <td>procedimientos</td>\n",
       "      <td>3.389033</td>\n",
       "      <td>3.389033</td>\n",
       "      <td>encontrado</td>\n",
       "    </tr>\n",
       "    <tr>\n",
       "      <th>51</th>\n",
       "      <td>perfil</td>\n",
       "      <td>3.389033</td>\n",
       "      <td>3.389033</td>\n",
       "      <td>encontrado</td>\n",
       "    </tr>\n",
       "    <tr>\n",
       "      <th>50</th>\n",
       "      <td>manifestaciones</td>\n",
       "      <td>3.389033</td>\n",
       "      <td>3.389033</td>\n",
       "      <td>encontrado</td>\n",
       "    </tr>\n",
       "    <tr>\n",
       "      <th>49</th>\n",
       "      <td>analizados</td>\n",
       "      <td>3.425401</td>\n",
       "      <td>3.425401</td>\n",
       "      <td>encontrado</td>\n",
       "    </tr>\n",
       "    <tr>\n",
       "      <th>48</th>\n",
       "      <td>contestacion</td>\n",
       "      <td>3.473340</td>\n",
       "      <td>3.473340</td>\n",
       "      <td>encontrado</td>\n",
       "    </tr>\n",
       "    <tr>\n",
       "      <th>47</th>\n",
       "      <td>proemio</td>\n",
       "      <td>3.494394</td>\n",
       "      <td>3.494394</td>\n",
       "      <td>encontrado</td>\n",
       "    </tr>\n",
       "    <tr>\n",
       "      <th>46</th>\n",
       "      <td>documentos</td>\n",
       "      <td>3.494394</td>\n",
       "      <td>3.494394</td>\n",
       "      <td>encontrado</td>\n",
       "    </tr>\n",
       "    <tr>\n",
       "      <th>45</th>\n",
       "      <td>considerar</td>\n",
       "      <td>3.494394</td>\n",
       "      <td>3.494394</td>\n",
       "      <td>encontrado</td>\n",
       "    </tr>\n",
       "    <tr>\n",
       "      <th>44</th>\n",
       "      <td>patologicos</td>\n",
       "      <td>3.558932</td>\n",
       "      <td>3.558932</td>\n",
       "      <td>encontrado</td>\n",
       "    </tr>\n",
       "    <tr>\n",
       "      <th>42</th>\n",
       "      <td>aportadas</td>\n",
       "      <td>3.558932</td>\n",
       "      <td>3.558932</td>\n",
       "      <td>encontrado</td>\n",
       "    </tr>\n",
       "    <tr>\n",
       "      <th>43</th>\n",
       "      <td>bibliiografia</td>\n",
       "      <td>3.558932</td>\n",
       "      <td>3.558932</td>\n",
       "      <td>encontrado</td>\n",
       "    </tr>\n",
       "    <tr>\n",
       "      <th>41</th>\n",
       "      <td>cardio</td>\n",
       "      <td>3.619557</td>\n",
       "      <td>3.619557</td>\n",
       "      <td>encontrado</td>\n",
       "    </tr>\n",
       "    <tr>\n",
       "      <th>40</th>\n",
       "      <td>problematica</td>\n",
       "      <td>3.638975</td>\n",
       "      <td>3.638975</td>\n",
       "      <td>encontrado</td>\n",
       "    </tr>\n",
       "    <tr>\n",
       "      <th>39</th>\n",
       "      <td>alejadra</td>\n",
       "      <td>3.782076</td>\n",
       "      <td>3.782076</td>\n",
       "      <td>encontrado</td>\n",
       "    </tr>\n",
       "    <tr>\n",
       "      <th>38</th>\n",
       "      <td>romina</td>\n",
       "      <td>3.830866</td>\n",
       "      <td>3.830866</td>\n",
       "      <td>encontrado</td>\n",
       "    </tr>\n",
       "    <tr>\n",
       "      <th>37</th>\n",
       "      <td>oficio</td>\n",
       "      <td>3.921838</td>\n",
       "      <td>3.921838</td>\n",
       "      <td>encontrado</td>\n",
       "    </tr>\n",
       "    <tr>\n",
       "      <th>36</th>\n",
       "      <td>galeano</td>\n",
       "      <td>3.921838</td>\n",
       "      <td>3.921838</td>\n",
       "      <td>encontrado</td>\n",
       "    </tr>\n",
       "    <tr>\n",
       "      <th>35</th>\n",
       "      <td>cabo</td>\n",
       "      <td>3.964397</td>\n",
       "      <td>3.964397</td>\n",
       "      <td>encontrado</td>\n",
       "    </tr>\n",
       "    <tr>\n",
       "      <th>34</th>\n",
       "      <td>llevados</td>\n",
       "      <td>3.985017</td>\n",
       "      <td>3.985017</td>\n",
       "      <td>encontrado</td>\n",
       "    </tr>\n",
       "    <tr>\n",
       "      <th>33</th>\n",
       "      <td>contestar</td>\n",
       "      <td>4.118548</td>\n",
       "      <td>4.118548</td>\n",
       "      <td>encontrado</td>\n",
       "    </tr>\n",
       "    <tr>\n",
       "      <th>32</th>\n",
       "      <td>discusion</td>\n",
       "      <td>4.449905</td>\n",
       "      <td>4.449905</td>\n",
       "      <td>encontrado</td>\n",
       "    </tr>\n",
       "    <tr>\n",
       "      <th>31</th>\n",
       "      <td>auxiliares</td>\n",
       "      <td>4.449905</td>\n",
       "      <td>4.449905</td>\n",
       "      <td>encontrado</td>\n",
       "    </tr>\n",
       "    <tr>\n",
       "      <th>30</th>\n",
       "      <td>integral</td>\n",
       "      <td>4.756636</td>\n",
       "      <td>4.756636</td>\n",
       "      <td>encontrado</td>\n",
       "    </tr>\n",
       "  </tbody>\n",
       "</table>\n",
       "</div>"
      ],
      "text/plain": [
       "              token  log_odds  abs_log_odds tipo_frecuente\n",
       "0         realizado -4.486656      4.486656      candidato\n",
       "1           remitir -4.133637      4.133637      candidato\n",
       "2              sido -3.975830      3.975830      candidato\n",
       "3            cuerpo -3.958589      3.958589      candidato\n",
       "4         remitirse -3.949855      3.949855      candidato\n",
       "5      desarrollado -3.941044      3.941044      candidato\n",
       "6          rotacion -3.914137      3.914137      candidato\n",
       "7        contestado -3.724516      3.724516      candidato\n",
       "8              dato -3.702293      3.702293      candidato\n",
       "9            juicio -3.702293      3.702293      candidato\n",
       "10       contestada -3.690993      3.690993      candidato\n",
       "11           remito -3.620376      3.620376      candidato\n",
       "12             idem -3.583104      3.583104      candidato\n",
       "13      pensamiento -3.531145      3.531145      candidato\n",
       "14        extension -3.447763      3.447763      candidato\n",
       "15       consignado -3.418349      3.418349      candidato\n",
       "16            ideas -3.418349      3.418349      candidato\n",
       "17        determine -3.403311      3.403311      candidato\n",
       "18          flexion -3.388044      3.388044      candidato\n",
       "19  sensopercepcion -3.388044      3.388044      candidato\n",
       "20      imaginacion -3.340791      3.340791      candidato\n",
       "21             item -3.340791      3.340791      candidato\n",
       "22             tipo -3.340791      3.340791      candidato\n",
       "23             dice -3.324530      3.324530      candidato\n",
       "24          informa -3.324530      3.324530      candidato\n",
       "25      inclinacion -3.291194      3.291194      candidato\n",
       "26           consta -3.239008      3.239008      candidato\n",
       "27      orientacion -3.239008      3.239008      candidato\n",
       "28      afectividad -3.220990      3.220990      candidato\n",
       "29          informe -3.208181      3.208181      candidato\n",
       "59          factico  3.184239      3.184239     encontrado\n",
       "58          experta  3.184239      3.184239     encontrado\n",
       "57             para  3.234883      3.234883     encontrado\n",
       "56          metodos  3.271250      3.271250     encontrado\n",
       "55         letrados  3.271250      3.271250     encontrado\n",
       "54        preambulo  3.351293      3.351293     encontrado\n",
       "53     considerados  3.351293      3.351293     encontrado\n",
       "52   procedimientos  3.389033      3.389033     encontrado\n",
       "51           perfil  3.389033      3.389033     encontrado\n",
       "50  manifestaciones  3.389033      3.389033     encontrado\n",
       "49       analizados  3.425401      3.425401     encontrado\n",
       "48     contestacion  3.473340      3.473340     encontrado\n",
       "47          proemio  3.494394      3.494394     encontrado\n",
       "46       documentos  3.494394      3.494394     encontrado\n",
       "45       considerar  3.494394      3.494394     encontrado\n",
       "44      patologicos  3.558932      3.558932     encontrado\n",
       "42        aportadas  3.558932      3.558932     encontrado\n",
       "43    bibliiografia  3.558932      3.558932     encontrado\n",
       "41           cardio  3.619557      3.619557     encontrado\n",
       "40     problematica  3.638975      3.638975     encontrado\n",
       "39         alejadra  3.782076      3.782076     encontrado\n",
       "38           romina  3.830866      3.830866     encontrado\n",
       "37           oficio  3.921838      3.921838     encontrado\n",
       "36          galeano  3.921838      3.921838     encontrado\n",
       "35             cabo  3.964397      3.964397     encontrado\n",
       "34         llevados  3.985017      3.985017     encontrado\n",
       "33        contestar  4.118548      4.118548     encontrado\n",
       "32        discusion  4.449905      4.449905     encontrado\n",
       "31       auxiliares  4.449905      4.449905     encontrado\n",
       "30         integral  4.756636      4.756636     encontrado"
      ]
     },
     "execution_count": 103,
     "metadata": {},
     "output_type": "execute_result"
    }
   ],
   "source": [
    "top_30"
   ]
  },
  {
   "cell_type": "code",
   "execution_count": 114,
   "metadata": {},
   "outputs": [
    {
     "data": {
      "image/png": "[encoded data removed]",
      "text/plain": [
       "<Figure size 432x288 with 2 Axes>"
      ]
     },
     "metadata": {
      "needs_background": "light"
     },
     "output_type": "display_data"
    }
   ],
   "source": [
    "import seaborn as sns\n",
    "tituPivot = top_30.pivot(\"token\",\"log_odds\", \"abs_log_odds\")\n",
    "ax = sns.heatmap(tituPivot)"
   ]
  },
  {
   "cell_type": "code",
   "execution_count": null,
   "metadata": {},
   "outputs": [],
   "source": []
  }
 ],
 "metadata": {
  "kernelspec": {
   "display_name": "Python 3.9.5 ('proyecto-env')",
   "language": "python",
   "name": "python3"
  },
  "language_info": {
   "codemirror_mode": {
    "name": "ipython",
    "version": 3
   },
   "file_extension": ".py",
   "mimetype": "text/x-python",
   "name": "python",
   "nbconvert_exporter": "python",
   "pygments_lexer": "ipython3",
   "version": "3.9.5"
  },
  "orig_nbformat": 4,
  "vscode": {
   "interpreter": {
    "hash": "009f8d941f1a5e5fa5c53bd1fe1f1a27e75894b84557fa679569ec42254b5e02"
   }
  }
 },
 "nbformat": 4,
 "nbformat_minor": 2
}
