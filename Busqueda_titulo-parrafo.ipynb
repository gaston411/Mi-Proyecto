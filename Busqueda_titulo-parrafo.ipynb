{
 "cells": [
  {
   "cell_type": "markdown",
   "metadata": {},
   "source": [
    "# Limpieza de texto\n",
    "### Creación de los dataframe y limpieza de texto"
   ]
  },
  {
   "cell_type": "code",
   "execution_count": 1,
   "metadata": {},
   "outputs": [],
   "source": [
    "import pandas as pd\n",
    "import numpy as np\n",
    "from pprint import pprint\n",
    "\n",
    "df = pd.read_csv('pericias_medicas.csv', sep=',',  encoding='utf-8')\n",
    "#convierte en string los datos de la columna text\n",
    "df1 = df['text'].apply(str)"
   ]
  },
  {
   "cell_type": "code",
   "execution_count": 2,
   "metadata": {},
   "outputs": [],
   "source": [
    "import re\n",
    "def general(txt: str, bert=False, nums=True) -> str:\n",
    "    \"\"\"\n",
    "    Elimina caracteres no deseados\n",
    "    Params:\n",
    "        **txt**:texto a ser limpiado de caracteres no desaeados\n",
    "    \"\"\"\n",
    "    if nums:\n",
    "        txt = re.sub(r'\\d+', ' ', txt)\n",
    "    if not bert:\n",
    "        txt = txt.translate(str.maketrans(\n",
    "            'áéíóúýàèìòùÁÉÍÓÚÀÈÌÒÙÝ', 'aeiouyaeiouAEIOUAEIOUY'))\n",
    "        txt = re.sub(r'[^\\w\\s]', '', txt)\n",
    "\n",
    "    txt = txt.replace('\\r', ' ').replace(\"\\v\", ' ').replace(\n",
    "        \"\\t\", ' ').replace(\"\\f\", ' ').replace(\"\\a\", ' ').replace(\"\\b\", ' ')\n",
    "    txt = re.sub(' +', ' ', txt)\n",
    "    txt = txt.strip()\n",
    "    return txt"
   ]
  },
  {
   "cell_type": "markdown",
   "metadata": {},
   "source": [
    "# Eliminación de expedientes que no son pericias médicas."
   ]
  },
  {
   "cell_type": "code",
   "execution_count": 3,
   "metadata": {},
   "outputs": [],
   "source": [
    "# Elimino expedientes que no son pericuas medicas\n",
    "noPericiasMedicas=[]\n",
    "for i,expediente in enumerate(df1):\n",
    "    exp = general(expediente)\n",
    "    if len(exp.split()) < 300:\n",
    "        totalPalabras = len(exp.split())\n",
    "        noPericiasMedicas.append((i, expediente, totalPalabras))\n",
    "        df1 = df1.drop(i)\n",
    "\n",
    "dfNoPericiasMedicas = pd.DataFrame(noPericiasMedicas,columns=['id','expediente', 'total de palabras'])"
   ]
  },
  {
   "cell_type": "code",
   "execution_count": 119,
   "metadata": {},
   "outputs": [
    {
     "name": "stdout",
     "output_type": "stream",
     "text": [
      "615\n",
      "3191\n"
     ]
    }
   ],
   "source": [
    "print(len(dfNoPericiasMedicas))\n",
    "print(len(df1))"
   ]
  },
  {
   "cell_type": "code",
   "execution_count": 5,
   "metadata": {},
   "outputs": [],
   "source": [
    "df1.reset_index(drop=True, inplace=True)"
   ]
  },
  {
   "cell_type": "code",
   "execution_count": 6,
   "metadata": {},
   "outputs": [
    {
     "name": "stdout",
     "output_type": "stream",
     "text": [
      "CNT74807/2016\n",
      "perito medico presenta informe pericial [presentado 12 01 2019 18 33]\n"
     ]
    }
   ],
   "source": [
    "print(df.expediente[200])\n",
    "print(df.descripcion[200])"
   ]
  },
  {
   "cell_type": "code",
   "execution_count": 7,
   "metadata": {},
   "outputs": [
    {
     "name": "stdout",
     "output_type": "stream",
     "text": [
      "CNT49991/2016\n",
      "perito psicologa presenta respuesta [presentado 03 09 2018 23 47]\n"
     ]
    }
   ],
   "source": [
    "print(df.expediente[3436])\n",
    "print(df.descripcion[3436])"
   ]
  },
  {
   "cell_type": "code",
   "execution_count": 8,
   "metadata": {},
   "outputs": [
    {
     "name": "stdout",
     "output_type": "stream",
     "text": [
      "CNT11480/2016\n",
      "perito informa  parte 1 de 2  [presentado 18 03 2019 16 42]\n"
     ]
    }
   ],
   "source": [
    "print(df.expediente[2000])\n",
    "print(df.descripcion[2000])"
   ]
  },
  {
   "cell_type": "code",
   "execution_count": 9,
   "metadata": {},
   "outputs": [],
   "source": [
    "# Limpieza de texto\n",
    "# Primera etapa de la limpieza de texto\n",
    "import re, string, unicodedata\n",
    "'''\n",
    "Se hace la eliminacion de texto entre corchetes, acentos, signos de puntuacion (excepto . y :), palabras con numeros.\n",
    "Se eliminan los espacios de sobra\n",
    "Se eliminan \\r, \\t, \\v, \\f, \\a\n",
    "'''\n",
    "def limpiarTexto1(txt: str, bert=False, nums=False) -> str:\n",
    "    \"\"\"\n",
    "    Elimina caracteres no deseados\n",
    "    Params:\n",
    "        **txt**:texto a ser limpiado de caracteres no desaeados\n",
    "    \"\"\"\n",
    "    if nums:\n",
    "        txt = re.sub(r'\\d+', ' ', txt)\n",
    "    if not bert:\n",
    "        txt = txt.translate(str.maketrans(\n",
    "            'áéíóúýàèìòùÁÉÍÓÚÀÈÌÒÙÝ', 'aeiouyaeiouAEIOUAEIOUY'))\n",
    "\n",
    "    '''\n",
    "    Eliminamos caracteres especiales: tabulador horizontal(\\t), tabulador vertical(\\v), \n",
    "    retorno de carro(\\r), avance de pagina(\\f), \n",
    "    caracter de retroceso: Marca el límite de una palabra(\\b), \n",
    "    '''\n",
    "    txt = txt.replace('\\r', ' ').replace(\"\\v\", ' ').replace(\n",
    "        \"\\t\", ' ').replace(\"\\f\", ' ').replace(\"\\a\", ' ').replace(\"\\b\", ' ')\n",
    "    txt = re.sub(' +', ' ', txt)\n",
    "    txt = txt.strip()\n",
    "    return txt\n",
    "df1 = df1.apply(str)\n",
    "df1 = df1.apply(limpiarTexto1)"
   ]
  },
  {
   "cell_type": "code",
   "execution_count": 10,
   "metadata": {},
   "outputs": [],
   "source": [
    "# Segunda fase de limpieza\n",
    "# Se eliminan todos los elementos que meten ruido al texto y que no fueron eliminados en la fase de limpieza 1.\n",
    "import re\n",
    "\n",
    "def limpiarTexto2(text):\n",
    "    text = re.sub('^ ',' ',text)\n",
    "    text = re.sub('\\n +\\n','\\n',text)\n",
    "    text = re.sub(' +\\n\\n','\\n',text)\n",
    "    text = re.sub('\\n\\n+','\\n',text)\n",
    "    text = re.sub(' \\n','\\n',text)\n",
    "    text = re.sub('\\d\\n','',text)\n",
    "    text = re.sub('\\x0c','',text)\n",
    "    text = re.sub('\\u200b\\n','',text)\n",
    "    text = re.sub('\\d{3,100}','',text)\n",
    "    text = re.sub('\\d+-\\d+','',text)\n",
    "    text = re.sub('\\x0c','',text)\n",
    "    text = re.sub('[nN]º|[nN][. ]º','',text)\n",
    "    text = re.sub('[º<>/]','',text)\n",
    "    text = re.sub('\\d{3,100}','',text)\n",
    "    text = re.sub('[a-zA-z-.]+@[a-zA-Z]+.com','',text)\n",
    "    return text\n",
    "\n",
    "df1 = df1.apply(limpiarTexto2)"
   ]
  },
  {
   "cell_type": "code",
   "execution_count": 11,
   "metadata": {},
   "outputs": [],
   "source": [
    "# Tercera fase de limpieza\n",
    "# Eliminamos las lineas que no son de utilidad para el analisis o que van a afectar los resultados del mismo.\n",
    "# Ejemplo de linea eliminada: las lineas que comienzan con \"Se encuentra contestada en.....\"\n",
    "import re\n",
    "\n",
    "def limpiarTexto3(text):\n",
    "    text = re.sub('[a-z1-9.]+[).-] [s|S]e encuentra contestad[a|o] .+[. \\n]','',text)\n",
    "    text = re.sub('[0-9]+[. ]+[yY]a fue contestado.+[.\\n]','',text)\n",
    "    text = re.sub('[fF]oja [1-9].+\\n', '', text)\n",
    "    text = re.sub('[pP]regunta[ 0-9]+[)].+\\n|[rR]espuesta[ 0-9]+[)].+\\n','',text)#elimina oraciones comenzadas en preguta/respuesta.\n",
    "    text = re.sub('V[. ]+[S\\n\\.]+', '', text)\n",
    "    #text = re.sub('[IV]+.[A-Z]{1,3}[\\n.]', '', text)\n",
    "    text = re.sub('[I][.][P][.]','',text)\n",
    "    text = re.sub('[I][.][T][.]','',text)\n",
    "    text = re.sub('[I][.][A][.]','',text)\n",
    "    text = re.sub('[I][.][L][.]','',text)\n",
    "    text = re.sub('[I][.][B][.]','',text)\n",
    "    text = re.sub('[I][.][N][.]','',text)\n",
    "    text = re.sub('[I][.][V][.]','',text)\n",
    "    text = re.sub('[V][.][M][.]','',text)\n",
    "    text = re.sub('[V][.][A][.]','',text)\n",
    "\n",
    "    return text\n",
    "\n",
    "dfLimpio = df1.apply(limpiarTexto3)\n",
    "dfLimpio = dfLimpio.apply(limpiarTexto2)\n",
    "#pprint(dfLimpio[0])"
   ]
  },
  {
   "cell_type": "code",
   "execution_count": 12,
   "metadata": {},
   "outputs": [],
   "source": [
    "# limpiar titulos\n",
    "def limpiar_palabras(text):\n",
    "    text = re.sub(r'(I{1,3}|IV|V|VI{1,4}|IX|X)[). -]|[^\\w\\s]',' ',text)\n",
    "    #text = re.sub(r'(i{1,3}|iv|v|vi{1,4}|ix|x)[). -]|[^\\w\\s]','',text)\n",
    "    text=text.lower()\n",
    "    text = [\n",
    "        i for i in text.split() if len(i) > 3\n",
    "    ]\n",
    "    return ' '.join(text)"
   ]
  },
  {
   "cell_type": "markdown",
   "metadata": {},
   "source": [
    "#### Eliminar stopwords"
   ]
  },
  {
   "cell_type": "code",
   "execution_count": 13,
   "metadata": {},
   "outputs": [],
   "source": [
    "import nltk\n",
    "import re\n",
    "\n",
    "stops = nltk.corpus.stopwords.words('spanish')\n",
    "\n",
    "def remove_stops(texto: str) -> str:\n",
    "    \"\"\"\n",
    "    Función que elimina stopwords\n",
    "    Params:\n",
    "        **texto**:texto a ser limpiado de stopwords\n",
    "\n",
    "    \"\"\"\n",
    "    #texto = limpiar_palabras(texto)\n",
    "    texto = [\n",
    "        i for i in texto.split() if i not in stops\n",
    "    ]\n",
    "    return ' '.join(texto)"
   ]
  },
  {
   "cell_type": "markdown",
   "metadata": {},
   "source": [
    "# Busqueda de titulos"
   ]
  },
  {
   "cell_type": "markdown",
   "metadata": {},
   "source": [
    "## Títulos con números romanos y en mayúsculas"
   ]
  },
  {
   "cell_type": "code",
   "execution_count": 14,
   "metadata": {},
   "outputs": [],
   "source": [
    "# Busca títulos en mayusculas\n",
    "def buscarTitulosMayusculas(text):\n",
    "    # Expresiín regular para encontrar títulos en mayusculas.\n",
    "    tituloMayusculas =re.compile(r'(I{1,3}|IV|V|VI{1,3}|IX|X)[-.) ]+[A-Z -]+[:\\.\\n]') #[1-9]|\n",
    "    titulosMayusculasEncontrados = []\n",
    "\n",
    "    for m in tituloMayusculas.finditer(text):\n",
    "        if len(m.group()) > 8:\n",
    "            titulosMayusculasEncontrados.append(m.group())\n",
    "\n",
    "    return titulosMayusculasEncontrados\n",
    "# titulosMAyuscula: lista que guarda los títulos en mayusculas\n",
    "titulosMayusculas=[]\n",
    "for expediente in dfLimpio:\n",
    "    titulosMayusculas.append(buscarTitulosMayusculas(expediente))\n",
    "\n",
    "dfTitulosMayusculasConStops = pd.DataFrame(titulosMayusculas)\n"
   ]
  },
  {
   "cell_type": "code",
   "execution_count": 117,
   "metadata": {},
   "outputs": [
    {
     "data": {
      "text/plain": [
       "3191"
      ]
     },
     "execution_count": 117,
     "metadata": {},
     "output_type": "execute_result"
    }
   ],
   "source": [
    "len(titulosMayusculas)"
   ]
  },
  {
   "cell_type": "markdown",
   "metadata": {},
   "source": [
    "# Creacion de dataframe de solo titulos en mayusculas"
   ]
  },
  {
   "cell_type": "code",
   "execution_count": 15,
   "metadata": {},
   "outputs": [],
   "source": [
    "# Creamos un dataframe para guardar expedientes que solamente tienen titulos en mayusculas\n",
    "# Guardo en dfTitulosMayusculas los expedientes y su indice dentro del dataframe limpio (con todos los expedientes)\n",
    "expConTitulosMayusculas = []\n",
    "expSinTitulosEncontrados = []\n",
    "for id,titulo in  enumerate(dfLimpio):\n",
    "    if len(titulosMayusculas[id]) > 0:\n",
    "        expConTitulosMayusculas.append((id,titulo))\n",
    "    else:\n",
    "        expSinTitulosEncontrados.append((id,titulo))\n",
    "\n",
    "\n",
    "dfTitulosMayusculas = pd.DataFrame(expConTitulosMayusculas, columns=['ide','expediente'])\n",
    "dfSinTitulosEncontrados = pd.DataFrame(expSinTitulosEncontrados, columns=['ide','expediente'])\n",
    "#pprint(dfTitulosMayusculas)"
   ]
  },
  {
   "cell_type": "code",
   "execution_count": 118,
   "metadata": {},
   "outputs": [
    {
     "data": {
      "text/plain": [
       "1184"
      ]
     },
     "execution_count": 118,
     "metadata": {},
     "output_type": "execute_result"
    }
   ],
   "source": [
    "len(dfTitulosMayusculas)"
   ]
  },
  {
   "cell_type": "code",
   "execution_count": 120,
   "metadata": {},
   "outputs": [],
   "source": [
    "# Limpieza de texto de los expedientes sin títulos en números romanos y mayúsculas\n",
    "import re, string, unicodedata\n",
    "\n",
    "def limpiarDfSinTitulos(txt: str, bert=False, nums=False) -> str:\n",
    "\n",
    "\n",
    "    if not bert:\n",
    "        txt = txt.translate(str.maketrans(\n",
    "            'áéíóúýàèìòùÁÉÍÓÚÀÈÌÒÙÝ', 'aeiouyaeiouAEIOUAEIOUY'))\n",
    "\n",
    "    txt = txt.replace('\\r', ' ').replace(\"\\v\", ' ').replace(\n",
    "        \"\\t\", ' ').replace(\"\\f\", ' ').replace(\"\\a\", ' ').replace(\"\\b\", ' ')\n",
    "    txt = re.sub(' +', ' ', txt)\n",
    "    txt = re.sub('\\n+', '\\n', txt)\n",
    "    txt = re.sub(r'[^\\w\\.\\s\\d)-]', '', txt)\n",
    "    txt = re.sub(r'[A-Z][\\.][A-Z][\\.]', '', txt)\n",
    "    txt = txt.strip()\n",
    "    return txt"
   ]
  },
  {
   "cell_type": "code",
   "execution_count": 121,
   "metadata": {},
   "outputs": [],
   "source": [
    "dfSinTitulosEncontrados['expediente'] = dfSinTitulosEncontrados['expediente'].apply(remove_stops)\n",
    "dfSinTitulosEncontrados['expediente'] = dfSinTitulosEncontrados['expediente'].apply(limpiarDfSinTitulos)\n",
    "# dfSinTitulosEncontrados['expediente'] = dfSinTitulosEncontrados['expediente'].apply(limpiarTexto2)\n",
    "# dfSinTitulosEncontrados['expediente'] = dfSinTitulosEncontrados['expediente'].apply(limpiarTexto3)\n"
   ]
  },
  {
   "cell_type": "code",
   "execution_count": 19,
   "metadata": {},
   "outputs": [],
   "source": [
    "dfTitulosMayusculas.to_csv('df_ExpTitulosMayusculas.csv',index=False)\n",
    "dfSinTitulosEncontrados.to_csv('df_ExpSinTitulosEncontrados.csv',index=False)"
   ]
  },
  {
   "cell_type": "markdown",
   "metadata": {},
   "source": [
    "# NUEVAS BUSQUEDAS\n",
    "### Títulos con números latinos y romanos en mayúsculas. Escritos en mayusculas y minusculas."
   ]
  },
  {
   "cell_type": "code",
   "execution_count": 122,
   "metadata": {},
   "outputs": [],
   "source": [
    "# Busca títulos en mayusculas o minusculas comenzados con numeros latinos o romanos\n",
    "def buscarTitulosLatinosMayusculas(text):\n",
    "    # Expresiín regular para encontrar títulos en mayusculas.\n",
    "    tituloMayusculas =re.compile(r'((I{1,3}|IV|V|VI{1,3}|IX|X)|[0-9]+)[.)-]+[A-Za-z -]+[:\\.\\n]') #[1-9]|\n",
    "    titulosMayusculasEncontrados = []\n",
    "    #i=1\n",
    "    for m in tituloMayusculas.finditer(text):\n",
    "        if len(m.group()) > 8 and len(m.group().split()) <= 5:# and re.findall(str(i),m.group()):\n",
    "            titulosMayusculasEncontrados.append(m.group())\n",
    "\n",
    "\n",
    "    return titulosMayusculasEncontrados\n",
    "# titulosLatinosMayusculas: lista que guarda los títulos encontrados\n",
    "titulosLatinosMayusculas=[]\n",
    "for expediente in dfSinTitulosEncontrados['expediente']:\n",
    "    #if len(buscarTitulosLatinosMayusculas(expediente)) > 3:\n",
    "    titulosLatinosMayusculas.append(buscarTitulosLatinosMayusculas(expediente))"
   ]
  },
  {
   "cell_type": "markdown",
   "metadata": {},
   "source": [
    "# Dataframe de títulos candidatos"
   ]
  },
  {
   "cell_type": "code",
   "execution_count": 21,
   "metadata": {},
   "outputs": [],
   "source": [
    "# Encontrar la ubicacion del titulo en el documento\n",
    "titulosCandidatos=[]\n",
    "tipo='candidato'\n",
    "expSinTitulosEncontrados = dfSinTitulosEncontrados['expediente'].apply(str)\n",
    "for i in range(len(expSinTitulosEncontrados)):\n",
    "    for titulo in titulosLatinosMayusculas[i]:\n",
    "        inicioTitulo = expSinTitulosEncontrados[i].index(titulo)\n",
    "        caracteres = len(titulo)\n",
    "        titulo = re.sub('[-]',' ',titulo)\n",
    "        titulo = limpiar_palabras(titulo)\n",
    "        palabrasPorTitulo = len(titulo.split())\n",
    "        finalTitulo = inicioTitulo + caracteres\n",
    "        titulosCandidatos.append((i,tipo,titulo, inicioTitulo, finalTitulo, palabrasPorTitulo))\n",
    "\n",
    "dfUbicacionTitulosCandidatos = pd.DataFrame(titulosCandidatos,columns=['ide','tipo','titulo','inicio','fin','longitud'])"
   ]
  },
  {
   "cell_type": "code",
   "execution_count": 125,
   "metadata": {},
   "outputs": [
    {
     "data": {
      "text/plain": [
       "10370"
      ]
     },
     "execution_count": 125,
     "metadata": {},
     "output_type": "execute_result"
    }
   ],
   "source": [
    "len(dfUbicacionTitulosCandidatos)"
   ]
  },
  {
   "cell_type": "code",
   "execution_count": 22,
   "metadata": {},
   "outputs": [],
   "source": [
    "dfUbicacionTitulosCandidatos.to_csv('df_ubicacionTitulosCandidatos.csv',index=False)"
   ]
  },
  {
   "cell_type": "code",
   "execution_count": 23,
   "metadata": {},
   "outputs": [],
   "source": [
    "# Creamos un dataframe para guardar expedientes que no tienen ningun titulo candidato\n",
    "\n",
    "# Guardo en dfSinTitulos los expedientes y su indice que no tienen titulos candidatos en el dataframe dfSinTitulosEncontrados\n",
    "expConTitulosCandidatos = []\n",
    "expSinTitulos=[]\n",
    "for id,titulo in  enumerate(dfSinTitulosEncontrados['expediente']):\n",
    "    if len(titulosLatinosMayusculas[id]) > 0:\n",
    "        expConTitulosCandidatos.append((id,titulo))\n",
    "    else:\n",
    "        expSinTitulos.append((id,titulo))\n",
    "\n",
    "dfExpTitulosCandidatos = pd.DataFrame(expConTitulosCandidatos, columns=['ide','expediente'])\n",
    "dfExpSinTitulosEncontrados = pd.DataFrame(expSinTitulos, columns=['ide','expediente'])"
   ]
  },
  {
   "cell_type": "code",
   "execution_count": 24,
   "metadata": {},
   "outputs": [
    {
     "data": {
      "text/plain": [
       "324"
      ]
     },
     "execution_count": 24,
     "metadata": {},
     "output_type": "execute_result"
    }
   ],
   "source": [
    "len(dfExpSinTitulosEncontrados)"
   ]
  },
  {
   "cell_type": "code",
   "execution_count": 25,
   "metadata": {},
   "outputs": [
    {
     "data": {
      "text/plain": [
       "'2) Examen Fisico.'"
      ]
     },
     "execution_count": 25,
     "metadata": {},
     "output_type": "execute_result"
    }
   ],
   "source": [
    "dfExpTitulosCandidatos.expediente[0][2742:2759]"
   ]
  },
  {
   "cell_type": "code",
   "execution_count": 26,
   "metadata": {},
   "outputs": [
    {
     "data": {
      "text/plain": [
       "'4) Remito conclusiones medicolegales.'"
      ]
     },
     "execution_count": 26,
     "metadata": {},
     "output_type": "execute_result"
    }
   ],
   "source": [
    "dfSinTitulosEncontrados.expediente[2006][12949:12986]"
   ]
  },
  {
   "cell_type": "code",
   "execution_count": 27,
   "metadata": {},
   "outputs": [
    {
     "data": {
      "text/plain": [
       "'4) Remito conclusiones medicolegales.'"
      ]
     },
     "execution_count": 27,
     "metadata": {},
     "output_type": "execute_result"
    }
   ],
   "source": [
    "dfExpTitulosCandidatos.expediente[1682][12949:12986]"
   ]
  },
  {
   "cell_type": "code",
   "execution_count": 28,
   "metadata": {},
   "outputs": [],
   "source": [
    "dfExpTitulosCandidatos.to_csv('df_ExpTitulosCandidatos.csv',index=False)\n",
    "dfExpSinTitulosEncontrados.to_csv('df_ExpSinTitulosEncontrados.csv',index=False)"
   ]
  },
  {
   "cell_type": "code",
   "execution_count": 29,
   "metadata": {},
   "outputs": [
    {
     "name": "stdout",
     "output_type": "stream",
     "text": [
      "452\n"
     ]
    }
   ],
   "source": [
    "pprint(len(dfExpSinTitulosEncontrados.expediente[0].split()))\n",
    "#pprint(df.text[14])"
   ]
  },
  {
   "cell_type": "markdown",
   "metadata": {},
   "source": [
    "# Expedientes con títulos candidatos y expedientes sin títulos localizados."
   ]
  },
  {
   "cell_type": "code",
   "execution_count": 30,
   "metadata": {},
   "outputs": [
    {
     "name": "stdout",
     "output_type": "stream",
     "text": [
      "\n",
      "Cantidad de expediente que tienen titulos candidatos:        1683\n",
      "Cantidad de expedientes que no tienen titulos localizados:    324  \n",
      "Total de expedientes: 2007 \n"
     ]
    }
   ],
   "source": [
    "print(f'''\n",
    "Cantidad de expediente que tienen titulos candidatos:        {len(dfExpTitulosCandidatos)}\n",
    "Cantidad de expedientes que no tienen titulos localizados:    {len(dfExpSinTitulosEncontrados)}  \n",
    "Total de expedientes: {len(dfSinTitulosEncontrados)} ''')"
   ]
  },
  {
   "cell_type": "code",
   "execution_count": 31,
   "metadata": {},
   "outputs": [
    {
     "data": {
      "image/png": "[encoded data removed]",
      "text/plain": [
       "<Figure size 432x288 with 1 Axes>"
      ]
     },
     "metadata": {},
     "output_type": "display_data"
    }
   ],
   "source": [
    "# Creo un grafico de torta\n",
    "import matplotlib.pyplot as plt\n",
    "\n",
    "totalExp = len(dfSinTitulosEncontrados)\n",
    "totalExpSinEncontrar = len(dfExpSinTitulosEncontrados)\n",
    "\n",
    "# Creación de grafico de torta de la cantidad de expedientes con títulos en mayúsculas sobre el total de expedientes.\n",
    "cantExp = [totalExp, totalExpSinEncontrar]\n",
    "nombreTitulos = ['Total de Expedientes con Títulos Candidatos', 'Total de Expedientes sin Títulos Encontrados']\n",
    "colores = ['#6DEA53','#FA3333']\n",
    "desfase=(0,0.1)\n",
    "\n",
    "plt.pie(cantExp, labels=nombreTitulos, autopct= '%0.1f %%', colors=colores, explode=desfase) #, explode=desfase\n",
    "plt.show()"
   ]
  },
  {
   "cell_type": "markdown",
   "metadata": {},
   "source": [
    "### Títulos con números romanos en minusculas. Escritos en mayusculas y minusculas."
   ]
  },
  {
   "cell_type": "code",
   "execution_count": 32,
   "metadata": {},
   "outputs": [],
   "source": [
    "# Busca títulos en mayusculas o minusculas que comienzan con numeros romanos en minuscula.\n",
    "def buscarTitulosRomanosMinusculas(text):\n",
    "    # Expresiín regular para encontrar títulos en mayusculas.\n",
    "    tituloMayusculas =re.compile(r'(i{1,3}|iv|v|vi{1,3}|ix|x)[.)-]+[A-Za-z -]+[:\\.\\n]') #[1-9]|\n",
    "    titulosMayusculasEncontrados = []\n",
    "    #i=1\n",
    "    for m in tituloMayusculas.finditer(text):\n",
    "        if len(m.group()) > 8 and len(m.group().split()) <= 5:# and re.findall(str(i),m.group()):\n",
    "            titulosMayusculasEncontrados.append(m.group())\n",
    "            #i=i+1\n",
    "\n",
    "    return titulosMayusculasEncontrados\n",
    "# titulosMAyuscula: lista que guarda los títulos en mayusculas\n",
    "titulosRomanosMinusculas=[]\n",
    "for expediente in dfSinTitulosEncontrados['expediente']:\n",
    "    if len(buscarTitulosRomanosMinusculas(expediente)) > 3:\n",
    "        titulosRomanosMinusculas.append(buscarTitulosRomanosMinusculas(expediente))"
   ]
  },
  {
   "cell_type": "code",
   "execution_count": 33,
   "metadata": {},
   "outputs": [],
   "source": [
    "dfTitulosMayusculas.to_excel('titulos_mayusculas.xlsx', index=False)"
   ]
  },
  {
   "cell_type": "markdown",
   "metadata": {},
   "source": [
    "# Expedientes con titulos en mayusculas sobre el total de expedientes"
   ]
  },
  {
   "cell_type": "code",
   "execution_count": 127,
   "metadata": {},
   "outputs": [
    {
     "name": "stdout",
     "output_type": "stream",
     "text": [
      "\n",
      "Cantidad de expediente que no son pericias médicas:        615\n",
      "Cantidad de expediente que tienen titulos en mayusculas:        1184\n",
      "Cantidad de expedientes que no tienen titulos en mayusculas:    2007  \n",
      "Total de expedientes: 3806 \n"
     ]
    }
   ],
   "source": [
    "print(f'''\n",
    "Cantidad de expediente que no son pericias médicas:        {len(dfNoPericiasMedicas)}\n",
    "Cantidad de expediente que tienen titulos en mayusculas:        {len(dfTitulosMayusculas)}\n",
    "Cantidad de expedientes que no tienen titulos en mayusculas:    {len(dfLimpio) - len(dfTitulosMayusculas)}  \n",
    "Total de expedientes: {len(df)} ''')"
   ]
  },
  {
   "cell_type": "code",
   "execution_count": 128,
   "metadata": {},
   "outputs": [
    {
     "data": {
      "image/png": "[encoded data removed]",
      "text/plain": [
       "<Figure size 432x288 with 1 Axes>"
      ]
     },
     "metadata": {},
     "output_type": "display_data"
    }
   ],
   "source": [
    "# Creo un grafico de torta\n",
    "import matplotlib.pyplot as plt\n",
    "\n",
    "totalExp = len(dfLimpio)\n",
    "totalExpMayusculas = len(dfTitulosMayusculas)\n",
    "\n",
    "# Creación de grafico de torta de la cantidad de expedientes con títulos en mayúsculas sobre el total de expedientes.\n",
    "cantExp = [totalExp, totalExpMayusculas]\n",
    "nombreTitulos = ['Total de Expedientes', 'Total de Expedientes con Títulos en Mayúsculas']\n",
    "colores = ['#2C4AF1','#2CF168']\n",
    "desfase=(0,0.1)\n",
    "\n",
    "plt.pie(cantExp, labels=nombreTitulos, autopct= '%0.1f %%', colors=colores, explode=desfase) #, explode=desfase\n",
    "plt.show()"
   ]
  },
  {
   "cell_type": "code",
   "execution_count": 129,
   "metadata": {},
   "outputs": [
    {
     "data": {
      "image/png": "[encoded data removed]",
      "text/plain": [
       "<Figure size 432x288 with 1 Axes>"
      ]
     },
     "metadata": {},
     "output_type": "display_data"
    }
   ],
   "source": [
    "# Creo un grafico de torta expedientes por tipo de busqueda.\n",
    "import matplotlib.pyplot as plt\n",
    "\n",
    "totalCandidatos = len(dfExpTitulosCandidatos)\n",
    "totalExpMayusculas = len(dfTitulosMayusculas)\n",
    "totalSinTitulos = len(dfExpSinTitulosEncontrados)\n",
    "\n",
    "# Creación de grafico de torta de la cantidad de expedientes con títulos en mayúsculas sobre el total de expedientes.\n",
    "cantExp = [totalCandidatos, totalExpMayusculas, totalSinTitulos]\n",
    "nombreTitulos = ['Expedientes candidatos', 'Expedientes con Títulos en Mayúsculas', 'Expedientes sin Titulos']\n",
    "colores = ['#2C4AF1','#2CF168', 'r']\n",
    "desfase=(0,0,0.1)\n",
    "\n",
    "plt.pie(cantExp, labels=nombreTitulos, autopct= '%0.1f %%', colors=colores, explode=desfase) #, explode=desfase\n",
    "plt.show()"
   ]
  },
  {
   "cell_type": "markdown",
   "metadata": {},
   "source": [
    "# TÍTULOS ENCONTRADOS Y UBICACIÓN"
   ]
  },
  {
   "cell_type": "code",
   "execution_count": 37,
   "metadata": {},
   "outputs": [
    {
     "name": "stdout",
     "output_type": "stream",
     "text": [
      "[('I-PROEMIO:', 161, 171, 10),\n",
      " ('II-ANTECEDENTES DE INTERES MEDICO-LEGAL:', 690, 730, 40),\n",
      " ('III-EXAMEN FISICO DEL ACTOR:', 1646, 1674, 28),\n",
      " ('IV-CONSIDERACIONES MEDICO-LEGALES:', 9140, 9174, 34),\n",
      " ('VII-CONCLUSIONES.', 19171, 19188, 17),\n",
      " ('VII-INCAPACIDAD:', 20974, 20990, 16),\n",
      " ('VIII CONTESTACION DE LOS PUNTOS DE PERICIA:', 21297, 21340, 43),\n",
      " ('IX-PETITORIO:', 21411, 21424, 13)]\n"
     ]
    }
   ],
   "source": [
    "# Encontrar la ubicacion del titulo en el documento\n",
    "titulosPosicion=[]\n",
    "\n",
    "for titulo in titulosMayusculas[0]:\n",
    "    inicioTitulo = dfLimpio[0].index(titulo)\n",
    "    palabrasPorTitulo = len(titulo)\n",
    "    finalTitulo = inicioTitulo + palabrasPorTitulo\n",
    "    titulosPosicion.append((titulo, inicioTitulo, finalTitulo, palabrasPorTitulo))\n",
    "\n",
    "pprint(titulosPosicion)"
   ]
  },
  {
   "cell_type": "code",
   "execution_count": 38,
   "metadata": {},
   "outputs": [
    {
     "name": "stdout",
     "output_type": "stream",
     "text": [
      "('juez nacional hortas maria andrea perito medico oficio siguientes autos '\n",
      " 'domicilio constituido calle austria piso dpto capital domicilio electronico '\n",
      " 'cumplimiento dispuesto referente presentes autos despues haber examinado '\n",
      " 'dijo boiero franco ivan tomaron momento examen clinico actual consideraron '\n",
      " 'capacidad generica particular puntos pericia solicitados partes')\n",
      "'LONGITUD DE PALABRAS: 44'\n"
     ]
    }
   ],
   "source": [
    "# Creo una variable que contiene el párrafo de un título en particular\n",
    "parrafoConsideraciones = dfLimpio[0][171:690]\n",
    "#parrafoConsideraciones = general(parrafoConsideraciones)\n",
    "parrafoConsideraciones = remove_stops(parrafoConsideraciones)\n",
    "parrafoConsideraciones = limpiar_palabras(parrafoConsideraciones)\n",
    "pprint(parrafoConsideraciones)\n",
    "pprint(f'LONGITUD DE PALABRAS: {len(parrafoConsideraciones.split())}')"
   ]
  },
  {
   "cell_type": "markdown",
   "metadata": {},
   "source": [
    "# DATAFRAME DE UBICACIÓN DE TÍTULOS ENCONTRADOS"
   ]
  },
  {
   "cell_type": "code",
   "execution_count": 39,
   "metadata": {},
   "outputs": [],
   "source": [
    "# Encontrar la ubicacion del titulo en el documento\n",
    "titulosPosicion1=[]\n",
    "expedientesRaros = []\n",
    "tipo='encontrado'\n",
    "for i in range(len(dfLimpio)):\n",
    "    for titulo in titulosMayusculas[i]:\n",
    "        inicioTitulo = dfLimpio[i].index(titulo)\n",
    "        caracteres = len(titulo)\n",
    "        titulo = re.sub('[\\n\\.):-]',' ',titulo)\n",
    "        titulo = limpiar_palabras(titulo)\n",
    "        palabrasPorTitulo = len(titulo.split())\n",
    "        finalTitulo = inicioTitulo + caracteres\n",
    "        #if palabrasPorTitulo > 0:\n",
    "        titulosPosicion1.append((i, tipo, titulo, inicioTitulo, finalTitulo, palabrasPorTitulo))\n",
    "        #else:\n",
    "         \n",
    "        #   expedientesRaros.append((i, str(dfLimpio[i])))\n",
    "\n",
    "dfUbicacionTitulos = pd.DataFrame(titulosPosicion1,columns=['ide','tipo','titulo','inicio','fin','longitud'])"
   ]
  },
  {
   "cell_type": "markdown",
   "metadata": {},
   "source": [
    "# BORRAR PALABRAS QUE NO SON TÍTULOS"
   ]
  },
  {
   "cell_type": "code",
   "execution_count": 41,
   "metadata": {},
   "outputs": [],
   "source": [
    "dfUbicacionTitulos = dfUbicacionTitulos.drop(dfUbicacionTitulos[dfUbicacionTitulos['titulo'] ==''].index)\n",
    "#Aplicando esto, de 5671 filas, se reduce a 5286. "
   ]
  },
  {
   "cell_type": "code",
   "execution_count": 42,
   "metadata": {},
   "outputs": [
    {
     "data": {
      "text/plain": [
       "5286"
      ]
     },
     "execution_count": 42,
     "metadata": {},
     "output_type": "execute_result"
    }
   ],
   "source": [
    "len(dfUbicacionTitulos)"
   ]
  },
  {
   "cell_type": "code",
   "execution_count": 43,
   "metadata": {},
   "outputs": [],
   "source": [
    "#pprint(dfLimpio[488][9541:])\n",
    "#pprint(dfLimpio[1736])"
   ]
  },
  {
   "cell_type": "code",
   "execution_count": 44,
   "metadata": {},
   "outputs": [],
   "source": [
    "#pprint(df1[3639])\n",
    "#df.expediente[3639]"
   ]
  },
  {
   "cell_type": "markdown",
   "metadata": {},
   "source": [
    "## Calculo de la longitud de los párrafos"
   ]
  },
  {
   "cell_type": "code",
   "execution_count": 45,
   "metadata": {},
   "outputs": [],
   "source": [
    "dfUbicacionTitulos.reset_index(drop=True, inplace=True)"
   ]
  },
  {
   "cell_type": "code",
   "execution_count": 131,
   "metadata": {},
   "outputs": [],
   "source": [
    "# Calculo la longitud de caracteres de parrafos\n",
    "def longitud_parrafos(ubicacion, original):\n",
    "    parrafos=[]\n",
    "    for i in range(len(ubicacion)):\n",
    "        if i < len(ubicacion)-1:\n",
    "            inicio = ubicacion['inicio'][i]\n",
    "            fin = ubicacion['inicio'][i+1]\n",
    "            idDf = ubicacion['ide'][i]\n",
    "            if (fin-inicio) > 0:\n",
    "                parrafo = original[idDf][inicio:fin]\n",
    "                parrafo = remove_stops(parrafo)\n",
    "                parrafo = general(parrafo)\n",
    "               \n",
    "                #parrafo = limpiar_palabras(parrafo)\n",
    "                caracteres = len(parrafo.split())\n",
    "                parrafos.append(caracteres)\n",
    "            else:\n",
    "                parrafo = original[idDf][inicio:]\n",
    "                parrafo = general(parrafo)\n",
    "                parrafo = remove_stops(parrafo)\n",
    "                parrafo = limpiar_palabras(parrafo)\n",
    "                caracteres = len(parrafo.split())\n",
    "                parrafos.append(caracteres)\n",
    "        else:\n",
    "            inicio = ubicacion['inicio'][i]\n",
    "            idDf = ubicacion['ide'][i]\n",
    "            parrafo = original[idDf][inicio:]\n",
    "            parrafo = general(parrafo)\n",
    "            parrafo = remove_stops(parrafo)\n",
    "            parrafo = limpiar_palabras(parrafo)\n",
    "            caracteres = len(parrafo.split())\n",
    "            parrafos.append(caracteres)\n",
    "    return parrafos\n",
    "\n",
    "longitudP = longitud_parrafos(dfUbicacionTitulos, dfLimpio)"
   ]
  },
  {
   "cell_type": "code",
   "execution_count": 47,
   "metadata": {},
   "outputs": [],
   "source": [
    "dfUbicacionTitulos['longitud_parrafo'] = pd.DataFrame(longitudP)"
   ]
  },
  {
   "cell_type": "markdown",
   "metadata": {},
   "source": [
    "### Creo los dataframes con la ubicación de los títulos encontrados"
   ]
  },
  {
   "cell_type": "code",
   "execution_count": 48,
   "metadata": {},
   "outputs": [],
   "source": [
    "dfUbicacionTitulos['titulo'].to_csv('titulosEncontrados.csv',index=False)\n",
    "dfUbicacionTitulos.to_csv('df_TitulosEncontrados.csv',index=False)\n",
    "dfUbicacionTitulos.to_excel('df_TitulosEncontrados.xlsx',index=False)"
   ]
  },
  {
   "cell_type": "markdown",
   "metadata": {},
   "source": [
    "### Creo los dataframes con la ubicación de los títulos candidatos"
   ]
  },
  {
   "cell_type": "code",
   "execution_count": 49,
   "metadata": {},
   "outputs": [],
   "source": [
    "dfUbicacionTitulosCandidatos.to_csv('df_titulosCandidatos.csv',index=False)\n",
    "dfUbicacionTitulosCandidatos.to_excel('df_titulosCandidatos.xlsx', index=False)\n",
    "dfUbicacionTitulosCandidatos['titulo'].to_csv('titulosCandidatos.csv',index=False)"
   ]
  },
  {
   "cell_type": "code",
   "execution_count": 50,
   "metadata": {},
   "outputs": [
    {
     "data": {
      "text/plain": [
       "count    5286.000000\n",
       "mean        2.418842\n",
       "std         1.256708\n",
       "min         1.000000\n",
       "25%         1.000000\n",
       "50%         2.000000\n",
       "75%         3.000000\n",
       "max         8.000000\n",
       "Name: longitud, dtype: float64"
      ]
     },
     "execution_count": 50,
     "metadata": {},
     "output_type": "execute_result"
    }
   ],
   "source": [
    "dfUbicacionTitulos['longitud'].describe()"
   ]
  },
  {
   "cell_type": "code",
   "execution_count": 51,
   "metadata": {},
   "outputs": [],
   "source": [
    "#pprint(dfLimpio[1736][14170:])"
   ]
  },
  {
   "cell_type": "code",
   "execution_count": 52,
   "metadata": {},
   "outputs": [],
   "source": [
    "# Limpieza de parrafos\n",
    "# Creo una lista de parrafos\n",
    "def extraer_parrafos(ubicacion, original):\n",
    "    parrafos=[]\n",
    "    for i in range(len(ubicacion)):\n",
    "        if i < len(ubicacion)-1:\n",
    "            inicio = ubicacion['fin'][i]\n",
    "            fin = ubicacion['inicio'][i+1]\n",
    "            idDf = ubicacion['ide'][i]\n",
    "            if (fin-inicio) > 0:\n",
    "                parrafo = original[idDf][inicio:fin]\n",
    "                caracteres = general(parrafo)\n",
    "                caracteres = remove_stops(caracteres)\n",
    "                caracteres = limpiar_palabras(caracteres)\n",
    "                caracteres = caracteres.split(sep=' ')\n",
    "                parrafos.append(caracteres)\n",
    "            else:\n",
    "                parrafo = original[idDf][inicio:]\n",
    "                caracteres = general(parrafo)\n",
    "                caracteres = remove_stops(caracteres)\n",
    "                caracteres = limpiar_palabras(caracteres)\n",
    "                caracteres = caracteres.split(sep=' ')\n",
    "                parrafos.append(caracteres)\n",
    "    return parrafos\n",
    "\n",
    "parrafos = extraer_parrafos(dfUbicacionTitulos,dfLimpio)"
   ]
  },
  {
   "cell_type": "code",
   "execution_count": 53,
   "metadata": {},
   "outputs": [
    {
     "name": "stdout",
     "output_type": "stream",
     "text": [
      "Sr. JUEZ NACIONAL:\n",
      "HORTAS MARIA ANDREA S. perito medico de oficio en los siguientes\n",
      "autos, con domicilio constituido en la calle Austria  3 piso Dpto. 10 de esta\n",
      "Capital Z , tel. - domicilio electronico , 27-\n",
      "-3 en cumplimiento lo dispuesto por  referente a los presentes autos\n",
      "y despues de haber examinado a quien dijo ser Boiero Franco Ivan quien se\n",
      "tomaron en el momento del examen el estado clinico actual se consideraron la\n",
      "capacidad generica y en particular los puntos de pericia solicitados por las partes\n",
      "yo :\n",
      "\n",
      "['juez', 'nacional', 'hortas', 'maria', 'andrea', 'perito', 'medico', 'oficio', 'siguientes', 'autos', 'domicilio', 'constituido', 'calle', 'austria', 'piso', 'dpto', 'capital', 'domicilio', 'electronico', 'cumplimiento', 'dispuesto', 'referente', 'presentes', 'autos', 'despues', 'haber', 'examinado', 'dijo', 'boiero', 'franco', 'ivan', 'tomaron', 'momento', 'examen', 'clinico', 'actual', 'consideraron', 'capacidad', 'generica', 'particular', 'puntos', 'pericia', 'solicitados', 'partes']\n"
     ]
    }
   ],
   "source": [
    "print(dfLimpio[0][172:690])#161:690\n",
    "print(parrafos[0])"
   ]
  },
  {
   "cell_type": "code",
   "execution_count": 54,
   "metadata": {},
   "outputs": [
    {
     "name": "stdout",
     "output_type": "stream",
     "text": [
      "LONGITUD DE PALABRAS: 44\n"
     ]
    }
   ],
   "source": [
    "print(f'LONGITUD DE PALABRAS: {len(parrafos[0])}')"
   ]
  },
  {
   "cell_type": "code",
   "execution_count": 55,
   "metadata": {},
   "outputs": [],
   "source": [
    "#parrafos[0]"
   ]
  },
  {
   "cell_type": "code",
   "execution_count": 56,
   "metadata": {},
   "outputs": [],
   "source": [
    "#df['expediente'][165]"
   ]
  },
  {
   "cell_type": "markdown",
   "metadata": {},
   "source": [
    "# CREACION DE DOCUMENTO HTML\n",
    "## MUESTRO LOS TITULOS Y PARRAFOS ENCONTRADOS"
   ]
  },
  {
   "cell_type": "code",
   "execution_count": 57,
   "metadata": {},
   "outputs": [],
   "source": [
    "# Creamos un dataframe para colocar el salto de linea en formato HTML\n",
    "dfLimpioHTML = dfLimpio.apply(str)\n",
    "def limpiarTextoHTML(text):\n",
    "    text = text.strip().replace('\\n','<br>')\n",
    "    return text\n",
    "\n",
    "dfLimpioHTML = dfLimpioHTML.apply(limpiarTextoHTML)\n",
    "parrafoConsideraciones = limpiarTextoHTML(parrafoConsideraciones)"
   ]
  },
  {
   "cell_type": "code",
   "execution_count": 58,
   "metadata": {},
   "outputs": [],
   "source": [
    "colors = {\n",
    "    'procedimientos': '#cd5c5c',\n",
    "    'cuerpos': '#99ccff',\n",
    "    'afecciones': '#ffa500'\n",
    "}\n",
    "\n",
    "body = f'''\n",
    "        <p>\n",
    "        {dfLimpioHTML[1]}\n",
    "        </p>\n",
    "        <br>\n",
    "        '''\n",
    "body = body.replace(parrafoConsideraciones,f'<span style=\"background-color: #99ccff\">{parrafoConsideraciones}</span>')\n",
    "for titulo in titulosMayusculas[1]:\n",
    "    body = body.replace(titulo,f'<span style=\"background-color: #cd5c5c\">{titulo}</span>')\n",
    "with open('parrafos.html','w', encoding=\"utf-8\") as f:\n",
    "    f.write(body)"
   ]
  },
  {
   "cell_type": "markdown",
   "metadata": {},
   "source": [
    "# Gráfico de frecuencia de palabras por párrafo. Histograma."
   ]
  },
  {
   "cell_type": "code",
   "execution_count": 59,
   "metadata": {},
   "outputs": [
    {
     "data": {
      "image/png": "[encoded data removed]",
      "text/plain": [
       "<Figure size 432x288 with 1 Axes>"
      ]
     },
     "metadata": {
      "needs_background": "light"
     },
     "output_type": "display_data"
    }
   ],
   "source": [
    "import matplotlib.pyplot as plt\n",
    "\n",
    "longParrafos = dfUbicacionTitulos['longitud_parrafo']\n",
    "bins1 = [0, 25, 50, 75, 100, 125, 150, 175, 200] #, 2000, 2500, 3000, 3500, 4000, 4500, 5000, 5500, 6000\n",
    "\n",
    "plt.hist(longParrafos, bins1, edgecolor='black', label='Párrafos - Palabras')\n",
    "plt.xlabel('Cantidad en palabras')\n",
    "plt.ylabel('Cantidad de párrafos')\n",
    "plt.legend()\n",
    "plt.show()"
   ]
  },
  {
   "cell_type": "code",
   "execution_count": 60,
   "metadata": {},
   "outputs": [
    {
     "data": {
      "image/png": "[encoded data removed]",
      "text/plain": [
       "<Figure size 432x288 with 1 Axes>"
      ]
     },
     "metadata": {
      "needs_background": "light"
     },
     "output_type": "display_data"
    }
   ],
   "source": [
    "import matplotlib.pyplot as plt\n",
    "\n",
    "longParrafos = dfUbicacionTitulos['longitud_parrafo']\n",
    "#bins2 = [0,50, 100,150, 200,250, 300,350, 400,450, 500,550, 600,650, 700,750, 800,850, 900,950, 1000]#[0, 100, 200, 300, 400, 500, 600, 700, 800, 900, 1000] #, 2000, 2500, 3000, 3500, 4000, 4500, 5000, 5500, 6000\n",
    "\n",
    "plt.hist(longParrafos, bins=range(0,50,1),ec='k',label='Párrafos - Palabras', align='mid')\n",
    "plt.xlabel('Cantidad de palabras')\n",
    "plt.ylabel('Cantidad de párrafos')\n",
    "plt.legend()\n",
    "#plt.axis([1,100,1,300])\n",
    "plt.show()\n",
    "# total de parrafos 5775\n",
    "# limpiar titulos con parrafos de menos de 10 palabras."
   ]
  },
  {
   "cell_type": "code",
   "execution_count": 61,
   "metadata": {},
   "outputs": [
    {
     "data": {
      "image/png": "[encoded data removed]",
      "text/plain": [
       "<Figure size 432x288 with 1 Axes>"
      ]
     },
     "metadata": {
      "needs_background": "light"
     },
     "output_type": "display_data"
    }
   ],
   "source": [
    "import matplotlib.pyplot as plt\n",
    "\n",
    "longParrafos = dfUbicacionTitulos['longitud_parrafo']\n",
    "bins3 = [0, 500, 1000, 1500, 2000, 2500, 3000, 3500, 4000, 4500, 5000]\n",
    "\n",
    "plt.hist(longParrafos, bins3, edgecolor='black', label='Párrafos - Palabras')\n",
    "plt.legend()\n",
    "plt.xlabel('Cantidad en palabras')\n",
    "plt.ylabel('Cantidad de párrafos')\n",
    "plt.show()"
   ]
  },
  {
   "cell_type": "markdown",
   "metadata": {},
   "source": [
    "# Gráfico de frecuencia de palabras por párrafo. BoxPlot."
   ]
  },
  {
   "cell_type": "code",
   "execution_count": 62,
   "metadata": {},
   "outputs": [],
   "source": [
    "dfUbicacionTitulosLimpio = dfUbicacionTitulos.drop(dfUbicacionTitulos[dfUbicacionTitulos['titulo'] ==''].index)\n",
    "dfUbicacionTitulosLimpio = dfUbicacionTitulos.drop(dfUbicacionTitulos[dfUbicacionTitulos['longitud_parrafo'] > 800].index)\n",
    "longParrafosBox = dfUbicacionTitulosLimpio['longitud_parrafo']"
   ]
  },
  {
   "cell_type": "code",
   "execution_count": 63,
   "metadata": {},
   "outputs": [
    {
     "data": {
      "image/png": "[encoded data removed]",
      "text/plain": [
       "<Figure size 432x288 with 1 Axes>"
      ]
     },
     "metadata": {
      "needs_background": "light"
     },
     "output_type": "display_data"
    }
   ],
   "source": [
    "plt.boxplot(longParrafosBox)\n",
    "plt.title('Distribucion de frecuencia de palabras por párrafo')\n",
    "plt.xlabel('Párrafos')\n",
    "plt.ylabel('Cantidad de párrafos')\n",
    "plt.show()"
   ]
  },
  {
   "cell_type": "code",
   "execution_count": 64,
   "metadata": {},
   "outputs": [
    {
     "data": {
      "text/plain": [
       "count    4717.000000\n",
       "mean      181.308035\n",
       "std       191.736279\n",
       "min         1.000000\n",
       "25%        39.000000\n",
       "50%       100.000000\n",
       "75%       264.000000\n",
       "max       800.000000\n",
       "Name: longitud_parrafo, dtype: float64"
      ]
     },
     "execution_count": 64,
     "metadata": {},
     "output_type": "execute_result"
    }
   ],
   "source": [
    "longParrafosBox.describe()"
   ]
  },
  {
   "cell_type": "code",
   "execution_count": 132,
   "metadata": {},
   "outputs": [
    {
     "data": {
      "text/plain": [
       "800"
      ]
     },
     "execution_count": 132,
     "metadata": {},
     "output_type": "execute_result"
    }
   ],
   "source": [
    "longParrafosBox.max()"
   ]
  },
  {
   "cell_type": "code",
   "execution_count": 66,
   "metadata": {},
   "outputs": [
    {
     "data": {
      "text/plain": [
       "<AxesSubplot:>"
      ]
     },
     "execution_count": 66,
     "metadata": {},
     "output_type": "execute_result"
    },
    {
     "data": {
      "image/png": "[encoded data removed]",
      "text/plain": [
       "<Figure size 432x288 with 1 Axes>"
      ]
     },
     "metadata": {
      "needs_background": "light"
     },
     "output_type": "display_data"
    }
   ],
   "source": [
    "dfUbicacionTitulosLimpio['longitud_parrafo'].plot(kind='box')"
   ]
  },
  {
   "cell_type": "markdown",
   "metadata": {},
   "source": [
    "# TF-IDF"
   ]
  },
  {
   "cell_type": "code",
   "execution_count": 67,
   "metadata": {},
   "outputs": [],
   "source": [
    "import numpy as np\n",
    "import pandas as pd\n",
    "import nltk\n",
    "import re\n",
    "import os\n",
    "import codecs\n",
    "from sklearn import feature_extraction"
   ]
  },
  {
   "cell_type": "code",
   "execution_count": 68,
   "metadata": {},
   "outputs": [],
   "source": [
    "from nltk.stem.snowball import SnowballStemmer\n",
    "stemmer = SnowballStemmer(\"spanish\")"
   ]
  },
  {
   "cell_type": "code",
   "execution_count": 69,
   "metadata": {},
   "outputs": [],
   "source": [
    "\n",
    "# here I define a tokenizer and stemmer which returns the set of stems in the text that it is passed\n",
    "def tokenize_and_stem(text):\n",
    "    # first tokenize by sentence, then by word to ensure that punctuation is caught as it's own token\n",
    "    tokens = [word for sent in nltk.sent_tokenize(text) for word in nltk.word_tokenize(sent)]\n",
    "    filtered_tokens = []\n",
    "    # filter out any tokens not containing letters (e.g., numeric tokens, raw punctuation)\n",
    "    for token in tokens:\n",
    "        if re.search('[a-zA-Z]', token):\n",
    "            filtered_tokens.append(token)\n",
    "    stems = [stemmer.stem(t) for t in filtered_tokens]\n",
    "    return stems\n",
    "\n",
    "\n",
    "def tokenize_only(text):\n",
    "    # first tokenize by sentence, then by word to ensure that punctuation is caught as it's own token\n",
    "    tokens = [word.lower() for sent in nltk.sent_tokenize(text) for word in nltk.word_tokenize(sent)]\n",
    "    filtered_tokens = []\n",
    "    # filter out any tokens not containing letters (e.g., numeric tokens, raw punctuation)\n",
    "    for token in tokens:\n",
    "        if re.search('[a-zA-Z]', token):\n",
    "            filtered_tokens.append(token)\n",
    "    return filtered_tokens"
   ]
  },
  {
   "cell_type": "code",
   "execution_count": 70,
   "metadata": {},
   "outputs": [],
   "source": [
    "# #not super pythonic, no, not at all.\n",
    "# #use extend so it's a big flat list of vocab\n",
    "totalvocab_stemmed = []\n",
    "totalvocab_tokenized = []\n",
    "for i in dfUbicacionTitulos['titulo']:\n",
    "    allwords_stemmed = tokenize_and_stem(i) #for each item in 'synopses', tokenize/stem\n",
    "    totalvocab_stemmed.extend(allwords_stemmed) #extend the 'totalvocab_stemmed' list\n",
    "    \n",
    "    allwords_tokenized = tokenize_only(i)\n",
    "    totalvocab_tokenized.extend(allwords_tokenized)"
   ]
  },
  {
   "cell_type": "code",
   "execution_count": 71,
   "metadata": {},
   "outputs": [
    {
     "name": "stdout",
     "output_type": "stream",
     "text": [
      "there are 12786 items in vocab_frame\n"
     ]
    }
   ],
   "source": [
    "vocab_frame = pd.DataFrame({'words': totalvocab_tokenized}, index = totalvocab_stemmed)\n",
    "print ('there are ' + str(vocab_frame.shape[0]) + ' items in vocab_frame')"
   ]
  },
  {
   "cell_type": "code",
   "execution_count": 72,
   "metadata": {},
   "outputs": [
    {
     "data": {
      "text/html": [
       "<div>\n",
       "<style scoped>\n",
       "    .dataframe tbody tr th:only-of-type {\n",
       "        vertical-align: middle;\n",
       "    }\n",
       "\n",
       "    .dataframe tbody tr th {\n",
       "        vertical-align: top;\n",
       "    }\n",
       "\n",
       "    .dataframe thead th {\n",
       "        text-align: right;\n",
       "    }\n",
       "</style>\n",
       "<table border=\"1\" class=\"dataframe\">\n",
       "  <thead>\n",
       "    <tr style=\"text-align: right;\">\n",
       "      <th></th>\n",
       "      <th>words</th>\n",
       "    </tr>\n",
       "  </thead>\n",
       "  <tbody>\n",
       "    <tr>\n",
       "      <th>proemi</th>\n",
       "      <td>proemio</td>\n",
       "    </tr>\n",
       "    <tr>\n",
       "      <th>antecedent</th>\n",
       "      <td>antecedentes</td>\n",
       "    </tr>\n",
       "    <tr>\n",
       "      <th>inter</th>\n",
       "      <td>interes</td>\n",
       "    </tr>\n",
       "    <tr>\n",
       "      <th>medic</th>\n",
       "      <td>medico</td>\n",
       "    </tr>\n",
       "    <tr>\n",
       "      <th>legal</th>\n",
       "      <td>legal</td>\n",
       "    </tr>\n",
       "    <tr>\n",
       "      <th>...</th>\n",
       "      <td>...</td>\n",
       "    </tr>\n",
       "    <tr>\n",
       "      <th>pericial</th>\n",
       "      <td>periciales</td>\n",
       "    </tr>\n",
       "    <tr>\n",
       "      <th>consider</th>\n",
       "      <td>consideraciones</td>\n",
       "    </tr>\n",
       "    <tr>\n",
       "      <th>conclusion</th>\n",
       "      <td>conclusiones</td>\n",
       "    </tr>\n",
       "    <tr>\n",
       "      <th>medic</th>\n",
       "      <td>medico</td>\n",
       "    </tr>\n",
       "    <tr>\n",
       "      <th>legal</th>\n",
       "      <td>legales</td>\n",
       "    </tr>\n",
       "  </tbody>\n",
       "</table>\n",
       "<p>12786 rows × 1 columns</p>\n",
       "</div>"
      ],
      "text/plain": [
       "                      words\n",
       "proemi              proemio\n",
       "antecedent     antecedentes\n",
       "inter               interes\n",
       "medic                medico\n",
       "legal                 legal\n",
       "...                     ...\n",
       "pericial         periciales\n",
       "consider    consideraciones\n",
       "conclusion     conclusiones\n",
       "medic                medico\n",
       "legal               legales\n",
       "\n",
       "[12786 rows x 1 columns]"
      ]
     },
     "execution_count": 72,
     "metadata": {},
     "output_type": "execute_result"
    }
   ],
   "source": [
    "vocab_frame"
   ]
  },
  {
   "cell_type": "code",
   "execution_count": 73,
   "metadata": {},
   "outputs": [
    {
     "name": "stdout",
     "output_type": "stream",
     "text": [
      "(5286, 30)\n"
     ]
    }
   ],
   "source": [
    "from sklearn.feature_extraction.text import TfidfVectorizer\n",
    "\n",
    "#define vectorizer parameters\n",
    "tfidf_vectorizer = TfidfVectorizer(max_df=0.99, max_features=30,\n",
    "                                 min_df=100,\n",
    "                                 use_idf=True, ngram_range=(1,4))# tokenizer=tokenize_and_stem\n",
    "\n",
    "tfidf_matrix = tfidf_vectorizer.fit(dfUbicacionTitulos['titulo']) #fit the vectorizer to synopses\n",
    "tfidf_final_candidato = tfidf_matrix.transform(dfUbicacionTitulosCandidatos['titulo'])\n",
    "tfidf_final_encontrado = tfidf_matrix.transform(dfUbicacionTitulos['titulo'])\n",
    "print(tfidf_final_encontrado.shape)"
   ]
  },
  {
   "cell_type": "code",
   "execution_count": 74,
   "metadata": {},
   "outputs": [],
   "source": [
    "terms = tfidf_vectorizer.get_feature_names_out()"
   ]
  },
  {
   "cell_type": "code",
   "execution_count": 75,
   "metadata": {},
   "outputs": [
    {
     "data": {
      "text/plain": [
       "array(['actor', 'antecedentes', 'antecedentes autos',\n",
       "       'antecedentes autos interes', 'autos', 'autos interes', 'clinica',\n",
       "       'conclusiones', 'consideraciones', 'consideraciones medico',\n",
       "       'consideraciones medico legales', 'contestacion',\n",
       "       'contestacion puntos', 'contestacion puntos pericia', 'examen',\n",
       "       'hechos', 'historia', 'historia clinica', 'interes',\n",
       "       'interes medico', 'interes medico legal', 'legal', 'legales',\n",
       "       'medico', 'medico legal', 'medico legales', 'pericia', 'petitorio',\n",
       "       'puntos', 'puntos pericia'], dtype=object)"
      ]
     },
     "execution_count": 75,
     "metadata": {},
     "output_type": "execute_result"
    }
   ],
   "source": [
    "terms"
   ]
  },
  {
   "cell_type": "markdown",
   "metadata": {},
   "source": [
    "## CountVectorizer"
   ]
  },
  {
   "cell_type": "code",
   "execution_count": 76,
   "metadata": {},
   "outputs": [],
   "source": [
    "from sklearn.feature_extraction.text import CountVectorizer\n",
    "\n",
    "coun_vect = CountVectorizer(max_df=0.99, min_df=100, max_features=30)\n",
    "count_matrix = coun_vect.fit(dfUbicacionTitulos['titulo'])\n",
    "count_final_candidato = count_matrix.transform(dfUbicacionTitulosCandidatos['titulo'])\n",
    "count_final_encontrado = count_matrix.transform(dfUbicacionTitulos['titulo'])\n",
    "count_array = count_final_candidato.toarray()\n"
   ]
  },
  {
   "cell_type": "code",
   "execution_count": 77,
   "metadata": {},
   "outputs": [
    {
     "data": {
      "text/plain": [
       "array(['actor', 'actora', 'antecedentes', 'autos', 'clinica',\n",
       "       'conclusiones', 'consideraciones', 'contestacion', 'datos',\n",
       "       'estudios', 'examen', 'hechos', 'historia', 'interes', 'legal',\n",
       "       'legales', 'medico', 'medicolegales', 'pericia', 'personales',\n",
       "       'petitorio', 'puntos', 'solicitados'], dtype=object)"
      ]
     },
     "execution_count": 77,
     "metadata": {},
     "output_type": "execute_result"
    }
   ],
   "source": [
    "count_matrix.get_feature_names_out()"
   ]
  },
  {
   "cell_type": "markdown",
   "metadata": {},
   "source": [
    "# PRUEBAS"
   ]
  },
  {
   "cell_type": "code",
   "execution_count": 78,
   "metadata": {},
   "outputs": [],
   "source": [
    "# Se unen los dos dataframes en uno solo: Guardo los titulos encontrados y titulos candidatos en un solo dataframe\n",
    "dfTitulos = pd.concat([dfUbicacionTitulos, dfUbicacionTitulosCandidatos], ignore_index=True)\n",
    "\n",
    "# Se seleccionan y renombran las columnas de interés\n",
    "dfTitulos = dfTitulos[['ide', 'tipo', 'titulo', 'inicio', 'fin', 'longitud']]\n",
    "dfTitulos.columns = ['ide', 'tipo', 'titulo', 'inicio', 'fin', 'longitud']"
   ]
  },
  {
   "cell_type": "code",
   "execution_count": 79,
   "metadata": {},
   "outputs": [],
   "source": [
    "# Guardo los titulos encontrados y titulos candidatos en un solo dataframe y lo convierot a un archivo .csv\n",
    "dfTitulos.to_csv('dftitulos.csv',index=False)"
   ]
  },
  {
   "cell_type": "code",
   "execution_count": 80,
   "metadata": {},
   "outputs": [],
   "source": [
    "def limpiar_tokenizar(text):\n",
    "    tokenizado=[]\n",
    "    for titulo in text:\n",
    "        # Tokenización por palabras individuales\n",
    "        tokenizado.append(titulo.split(sep = ' '))\n",
    "    return(tokenizado)"
   ]
  },
  {
   "cell_type": "code",
   "execution_count": 81,
   "metadata": {},
   "outputs": [
    {
     "data": {
      "text/html": [
       "<div>\n",
       "<style scoped>\n",
       "    .dataframe tbody tr th:only-of-type {\n",
       "        vertical-align: middle;\n",
       "    }\n",
       "\n",
       "    .dataframe tbody tr th {\n",
       "        vertical-align: top;\n",
       "    }\n",
       "\n",
       "    .dataframe thead th {\n",
       "        text-align: right;\n",
       "    }\n",
       "</style>\n",
       "<table border=\"1\" class=\"dataframe\">\n",
       "  <thead>\n",
       "    <tr style=\"text-align: right;\">\n",
       "      <th></th>\n",
       "      <th>titulo</th>\n",
       "      <th>titulo_tokenizado</th>\n",
       "    </tr>\n",
       "  </thead>\n",
       "  <tbody>\n",
       "    <tr>\n",
       "      <th>0</th>\n",
       "      <td>proemio</td>\n",
       "      <td>[proemio]</td>\n",
       "    </tr>\n",
       "    <tr>\n",
       "      <th>1</th>\n",
       "      <td>antecedentes interes medico legal</td>\n",
       "      <td>[antecedentes, interes, medico, legal]</td>\n",
       "    </tr>\n",
       "    <tr>\n",
       "      <th>2</th>\n",
       "      <td>examen fisico actor</td>\n",
       "      <td>[examen, fisico, actor]</td>\n",
       "    </tr>\n",
       "    <tr>\n",
       "      <th>3</th>\n",
       "      <td>consideraciones medico legales</td>\n",
       "      <td>[consideraciones, medico, legales]</td>\n",
       "    </tr>\n",
       "    <tr>\n",
       "      <th>4</th>\n",
       "      <td>conclusiones</td>\n",
       "      <td>[conclusiones]</td>\n",
       "    </tr>\n",
       "  </tbody>\n",
       "</table>\n",
       "</div>"
      ],
      "text/plain": [
       "                              titulo                       titulo_tokenizado\n",
       "0                            proemio                               [proemio]\n",
       "1  antecedentes interes medico legal  [antecedentes, interes, medico, legal]\n",
       "2                examen fisico actor                 [examen, fisico, actor]\n",
       "3     consideraciones medico legales      [consideraciones, medico, legales]\n",
       "4                       conclusiones                          [conclusiones]"
      ]
     },
     "execution_count": 81,
     "metadata": {},
     "output_type": "execute_result"
    }
   ],
   "source": [
    "dfTitulos['titulo_tokenizado'] = limpiar_tokenizar(dfTitulos['titulo'])\n",
    "dfTitulos[['titulo', 'titulo_tokenizado']].head()"
   ]
  },
  {
   "cell_type": "code",
   "execution_count": 140,
   "metadata": {},
   "outputs": [
    {
     "data": {
      "text/html": [
       "<div>\n",
       "<style scoped>\n",
       "    .dataframe tbody tr th:only-of-type {\n",
       "        vertical-align: middle;\n",
       "    }\n",
       "\n",
       "    .dataframe tbody tr th {\n",
       "        vertical-align: top;\n",
       "    }\n",
       "\n",
       "    .dataframe thead th {\n",
       "        text-align: right;\n",
       "    }\n",
       "</style>\n",
       "<table border=\"1\" class=\"dataframe\">\n",
       "  <thead>\n",
       "    <tr style=\"text-align: right;\">\n",
       "      <th></th>\n",
       "      <th>ide</th>\n",
       "      <th>tipo</th>\n",
       "      <th>inicio</th>\n",
       "      <th>fin</th>\n",
       "      <th>token</th>\n",
       "    </tr>\n",
       "  </thead>\n",
       "  <tbody>\n",
       "    <tr>\n",
       "      <th>0</th>\n",
       "      <td>0</td>\n",
       "      <td>encontrado</td>\n",
       "      <td>161</td>\n",
       "      <td>171</td>\n",
       "      <td>proemio</td>\n",
       "    </tr>\n",
       "    <tr>\n",
       "      <th>1</th>\n",
       "      <td>0</td>\n",
       "      <td>encontrado</td>\n",
       "      <td>690</td>\n",
       "      <td>730</td>\n",
       "      <td>antecedentes</td>\n",
       "    </tr>\n",
       "    <tr>\n",
       "      <th>1</th>\n",
       "      <td>0</td>\n",
       "      <td>encontrado</td>\n",
       "      <td>690</td>\n",
       "      <td>730</td>\n",
       "      <td>interes</td>\n",
       "    </tr>\n",
       "  </tbody>\n",
       "</table>\n",
       "</div>"
      ],
      "text/plain": [
       "   ide        tipo  inicio  fin         token\n",
       "0    0  encontrado     161  171       proemio\n",
       "1    0  encontrado     690  730  antecedentes\n",
       "1    0  encontrado     690  730       interes"
      ]
     },
     "execution_count": 140,
     "metadata": {},
     "output_type": "execute_result"
    }
   ],
   "source": [
    "# Unnest de la columna titulo_tokenizado\n",
    "# ==============================================================================\n",
    "titulos_tidy = dfTitulos.explode(column='titulo_tokenizado')\n",
    "titulos_tidy = titulos_tidy.drop(columns='titulo')\n",
    "titulos_tidy = titulos_tidy.drop(columns='longitud')\n",
    "titulos_tidy = titulos_tidy.rename(columns={'titulo_tokenizado':'token'})\n",
    "titulos_tidy = titulos_tidy.drop(titulos_tidy[titulos_tidy['token'] ==''].index)\n",
    "titulos_tidy.head(3)"
   ]
  },
  {
   "cell_type": "code",
   "execution_count": 141,
   "metadata": {},
   "outputs": [],
   "source": [
    "#titulos_tidy.reset_index(drop=True, inplace=True)"
   ]
  },
  {
   "cell_type": "markdown",
   "metadata": {},
   "source": [
    "## Frecuencia de título"
   ]
  },
  {
   "cell_type": "code",
   "execution_count": 142,
   "metadata": {},
   "outputs": [
    {
     "name": "stdout",
     "output_type": "stream",
     "text": [
      "--------------------------\n",
      "Palabras totales por títulos\n",
      "--------------------------\n"
     ]
    },
    {
     "data": {
      "text/plain": [
       "tipo\n",
       "candidato     24734\n",
       "encontrado    12786\n",
       "Name: token, dtype: int64"
      ]
     },
     "execution_count": 142,
     "metadata": {},
     "output_type": "execute_result"
    }
   ],
   "source": [
    "# Palabras totales utilizadas por cada autor\n",
    "# ==============================================================================\n",
    "print('--------------------------')\n",
    "print('Palabras totales por títulos')\n",
    "print('--------------------------')\n",
    "titulos_tidy.groupby(by='tipo')['token'].count()"
   ]
  },
  {
   "cell_type": "code",
   "execution_count": 143,
   "metadata": {},
   "outputs": [
    {
     "name": "stdout",
     "output_type": "stream",
     "text": [
      "----------------------------\n",
      "Palabras distintas por títulos\n",
      "----------------------------\n"
     ]
    },
    {
     "data": {
      "text/plain": [
       "tipo\n",
       "candidato     3613\n",
       "encontrado    1026\n",
       "Name: token, dtype: int64"
      ]
     },
     "execution_count": 143,
     "metadata": {},
     "output_type": "execute_result"
    }
   ],
   "source": [
    "# Palabras distintas por títulos\n",
    "# ==============================================================================\n",
    "print('----------------------------')\n",
    "print('Palabras distintas por títulos')\n",
    "print('----------------------------')\n",
    "titulos_tidy.groupby(by='tipo')['token'].nunique()"
   ]
  },
  {
   "cell_type": "code",
   "execution_count": 144,
   "metadata": {},
   "outputs": [
    {
     "data": {
      "text/html": [
       "<div>\n",
       "<style scoped>\n",
       "    .dataframe tbody tr th:only-of-type {\n",
       "        vertical-align: middle;\n",
       "    }\n",
       "\n",
       "    .dataframe tbody tr th {\n",
       "        vertical-align: top;\n",
       "    }\n",
       "\n",
       "    .dataframe thead th {\n",
       "        text-align: right;\n",
       "    }\n",
       "</style>\n",
       "<table border=\"1\" class=\"dataframe\">\n",
       "  <thead>\n",
       "    <tr style=\"text-align: right;\">\n",
       "      <th></th>\n",
       "      <th>mean</th>\n",
       "      <th>std</th>\n",
       "    </tr>\n",
       "    <tr>\n",
       "      <th>tipo</th>\n",
       "      <th></th>\n",
       "      <th></th>\n",
       "    </tr>\n",
       "  </thead>\n",
       "  <tbody>\n",
       "    <tr>\n",
       "      <th>candidato</th>\n",
       "      <td>14.900000</td>\n",
       "      <td>16.116353</td>\n",
       "    </tr>\n",
       "    <tr>\n",
       "      <th>encontrado</th>\n",
       "      <td>11.118261</td>\n",
       "      <td>8.571205</td>\n",
       "    </tr>\n",
       "  </tbody>\n",
       "</table>\n",
       "</div>"
      ],
      "text/plain": [
       "                 mean        std\n",
       "tipo                            \n",
       "candidato   14.900000  16.116353\n",
       "encontrado  11.118261   8.571205"
      ]
     },
     "execution_count": 144,
     "metadata": {},
     "output_type": "execute_result"
    }
   ],
   "source": [
    "# Longitud media y desviación de los titulos de cada tipo\n",
    "# ==============================================================================\n",
    "temp_df = pd.DataFrame(titulos_tidy.groupby(by = [\"tipo\", \"ide\"])[\"token\"].count())\n",
    "temp_df.reset_index().groupby(\"tipo\")[\"token\"].agg(['mean', 'std'])"
   ]
  },
  {
   "cell_type": "code",
   "execution_count": 145,
   "metadata": {},
   "outputs": [
    {
     "name": "stdout",
     "output_type": "stream",
     "text": [
      "Top 5 títulos más repetidos por tipo\n"
     ]
    },
    {
     "data": {
      "text/html": [
       "<div>\n",
       "<style scoped>\n",
       "    .dataframe tbody tr th:only-of-type {\n",
       "        vertical-align: middle;\n",
       "    }\n",
       "\n",
       "    .dataframe tbody tr th {\n",
       "        vertical-align: top;\n",
       "    }\n",
       "\n",
       "    .dataframe thead th {\n",
       "        text-align: right;\n",
       "    }\n",
       "</style>\n",
       "<table border=\"1\" class=\"dataframe\">\n",
       "  <thead>\n",
       "    <tr style=\"text-align: right;\">\n",
       "      <th></th>\n",
       "      <th></th>\n",
       "      <th>tipo</th>\n",
       "      <th>token</th>\n",
       "      <th>count</th>\n",
       "    </tr>\n",
       "    <tr>\n",
       "      <th>tipo</th>\n",
       "      <th></th>\n",
       "      <th></th>\n",
       "      <th></th>\n",
       "      <th></th>\n",
       "    </tr>\n",
       "  </thead>\n",
       "  <tbody>\n",
       "    <tr>\n",
       "      <th rowspan=\"5\" valign=\"top\">candidato</th>\n",
       "      <th>1816</th>\n",
       "      <td>candidato</td>\n",
       "      <td>informe</td>\n",
       "      <td>551</td>\n",
       "    </tr>\n",
       "    <tr>\n",
       "      <th>1368</th>\n",
       "      <td>candidato</td>\n",
       "      <td>examen</td>\n",
       "      <td>411</td>\n",
       "    </tr>\n",
       "    <tr>\n",
       "      <th>2138</th>\n",
       "      <td>candidato</td>\n",
       "      <td>medico</td>\n",
       "      <td>395</td>\n",
       "    </tr>\n",
       "    <tr>\n",
       "      <th>2768</th>\n",
       "      <td>candidato</td>\n",
       "      <td>psicodiagnostico</td>\n",
       "      <td>247</td>\n",
       "    </tr>\n",
       "    <tr>\n",
       "      <th>649</th>\n",
       "      <td>candidato</td>\n",
       "      <td>conclusiones</td>\n",
       "      <td>243</td>\n",
       "    </tr>\n",
       "    <tr>\n",
       "      <th rowspan=\"5\" valign=\"top\">encontrado</th>\n",
       "      <th>4204</th>\n",
       "      <td>encontrado</td>\n",
       "      <td>medico</td>\n",
       "      <td>827</td>\n",
       "    </tr>\n",
       "    <tr>\n",
       "      <th>4421</th>\n",
       "      <td>encontrado</td>\n",
       "      <td>puntos</td>\n",
       "      <td>609</td>\n",
       "    </tr>\n",
       "    <tr>\n",
       "      <th>3807</th>\n",
       "      <td>encontrado</td>\n",
       "      <td>conclusiones</td>\n",
       "      <td>576</td>\n",
       "    </tr>\n",
       "    <tr>\n",
       "      <th>4329</th>\n",
       "      <td>encontrado</td>\n",
       "      <td>pericia</td>\n",
       "      <td>537</td>\n",
       "    </tr>\n",
       "    <tr>\n",
       "      <th>3710</th>\n",
       "      <td>encontrado</td>\n",
       "      <td>antecedentes</td>\n",
       "      <td>485</td>\n",
       "    </tr>\n",
       "  </tbody>\n",
       "</table>\n",
       "</div>"
      ],
      "text/plain": [
       "                       tipo             token  count\n",
       "tipo                                                \n",
       "candidato  1816   candidato           informe    551\n",
       "           1368   candidato            examen    411\n",
       "           2138   candidato            medico    395\n",
       "           2768   candidato  psicodiagnostico    247\n",
       "           649    candidato      conclusiones    243\n",
       "encontrado 4204  encontrado            medico    827\n",
       "           4421  encontrado            puntos    609\n",
       "           3807  encontrado      conclusiones    576\n",
       "           4329  encontrado           pericia    537\n",
       "           3710  encontrado      antecedentes    485"
      ]
     },
     "execution_count": 145,
     "metadata": {},
     "output_type": "execute_result"
    }
   ],
   "source": [
    "# Top 5 títulos más repetidos por tipo\n",
    "# ==============================================================================\n",
    "print('Top 5 títulos más repetidos por tipo')\n",
    "titulos_tidy.groupby(['tipo','token'])['token'] \\\n",
    " .count() \\\n",
    " .reset_index(name='count') \\\n",
    " .groupby('tipo') \\\n",
    " .apply(lambda x: x.sort_values('count', ascending=False).head(5))"
   ]
  },
  {
   "cell_type": "code",
   "execution_count": 146,
   "metadata": {},
   "outputs": [
    {
     "data": {
      "image/png": "[encoded data removed]",
      "text/plain": [
       "<Figure size 720x1152 with 2 Axes>"
      ]
     },
     "metadata": {
      "needs_background": "light"
     },
     "output_type": "display_data"
    }
   ],
   "source": [
    "# Top 10 títulos por tipo \n",
    "# ==============================================================================\n",
    "fig, axs = plt.subplots(nrows=2, ncols=1,figsize=(10, 16))\n",
    "for i, tipo in enumerate(titulos_tidy.tipo.unique()):\n",
    "    df_temp = titulos_tidy[titulos_tidy.tipo == tipo]\n",
    "    counts  = df_temp['token'].value_counts(ascending=False).head(25)\n",
    "    counts.plot(kind='barh', color='firebrick', ax=axs[i])\n",
    "    axs[i].invert_yaxis()\n",
    "    axs[i].set_title(tipo)\n",
    "\n",
    "fig.tight_layout()"
   ]
  },
  {
   "cell_type": "code",
   "execution_count": 151,
   "metadata": {},
   "outputs": [],
   "source": [
    "# Pivotado de títutlos por tipo y token.\n",
    "# ==============================================================================\n",
    "titulos_pivot = titulos_tidy.groupby([\"tipo\",\"token\"])[\"token\"] \\\n",
    "                .agg([\"count\"]).reset_index() \\\n",
    "                .pivot(index = \"token\" , columns=\"tipo\", values= \"count\")\n",
    "titulos_pivot.columns.name = None"
   ]
  },
  {
   "cell_type": "code",
   "execution_count": 152,
   "metadata": {},
   "outputs": [
    {
     "data": {
      "text/html": [
       "<div>\n",
       "<style scoped>\n",
       "    .dataframe tbody tr th:only-of-type {\n",
       "        vertical-align: middle;\n",
       "    }\n",
       "\n",
       "    .dataframe tbody tr th {\n",
       "        vertical-align: top;\n",
       "    }\n",
       "\n",
       "    .dataframe thead th {\n",
       "        text-align: right;\n",
       "    }\n",
       "</style>\n",
       "<table border=\"1\" class=\"dataframe\">\n",
       "  <thead>\n",
       "    <tr style=\"text-align: right;\">\n",
       "      <th></th>\n",
       "      <th>ide</th>\n",
       "      <th>tipo</th>\n",
       "      <th>inicio</th>\n",
       "      <th>fin</th>\n",
       "      <th>token</th>\n",
       "    </tr>\n",
       "  </thead>\n",
       "  <tbody>\n",
       "    <tr>\n",
       "      <th>0</th>\n",
       "      <td>0</td>\n",
       "      <td>encontrado</td>\n",
       "      <td>161</td>\n",
       "      <td>171</td>\n",
       "      <td>proemio</td>\n",
       "    </tr>\n",
       "    <tr>\n",
       "      <th>1</th>\n",
       "      <td>0</td>\n",
       "      <td>encontrado</td>\n",
       "      <td>690</td>\n",
       "      <td>730</td>\n",
       "      <td>antecedentes</td>\n",
       "    </tr>\n",
       "    <tr>\n",
       "      <th>2</th>\n",
       "      <td>0</td>\n",
       "      <td>encontrado</td>\n",
       "      <td>690</td>\n",
       "      <td>730</td>\n",
       "      <td>interes</td>\n",
       "    </tr>\n",
       "    <tr>\n",
       "      <th>3</th>\n",
       "      <td>0</td>\n",
       "      <td>encontrado</td>\n",
       "      <td>690</td>\n",
       "      <td>730</td>\n",
       "      <td>medico</td>\n",
       "    </tr>\n",
       "    <tr>\n",
       "      <th>4</th>\n",
       "      <td>0</td>\n",
       "      <td>encontrado</td>\n",
       "      <td>690</td>\n",
       "      <td>730</td>\n",
       "      <td>legal</td>\n",
       "    </tr>\n",
       "    <tr>\n",
       "      <th>...</th>\n",
       "      <td>...</td>\n",
       "      <td>...</td>\n",
       "      <td>...</td>\n",
       "      <td>...</td>\n",
       "      <td>...</td>\n",
       "    </tr>\n",
       "    <tr>\n",
       "      <th>37515</th>\n",
       "      <td>2006</td>\n",
       "      <td>candidato</td>\n",
       "      <td>12841</td>\n",
       "      <td>12865</td>\n",
       "      <td>presenta</td>\n",
       "    </tr>\n",
       "    <tr>\n",
       "      <th>37516</th>\n",
       "      <td>2006</td>\n",
       "      <td>candidato</td>\n",
       "      <td>12841</td>\n",
       "      <td>12865</td>\n",
       "      <td>secuelas</td>\n",
       "    </tr>\n",
       "    <tr>\n",
       "      <th>37517</th>\n",
       "      <td>2006</td>\n",
       "      <td>candidato</td>\n",
       "      <td>12949</td>\n",
       "      <td>12986</td>\n",
       "      <td>remito</td>\n",
       "    </tr>\n",
       "    <tr>\n",
       "      <th>37518</th>\n",
       "      <td>2006</td>\n",
       "      <td>candidato</td>\n",
       "      <td>12949</td>\n",
       "      <td>12986</td>\n",
       "      <td>conclusiones</td>\n",
       "    </tr>\n",
       "    <tr>\n",
       "      <th>37519</th>\n",
       "      <td>2006</td>\n",
       "      <td>candidato</td>\n",
       "      <td>12949</td>\n",
       "      <td>12986</td>\n",
       "      <td>medicolegales</td>\n",
       "    </tr>\n",
       "  </tbody>\n",
       "</table>\n",
       "<p>37520 rows × 5 columns</p>\n",
       "</div>"
      ],
      "text/plain": [
       "        ide        tipo  inicio    fin          token\n",
       "0         0  encontrado     161    171        proemio\n",
       "1         0  encontrado     690    730   antecedentes\n",
       "2         0  encontrado     690    730        interes\n",
       "3         0  encontrado     690    730         medico\n",
       "4         0  encontrado     690    730          legal\n",
       "...     ...         ...     ...    ...            ...\n",
       "37515  2006   candidato   12841  12865       presenta\n",
       "37516  2006   candidato   12841  12865       secuelas\n",
       "37517  2006   candidato   12949  12986         remito\n",
       "37518  2006   candidato   12949  12986   conclusiones\n",
       "37519  2006   candidato   12949  12986  medicolegales\n",
       "\n",
       "[37520 rows x 5 columns]"
      ]
     },
     "execution_count": 152,
     "metadata": {},
     "output_type": "execute_result"
    }
   ],
   "source": [
    "titulos_tidy"
   ]
  },
  {
   "cell_type": "code",
   "execution_count": 153,
   "metadata": {},
   "outputs": [
    {
     "data": {
      "text/plain": [
       "'1010'"
      ]
     },
     "execution_count": 153,
     "metadata": {},
     "output_type": "execute_result"
    }
   ],
   "source": [
    "titulos_pivot.encontrado.index[0]"
   ]
  },
  {
   "cell_type": "code",
   "execution_count": 154,
   "metadata": {},
   "outputs": [
    {
     "name": "stdout",
     "output_type": "stream",
     "text": [
      "actor\n",
      "actora\n",
      "antecedentes\n",
      "autos\n",
      "conclusiones\n",
      "consideraciones\n",
      "examen\n",
      "hechos\n",
      "incapacidad\n",
      "interes\n",
      "legal\n",
      "legales\n",
      "medico\n",
      "pericia\n",
      "puntos\n"
     ]
    }
   ],
   "source": [
    "for i, count in enumerate(titulos_pivot.encontrado):\n",
    "    if titulos_pivot.candidato[i] > 80 and count > 80:\n",
    "        print(titulos_pivot.index[i])"
   ]
  },
  {
   "cell_type": "code",
   "execution_count": 155,
   "metadata": {},
   "outputs": [],
   "source": [
    "# Test de correlación (coseno) por títulos candidato y título encontrado\n",
    "# ==============================================================================\n",
    "from scipy.spatial.distance import cosine\n",
    "\n",
    "def similitud_coseno(a,b):\n",
    "    distancia = cosine(a,b)\n",
    "    return distancia\n",
    "\n",
    "matriz_corr = titulos_pivot.corr(method=similitud_coseno)"
   ]
  },
  {
   "cell_type": "code",
   "execution_count": 156,
   "metadata": {},
   "outputs": [
    {
     "name": "stdout",
     "output_type": "stream",
     "text": [
      "Correlación entre tipos de títulos\n"
     ]
    },
    {
     "data": {
      "text/html": [
       "<div>\n",
       "<style scoped>\n",
       "    .dataframe tbody tr th:only-of-type {\n",
       "        vertical-align: middle;\n",
       "    }\n",
       "\n",
       "    .dataframe tbody tr th {\n",
       "        vertical-align: top;\n",
       "    }\n",
       "\n",
       "    .dataframe thead th {\n",
       "        text-align: right;\n",
       "    }\n",
       "</style>\n",
       "<table border=\"1\" class=\"dataframe\">\n",
       "  <thead>\n",
       "    <tr style=\"text-align: right;\">\n",
       "      <th></th>\n",
       "      <th>candidato</th>\n",
       "      <th>encontrado</th>\n",
       "    </tr>\n",
       "  </thead>\n",
       "  <tbody>\n",
       "    <tr>\n",
       "      <th>candidato</th>\n",
       "      <td>1.000000</td>\n",
       "      <td>0.400888</td>\n",
       "    </tr>\n",
       "    <tr>\n",
       "      <th>encontrado</th>\n",
       "      <td>0.400888</td>\n",
       "      <td>1.000000</td>\n",
       "    </tr>\n",
       "  </tbody>\n",
       "</table>\n",
       "</div>"
      ],
      "text/plain": [
       "            candidato  encontrado\n",
       "candidato    1.000000    0.400888\n",
       "encontrado   0.400888    1.000000"
      ]
     },
     "execution_count": 156,
     "metadata": {},
     "output_type": "execute_result"
    }
   ],
   "source": [
    "print('Correlación entre tipos de títulos')\n",
    "matriz_corr"
   ]
  },
  {
   "cell_type": "code",
   "execution_count": 157,
   "metadata": {},
   "outputs": [
    {
     "data": {
      "image/png": "[encoded data removed]",
      "text/plain": [
       "<Figure size 720x432 with 1 Axes>"
      ]
     },
     "metadata": {
      "needs_background": "light"
     },
     "output_type": "display_data"
    }
   ],
   "source": [
    "import seaborn as sns\n",
    "\n",
    "# Gráfico de correlación\n",
    "# ==============================================================================\n",
    "f, ax = plt.subplots(figsize=(10, 6))\n",
    "temp = titulos_pivot.dropna()\n",
    "sns.regplot(\n",
    "    x  = np.log(temp.candidato),\n",
    "    y  = np.log(temp.encontrado),\n",
    "    scatter_kws =  {'alpha': 0.05},\n",
    "    ax = ax\n",
    ");\n",
    "for i in np.random.choice(range(temp.shape[0]), 100):\n",
    "    ax.annotate(\n",
    "        text  = temp.index[i],\n",
    "        xy    = (np.log(temp.candidato[i]), np.log(temp.encontrado[i])),\n",
    "        alpha = 0.7\n",
    "    )"
   ]
  },
  {
   "cell_type": "code",
   "execution_count": 158,
   "metadata": {},
   "outputs": [
    {
     "name": "stdout",
     "output_type": "stream",
     "text": [
      "Palabras comunes entre títulos encontrados y títulos candidatos: 578\n"
     ]
    }
   ],
   "source": [
    "# Número de palabras comunes en títulos encotnrados y candidatos.\n",
    "# ==============================================================================\n",
    "titulo_encontrado = set(titulos_tidy[titulos_tidy.tipo == 'encontrado']['token'])\n",
    "titulo_candidato = set(titulos_tidy[titulos_tidy.tipo == 'candidato']['token'])\n",
    "\n",
    "\n",
    "print(f\"Palabras comunes entre títulos encontrados y títulos candidatos: {len(titulo_encontrado.intersection(titulo_candidato))}\")"
   ]
  },
  {
   "cell_type": "code",
   "execution_count": 159,
   "metadata": {},
   "outputs": [],
   "source": [
    "# Cálculo del log of odds ratio de cada palabra títulos encontrados y títulos candidatos\n",
    "# ==============================================================================\n",
    "# Pivotaje y despivotaje\n",
    "titulos_pivot = titulos_tidy.groupby([\"tipo\",\"token\"])[\"token\"] \\\n",
    "                .agg([\"count\"]).reset_index() \\\n",
    "                .pivot(index = \"token\" , columns=\"tipo\", values= \"count\")\n",
    "\n",
    "titulos_pivot = titulos_pivot.fillna(value=0)\n",
    "titulos_pivot.columns.name = None\n",
    "\n",
    "titulos_unpivot = titulos_pivot.melt(value_name='n', var_name='tipo', ignore_index=False)\n",
    "titulos_unpivot = titulos_unpivot.reset_index()\n",
    "\n",
    "# Selección de los títlos encontrados y candidatos. \n",
    "titulos_unpivot = titulos_unpivot[titulos_unpivot.tipo.isin(['encontrado', 'candidato'])]\n",
    "\n",
    "# Se añade el total de palabras de cada titulo.\n",
    "titulos_unpivot = titulos_unpivot.merge(\n",
    "                    titulos_tidy.groupby('tipo')['token'].count().rename('N'),\n",
    "                    how = 'left',\n",
    "                    on  = 'tipo'\n",
    "                 )\n",
    "\n",
    "# Cálculo de odds y log of odds de cada palabra\n",
    "titulos_logOdds = titulos_unpivot.copy()\n",
    "titulos_logOdds['odds'] = (titulos_logOdds.n + 1) / (titulos_logOdds.N + 1)\n",
    "titulos_logOdds = titulos_logOdds[['token', 'tipo', 'odds']] \\\n",
    "                    .pivot(index='token', columns='tipo', values='odds')\n",
    "titulos_logOdds.columns.name = None\n",
    "\n",
    "titulos_logOdds['log_odds']     = np.log(titulos_logOdds.encontrado/titulos_logOdds.candidato)\n",
    "titulos_logOdds['abs_log_odds'] = np.abs(titulos_logOdds.log_odds)\n",
    "\n",
    "# Si el logaritmo de odds es mayor que cero, significa que es una palabra con\n",
    "# mayor probabilidad de ser título encontrado. Esto es así porque el ratio sea ha\n",
    "# calculado como encontrado/candidato.\n",
    "titulos_logOdds['tipo_frecuente'] = np.where(titulos_logOdds.log_odds > 0,\n",
    "                                              \"encontrado\",\n",
    "                                              \"candidato\"\n",
    "                                    )"
   ]
  },
  {
   "cell_type": "code",
   "execution_count": 160,
   "metadata": {},
   "outputs": [
    {
     "name": "stdout",
     "output_type": "stream",
     "text": [
      "-----------------------------------\n",
      "Top 10 palabras más diferenciadas en títulos encontrados y tíulos candidatos\n",
      "-----------------------------------\n"
     ]
    },
    {
     "data": {
      "text/html": [
       "<div>\n",
       "<style scoped>\n",
       "    .dataframe tbody tr th:only-of-type {\n",
       "        vertical-align: middle;\n",
       "    }\n",
       "\n",
       "    .dataframe tbody tr th {\n",
       "        vertical-align: top;\n",
       "    }\n",
       "\n",
       "    .dataframe thead th {\n",
       "        text-align: right;\n",
       "    }\n",
       "</style>\n",
       "<table border=\"1\" class=\"dataframe\">\n",
       "  <thead>\n",
       "    <tr style=\"text-align: right;\">\n",
       "      <th></th>\n",
       "      <th>candidato</th>\n",
       "      <th>encontrado</th>\n",
       "      <th>log_odds</th>\n",
       "      <th>abs_log_odds</th>\n",
       "      <th>tipo_frecuente</th>\n",
       "    </tr>\n",
       "    <tr>\n",
       "      <th>token</th>\n",
       "      <th></th>\n",
       "      <th></th>\n",
       "      <th></th>\n",
       "      <th></th>\n",
       "      <th></th>\n",
       "    </tr>\n",
       "  </thead>\n",
       "  <tbody>\n",
       "    <tr>\n",
       "      <th>petitorio</th>\n",
       "      <td>0.000243</td>\n",
       "      <td>0.036130</td>\n",
       "      <td>5.003596</td>\n",
       "      <td>5.003596</td>\n",
       "      <td>encontrado</td>\n",
       "    </tr>\n",
       "    <tr>\n",
       "      <th>realizado</th>\n",
       "      <td>0.008126</td>\n",
       "      <td>0.000078</td>\n",
       "      <td>-4.643515</td>\n",
       "      <td>4.643515</td>\n",
       "      <td>candidato</td>\n",
       "    </tr>\n",
       "    <tr>\n",
       "      <th>integral</th>\n",
       "      <td>0.000040</td>\n",
       "      <td>0.004145</td>\n",
       "      <td>4.630082</td>\n",
       "      <td>4.630082</td>\n",
       "      <td>encontrado</td>\n",
       "    </tr>\n",
       "    <tr>\n",
       "      <th>problematica</th>\n",
       "      <td>0.000040</td>\n",
       "      <td>0.004067</td>\n",
       "      <td>4.611034</td>\n",
       "      <td>4.611034</td>\n",
       "      <td>encontrado</td>\n",
       "    </tr>\n",
       "    <tr>\n",
       "      <th>llevados</th>\n",
       "      <td>0.000040</td>\n",
       "      <td>0.003832</td>\n",
       "      <td>4.551611</td>\n",
       "      <td>4.551611</td>\n",
       "      <td>encontrado</td>\n",
       "    </tr>\n",
       "    <tr>\n",
       "      <th>particularidades</th>\n",
       "      <td>0.007398</td>\n",
       "      <td>0.000078</td>\n",
       "      <td>-4.549696</td>\n",
       "      <td>4.549696</td>\n",
       "      <td>candidato</td>\n",
       "    </tr>\n",
       "    <tr>\n",
       "      <th>cabo</th>\n",
       "      <td>0.000040</td>\n",
       "      <td>0.003754</td>\n",
       "      <td>4.530991</td>\n",
       "      <td>4.530991</td>\n",
       "      <td>encontrado</td>\n",
       "    </tr>\n",
       "    <tr>\n",
       "      <th>auxiliares</th>\n",
       "      <td>0.000040</td>\n",
       "      <td>0.003050</td>\n",
       "      <td>4.323352</td>\n",
       "      <td>4.323352</td>\n",
       "      <td>encontrado</td>\n",
       "    </tr>\n",
       "    <tr>\n",
       "      <th>remitir</th>\n",
       "      <td>0.005539</td>\n",
       "      <td>0.000078</td>\n",
       "      <td>-4.260191</td>\n",
       "      <td>4.260191</td>\n",
       "      <td>candidato</td>\n",
       "    </tr>\n",
       "    <tr>\n",
       "      <th>medicolegal</th>\n",
       "      <td>0.000040</td>\n",
       "      <td>0.002815</td>\n",
       "      <td>4.243309</td>\n",
       "      <td>4.243309</td>\n",
       "      <td>encontrado</td>\n",
       "    </tr>\n",
       "    <tr>\n",
       "      <th>sido</th>\n",
       "      <td>0.005256</td>\n",
       "      <td>0.000078</td>\n",
       "      <td>-4.207744</td>\n",
       "      <td>4.207744</td>\n",
       "      <td>candidato</td>\n",
       "    </tr>\n",
       "    <tr>\n",
       "      <th>cuerpo</th>\n",
       "      <td>0.005094</td>\n",
       "      <td>0.000078</td>\n",
       "      <td>-4.176492</td>\n",
       "      <td>4.176492</td>\n",
       "      <td>candidato</td>\n",
       "    </tr>\n",
       "    <tr>\n",
       "      <th>contestacion</th>\n",
       "      <td>0.000283</td>\n",
       "      <td>0.018378</td>\n",
       "      <td>4.173466</td>\n",
       "      <td>4.173466</td>\n",
       "      <td>encontrado</td>\n",
       "    </tr>\n",
       "    <tr>\n",
       "      <th>desarrollado</th>\n",
       "      <td>0.004892</td>\n",
       "      <td>0.000078</td>\n",
       "      <td>-4.136000</td>\n",
       "      <td>4.136000</td>\n",
       "      <td>candidato</td>\n",
       "    </tr>\n",
       "    <tr>\n",
       "      <th>remitirse</th>\n",
       "      <td>0.004609</td>\n",
       "      <td>0.000078</td>\n",
       "      <td>-4.076408</td>\n",
       "      <td>4.076408</td>\n",
       "      <td>candidato</td>\n",
       "    </tr>\n",
       "    <tr>\n",
       "      <th>proemio</th>\n",
       "      <td>0.000040</td>\n",
       "      <td>0.002346</td>\n",
       "      <td>4.060988</td>\n",
       "      <td>4.060988</td>\n",
       "      <td>encontrado</td>\n",
       "    </tr>\n",
       "    <tr>\n",
       "      <th>contestar</th>\n",
       "      <td>0.000040</td>\n",
       "      <td>0.002190</td>\n",
       "      <td>3.991995</td>\n",
       "      <td>3.991995</td>\n",
       "      <td>encontrado</td>\n",
       "    </tr>\n",
       "    <tr>\n",
       "      <th>manifestaciones</th>\n",
       "      <td>0.000040</td>\n",
       "      <td>0.002112</td>\n",
       "      <td>3.955627</td>\n",
       "      <td>3.955627</td>\n",
       "      <td>encontrado</td>\n",
       "    </tr>\n",
       "    <tr>\n",
       "      <th>procedimientos</th>\n",
       "      <td>0.000081</td>\n",
       "      <td>0.004223</td>\n",
       "      <td>3.955627</td>\n",
       "      <td>3.955627</td>\n",
       "      <td>encontrado</td>\n",
       "    </tr>\n",
       "    <tr>\n",
       "      <th>consta</th>\n",
       "      <td>0.003922</td>\n",
       "      <td>0.000078</td>\n",
       "      <td>-3.914921</td>\n",
       "      <td>3.914921</td>\n",
       "      <td>candidato</td>\n",
       "    </tr>\n",
       "    <tr>\n",
       "      <th>idem</th>\n",
       "      <td>0.003800</td>\n",
       "      <td>0.000078</td>\n",
       "      <td>-3.883505</td>\n",
       "      <td>3.883505</td>\n",
       "      <td>candidato</td>\n",
       "    </tr>\n",
       "    <tr>\n",
       "      <th>conservado</th>\n",
       "      <td>0.003760</td>\n",
       "      <td>0.000078</td>\n",
       "      <td>-3.872809</td>\n",
       "      <td>3.872809</td>\n",
       "      <td>candidato</td>\n",
       "    </tr>\n",
       "    <tr>\n",
       "      <th>contestado</th>\n",
       "      <td>0.003719</td>\n",
       "      <td>0.000078</td>\n",
       "      <td>-3.861998</td>\n",
       "      <td>3.861998</td>\n",
       "      <td>candidato</td>\n",
       "    </tr>\n",
       "    <tr>\n",
       "      <th>dato</th>\n",
       "      <td>0.003598</td>\n",
       "      <td>0.000078</td>\n",
       "      <td>-3.828846</td>\n",
       "      <td>3.828846</td>\n",
       "      <td>candidato</td>\n",
       "    </tr>\n",
       "    <tr>\n",
       "      <th>contestada</th>\n",
       "      <td>0.003558</td>\n",
       "      <td>0.000078</td>\n",
       "      <td>-3.817547</td>\n",
       "      <td>3.817547</td>\n",
       "      <td>candidato</td>\n",
       "    </tr>\n",
       "    <tr>\n",
       "      <th>remito</th>\n",
       "      <td>0.003517</td>\n",
       "      <td>0.000078</td>\n",
       "      <td>-3.806118</td>\n",
       "      <td>3.806118</td>\n",
       "      <td>candidato</td>\n",
       "    </tr>\n",
       "    <tr>\n",
       "      <th>oficio</th>\n",
       "      <td>0.000081</td>\n",
       "      <td>0.003597</td>\n",
       "      <td>3.795284</td>\n",
       "      <td>3.795284</td>\n",
       "      <td>encontrado</td>\n",
       "    </tr>\n",
       "    <tr>\n",
       "      <th>galeano</th>\n",
       "      <td>0.000040</td>\n",
       "      <td>0.001799</td>\n",
       "      <td>3.795284</td>\n",
       "      <td>3.795284</td>\n",
       "      <td>encontrado</td>\n",
       "    </tr>\n",
       "    <tr>\n",
       "      <th>experta</th>\n",
       "      <td>0.000040</td>\n",
       "      <td>0.001720</td>\n",
       "      <td>3.750833</td>\n",
       "      <td>3.750833</td>\n",
       "      <td>encontrado</td>\n",
       "    </tr>\n",
       "    <tr>\n",
       "      <th>medicina</th>\n",
       "      <td>0.003315</td>\n",
       "      <td>0.000078</td>\n",
       "      <td>-3.746929</td>\n",
       "      <td>3.746929</td>\n",
       "      <td>candidato</td>\n",
       "    </tr>\n",
       "  </tbody>\n",
       "</table>\n",
       "</div>"
      ],
      "text/plain": [
       "                  candidato  encontrado  log_odds  abs_log_odds tipo_frecuente\n",
       "token                                                                         \n",
       "petitorio          0.000243    0.036130  5.003596      5.003596     encontrado\n",
       "realizado          0.008126    0.000078 -4.643515      4.643515      candidato\n",
       "integral           0.000040    0.004145  4.630082      4.630082     encontrado\n",
       "problematica       0.000040    0.004067  4.611034      4.611034     encontrado\n",
       "llevados           0.000040    0.003832  4.551611      4.551611     encontrado\n",
       "particularidades   0.007398    0.000078 -4.549696      4.549696      candidato\n",
       "cabo               0.000040    0.003754  4.530991      4.530991     encontrado\n",
       "auxiliares         0.000040    0.003050  4.323352      4.323352     encontrado\n",
       "remitir            0.005539    0.000078 -4.260191      4.260191      candidato\n",
       "medicolegal        0.000040    0.002815  4.243309      4.243309     encontrado\n",
       "sido               0.005256    0.000078 -4.207744      4.207744      candidato\n",
       "cuerpo             0.005094    0.000078 -4.176492      4.176492      candidato\n",
       "contestacion       0.000283    0.018378  4.173466      4.173466     encontrado\n",
       "desarrollado       0.004892    0.000078 -4.136000      4.136000      candidato\n",
       "remitirse          0.004609    0.000078 -4.076408      4.076408      candidato\n",
       "proemio            0.000040    0.002346  4.060988      4.060988     encontrado\n",
       "contestar          0.000040    0.002190  3.991995      3.991995     encontrado\n",
       "manifestaciones    0.000040    0.002112  3.955627      3.955627     encontrado\n",
       "procedimientos     0.000081    0.004223  3.955627      3.955627     encontrado\n",
       "consta             0.003922    0.000078 -3.914921      3.914921      candidato\n",
       "idem               0.003800    0.000078 -3.883505      3.883505      candidato\n",
       "conservado         0.003760    0.000078 -3.872809      3.872809      candidato\n",
       "contestado         0.003719    0.000078 -3.861998      3.861998      candidato\n",
       "dato               0.003598    0.000078 -3.828846      3.828846      candidato\n",
       "contestada         0.003558    0.000078 -3.817547      3.817547      candidato\n",
       "remito             0.003517    0.000078 -3.806118      3.806118      candidato\n",
       "oficio             0.000081    0.003597  3.795284      3.795284     encontrado\n",
       "galeano            0.000040    0.001799  3.795284      3.795284     encontrado\n",
       "experta            0.000040    0.001720  3.750833      3.750833     encontrado\n",
       "medicina           0.003315    0.000078 -3.746929      3.746929      candidato"
      ]
     },
     "execution_count": 160,
     "metadata": {},
     "output_type": "execute_result"
    }
   ],
   "source": [
    "print('-----------------------------------')\n",
    "print('Top 10 palabras más diferenciadas en títulos encontrados y tíulos candidatos')\n",
    "print('-----------------------------------')\n",
    "titulos_logOdds.sort_values('abs_log_odds', ascending=False).head(30)"
   ]
  },
  {
   "cell_type": "code",
   "execution_count": 99,
   "metadata": {},
   "outputs": [
    {
     "data": {
      "image/png": "[encoded data removed]",
      "text/plain": [
       "<Figure size 720x864 with 1 Axes>"
      ]
     },
     "metadata": {
      "needs_background": "light"
     },
     "output_type": "display_data"
    }
   ],
   "source": [
    "# Top 15 palabras más características de cada tipo de título\n",
    "# ==============================================================================\n",
    "\n",
    "top_30 = titulos_logOdds[['log_odds', 'abs_log_odds', 'tipo_frecuente']] \\\n",
    "        .groupby('tipo_frecuente') \\\n",
    "        .apply(lambda x: x.nlargest(30, columns='abs_log_odds').reset_index()) \\\n",
    "        .reset_index(drop=True) \\\n",
    "        .sort_values('log_odds')\n",
    "\n",
    "f, ax = plt.subplots(figsize=(10, 12))\n",
    "sns.barplot(\n",
    "    x    = 'log_odds',\n",
    "    y    = 'token',\n",
    "    hue  = 'tipo_frecuente',\n",
    "    data = top_30,\n",
    "    ax   = ax\n",
    ")\n",
    "ax.set_title('Top 10 palabras más características de cada tipo de título')\n",
    "ax.set_xlabel('log odds ratio (titulos encontrados / titulos candidatos)');"
   ]
  },
  {
   "cell_type": "code",
   "execution_count": 103,
   "metadata": {},
   "outputs": [
    {
     "data": {
      "image/png": "[encoded data removed]",
      "text/plain": [
       "<Figure size 432x288 with 2 Axes>"
      ]
     },
     "metadata": {
      "needs_background": "light"
     },
     "output_type": "display_data"
    }
   ],
   "source": [
    "import seaborn as sns\n",
    "tituPivot = top_30.pivot(\"token\",\"log_odds\", \"abs_log_odds\")\n",
    "ax = sns.heatmap(tituPivot)"
   ]
  },
  {
   "cell_type": "code",
   "execution_count": 111,
   "metadata": {},
   "outputs": [],
   "source": [
    "# Test de correlación (coseno) por títulos candidato y título encontrado\n",
    "# ==============================================================================\n",
    "from scipy.spatial.distance import cosine\n",
    "\n",
    "def similitud_coseno(a,b):\n",
    "    distancia = cosine(a,b)\n",
    "    return distancia\n",
    "\n",
    "matriz_corr = titulos_pivot.corr(method=similitud_coseno)"
   ]
  },
  {
   "cell_type": "code",
   "execution_count": 112,
   "metadata": {},
   "outputs": [
    {
     "data": {
      "text/html": [
       "<div>\n",
       "<style scoped>\n",
       "    .dataframe tbody tr th:only-of-type {\n",
       "        vertical-align: middle;\n",
       "    }\n",
       "\n",
       "    .dataframe tbody tr th {\n",
       "        vertical-align: top;\n",
       "    }\n",
       "\n",
       "    .dataframe thead th {\n",
       "        text-align: right;\n",
       "    }\n",
       "</style>\n",
       "<table border=\"1\" class=\"dataframe\">\n",
       "  <thead>\n",
       "    <tr style=\"text-align: right;\">\n",
       "      <th></th>\n",
       "      <th>candidato</th>\n",
       "      <th>encontrado</th>\n",
       "    </tr>\n",
       "  </thead>\n",
       "  <tbody>\n",
       "    <tr>\n",
       "      <th>candidato</th>\n",
       "      <td>1.000000</td>\n",
       "      <td>0.464385</td>\n",
       "    </tr>\n",
       "    <tr>\n",
       "      <th>encontrado</th>\n",
       "      <td>0.464385</td>\n",
       "      <td>1.000000</td>\n",
       "    </tr>\n",
       "  </tbody>\n",
       "</table>\n",
       "</div>"
      ],
      "text/plain": [
       "            candidato  encontrado\n",
       "candidato    1.000000    0.464385\n",
       "encontrado   0.464385    1.000000"
      ]
     },
     "execution_count": 112,
     "metadata": {},
     "output_type": "execute_result"
    }
   ],
   "source": [
    "matriz_corr"
   ]
  },
  {
   "cell_type": "code",
   "execution_count": 108,
   "metadata": {},
   "outputs": [
    {
     "data": {
      "text/html": [
       "<div>\n",
       "<style scoped>\n",
       "    .dataframe tbody tr th:only-of-type {\n",
       "        vertical-align: middle;\n",
       "    }\n",
       "\n",
       "    .dataframe tbody tr th {\n",
       "        vertical-align: top;\n",
       "    }\n",
       "\n",
       "    .dataframe thead th {\n",
       "        text-align: right;\n",
       "    }\n",
       "</style>\n",
       "<table border=\"1\" class=\"dataframe\">\n",
       "  <thead>\n",
       "    <tr style=\"text-align: right;\">\n",
       "      <th>token</th>\n",
       "      <th>1010</th>\n",
       "      <th>1011</th>\n",
       "      <th>1080</th>\n",
       "      <th>1112</th>\n",
       "      <th>1314</th>\n",
       "      <th>1314151617</th>\n",
       "      <th>1355</th>\n",
       "      <th>1617</th>\n",
       "      <th>1724</th>\n",
       "      <th>1797</th>\n",
       "      <th>...</th>\n",
       "      <th>yoica</th>\n",
       "      <th>york</th>\n",
       "      <th>zadock</th>\n",
       "      <th>zambrano</th>\n",
       "      <th>zamorano</th>\n",
       "      <th>zapatero</th>\n",
       "      <th>zelarrayan</th>\n",
       "      <th>zimmerman</th>\n",
       "      <th>zona</th>\n",
       "      <th>zorrino</th>\n",
       "    </tr>\n",
       "  </thead>\n",
       "  <tbody>\n",
       "    <tr>\n",
       "      <th>candidato</th>\n",
       "      <td>1.0</td>\n",
       "      <td>1.0</td>\n",
       "      <td>1.0</td>\n",
       "      <td>16.0</td>\n",
       "      <td>8.0</td>\n",
       "      <td>3.0</td>\n",
       "      <td>1.0</td>\n",
       "      <td>8.0</td>\n",
       "      <td>1.0</td>\n",
       "      <td>1.0</td>\n",
       "      <td>...</td>\n",
       "      <td>2.0</td>\n",
       "      <td>4.0</td>\n",
       "      <td>1.0</td>\n",
       "      <td>0.0</td>\n",
       "      <td>1.0</td>\n",
       "      <td>1.0</td>\n",
       "      <td>1.0</td>\n",
       "      <td>2.0</td>\n",
       "      <td>13.0</td>\n",
       "      <td>1.0</td>\n",
       "    </tr>\n",
       "    <tr>\n",
       "      <th>encontrado</th>\n",
       "      <td>0.0</td>\n",
       "      <td>0.0</td>\n",
       "      <td>0.0</td>\n",
       "      <td>0.0</td>\n",
       "      <td>0.0</td>\n",
       "      <td>0.0</td>\n",
       "      <td>0.0</td>\n",
       "      <td>0.0</td>\n",
       "      <td>0.0</td>\n",
       "      <td>0.0</td>\n",
       "      <td>...</td>\n",
       "      <td>0.0</td>\n",
       "      <td>0.0</td>\n",
       "      <td>0.0</td>\n",
       "      <td>1.0</td>\n",
       "      <td>0.0</td>\n",
       "      <td>0.0</td>\n",
       "      <td>0.0</td>\n",
       "      <td>0.0</td>\n",
       "      <td>0.0</td>\n",
       "      <td>0.0</td>\n",
       "    </tr>\n",
       "  </tbody>\n",
       "</table>\n",
       "<p>2 rows × 4061 columns</p>\n",
       "</div>"
      ],
      "text/plain": [
       "token       1010  1011  1080  1112  1314  1314151617  1355  1617  1724  1797  \\\n",
       "candidato    1.0   1.0   1.0  16.0   8.0         3.0   1.0   8.0   1.0   1.0   \n",
       "encontrado   0.0   0.0   0.0   0.0   0.0         0.0   0.0   0.0   0.0   0.0   \n",
       "\n",
       "token       ...  yoica  york  zadock  zambrano  zamorano  zapatero  \\\n",
       "candidato   ...    2.0   4.0     1.0       0.0       1.0       1.0   \n",
       "encontrado  ...    0.0   0.0     0.0       1.0       0.0       0.0   \n",
       "\n",
       "token       zelarrayan  zimmerman  zona  zorrino  \n",
       "candidato          1.0        2.0  13.0      1.0  \n",
       "encontrado         0.0        0.0   0.0      0.0  \n",
       "\n",
       "[2 rows x 4061 columns]"
      ]
     },
     "execution_count": 108,
     "metadata": {},
     "output_type": "execute_result"
    }
   ],
   "source": [
    "titulos_pivot.transpose()"
   ]
  },
  {
   "cell_type": "code",
   "execution_count": null,
   "metadata": {},
   "outputs": [],
   "source": []
  },
  {
   "cell_type": "code",
   "execution_count": 116,
   "metadata": {},
   "outputs": [
    {
     "data": {
      "text/plain": [
       "'4.Conclusiones Medicolegales. Vistos antecedentes obrantes autos cuanto surge acabado examen clinico semiologico efectuado persona actor demuestran estudios complementarios diagnostico fecha presenta incapacidad orden 5420 total permanente guarda relacion estricta causalidad evento dañoso autos segun Baremo Ley  habiendose aportado autos documental medica alguna permita sostener contrario. 5.Acompaña copias digitales. En cumplimiento dispuesto Acordada CSJN experto manifiesta manera simultanea presentacion presente informe procedido acompañar referidas copias digitales. Solicito agreguen referidas copias digitales efectos. Es cuanto puedo informar VS. Proveer Conformidad SERA JUSTICIA. Dr. Guillermo Ricardo Dambrosi MN 45.57 PERITO MEDICO'"
      ]
     },
     "execution_count": 116,
     "metadata": {},
     "output_type": "execute_result"
    }
   ],
   "source": [
    "dfSinTitulosEncontrados.expediente[2000][11877:]"
   ]
  },
  {
   "cell_type": "code",
   "execution_count": null,
   "metadata": {},
   "outputs": [],
   "source": []
  }
 ],
 "metadata": {
  "kernelspec": {
   "display_name": "Python 3.9.5 ('proyecto-env')",
   "language": "python",
   "name": "python3"
  },
  "language_info": {
   "codemirror_mode": {
    "name": "ipython",
    "version": 3
   },
   "file_extension": ".py",
   "mimetype": "text/x-python",
   "name": "python",
   "nbconvert_exporter": "python",
   "pygments_lexer": "ipython3",
   "version": "3.9.5"
  },
  "orig_nbformat": 4,
  "vscode": {
   "interpreter": {
    "hash": "009f8d941f1a5e5fa5c53bd1fe1f1a27e75894b84557fa679569ec42254b5e02"
   }
  }
 },
 "nbformat": 4,
 "nbformat_minor": 2
}
