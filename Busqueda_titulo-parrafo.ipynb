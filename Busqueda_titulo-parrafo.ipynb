{
 "cells": [
  {
   "cell_type": "markdown",
   "metadata": {},
   "source": [
    "# Limpieza de texto\n",
    "### Creación de los dataframe y limpieza de texto"
   ]
  },
  {
   "cell_type": "code",
   "execution_count": 1,
   "metadata": {},
   "outputs": [],
   "source": [
    "import pandas as pd\n",
    "import numpy as np\n",
    "from pprint import pprint\n",
    "\n",
    "df = pd.read_csv('pericias_medicas.csv', sep=',',  encoding='utf-8')\n",
    "#convierte en string los datos de la columna text\n",
    "df1 = df['text'].apply(str)"
   ]
  },
  {
   "cell_type": "code",
   "execution_count": 2,
   "metadata": {},
   "outputs": [],
   "source": [
    "import re\n",
    "def general(txt: str, bert=False, nums=True) -> str:\n",
    "    \"\"\"\n",
    "    Elimina caracteres no deseados\n",
    "    Params:\n",
    "        **txt**:texto a ser limpiado de caracteres no desaeados\n",
    "    \"\"\"\n",
    "    if nums:\n",
    "        txt = re.sub(r'\\d+', ' ', txt)\n",
    "    if not bert:\n",
    "        txt = txt.translate(str.maketrans(\n",
    "            'áéíóúýàèìòùÁÉÍÓÚÀÈÌÒÙÝ', 'aeiouyaeiouAEIOUAEIOUY'))\n",
    "        txt = re.sub(r'[^\\w\\s]', '', txt)\n",
    "\n",
    "    txt = txt.replace('\\r', ' ').replace(\"\\v\", ' ').replace(\n",
    "        \"\\t\", ' ').replace(\"\\f\", ' ').replace(\"\\a\", ' ').replace(\"\\b\", ' ')\n",
    "    txt = re.sub(' +', ' ', txt)\n",
    "    txt = txt.strip()\n",
    "    return txt"
   ]
  },
  {
   "cell_type": "code",
   "execution_count": 3,
   "metadata": {},
   "outputs": [],
   "source": [
    "# Limpieza de texto\n",
    "# Primera etapa de la limpieza de texto\n",
    "import re, string, unicodedata\n",
    "'''\n",
    "Se hace la eliminacion de texto entre corchetes, acentos, signos de puntuacion (excepto . y :), palabras con numeros.\n",
    "Se eliminan los espacios de sobra\n",
    "Se eliminan \\r, \\t, \\v, \\f, \\a\n",
    "'''\n",
    "def limpiarTexto1(txt: str, bert=False, nums=False) -> str:\n",
    "    \"\"\"\n",
    "    Elimina caracteres no deseados\n",
    "    Params:\n",
    "        **txt**:texto a ser limpiado de caracteres no desaeados\n",
    "    \"\"\"\n",
    "    if nums:\n",
    "        txt = re.sub(r'\\d+', ' ', txt)\n",
    "    if not bert:\n",
    "        txt = txt.translate(str.maketrans(\n",
    "            'áéíóúýàèìòùÁÉÍÓÚÀÈÌÒÙÝ', 'aeiouyaeiouAEIOUAEIOUY'))\n",
    "\n",
    "    '''\n",
    "    Eliminamos caracteres especiales: tabulador horizontal(\\t), tabulador vertical(\\v), \n",
    "    retorno de carro(\\r), avance de pagina(\\f), \n",
    "    caracter de retroceso: Marca el límite de una palabra(\\b), \n",
    "    '''\n",
    "    txt = txt.replace('\\r', ' ').replace(\"\\v\", ' ').replace(\n",
    "        \"\\t\", ' ').replace(\"\\f\", ' ').replace(\"\\a\", ' ').replace(\"\\b\", ' ')\n",
    "    txt = re.sub(' +', ' ', txt)\n",
    "    txt = txt.strip()\n",
    "    return txt\n",
    "df1 = df1.apply(str)\n",
    "df1 = df1.apply(limpiarTexto1)"
   ]
  },
  {
   "cell_type": "code",
   "execution_count": 4,
   "metadata": {},
   "outputs": [],
   "source": [
    "# Segunda fase de limpieza\n",
    "# Se eliminan todos los elementos que meten ruido al texto y que no fueron eliminados en la fase de limpieza 1.\n",
    "import re\n",
    "\n",
    "def limpiarTexto2(text):\n",
    "    text = re.sub('^ ',' ',text)\n",
    "    text = re.sub('\\n +\\n','\\n',text)\n",
    "    text = re.sub(' +\\n\\n','\\n',text)\n",
    "    text = re.sub('\\n\\n+','\\n',text)\n",
    "    text = re.sub(' \\n','\\n',text)\n",
    "    text = re.sub('\\d\\n','',text)\n",
    "    text = re.sub('\\x0c','',text)\n",
    "    text = re.sub('\\u200b\\n','',text)\n",
    "    text = re.sub('\\d{3,100}','',text)\n",
    "    text = re.sub('\\d+-\\d+','',text)\n",
    "    text = re.sub('\\x0c','',text)\n",
    "    text = re.sub('[nN]º|[nN][. ]º','',text)\n",
    "    text = re.sub('[º<>/]','',text)\n",
    "    text = re.sub('\\d{3,100}','',text)\n",
    "    text = re.sub('[a-zA-z-.]+@[a-zA-Z]+.com','',text)\n",
    "    return text\n",
    "\n",
    "df1 = df1.apply(limpiarTexto2)"
   ]
  },
  {
   "cell_type": "code",
   "execution_count": 5,
   "metadata": {},
   "outputs": [],
   "source": [
    "# Tercera fase de limpieza\n",
    "# Eliminamos las lineas que no son de utilidad para el analisis o que van a afectar los resultados del mismo.\n",
    "# Ejemplo de linea eliminada: las lineas que comienzan con \"Se encuentra contestada en.....\"\n",
    "import re\n",
    "\n",
    "def limpiarTexto3(text):\n",
    "    text = re.sub('[a-z1-9.]+[).-] [s|S]e encuentra contestad[a|o] .+[. \\n]','',text)\n",
    "    text = re.sub('[0-9]+[. ]+[yY]a fue contestado.+[.\\n]','',text)\n",
    "    text = re.sub('[fF]oja [1-9].+\\n', '', text)\n",
    "    text = re.sub('[pP]regunta[ 0-9]+[)].+\\n|[rR]espuesta[ 0-9]+[)].+\\n','',text)#elimina oraciones comenzadas en preguta/respuesta.\n",
    "    text = re.sub('V[. ]+[S\\n\\.]+', '', text)\n",
    "    #text = re.sub('[IV]+.[A-Z]{1,3}[\\n.]', '', text)\n",
    "    text = re.sub('[I][.][P][.]','',text)\n",
    "    text = re.sub('[I][.][T][.]','',text)\n",
    "    text = re.sub('[I][.][A][.]','',text)\n",
    "    text = re.sub('[I][.][L][.]','',text)\n",
    "    text = re.sub('[I][.][B][.]','',text)\n",
    "    text = re.sub('[I][.][N][.]','',text)\n",
    "    text = re.sub('[I][.][V][.]','',text)\n",
    "    text = re.sub('[V][.][M][.]','',text)\n",
    "    text = re.sub('[V][.][A][.]','',text)\n",
    "\n",
    "    return text\n",
    "\n",
    "dfLimpio = df1.apply(limpiarTexto3)\n",
    "dfLimpio = dfLimpio.apply(limpiarTexto2)\n",
    "#pprint(dfLimpio[0])"
   ]
  },
  {
   "cell_type": "code",
   "execution_count": 323,
   "metadata": {},
   "outputs": [],
   "source": [
    "# limpiar titulos\n",
    "def limpiar_palabras(text):\n",
    "    text = re.sub(r'(I{1,3}|IV|V|VI{1,4}|IX|X)[). -]|[^\\w\\s]',' ',text)\n",
    "    #text = re.sub(r'(i{1,3}|iv|v|vi{1,4}|ix|x)[). -]|[^\\w\\s]','',text)\n",
    "    text=text.lower()\n",
    "    text = [\n",
    "        i for i in text.split() if len(i) > 3\n",
    "    ]\n",
    "    return ' '.join(text)"
   ]
  },
  {
   "cell_type": "markdown",
   "metadata": {},
   "source": [
    "#### Eliminar stopwords"
   ]
  },
  {
   "cell_type": "code",
   "execution_count": 320,
   "metadata": {},
   "outputs": [],
   "source": [
    "import nltk\n",
    "import re\n",
    "\n",
    "stops = nltk.corpus.stopwords.words('spanish')\n",
    "\n",
    "def remove_stops(texto: str) -> str:\n",
    "    \"\"\"\n",
    "    Función que elimina stopwords\n",
    "    Params:\n",
    "        **texto**:texto a ser limpiado de stopwords\n",
    "\n",
    "    \"\"\"\n",
    "    texto = limpiar_palabras(texto)\n",
    "    texto = [\n",
    "        i for i in texto.split() if i not in stops\n",
    "    ]\n",
    "    return ' '.join(texto)"
   ]
  },
  {
   "cell_type": "markdown",
   "metadata": {},
   "source": [
    "# Busqueda de titulos"
   ]
  },
  {
   "cell_type": "markdown",
   "metadata": {},
   "source": [
    "## Títulos con números romanos y en mayúsculas"
   ]
  },
  {
   "cell_type": "code",
   "execution_count": 8,
   "metadata": {},
   "outputs": [],
   "source": [
    "# Busca títulos en mayusculas\n",
    "def buscarTitulosMayusculas(text):\n",
    "    # Expresiín regular para encontrar títulos en mayusculas.\n",
    "    tituloMayusculas =re.compile(r'(I{1,3}|IV|V|VI{1,3}|IX|X)[-.) ]+[A-Z -]+[:\\.\\n]') #[1-9]|\n",
    "    titulosMayusculasEncontrados = []\n",
    "\n",
    "    for m in tituloMayusculas.finditer(text):\n",
    "        if len(m.group()) > 8:\n",
    "            titulosMayusculasEncontrados.append(m.group())\n",
    "\n",
    "    return titulosMayusculasEncontrados\n",
    "# titulosMAyuscula: lista que guarda los títulos en mayusculas\n",
    "titulosMayusculas=[]\n",
    "for expediente in dfLimpio:\n",
    "    titulosMayusculas.append(buscarTitulosMayusculas(expediente))\n",
    "\n",
    "dfTitulosMayusculasConStops = pd.DataFrame(titulosMayusculas)\n"
   ]
  },
  {
   "cell_type": "markdown",
   "metadata": {},
   "source": [
    "# Creacion de dataframe de solo titulos en mayusculas"
   ]
  },
  {
   "cell_type": "code",
   "execution_count": 133,
   "metadata": {},
   "outputs": [],
   "source": [
    "# Creamos un dataframe para guardar expedientes que solamente tienen titulos en mayusculas\n",
    "# Guardo en dfTitulosMayusculas los expedientes y su indice dentro del dataframe limpio (con todos los expedientes)\n",
    "expConTitulosMayusculas = []\n",
    "expSinTitulosEncontrados = []\n",
    "for id,titulo in  enumerate(dfLimpio):\n",
    "    if len(titulosMayusculas[id]) > 0:\n",
    "        expConTitulosMayusculas.append((id,titulo))\n",
    "    else:\n",
    "        expSinTitulosEncontrados.append((id,titulo))\n",
    "\n",
    "\n",
    "dfTitulosMayusculas = pd.DataFrame(expConTitulosMayusculas, columns=['id','expediente'])\n",
    "dfSinTitulosEncontrados = pd.DataFrame(expSinTitulosEncontrados, columns=['id','expediente'])\n",
    "#pprint(dfTitulosMayusculas)"
   ]
  },
  {
   "cell_type": "code",
   "execution_count": null,
   "metadata": {},
   "outputs": [],
   "source": [
    "pprint(dfSinTitulosEncontrados['expediente'][0])"
   ]
  },
  {
   "cell_type": "code",
   "execution_count": 134,
   "metadata": {},
   "outputs": [],
   "source": [
    "dfSinTitulosEncontrados['expediente'] = dfSinTitulosEncontrados['expediente'].apply(remove_stops)"
   ]
  },
  {
   "cell_type": "markdown",
   "metadata": {},
   "source": [
    "# NUEVAS BUSQUEDAS\n",
    "### Títulos con números latinos y romanos en mayúsculas. Escritos en mayusculas y minusculas."
   ]
  },
  {
   "cell_type": "code",
   "execution_count": 288,
   "metadata": {},
   "outputs": [],
   "source": [
    "# Busca títulos en mayusculas o minusculas comenzados con numeros latinos o romanos\n",
    "def buscarTitulosLatinosMayusculas(text):\n",
    "    # Expresiín regular para encontrar títulos en mayusculas.\n",
    "    tituloMayusculas =re.compile(r'((I{1,3}|IV|V|VI{1,3}|IX|X)|[0-9])[.)-]+[A-Za-z -]+[:\\.\\n]') #[1-9]|\n",
    "    titulosMayusculasEncontrados = []\n",
    "    #i=1\n",
    "    for m in tituloMayusculas.finditer(text):\n",
    "        if len(m.group()) > 8 and len(m.group().split()) <= 5:# and re.findall(str(i),m.group()):\n",
    "            titulosMayusculasEncontrados.append(m.group())\n",
    "\n",
    "\n",
    "    return titulosMayusculasEncontrados\n",
    "# titulosLatinosMayusculas: lista que guarda los títulos encontrados\n",
    "titulosLatinosMayusculas=[]\n",
    "for expediente in dfSinTitulosEncontrados['expediente']:\n",
    "    #if len(buscarTitulosLatinosMayusculas(expediente)) > 3:\n",
    "    titulosLatinosMayusculas.append(buscarTitulosLatinosMayusculas(expediente))"
   ]
  },
  {
   "cell_type": "code",
   "execution_count": 289,
   "metadata": {},
   "outputs": [
    {
     "data": {
      "text/plain": [
       "['1) Antecedentes Medicos Legales Importancia.',\n",
       " '2) Examen Fisico.',\n",
       " '3) Examen Psiquico.',\n",
       " '4) Examenes complementarios.',\n",
       " '5) Consideraciones medico legales.',\n",
       " '6) Conclusiones medico legales.',\n",
       " '4.. Calculo Incapacidad Sobreviniente:',\n",
       " '7) Puntos pericia parte actora:',\n",
       " '6. Ver conclusiones medico legales.',\n",
       " '8) Puntos pericia parte demandada:',\n",
       " '6. Asi realizo.']"
      ]
     },
     "execution_count": 289,
     "metadata": {},
     "output_type": "execute_result"
    }
   ],
   "source": [
    "titulosLatinosMayusculas[0]"
   ]
  },
  {
   "cell_type": "markdown",
   "metadata": {},
   "source": [
    "# Dataframe de títulos candidatos"
   ]
  },
  {
   "cell_type": "code",
   "execution_count": 246,
   "metadata": {},
   "outputs": [],
   "source": [
    "# Encontrar la ubicacion del titulo en el documento\n",
    "titulosCandidatos=[]\n",
    "expSinTitulosEncontrados = dfSinTitulosEncontrados['expediente'].apply(str)\n",
    "for i in range(len(expSinTitulosEncontrados)):\n",
    "    for titulo in titulosLatinosMayusculas[i]:\n",
    "        inicioTitulo = expSinTitulosEncontrados[i].index(titulo)\n",
    "        caracteres = len(titulo)\n",
    "        titulo = re.sub('[-]',' ',titulo)\n",
    "        titulo = limpiar_palabras(titulo)\n",
    "        palabrasPorTitulo = len(titulo.split())\n",
    "        finalTitulo = inicioTitulo + caracteres\n",
    "        titulosCandidatos.append((i,titulo, inicioTitulo, finalTitulo, palabrasPorTitulo))\n",
    "\n",
    "dfTitulosCandidatos = pd.DataFrame(titulosCandidatos,columns=['id','titulo','inicio','fin','longitud'])"
   ]
  },
  {
   "cell_type": "code",
   "execution_count": 264,
   "metadata": {},
   "outputs": [],
   "source": [
    "# Creamos un dataframe para guardar expedientes que no tienen ningun titulo candidato\n",
    "\n",
    "# Guardo en dfSinTitulos los expedientes y su indice que no tienen titulos candidatos en el dataframe dfSinTitulosEncontrados\n",
    "expSinTitulos=[]\n",
    "for id,titulo in  enumerate(dfSinTitulosEncontrados['expediente']):\n",
    "    if len(titulosLatinosMayusculas[id]) <= 0:\n",
    "        expSinTitulos.append((id,titulo))\n",
    "\n",
    "dfSinTitulos = pd.DataFrame(expSinTitulos, columns=['id','expediente'])"
   ]
  },
  {
   "cell_type": "code",
   "execution_count": 337,
   "metadata": {},
   "outputs": [
    {
     "data": {
      "text/html": [
       "<div>\n",
       "<style scoped>\n",
       "    .dataframe tbody tr th:only-of-type {\n",
       "        vertical-align: middle;\n",
       "    }\n",
       "\n",
       "    .dataframe tbody tr th {\n",
       "        vertical-align: top;\n",
       "    }\n",
       "\n",
       "    .dataframe thead th {\n",
       "        text-align: right;\n",
       "    }\n",
       "</style>\n",
       "<table border=\"1\" class=\"dataframe\">\n",
       "  <thead>\n",
       "    <tr style=\"text-align: right;\">\n",
       "      <th></th>\n",
       "      <th>id</th>\n",
       "      <th>expediente</th>\n",
       "    </tr>\n",
       "  </thead>\n",
       "  <tbody>\n",
       "    <tr>\n",
       "      <th>0</th>\n",
       "      <td>8</td>\n",
       "      <td>SE PRESENTA – HACE SABER: Juz T 5Sr. Juez: ROB...</td>\n",
       "    </tr>\n",
       "    <tr>\n",
       "      <th>1</th>\n",
       "      <td>11</td>\n",
       "      <td>PERITO MEDICO PRESENTA INFORME PERICIAL Juzgad...</td>\n",
       "    </tr>\n",
       "    <tr>\n",
       "      <th>2</th>\n",
       "      <td>12</td>\n",
       "      <td>PERITO MEDICO PRESENTA INFORME PERICIAL. Sr. J...</td>\n",
       "    </tr>\n",
       "    <tr>\n",
       "      <th>3</th>\n",
       "      <td>13</td>\n",
       "      <td>PERITO MEDICO INFORMA -SOLICITA EXPEDIENTE JUZ...</td>\n",
       "    </tr>\n",
       "    <tr>\n",
       "      <th>4</th>\n",
       "      <td>15</td>\n",
       "      <td>PERITO MEDICO PRESENTA PERICIA Sr. Juez: Susan...</td>\n",
       "    </tr>\n",
       "    <tr>\n",
       "      <th>...</th>\n",
       "      <td>...</td>\n",
       "      <td>...</td>\n",
       "    </tr>\n",
       "    <tr>\n",
       "      <th>719</th>\n",
       "      <td>2518</td>\n",
       "      <td>Juz T 4Sr. Juez: PERITO MEDICO SE PRESENTA – A...</td>\n",
       "    </tr>\n",
       "    <tr>\n",
       "      <th>720</th>\n",
       "      <td>2520</td>\n",
       "      <td>Perito Medico Legista responde intimacion Pres...</td>\n",
       "    </tr>\n",
       "    <tr>\n",
       "      <th>721</th>\n",
       "      <td>2525</td>\n",
       "      <td>PERITO MEDICO INFORMA . JUZGADO NACIONAL DEL T...</td>\n",
       "    </tr>\n",
       "    <tr>\n",
       "      <th>722</th>\n",
       "      <td>2528</td>\n",
       "      <td>-J. Trabajo 6PERITO MEDICA COMUNICA Señora jue...</td>\n",
       "    </tr>\n",
       "    <tr>\n",
       "      <th>723</th>\n",
       "      <td>2530</td>\n",
       "      <td>PERITO PSICOLOGO INFORMA SEGUNDA INCOMPARECENC...</td>\n",
       "    </tr>\n",
       "  </tbody>\n",
       "</table>\n",
       "<p>724 rows × 2 columns</p>\n",
       "</div>"
      ],
      "text/plain": [
       "       id                                         expediente\n",
       "0       8  SE PRESENTA – HACE SABER: Juz T 5Sr. Juez: ROB...\n",
       "1      11  PERITO MEDICO PRESENTA INFORME PERICIAL Juzgad...\n",
       "2      12  PERITO MEDICO PRESENTA INFORME PERICIAL. Sr. J...\n",
       "3      13  PERITO MEDICO INFORMA -SOLICITA EXPEDIENTE JUZ...\n",
       "4      15  PERITO MEDICO PRESENTA PERICIA Sr. Juez: Susan...\n",
       "..    ...                                                ...\n",
       "719  2518  Juz T 4Sr. Juez: PERITO MEDICO SE PRESENTA – A...\n",
       "720  2520  Perito Medico Legista responde intimacion Pres...\n",
       "721  2525  PERITO MEDICO INFORMA . JUZGADO NACIONAL DEL T...\n",
       "722  2528  -J. Trabajo 6PERITO MEDICA COMUNICA Señora jue...\n",
       "723  2530  PERITO PSICOLOGO INFORMA SEGUNDA INCOMPARECENC...\n",
       "\n",
       "[724 rows x 2 columns]"
      ]
     },
     "execution_count": 337,
     "metadata": {},
     "output_type": "execute_result"
    }
   ],
   "source": [
    "dfSinTitulos"
   ]
  },
  {
   "cell_type": "code",
   "execution_count": 338,
   "metadata": {},
   "outputs": [
    {
     "name": "stdout",
     "output_type": "stream",
     "text": [
      "('SE PRESENTA – HACE SABER: Juz T 5Sr. Juez: ROBACIO JUAN CARLOS, perito '\n",
      " 'medico, CUIT 20--2, e-mail , constituyendo domicilio legal calle Cabildo D '\n",
      " 'ciudad Buenos Aires autos “AUGIER, JORGE OMAR C PROVINCIA ART S.A. S '\n",
      " 'ACCIDENTE - LEY ESPECIAL”; Expte 17, presenta dice: Se informa cita AUGIER, '\n",
      " 'JORGE OMAR , 09.3Hs, efectos realizar evaluacion misma consultorio calle Av. '\n",
      " 'Cabildo 1 piso dto. “D” ciudad Buenos Aires. Proveer conformidad SERA '\n",
      " 'JUSTICIA ROBACIO JUAN CARLOS Perito Medico M.N.')\n",
      "('SE PRESENTA – HACE SABER: \\n'\n",
      " '\\n'\n",
      " 'Juz T 51 \\n'\n",
      " '\\n'\n",
      " ' \\n'\n",
      " '\\n'\n",
      " 'Sr. Juez: \\n'\n",
      " '\\n'\n",
      " 'ROBACIO  JUAN  CARLOS,  perito  médico,  CUIT  Nº  20-04369960-2,  e-mail \\n'\n",
      " '\\n'\n",
      " 'juancarobacio@yahoo.com, constituyendo domicilio legal en la calle Cabildo '\n",
      " '2327 \\n'\n",
      " '\\n'\n",
      " '1º  D  de  la  ciudad  de  Buenos  Aires  en  los  autos  “AUGIER,  JORGE  '\n",
      " 'OMAR  C/ \\n'\n",
      " '\\n'\n",
      " 'PROVINCIA  ART  S.A.  S/  ACCIDENTE  -  LEY  ESPECIAL”;  Expte  Nº \\n'\n",
      " '\\n'\n",
      " '25017/17, a V.S. se presenta y dice: \\n'\n",
      " '\\n'\n",
      " '        Se informa que se cita a AUGIER, JORGE OMAR para el 22/10/18, a las '\n",
      " '09.30 \\n'\n",
      " '\\n'\n",
      " 'Hs, a efectos de realizar la evaluación de la misma en mi consultorio de la '\n",
      " 'calle Av. \\n'\n",
      " '\\n'\n",
      " 'Cabildo 2327 1º piso dto. “D” de la ciudad de Buenos Aires. \\n'\n",
      " '\\n'\n",
      " ' \\n'\n",
      " '\\n'\n",
      " ' \\n'\n",
      " '\\n'\n",
      " ' \\n'\n",
      " '\\n'\n",
      " ' \\n'\n",
      " '\\n'\n",
      " ' \\n'\n",
      " '\\n'\n",
      " ' \\n'\n",
      " '\\n'\n",
      " 'Proveer de conformidad \\n'\n",
      " '\\n'\n",
      " 'SERA JUSTICIA \\n'\n",
      " '\\n'\n",
      " '                                                                                        '\n",
      " 'ROBACIO JUAN CARLOS \\n'\n",
      " '\\n'\n",
      " '                                                                                         '\n",
      " 'Perito Médico M.N. 31332 \\n'\n",
      " '\\n'\n",
      " '\\x0c')\n"
     ]
    }
   ],
   "source": [
    "pprint(dfSinTitulos.expediente[0])\n",
    "pprint(df.text[14])"
   ]
  },
  {
   "cell_type": "markdown",
   "metadata": {},
   "source": [
    "# Expedientes con títulos candidatos y expedientes sin títulos localizados."
   ]
  },
  {
   "cell_type": "code",
   "execution_count": 280,
   "metadata": {},
   "outputs": [
    {
     "name": "stdout",
     "output_type": "stream",
     "text": [
      "\n",
      "Cantidad de expediente que tienen titulos candidatos:        2532\n",
      "Cantidad de expedientes que no tienen titulos localizados:    724  \n",
      "Total de expedientes: 2532 \n"
     ]
    }
   ],
   "source": [
    "print(f'''\n",
    "Cantidad de expediente que tienen titulos candidatos:        {len(dfSinTitulosEncontrados)}\n",
    "Cantidad de expedientes que no tienen titulos localizados:    {len(dfSinTitulos)}  \n",
    "Total de expedientes: {len(dfSinTitulosEncontrados)} ''')"
   ]
  },
  {
   "cell_type": "code",
   "execution_count": 292,
   "metadata": {},
   "outputs": [
    {
     "data": {
      "image/png": "[encoded data removed]",
      "text/plain": [
       "<Figure size 432x288 with 1 Axes>"
      ]
     },
     "metadata": {},
     "output_type": "display_data"
    }
   ],
   "source": [
    "# Creo un grafico de torta\n",
    "import matplotlib.pyplot as plt\n",
    "\n",
    "totalExp = len(dfSinTitulosEncontrados)\n",
    "totalExpSinEncontrar = len(dfSinTitulos)\n",
    "\n",
    "# Creación de grafico de torta de la cantidad de expedientes con títulos en mayúsculas sobre el total de expedientes.\n",
    "cantExp = [totalExp, totalExpSinEncontrar]\n",
    "nombreTitulos = ['Total de Expedientes con Títulos Candidatos', 'Total de Expedientes sin Títulos Encontrados']\n",
    "colores = ['#6DEA53','#FA3333']\n",
    "desfase=(0,0.1)\n",
    "\n",
    "plt.pie(cantExp, labels=nombreTitulos, autopct= '%0.1f %%', colors=colores, explode=desfase) #, explode=desfase\n",
    "plt.show()"
   ]
  },
  {
   "cell_type": "markdown",
   "metadata": {},
   "source": [
    "### Títulos con números romanos en minusculas. Escritos en mayusculas y minusculas."
   ]
  },
  {
   "cell_type": "code",
   "execution_count": 293,
   "metadata": {},
   "outputs": [],
   "source": [
    "# Busca títulos en mayusculas o minusculas que comienzan con numeros romanos en minuscula.\n",
    "def buscarTitulosRomanosMinusculas(text):\n",
    "    # Expresiín regular para encontrar títulos en mayusculas.\n",
    "    tituloMayusculas =re.compile(r'(i{1,3}|iv|v|vi{1,3}|ix|x)[.)-]+[A-Za-z -]+[:\\.\\n]') #[1-9]|\n",
    "    titulosMayusculasEncontrados = []\n",
    "    #i=1\n",
    "    for m in tituloMayusculas.finditer(text):\n",
    "        if len(m.group()) > 8 and len(m.group().split()) <= 5:# and re.findall(str(i),m.group()):\n",
    "            titulosMayusculasEncontrados.append(m.group())\n",
    "            #i=i+1\n",
    "\n",
    "    return titulosMayusculasEncontrados\n",
    "# titulosMAyuscula: lista que guarda los títulos en mayusculas\n",
    "titulosRomanosMinusculas=[]\n",
    "for expediente in dfSinTitulosEncontrados['expediente']:\n",
    "    if len(buscarTitulosRomanosMinusculas(expediente)) > 3:\n",
    "        titulosRomanosMinusculas.append(buscarTitulosRomanosMinusculas(expediente))"
   ]
  },
  {
   "cell_type": "code",
   "execution_count": 12,
   "metadata": {},
   "outputs": [],
   "source": [
    "dfTitulosMayusculas.to_excel('titulos_mayusculas.xlsx', index=False)"
   ]
  },
  {
   "cell_type": "markdown",
   "metadata": {},
   "source": [
    "# Expedientes con titulos en mayusculas sobre el total de expedientes"
   ]
  },
  {
   "cell_type": "code",
   "execution_count": 242,
   "metadata": {},
   "outputs": [
    {
     "name": "stdout",
     "output_type": "stream",
     "text": [
      "\n",
      "Cantidad de expediente que tienen titulos en mayusculas:        1274\n",
      "Cantidad de expedientes que no tienen titulos en mayusculas:    2532  \n",
      "Total de expedientes: 3806 \n"
     ]
    }
   ],
   "source": [
    "print(f'''\n",
    "Cantidad de expediente que tienen titulos en mayusculas:        {len(dfTitulosMayusculas)}\n",
    "Cantidad de expedientes que no tienen titulos en mayusculas:    {len(dfLimpio) - len(dfTitulosMayusculas)}  \n",
    "Total de expedientes: {len(dfLimpio)} ''')"
   ]
  },
  {
   "cell_type": "code",
   "execution_count": 243,
   "metadata": {},
   "outputs": [
    {
     "data": {
      "image/png": "[encoded data removed]",
      "text/plain": [
       "<Figure size 432x288 with 1 Axes>"
      ]
     },
     "metadata": {},
     "output_type": "display_data"
    }
   ],
   "source": [
    "# Creo un grafico de torta\n",
    "import matplotlib.pyplot as plt\n",
    "\n",
    "totalExp = len(dfLimpio)\n",
    "totalExpMayusculas = len(dfTitulosMayusculas)\n",
    "\n",
    "# Creación de grafico de torta de la cantidad de expedientes con títulos en mayúsculas sobre el total de expedientes.\n",
    "cantExp = [totalExp, totalExpMayusculas]\n",
    "nombreTitulos = ['Total de Expedientes', 'Total de Expedientes con Títulos en Mayúsculas']\n",
    "colores = ['#2C4AF1','#2CF168']\n",
    "desfase=(0,0.1)\n",
    "\n",
    "plt.pie(cantExp, labels=nombreTitulos, autopct= '%0.1f %%', colors=colores, explode=desfase) #, explode=desfase\n",
    "plt.show()"
   ]
  },
  {
   "cell_type": "markdown",
   "metadata": {},
   "source": [
    "## Titulos y ubicacion"
   ]
  },
  {
   "cell_type": "code",
   "execution_count": 295,
   "metadata": {},
   "outputs": [
    {
     "name": "stdout",
     "output_type": "stream",
     "text": [
      "[('I-PROEMIO:', 161, 171, 10),\n",
      " ('II-ANTECEDENTES DE INTERES MEDICO-LEGAL:', 690, 730, 40),\n",
      " ('III-EXAMEN FISICO DEL ACTOR:', 1646, 1674, 28),\n",
      " ('IV-CONSIDERACIONES MEDICO-LEGALES:', 9140, 9174, 34),\n",
      " ('VII-CONCLUSIONES.', 19171, 19188, 17),\n",
      " ('VII-INCAPACIDAD:', 20974, 20990, 16),\n",
      " ('VIII CONTESTACION DE LOS PUNTOS DE PERICIA:', 21297, 21340, 43),\n",
      " ('IX-PETITORIO:', 21411, 21424, 13)]\n"
     ]
    }
   ],
   "source": [
    "# Encontrar la ubicacion del titulo en el documento\n",
    "titulosPosicion=[]\n",
    "\n",
    "for titulo in titulosMayusculas[0]:\n",
    "    inicioTitulo = dfLimpio[0].index(titulo)\n",
    "    palabrasPorTitulo = len(titulo)\n",
    "    finalTitulo = inicioTitulo + palabrasPorTitulo\n",
    "    titulosPosicion.append((titulo, inicioTitulo, finalTitulo, palabrasPorTitulo))\n",
    "\n",
    "pprint(titulosPosicion)"
   ]
  },
  {
   "cell_type": "code",
   "execution_count": 322,
   "metadata": {},
   "outputs": [
    {
     "name": "stdout",
     "output_type": "stream",
     "text": [
      "('proemio juez nacional hortas maria andrea perito medico oficio siguientes '\n",
      " 'autos domicilio constituido calle austria piso dpto capital domicilio '\n",
      " 'electronico cumplimiento dispuesto referente presentes autos despues haber '\n",
      " 'examinado dijo boiero franco ivan tomaron momento examen clinico actual '\n",
      " 'consideraron capacidad generica particular puntos pericia solicitados partes')\n",
      "'LONGITUD DE PALABRAS: 45'\n"
     ]
    }
   ],
   "source": [
    "# Creo una variable que contiene el párrafo de un título en particular\n",
    "parrafoConsideraciones = dfLimpio[0][161:690]\n",
    "#parrafoConsideraciones = general(parrafoConsideraciones)\n",
    "parrafoConsideraciones = remove_stops(parrafoConsideraciones)\n",
    "#parrafoConsideraciones = limpiar_palabras(parrafoConsideraciones)\n",
    "pprint(parrafoConsideraciones)\n",
    "pprint(f'LONGITUD DE PALABRAS: {len(parrafoConsideraciones.split())}')"
   ]
  },
  {
   "cell_type": "markdown",
   "metadata": {},
   "source": [
    "# DATAFRAME DE UBICACIÓN DE TÍTULOS"
   ]
  },
  {
   "cell_type": "code",
   "execution_count": 17,
   "metadata": {},
   "outputs": [],
   "source": [
    "# Encontrar la ubicacion del titulo en el documento\n",
    "titulosPosicion1=[]\n",
    "\n",
    "for i in range(len(dfLimpio)):\n",
    "    for titulo in titulosMayusculas[i]:\n",
    "        inicioTitulo = dfLimpio[i].index(titulo)\n",
    "        caracteres = len(titulo)\n",
    "        titulo = re.sub('[-]',' ',titulo)\n",
    "        titulo = limpiar_palabras(titulo)\n",
    "        palabrasPorTitulo = len(titulo.split())\n",
    "        finalTitulo = inicioTitulo + caracteres\n",
    "        titulosPosicion1.append((i,titulo, inicioTitulo, finalTitulo, palabrasPorTitulo))\n",
    "\n",
    "dfUbicacionTitulos = pd.DataFrame(titulosPosicion1,columns=['id','titulo','inicio','fin','longitud'])"
   ]
  },
  {
   "cell_type": "markdown",
   "metadata": {},
   "source": [
    "## Calculo de la longitud de los parrafos"
   ]
  },
  {
   "cell_type": "code",
   "execution_count": 326,
   "metadata": {},
   "outputs": [],
   "source": [
    "# Calculo la longitud de caracteres de parrafos\n",
    "def longitud_parrafos(ubicacion, original):\n",
    "    parrafos=[]\n",
    "    for i in range(len(ubicacion)):\n",
    "        if i < len(ubicacion)-1:\n",
    "            inicio = ubicacion['inicio'][i]\n",
    "            fin = ubicacion['inicio'][i+1]\n",
    "            idDf = ubicacion['id'][i]\n",
    "            if (fin-inicio) > 0:\n",
    "                parrafo = original[idDf][inicio:fin]\n",
    "                parrafo = remove_stops(parrafo)\n",
    "                parrafo = general(parrafo)\n",
    "               \n",
    "                #parrafo = limpiar_palabras(parrafo)\n",
    "                caracteres = len(parrafo.split())\n",
    "                parrafos.append(caracteres)\n",
    "            else:\n",
    "                parrafo = original[idDf][inicio:]\n",
    "                parrafo = general(parrafo)\n",
    "                parrafo = remove_stops(parrafo)\n",
    "                parrafo = limpiar_palabras(parrafo)\n",
    "                caracteres = len(parrafo.split())\n",
    "                parrafos.append(caracteres)\n",
    "    return parrafos\n",
    "\n",
    "longitudP = longitud_parrafos(dfUbicacionTitulos, dfLimpio)"
   ]
  },
  {
   "cell_type": "code",
   "execution_count": 19,
   "metadata": {},
   "outputs": [],
   "source": [
    "dfUbicacionTitulos['longitud_parrafo'] = pd.DataFrame(longitudP)"
   ]
  },
  {
   "cell_type": "code",
   "execution_count": 20,
   "metadata": {},
   "outputs": [],
   "source": [
    "dfUbicacionTitulos['titulo'].to_csv('titulosEncontrados.csv',index=False)\n",
    "dfUbicacionTitulos.to_csv('df_TitulosEncontrados.csv',index=False)\n",
    "dfUbicacionTitulos.to_excel('df_TitulosEncontrados.xlsx',index=False)"
   ]
  },
  {
   "cell_type": "code",
   "execution_count": 283,
   "metadata": {},
   "outputs": [],
   "source": [
    "dfTitulosCandidatos.to_csv('df_titulosCandidatos.csv',index=False)\n",
    "dfTitulosCandidatos.to_excel('df_titulosCandidatos.xlsx', index=False)"
   ]
  },
  {
   "cell_type": "code",
   "execution_count": 78,
   "metadata": {},
   "outputs": [
    {
     "data": {
      "text/plain": [
       "count    5776.000000\n",
       "mean        2.252424\n",
       "std         1.345312\n",
       "min         0.000000\n",
       "25%         1.000000\n",
       "50%         2.000000\n",
       "75%         3.000000\n",
       "max         8.000000\n",
       "Name: longitud, dtype: float64"
      ]
     },
     "execution_count": 78,
     "metadata": {},
     "output_type": "execute_result"
    }
   ],
   "source": [
    "dfUbicacionTitulos['longitud'].describe()"
   ]
  },
  {
   "cell_type": "code",
   "execution_count": null,
   "metadata": {},
   "outputs": [],
   "source": [
    "#pprint(dfLimpio[1736][14170:])"
   ]
  },
  {
   "cell_type": "code",
   "execution_count": 328,
   "metadata": {},
   "outputs": [],
   "source": [
    "# Creo una lista de parrafos\n",
    "def extraer_parrafos(ubicacion, original):\n",
    "    parrafos=[]\n",
    "    for i in range(len(ubicacion)):\n",
    "        if i < len(ubicacion)-1:\n",
    "            inicio = ubicacion['fin'][i]\n",
    "            fin = ubicacion['inicio'][i+1]\n",
    "            idDf = ubicacion['id'][i]\n",
    "            if (fin-inicio) > 0:\n",
    "                parrafo = original[idDf][inicio:fin]\n",
    "                caracteres = general(parrafo)\n",
    "                caracteres = remove_stops(caracteres)\n",
    "                caracteres = limpiar_palabras(caracteres)\n",
    "                caracteres = caracteres.split()\n",
    "                parrafos.append(caracteres)\n",
    "            else:\n",
    "                parrafo = original[idDf][inicio:]\n",
    "                caracteres = general(parrafo)\n",
    "                caracteres = remove_stops(caracteres)\n",
    "                caracteres = limpiar_palabras(caracteres)\n",
    "                caracteres = caracteres.split()\n",
    "                parrafos.append(caracteres)\n",
    "    return parrafos\n",
    "\n",
    "parrafos = extraer_parrafos(dfUbicacionTitulos,dfLimpio)"
   ]
  },
  {
   "cell_type": "code",
   "execution_count": 329,
   "metadata": {},
   "outputs": [
    {
     "name": "stdout",
     "output_type": "stream",
     "text": [
      "LONGITUD DE PALABRAS: 44\n"
     ]
    }
   ],
   "source": [
    "print(f'LONGITUD DE PALABRAS: {len(parrafos[0])}')"
   ]
  },
  {
   "cell_type": "code",
   "execution_count": 24,
   "metadata": {},
   "outputs": [],
   "source": [
    "#df['expediente'][165]"
   ]
  },
  {
   "cell_type": "markdown",
   "metadata": {},
   "source": [
    "# CREACION DE DOCUMENTO HTML\n",
    "## MUESTRO LOS TITULOS Y PARRAFOS ENCONTRADOS"
   ]
  },
  {
   "cell_type": "code",
   "execution_count": 25,
   "metadata": {},
   "outputs": [],
   "source": [
    "# Creamos un dataframe para colocar el salto de linea en formato HTML\n",
    "dfLimpioHTML = dfLimpio.apply(str)\n",
    "def limpiarTextoHTML(text):\n",
    "    text = text.strip().replace('\\n','<br>')\n",
    "    return text\n",
    "\n",
    "dfLimpioHTML = dfLimpioHTML.apply(limpiarTextoHTML)\n",
    "parrafoConsideraciones = limpiarTextoHTML(parrafoConsideraciones)"
   ]
  },
  {
   "cell_type": "code",
   "execution_count": 26,
   "metadata": {},
   "outputs": [],
   "source": [
    "colors = {\n",
    "    'procedimientos': '#cd5c5c',\n",
    "    'cuerpos': '#99ccff',\n",
    "    'afecciones': '#ffa500'\n",
    "}\n",
    "\n",
    "body = f'''\n",
    "        <p>\n",
    "        {dfLimpioHTML[1]}\n",
    "        </p>\n",
    "        <br>\n",
    "        '''\n",
    "body = body.replace(parrafoConsideraciones,f'<span style=\"background-color: #99ccff\">{parrafoConsideraciones}</span>')\n",
    "for titulo in titulosMayusculas[1]:\n",
    "    body = body.replace(titulo,f'<span style=\"background-color: #cd5c5c\">{titulo}</span>')\n",
    "with open('parrafos.html','w', encoding=\"utf-8\") as f:\n",
    "    f.write(body)"
   ]
  },
  {
   "cell_type": "markdown",
   "metadata": {},
   "source": [
    "# Gráfico de frecuencia de palabras por párrafo. BoxPlot."
   ]
  },
  {
   "cell_type": "code",
   "execution_count": null,
   "metadata": {},
   "outputs": [],
   "source": []
  },
  {
   "cell_type": "markdown",
   "metadata": {},
   "source": [
    "# TF-IDF"
   ]
  },
  {
   "cell_type": "code",
   "execution_count": 31,
   "metadata": {},
   "outputs": [],
   "source": [
    "import numpy as np\n",
    "import pandas as pd\n",
    "import nltk\n",
    "import re\n",
    "import os\n",
    "import codecs\n",
    "from sklearn import feature_extraction"
   ]
  },
  {
   "cell_type": "code",
   "execution_count": 32,
   "metadata": {},
   "outputs": [],
   "source": [
    "from nltk.stem.snowball import SnowballStemmer\n",
    "stemmer = SnowballStemmer(\"spanish\")"
   ]
  },
  {
   "cell_type": "code",
   "execution_count": 33,
   "metadata": {},
   "outputs": [],
   "source": [
    "\n",
    "# here I define a tokenizer and stemmer which returns the set of stems in the text that it is passed\n",
    "\n",
    "def tokenize_and_stem(text):\n",
    "    # first tokenize by sentence, then by word to ensure that punctuation is caught as it's own token\n",
    "    tokens = [word for sent in nltk.sent_tokenize(text) for word in nltk.word_tokenize(sent)]\n",
    "    filtered_tokens = []\n",
    "    # filter out any tokens not containing letters (e.g., numeric tokens, raw punctuation)\n",
    "    for token in tokens:\n",
    "        if re.search('[a-zA-Z]', token):\n",
    "            filtered_tokens.append(token)\n",
    "    stems = [stemmer.stem(t) for t in filtered_tokens]\n",
    "    return stems\n",
    "\n",
    "\n",
    "def tokenize_only(text):\n",
    "    # first tokenize by sentence, then by word to ensure that punctuation is caught as it's own token\n",
    "    tokens = [word.lower() for sent in nltk.sent_tokenize(text) for word in nltk.word_tokenize(sent)]\n",
    "    filtered_tokens = []\n",
    "    # filter out any tokens not containing letters (e.g., numeric tokens, raw punctuation)\n",
    "    for token in tokens:\n",
    "        if re.search('[a-zA-Z]', token):\n",
    "            filtered_tokens.append(token)\n",
    "    return filtered_tokens"
   ]
  },
  {
   "cell_type": "code",
   "execution_count": 34,
   "metadata": {},
   "outputs": [],
   "source": [
    "#not super pythonic, no, not at all.\n",
    "#use extend so it's a big flat list of vocab\n",
    "totalvocab_stemmed = []\n",
    "totalvocab_tokenized = []\n",
    "for i in titulosTfIdf:\n",
    "    allwords_stemmed = tokenize_and_stem(i) #for each item in 'synopses', tokenize/stem\n",
    "    totalvocab_stemmed.extend(allwords_stemmed) #extend the 'totalvocab_stemmed' list\n",
    "    \n",
    "    allwords_tokenized = tokenize_only(i)\n",
    "    totalvocab_tokenized.extend(allwords_tokenized)"
   ]
  },
  {
   "cell_type": "code",
   "execution_count": 35,
   "metadata": {},
   "outputs": [
    {
     "name": "stdout",
     "output_type": "stream",
     "text": [
      "there are 124979 items in vocab_frame\n"
     ]
    }
   ],
   "source": [
    "vocab_frame = pd.DataFrame({'words': totalvocab_tokenized}, index = totalvocab_stemmed)\n",
    "print ('there are ' + str(vocab_frame.shape[0]) + ' items in vocab_frame')"
   ]
  },
  {
   "cell_type": "code",
   "execution_count": 36,
   "metadata": {},
   "outputs": [
    {
     "name": "stdout",
     "output_type": "stream",
     "text": [
      "(1274, 1670)\n"
     ]
    }
   ],
   "source": [
    "from sklearn.feature_extraction.text import TfidfVectorizer\n",
    "\n",
    "#define vectorizer parameters\n",
    "tfidf_vectorizer = TfidfVectorizer(max_df=0.8, max_features=200000,\n",
    "                                 min_df=0.2,\n",
    "                                 use_idf=True, ngram_range=(1,5))# tokenizer=tokenize_and_stem\n",
    "\n",
    "tfidf_matrix = tfidf_vectorizer.fit_transform(dfTitulosMayusculas['expediente']) #fit the vectorizer to synopses\n",
    "\n",
    "print(tfidf_matrix.shape)"
   ]
  },
  {
   "cell_type": "code",
   "execution_count": 37,
   "metadata": {},
   "outputs": [],
   "source": [
    "terms = tfidf_vectorizer.get_feature_names()"
   ]
  },
  {
   "cell_type": "code",
   "execution_count": null,
   "metadata": {},
   "outputs": [],
   "source": [
    "terms"
   ]
  },
  {
   "cell_type": "markdown",
   "metadata": {},
   "source": [
    "## CountVectorizer"
   ]
  },
  {
   "cell_type": "code",
   "execution_count": 39,
   "metadata": {},
   "outputs": [],
   "source": [
    "from sklearn.feature_extraction.text import CountVectorizer\n",
    "\n",
    "coun_vect = CountVectorizer()\n",
    "count_matrix = coun_vect.fit_transform(titulosMayusculasLower.split())\n",
    "count_array = count_matrix.toarray()\n"
   ]
  },
  {
   "cell_type": "code",
   "execution_count": null,
   "metadata": {},
   "outputs": [],
   "source": [
    "coun_vect.get_feature_names()"
   ]
  },
  {
   "cell_type": "code",
   "execution_count": 335,
   "metadata": {},
   "outputs": [
    {
     "data": {
      "text/html": [
       "<div>\n",
       "<style scoped>\n",
       "    .dataframe tbody tr th:only-of-type {\n",
       "        vertical-align: middle;\n",
       "    }\n",
       "\n",
       "    .dataframe tbody tr th {\n",
       "        vertical-align: top;\n",
       "    }\n",
       "\n",
       "    .dataframe thead th {\n",
       "        text-align: right;\n",
       "    }\n",
       "</style>\n",
       "<table border=\"1\" class=\"dataframe\">\n",
       "  <thead>\n",
       "    <tr style=\"text-align: right;\">\n",
       "      <th></th>\n",
       "      <th>id</th>\n",
       "      <th>titulo</th>\n",
       "      <th>inicio</th>\n",
       "      <th>fin</th>\n",
       "      <th>longitud</th>\n",
       "      <th>longitud_parrafo</th>\n",
       "    </tr>\n",
       "  </thead>\n",
       "  <tbody>\n",
       "    <tr>\n",
       "      <th>0</th>\n",
       "      <td>0</td>\n",
       "      <td>proemio</td>\n",
       "      <td>161</td>\n",
       "      <td>171</td>\n",
       "      <td>1</td>\n",
       "      <td>45.0</td>\n",
       "    </tr>\n",
       "    <tr>\n",
       "      <th>1</th>\n",
       "      <td>0</td>\n",
       "      <td>antecedentes interes medico legal</td>\n",
       "      <td>690</td>\n",
       "      <td>730</td>\n",
       "      <td>4</td>\n",
       "      <td>75.0</td>\n",
       "    </tr>\n",
       "    <tr>\n",
       "      <th>2</th>\n",
       "      <td>0</td>\n",
       "      <td>examen fisico actor</td>\n",
       "      <td>1646</td>\n",
       "      <td>1674</td>\n",
       "      <td>3</td>\n",
       "      <td>612.0</td>\n",
       "    </tr>\n",
       "    <tr>\n",
       "      <th>3</th>\n",
       "      <td>0</td>\n",
       "      <td>consideraciones medico legales</td>\n",
       "      <td>9140</td>\n",
       "      <td>9174</td>\n",
       "      <td>3</td>\n",
       "      <td>800.0</td>\n",
       "    </tr>\n",
       "    <tr>\n",
       "      <th>4</th>\n",
       "      <td>0</td>\n",
       "      <td>conclusiones</td>\n",
       "      <td>19171</td>\n",
       "      <td>19188</td>\n",
       "      <td>1</td>\n",
       "      <td>129.0</td>\n",
       "    </tr>\n",
       "    <tr>\n",
       "      <th>...</th>\n",
       "      <td>...</td>\n",
       "      <td>...</td>\n",
       "      <td>...</td>\n",
       "      <td>...</td>\n",
       "      <td>...</td>\n",
       "      <td>...</td>\n",
       "    </tr>\n",
       "    <tr>\n",
       "      <th>5771</th>\n",
       "      <td>3801</td>\n",
       "      <td></td>\n",
       "      <td>22588</td>\n",
       "      <td>22608</td>\n",
       "      <td>0</td>\n",
       "      <td>0.0</td>\n",
       "    </tr>\n",
       "    <tr>\n",
       "      <th>5772</th>\n",
       "      <td>3803</td>\n",
       "      <td>historia clinica</td>\n",
       "      <td>0</td>\n",
       "      <td>22</td>\n",
       "      <td>2</td>\n",
       "      <td>324.0</td>\n",
       "    </tr>\n",
       "    <tr>\n",
       "      <th>5773</th>\n",
       "      <td>3803</td>\n",
       "      <td>estudios solicitados</td>\n",
       "      <td>3860</td>\n",
       "      <td>3887</td>\n",
       "      <td>2</td>\n",
       "      <td>39.0</td>\n",
       "    </tr>\n",
       "    <tr>\n",
       "      <th>5774</th>\n",
       "      <td>3803</td>\n",
       "      <td>puntos periciales</td>\n",
       "      <td>4309</td>\n",
       "      <td>4332</td>\n",
       "      <td>2</td>\n",
       "      <td>20.0</td>\n",
       "    </tr>\n",
       "    <tr>\n",
       "      <th>5775</th>\n",
       "      <td>3803</td>\n",
       "      <td>consideraciones conclusiones medico legales</td>\n",
       "      <td>4647</td>\n",
       "      <td>4697</td>\n",
       "      <td>4</td>\n",
       "      <td>NaN</td>\n",
       "    </tr>\n",
       "  </tbody>\n",
       "</table>\n",
       "<p>5776 rows × 6 columns</p>\n",
       "</div>"
      ],
      "text/plain": [
       "        id                                       titulo  inicio    fin  \\\n",
       "0        0                                      proemio     161    171   \n",
       "1        0            antecedentes interes medico legal     690    730   \n",
       "2        0                          examen fisico actor    1646   1674   \n",
       "3        0               consideraciones medico legales    9140   9174   \n",
       "4        0                                 conclusiones   19171  19188   \n",
       "...    ...                                          ...     ...    ...   \n",
       "5771  3801                                                22588  22608   \n",
       "5772  3803                             historia clinica       0     22   \n",
       "5773  3803                         estudios solicitados    3860   3887   \n",
       "5774  3803                            puntos periciales    4309   4332   \n",
       "5775  3803  consideraciones conclusiones medico legales    4647   4697   \n",
       "\n",
       "      longitud  longitud_parrafo  \n",
       "0            1              45.0  \n",
       "1            4              75.0  \n",
       "2            3             612.0  \n",
       "3            3             800.0  \n",
       "4            1             129.0  \n",
       "...        ...               ...  \n",
       "5771         0               0.0  \n",
       "5772         2             324.0  \n",
       "5773         2              39.0  \n",
       "5774         2              20.0  \n",
       "5775         4               NaN  \n",
       "\n",
       "[5776 rows x 6 columns]"
      ]
     },
     "execution_count": 335,
     "metadata": {},
     "output_type": "execute_result"
    }
   ],
   "source": [
    "dfUbicacionTitulos"
   ]
  },
  {
   "cell_type": "markdown",
   "metadata": {},
   "source": [
    "# PRUEBA DE TF-IDF"
   ]
  },
  {
   "cell_type": "code",
   "execution_count": null,
   "metadata": {},
   "outputs": [],
   "source": [
    "# Se unen los dos dataframes en uno solo\n",
    "dfTitulos = pd.concat([dfUbicacionTitulos, dfTitulosCandidatos], ignore_index=True)\n",
    "\n",
    "# Se seleccionan y renombran las columnas de interés\n",
    "dfTitulos = dfTitulos[['id', 'titulo', 'inicio', 'fin', 'longitud']]\n",
    "dfTitulos.columns = ['id', 'titulo', 'inicio', 'fin', 'longitud']"
   ]
  },
  {
   "cell_type": "code",
   "execution_count": null,
   "metadata": {},
   "outputs": [],
   "source": []
  }
 ],
 "metadata": {
  "interpreter": {
   "hash": "42875111758dffc1ca879dbe67063d4b14d2fb8b4b9c438105dae1201065df52"
  },
  "kernelspec": {
   "display_name": "Python 3.8.8 ('base')",
   "language": "python",
   "name": "python3"
  },
  "language_info": {
   "codemirror_mode": {
    "name": "ipython",
    "version": 3
   },
   "file_extension": ".py",
   "mimetype": "text/x-python",
   "name": "python",
   "nbconvert_exporter": "python",
   "pygments_lexer": "ipython3",
   "version": "3.8.8"
  },
  "orig_nbformat": 4
 },
 "nbformat": 4,
 "nbformat_minor": 2
}
