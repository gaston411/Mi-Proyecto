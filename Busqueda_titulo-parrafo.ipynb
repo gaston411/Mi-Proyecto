{
 "cells": [
  {
   "cell_type": "markdown",
   "metadata": {},
   "source": [
    "# Limpieza de texto\n",
    "### Creación de los dataframe y limpieza de texto"
   ]
  },
  {
   "cell_type": "code",
   "execution_count": 353,
   "metadata": {},
   "outputs": [],
   "source": [
    "import pandas as pd\n",
    "import numpy as np\n",
    "from pprint import pprint\n",
    "\n",
    "df = pd.read_csv('pericias_medicas.csv', sep=',',  encoding='utf-8')\n",
    "#convierte en string los datos de la columna text\n",
    "df1 = df['text'].apply(str)"
   ]
  },
  {
   "cell_type": "code",
   "execution_count": 354,
   "metadata": {},
   "outputs": [],
   "source": [
    "import re\n",
    "def general(txt: str, bert=False, nums=True) -> str:\n",
    "    \"\"\"\n",
    "    Elimina caracteres no deseados\n",
    "    Params:\n",
    "        **txt**:texto a ser limpiado de caracteres no desaeados\n",
    "    \"\"\"\n",
    "    if nums:\n",
    "        txt = re.sub(r'\\d+', ' ', txt)\n",
    "    if not bert:\n",
    "        txt = txt.translate(str.maketrans(\n",
    "            'áéíóúýàèìòùÁÉÍÓÚÀÈÌÒÙÝ', 'aeiouyaeiouAEIOUAEIOUY'))\n",
    "        txt = re.sub(r'[^\\w\\s]', '', txt)\n",
    "\n",
    "    txt = txt.replace('\\r', ' ').replace(\"\\v\", ' ').replace(\n",
    "        \"\\t\", ' ').replace(\"\\f\", ' ').replace(\"\\a\", ' ').replace(\"\\b\", ' ')\n",
    "    txt = re.sub(' +', ' ', txt)\n",
    "    txt = txt.strip()\n",
    "    return txt"
   ]
  },
  {
   "cell_type": "markdown",
   "metadata": {},
   "source": [
    "# Eliminación de expedientes que no son pericias médicas."
   ]
  },
  {
   "cell_type": "code",
   "execution_count": 355,
   "metadata": {},
   "outputs": [],
   "source": [
    "# Elimino expedientes que no son pericuas medicas\n",
    "noPericiasMedicas=[]\n",
    "for i,expediente in enumerate(df1):\n",
    "    exp = general(expediente)\n",
    "    if len(exp.split()) < 300:\n",
    "        totalPalabras = len(exp.split())\n",
    "        noPericiasMedicas.append((i, expediente, totalPalabras))\n",
    "        df1 = df1.drop(i)\n",
    "\n",
    "dfNoPericiasMedicas = pd.DataFrame(noPericiasMedicas,columns=['id','expediente', 'total de palabras'])"
   ]
  },
  {
   "cell_type": "code",
   "execution_count": 356,
   "metadata": {},
   "outputs": [],
   "source": [
    "df1.reset_index(drop=True, inplace=True)"
   ]
  },
  {
   "cell_type": "code",
   "execution_count": 357,
   "metadata": {},
   "outputs": [
    {
     "name": "stdout",
     "output_type": "stream",
     "text": [
      "CNT74807/2016\n",
      "perito medico presenta informe pericial [presentado 12 01 2019 18 33]\n"
     ]
    }
   ],
   "source": [
    "print(df.expediente[200])\n",
    "print(df.descripcion[200])"
   ]
  },
  {
   "cell_type": "code",
   "execution_count": 358,
   "metadata": {},
   "outputs": [
    {
     "name": "stdout",
     "output_type": "stream",
     "text": [
      "CNT49991/2016\n",
      "perito psicologa presenta respuesta [presentado 03 09 2018 23 47]\n"
     ]
    }
   ],
   "source": [
    "print(df.expediente[3436])\n",
    "print(df.descripcion[3436])"
   ]
  },
  {
   "cell_type": "code",
   "execution_count": 359,
   "metadata": {},
   "outputs": [
    {
     "name": "stdout",
     "output_type": "stream",
     "text": [
      "CNT11480/2016\n",
      "perito informa  parte 1 de 2  [presentado 18 03 2019 16 42]\n"
     ]
    }
   ],
   "source": [
    "print(df.expediente[2000])\n",
    "print(df.descripcion[2000])"
   ]
  },
  {
   "cell_type": "code",
   "execution_count": 360,
   "metadata": {},
   "outputs": [
    {
     "name": "stdout",
     "output_type": "stream",
     "text": [
      "(' \\n'\n",
      " '\\n'\n",
      " ' \\n'\n",
      " '\\n'\n",
      " ' \\n'\n",
      " '\\n'\n",
      " ' \\n'\n",
      " '\\n'\n",
      " ' \\n'\n",
      " '\\n'\n",
      " ' \\n'\n",
      " '\\n'\n",
      " ' \\n'\n",
      " '\\n'\n",
      " 'Juzgado Nacional del Trabajo nº 24 \\n'\n",
      " '\\n'\n",
      " 'Diagonal Roque Sáenz Peña 760, 3ºP. \\n'\n",
      " '\\n'\n",
      " 'OBSERVA PERICIA MEDICA - SOLICITA ACLARACIONES \\n'\n",
      " '\\n'\n",
      " 'Señor Juez: \\n'\n",
      " '\\n'\n",
      " ' HORACIO  CESAR  MATEO,  Letrado  Inscripto  en  la  matrícula \\n'\n",
      " '\\n'\n",
      " 'respectiva  T°68  F°555  C.P.A.C.F.,  D.N.I.  18.123.659,  CUIT:  '\n",
      " '20-18123659-1,  IVA: \\n'\n",
      " '\\n'\n",
      " 'Responsable \\n'\n",
      " '\\n'\n",
      " 'Inscripto, \\n'\n",
      " '\\n'\n",
      " 'domicilio \\n'\n",
      " '\\n'\n",
      " 'electronico \\n'\n",
      " '\\n'\n",
      " 'CUIT \\n'\n",
      " '\\n'\n",
      " '20-18123659-1, \\n'\n",
      " '\\n'\n",
      " 'info@estudiomateo.net,  en  mi  carácter  de  letrado  apoderado  de  la  '\n",
      " 'parte  actora, \\n'\n",
      " '\\n'\n",
      " 'manteniendo  domicilio  legal  físico  en  la  calle  Lavalle  N°  1388,  '\n",
      " 'casillero  1301,  de  la \\n'\n",
      " '\\n'\n",
      " 'Ciudad  Autónoma  de  Buenos  Aires,  en  los  autos  caratulados  '\n",
      " '\"ZERRIZUELA,  JUAN \\n'\n",
      " '\\n'\n",
      " 'OSCAR  C/  EXPERTA  ART  S.A.    s/  ACCIDENTE  -  LEY  ESPECIAL\"  Expte.  '\n",
      " 'Nº \\n'\n",
      " '\\n'\n",
      " '27.605/2015, a V.S. respetuosamente digo: \\n'\n",
      " '\\n'\n",
      " 'I.-  Vengo  en  legal  tiempo  y  forma  a  contestar  el  traslado  de  la  '\n",
      " 'pericia \\n'\n",
      " '\\n'\n",
      " 'médica  -  psicológica,  cuyo  traslado  me  fuera  conferido  mediante  '\n",
      " 'cédula  electrónica  en \\n'\n",
      " '\\n'\n",
      " 'fecha  26  de  agosto  del  corriente,  en  base  a  las  consideraciones  '\n",
      " 'que  expondré  a \\n'\n",
      " '\\n'\n",
      " 'continuación. \\n'\n",
      " '\\n'\n",
      " 'II.  Que  esta  parte  observa  la  forma  en  que  el  perito  Dr.  '\n",
      " 'Lapman, \\n'\n",
      " '\\n'\n",
      " 'determina el porcentaje de incapacidad psicológica, haciendo el cálculo en '\n",
      " 'relación al total \\n'\n",
      " '\\n'\n",
      " 'utilizando la teoria de la INCAPACIDAD RESTANTE. \\n'\n",
      " '\\n'\n",
      " 'Que  lo  referente  a  la  aplicación  del  Método  Balthazar  o  '\n",
      " 'Incapacidad \\n'\n",
      " '\\n'\n",
      " 'restante,  la  jurisprudencia  es  unánime  en  cuanto  a  que  dicha  '\n",
      " 'fórmula  se  emplee  para \\n'\n",
      " '\\n'\n",
      " 'siniestros  sucesivos  o  concomitantes  y  no  cuando  las  patologías  '\n",
      " 'son  consecuencia  de  un \\n'\n",
      " '\\n'\n",
      " 'mismo accidente, como en el caso de autos. \\n'\n",
      " '\\n'\n",
      " 'III.  Por  lo  expuesto,  solicito  la  sumatoria  de  las  tarifas  '\n",
      " 'calculadas  en \\n'\n",
      " '\\n'\n",
      " 'forma autónoma, es decir la fisica por un lado y la psicologica por otro, '\n",
      " 'debido a que, de la \\n'\n",
      " '\\n'\n",
      " '\\x0c'\n",
      " 'forma  realizada  por  el  perito,  termina  siendo  perjudicial  para  el  '\n",
      " 'actor  ya  que  el  crédito \\n'\n",
      " '\\n'\n",
      " 'alimentario\" del trabajador se ve disminuido. \\n'\n",
      " '\\n'\n",
      " 'IV.- PETITORIO.- \\n'\n",
      " '\\n'\n",
      " 'Por todo lo expuesto solicito: \\n'\n",
      " '\\n'\n",
      " '1) Se tenga por contestado el traslado y por formulada la observación. \\n'\n",
      " '\\n'\n",
      " '2) Oportunamente se de traslado al perito de la observación formulada. \\n'\n",
      " '\\n'\n",
      " 'Proveer de conformidad, que \\n'\n",
      " '\\n'\n",
      " 'SERÁ JUSTICIA. \\n'\n",
      " '\\n'\n",
      " ' \\n'\n",
      " '\\n'\n",
      " ' \\n'\n",
      " '\\n'\n",
      " ' \\n'\n",
      " '\\n'\n",
      " ' \\n'\n",
      " '\\n'\n",
      " '\\x0c')\n"
     ]
    }
   ],
   "source": [
    "pprint(dfNoPericiasMedicas.expediente[7])"
   ]
  },
  {
   "cell_type": "code",
   "execution_count": 361,
   "metadata": {},
   "outputs": [],
   "source": [
    "# Limpieza de texto\n",
    "# Primera etapa de la limpieza de texto\n",
    "import re, string, unicodedata\n",
    "'''\n",
    "Se hace la eliminacion de texto entre corchetes, acentos, signos de puntuacion (excepto . y :), palabras con numeros.\n",
    "Se eliminan los espacios de sobra\n",
    "Se eliminan \\r, \\t, \\v, \\f, \\a\n",
    "'''\n",
    "def limpiarTexto1(txt: str, bert=False, nums=False) -> str:\n",
    "    \"\"\"\n",
    "    Elimina caracteres no deseados\n",
    "    Params:\n",
    "        **txt**:texto a ser limpiado de caracteres no desaeados\n",
    "    \"\"\"\n",
    "    if nums:\n",
    "        txt = re.sub(r'\\d+', ' ', txt)\n",
    "    if not bert:\n",
    "        txt = txt.translate(str.maketrans(\n",
    "            'áéíóúýàèìòùÁÉÍÓÚÀÈÌÒÙÝ', 'aeiouyaeiouAEIOUAEIOUY'))\n",
    "\n",
    "    '''\n",
    "    Eliminamos caracteres especiales: tabulador horizontal(\\t), tabulador vertical(\\v), \n",
    "    retorno de carro(\\r), avance de pagina(\\f), \n",
    "    caracter de retroceso: Marca el límite de una palabra(\\b), \n",
    "    '''\n",
    "    txt = txt.replace('\\r', ' ').replace(\"\\v\", ' ').replace(\n",
    "        \"\\t\", ' ').replace(\"\\f\", ' ').replace(\"\\a\", ' ').replace(\"\\b\", ' ')\n",
    "    txt = re.sub(' +', ' ', txt)\n",
    "    txt = txt.strip()\n",
    "    return txt\n",
    "df1 = df1.apply(str)\n",
    "df1 = df1.apply(limpiarTexto1)"
   ]
  },
  {
   "cell_type": "code",
   "execution_count": 362,
   "metadata": {},
   "outputs": [],
   "source": [
    "# Segunda fase de limpieza\n",
    "# Se eliminan todos los elementos que meten ruido al texto y que no fueron eliminados en la fase de limpieza 1.\n",
    "import re\n",
    "\n",
    "def limpiarTexto2(text):\n",
    "    text = re.sub('^ ',' ',text)\n",
    "    text = re.sub('\\n +\\n','\\n',text)\n",
    "    text = re.sub(' +\\n\\n','\\n',text)\n",
    "    text = re.sub('\\n\\n+','\\n',text)\n",
    "    text = re.sub(' \\n','\\n',text)\n",
    "    text = re.sub('\\d\\n','',text)\n",
    "    text = re.sub('\\x0c','',text)\n",
    "    text = re.sub('\\u200b\\n','',text)\n",
    "    text = re.sub('\\d{3,100}','',text)\n",
    "    text = re.sub('\\d+-\\d+','',text)\n",
    "    text = re.sub('\\x0c','',text)\n",
    "    text = re.sub('[nN]º|[nN][. ]º','',text)\n",
    "    text = re.sub('[º<>/]','',text)\n",
    "    text = re.sub('\\d{3,100}','',text)\n",
    "    text = re.sub('[a-zA-z-.]+@[a-zA-Z]+.com','',text)\n",
    "    return text\n",
    "\n",
    "df1 = df1.apply(limpiarTexto2)"
   ]
  },
  {
   "cell_type": "code",
   "execution_count": 363,
   "metadata": {},
   "outputs": [],
   "source": [
    "# Tercera fase de limpieza\n",
    "# Eliminamos las lineas que no son de utilidad para el analisis o que van a afectar los resultados del mismo.\n",
    "# Ejemplo de linea eliminada: las lineas que comienzan con \"Se encuentra contestada en.....\"\n",
    "import re\n",
    "\n",
    "def limpiarTexto3(text):\n",
    "    text = re.sub('[a-z1-9.]+[).-] [s|S]e encuentra contestad[a|o] .+[. \\n]','',text)\n",
    "    text = re.sub('[0-9]+[. ]+[yY]a fue contestado.+[.\\n]','',text)\n",
    "    text = re.sub('[fF]oja [1-9].+\\n', '', text)\n",
    "    text = re.sub('[pP]regunta[ 0-9]+[)].+\\n|[rR]espuesta[ 0-9]+[)].+\\n','',text)#elimina oraciones comenzadas en preguta/respuesta.\n",
    "    text = re.sub('V[. ]+[S\\n\\.]+', '', text)\n",
    "    #text = re.sub('[IV]+.[A-Z]{1,3}[\\n.]', '', text)\n",
    "    text = re.sub('[I][.][P][.]','',text)\n",
    "    text = re.sub('[I][.][T][.]','',text)\n",
    "    text = re.sub('[I][.][A][.]','',text)\n",
    "    text = re.sub('[I][.][L][.]','',text)\n",
    "    text = re.sub('[I][.][B][.]','',text)\n",
    "    text = re.sub('[I][.][N][.]','',text)\n",
    "    text = re.sub('[I][.][V][.]','',text)\n",
    "    text = re.sub('[V][.][M][.]','',text)\n",
    "    text = re.sub('[V][.][A][.]','',text)\n",
    "\n",
    "    return text\n",
    "\n",
    "dfLimpio = df1.apply(limpiarTexto3)\n",
    "dfLimpio = dfLimpio.apply(limpiarTexto2)\n",
    "#pprint(dfLimpio[0])"
   ]
  },
  {
   "cell_type": "code",
   "execution_count": 364,
   "metadata": {},
   "outputs": [],
   "source": [
    "# limpiar titulos\n",
    "def limpiar_palabras(text):\n",
    "    text = re.sub(r'(I{1,3}|IV|V|VI{1,4}|IX|X)[). -]|[^\\w\\s]',' ',text)\n",
    "    #text = re.sub(r'(i{1,3}|iv|v|vi{1,4}|ix|x)[). -]|[^\\w\\s]','',text)\n",
    "    text=text.lower()\n",
    "    text = [\n",
    "        i for i in text.split() if len(i) > 3\n",
    "    ]\n",
    "    return ' '.join(text)"
   ]
  },
  {
   "cell_type": "markdown",
   "metadata": {},
   "source": [
    "#### Eliminar stopwords"
   ]
  },
  {
   "cell_type": "code",
   "execution_count": 365,
   "metadata": {},
   "outputs": [],
   "source": [
    "import nltk\n",
    "import re\n",
    "\n",
    "stops = nltk.corpus.stopwords.words('spanish')\n",
    "\n",
    "def remove_stops(texto: str) -> str:\n",
    "    \"\"\"\n",
    "    Función que elimina stopwords\n",
    "    Params:\n",
    "        **texto**:texto a ser limpiado de stopwords\n",
    "\n",
    "    \"\"\"\n",
    "    #texto = limpiar_palabras(texto)\n",
    "    texto = [\n",
    "        i for i in texto.split() if i not in stops\n",
    "    ]\n",
    "    return ' '.join(texto)"
   ]
  },
  {
   "cell_type": "markdown",
   "metadata": {},
   "source": [
    "# Busqueda de titulos"
   ]
  },
  {
   "cell_type": "markdown",
   "metadata": {},
   "source": [
    "## Títulos con números romanos y en mayúsculas"
   ]
  },
  {
   "cell_type": "code",
   "execution_count": 366,
   "metadata": {},
   "outputs": [],
   "source": [
    "# Busca títulos en mayusculas\n",
    "def buscarTitulosMayusculas(text):\n",
    "    # Expresiín regular para encontrar títulos en mayusculas.\n",
    "    tituloMayusculas =re.compile(r'(I{1,3}|IV|V|VI{1,3}|IX|X)[-.) ]+[A-Z -]+[:\\.\\n]') #[1-9]|\n",
    "    titulosMayusculasEncontrados = []\n",
    "\n",
    "    for m in tituloMayusculas.finditer(text):\n",
    "        if len(m.group()) > 8:\n",
    "            titulosMayusculasEncontrados.append(m.group())\n",
    "\n",
    "    return titulosMayusculasEncontrados\n",
    "# titulosMAyuscula: lista que guarda los títulos en mayusculas\n",
    "titulosMayusculas=[]\n",
    "for expediente in dfLimpio:\n",
    "    titulosMayusculas.append(buscarTitulosMayusculas(expediente))\n",
    "\n",
    "dfTitulosMayusculasConStops = pd.DataFrame(titulosMayusculas)\n"
   ]
  },
  {
   "cell_type": "markdown",
   "metadata": {},
   "source": [
    "# Creacion de dataframe de solo titulos en mayusculas"
   ]
  },
  {
   "cell_type": "code",
   "execution_count": 451,
   "metadata": {},
   "outputs": [],
   "source": [
    "# Creamos un dataframe para guardar expedientes que solamente tienen titulos en mayusculas\n",
    "# Guardo en dfTitulosMayusculas los expedientes y su indice dentro del dataframe limpio (con todos los expedientes)\n",
    "expConTitulosMayusculas = []\n",
    "expSinTitulosEncontrados = []\n",
    "for id,titulo in  enumerate(dfLimpio):\n",
    "    if len(titulosMayusculas[id]) > 0:\n",
    "        expConTitulosMayusculas.append((id,titulo))\n",
    "    else:\n",
    "        expSinTitulosEncontrados.append((id,titulo))\n",
    "\n",
    "\n",
    "dfTitulosMayusculas = pd.DataFrame(expConTitulosMayusculas, columns=['id','expediente'])\n",
    "dfSinTitulosEncontrados = pd.DataFrame(expSinTitulosEncontrados, columns=['id','expediente'])\n",
    "#pprint(dfTitulosMayusculas)"
   ]
  },
  {
   "cell_type": "code",
   "execution_count": 452,
   "metadata": {},
   "outputs": [],
   "source": [
    "dfSinTitulosEncontrados['expediente'] = dfSinTitulosEncontrados['expediente'].apply(remove_stops)\n",
    "# dfSinTitulosEncontrados['expediente'] = dfSinTitulosEncontrados['expediente'].apply(limpiarTexto1)\n",
    "# dfSinTitulosEncontrados['expediente'] = dfSinTitulosEncontrados['expediente'].apply(limpiarTexto2)\n",
    "# dfSinTitulosEncontrados['expediente'] = dfSinTitulosEncontrados['expediente'].apply(limpiarTexto3)\n"
   ]
  },
  {
   "cell_type": "markdown",
   "metadata": {},
   "source": [
    "# NUEVAS BUSQUEDAS\n",
    "### Títulos con números latinos y romanos en mayúsculas. Escritos en mayusculas y minusculas."
   ]
  },
  {
   "cell_type": "code",
   "execution_count": 369,
   "metadata": {},
   "outputs": [],
   "source": [
    "# Busca títulos en mayusculas o minusculas comenzados con numeros latinos o romanos\n",
    "def buscarTitulosLatinosMayusculas(text):\n",
    "    # Expresiín regular para encontrar títulos en mayusculas.\n",
    "    tituloMayusculas =re.compile(r'((I{1,3}|IV|V|VI{1,3}|IX|X)|[0-9]+)[.)-]+[A-Za-z -]+[:\\.\\n]') #[1-9]|\n",
    "    titulosMayusculasEncontrados = []\n",
    "    #i=1\n",
    "    for m in tituloMayusculas.finditer(text):\n",
    "        if len(m.group()) > 8 and len(m.group().split()) <= 5:# and re.findall(str(i),m.group()):\n",
    "            titulosMayusculasEncontrados.append(m.group())\n",
    "\n",
    "\n",
    "    return titulosMayusculasEncontrados\n",
    "# titulosLatinosMayusculas: lista que guarda los títulos encontrados\n",
    "titulosLatinosMayusculas=[]\n",
    "for expediente in dfSinTitulosEncontrados['expediente']:\n",
    "    #if len(buscarTitulosLatinosMayusculas(expediente)) > 3:\n",
    "    titulosLatinosMayusculas.append(buscarTitulosLatinosMayusculas(expediente))"
   ]
  },
  {
   "cell_type": "markdown",
   "metadata": {},
   "source": [
    "# Dataframe de títulos candidatos"
   ]
  },
  {
   "cell_type": "code",
   "execution_count": 370,
   "metadata": {},
   "outputs": [],
   "source": [
    "# Encontrar la ubicacion del titulo en el documento\n",
    "titulosCandidatos=[]\n",
    "tipo='candidato'\n",
    "expSinTitulosEncontrados = dfSinTitulosEncontrados['expediente'].apply(str)\n",
    "for i in range(len(expSinTitulosEncontrados)):\n",
    "    for titulo in titulosLatinosMayusculas[i]:\n",
    "        inicioTitulo = expSinTitulosEncontrados[i].index(titulo)\n",
    "        caracteres = len(titulo)\n",
    "        titulo = re.sub('[-]',' ',titulo)\n",
    "        titulo = limpiar_palabras(titulo)\n",
    "        palabrasPorTitulo = len(titulo.split())\n",
    "        finalTitulo = inicioTitulo + caracteres\n",
    "        titulosCandidatos.append((i,tipo,titulo, inicioTitulo, finalTitulo, palabrasPorTitulo))\n",
    "\n",
    "dfTitulosCandidatos = pd.DataFrame(titulosCandidatos,columns=['id','tipo','titulo','inicio','fin','longitud'])"
   ]
  },
  {
   "cell_type": "code",
   "execution_count": 371,
   "metadata": {},
   "outputs": [],
   "source": [
    "# Creamos un dataframe para guardar expedientes que no tienen ningun titulo candidato\n",
    "\n",
    "# Guardo en dfSinTitulos los expedientes y su indice que no tienen titulos candidatos en el dataframe dfSinTitulosEncontrados\n",
    "expConTitulosCandidatos = []\n",
    "expSinTitulos=[]\n",
    "for id,titulo in  enumerate(dfSinTitulosEncontrados['expediente']):\n",
    "    if len(titulosLatinosMayusculas[id]) > 0:\n",
    "        expConTitulosCandidatos.append((id,titulo))\n",
    "    else:\n",
    "        expSinTitulos.append((id,titulo))\n",
    "\n",
    "dfExpTitulosCandidatos = pd.DataFrame(expConTitulosCandidatos, columns=['id','expediente'])\n",
    "dfSinTitulos = pd.DataFrame(expSinTitulos, columns=['id','expediente'])"
   ]
  },
  {
   "cell_type": "code",
   "execution_count": 372,
   "metadata": {},
   "outputs": [],
   "source": [
    "expConTitulosMayusculas = []\n",
    "expSinTitulosEncontrados = []\n",
    "for id,titulo in  enumerate(dfLimpio):\n",
    "    if len(titulosMayusculas[id]) > 0:\n",
    "        expConTitulosMayusculas.append((id,titulo))\n",
    "    else:\n",
    "        expSinTitulosEncontrados.append((id,titulo))\n",
    "\n",
    "\n",
    "dfTitulosMayusculas = pd.DataFrame(expConTitulosMayusculas, columns=['id','expediente'])\n",
    "dfSinTitulosEncontrados = pd.DataFrame(expSinTitulosEncontrados, columns=['id','expediente'])\n",
    "#pprint(dfTitulosMayusculas)"
   ]
  },
  {
   "cell_type": "code",
   "execution_count": 373,
   "metadata": {},
   "outputs": [
    {
     "name": "stdout",
     "output_type": "stream",
     "text": [
      "460\n"
     ]
    }
   ],
   "source": [
    "pprint(len(dfSinTitulos.expediente[0].split()))\n",
    "#pprint(df.text[14])"
   ]
  },
  {
   "cell_type": "markdown",
   "metadata": {},
   "source": [
    "# Expedientes con títulos candidatos y expedientes sin títulos localizados."
   ]
  },
  {
   "cell_type": "code",
   "execution_count": 374,
   "metadata": {},
   "outputs": [
    {
     "name": "stdout",
     "output_type": "stream",
     "text": [
      "\n",
      "Cantidad de expediente que tienen titulos candidatos:        1723\n",
      "Cantidad de expedientes que no tienen titulos localizados:    284  \n",
      "Total de expedientes: 2007 \n"
     ]
    }
   ],
   "source": [
    "print(f'''\n",
    "Cantidad de expediente que tienen titulos candidatos:        {len(dfExpTitulosCandidatos)}\n",
    "Cantidad de expedientes que no tienen titulos localizados:    {len(dfSinTitulos)}  \n",
    "Total de expedientes: {len(dfSinTitulosEncontrados)} ''')"
   ]
  },
  {
   "cell_type": "code",
   "execution_count": 375,
   "metadata": {},
   "outputs": [
    {
     "data": {
      "image/png": "[encoded data removed]",
      "text/plain": [
       "<Figure size 432x288 with 1 Axes>"
      ]
     },
     "metadata": {},
     "output_type": "display_data"
    }
   ],
   "source": [
    "# Creo un grafico de torta\n",
    "import matplotlib.pyplot as plt\n",
    "\n",
    "totalExp = len(dfSinTitulosEncontrados)\n",
    "totalExpSinEncontrar = len(dfSinTitulos)\n",
    "\n",
    "# Creación de grafico de torta de la cantidad de expedientes con títulos en mayúsculas sobre el total de expedientes.\n",
    "cantExp = [totalExp, totalExpSinEncontrar]\n",
    "nombreTitulos = ['Total de Expedientes con Títulos Candidatos', 'Total de Expedientes sin Títulos Encontrados']\n",
    "colores = ['#6DEA53','#FA3333']\n",
    "desfase=(0,0.1)\n",
    "\n",
    "plt.pie(cantExp, labels=nombreTitulos, autopct= '%0.1f %%', colors=colores, explode=desfase) #, explode=desfase\n",
    "plt.show()"
   ]
  },
  {
   "cell_type": "markdown",
   "metadata": {},
   "source": [
    "### Títulos con números romanos en minusculas. Escritos en mayusculas y minusculas."
   ]
  },
  {
   "cell_type": "code",
   "execution_count": 376,
   "metadata": {},
   "outputs": [],
   "source": [
    "# Busca títulos en mayusculas o minusculas que comienzan con numeros romanos en minuscula.\n",
    "def buscarTitulosRomanosMinusculas(text):\n",
    "    # Expresiín regular para encontrar títulos en mayusculas.\n",
    "    tituloMayusculas =re.compile(r'(i{1,3}|iv|v|vi{1,3}|ix|x)[.)-]+[A-Za-z -]+[:\\.\\n]') #[1-9]|\n",
    "    titulosMayusculasEncontrados = []\n",
    "    #i=1\n",
    "    for m in tituloMayusculas.finditer(text):\n",
    "        if len(m.group()) > 8 and len(m.group().split()) <= 5:# and re.findall(str(i),m.group()):\n",
    "            titulosMayusculasEncontrados.append(m.group())\n",
    "            #i=i+1\n",
    "\n",
    "    return titulosMayusculasEncontrados\n",
    "# titulosMAyuscula: lista que guarda los títulos en mayusculas\n",
    "titulosRomanosMinusculas=[]\n",
    "for expediente in dfSinTitulosEncontrados['expediente']:\n",
    "    if len(buscarTitulosRomanosMinusculas(expediente)) > 3:\n",
    "        titulosRomanosMinusculas.append(buscarTitulosRomanosMinusculas(expediente))"
   ]
  },
  {
   "cell_type": "code",
   "execution_count": 377,
   "metadata": {},
   "outputs": [],
   "source": [
    "dfTitulosMayusculas.to_excel('titulos_mayusculas.xlsx', index=False)"
   ]
  },
  {
   "cell_type": "markdown",
   "metadata": {},
   "source": [
    "# Expedientes con titulos en mayusculas sobre el total de expedientes"
   ]
  },
  {
   "cell_type": "code",
   "execution_count": 378,
   "metadata": {},
   "outputs": [
    {
     "name": "stdout",
     "output_type": "stream",
     "text": [
      "\n",
      "Cantidad de expediente que tienen titulos en mayusculas:        1184\n",
      "Cantidad de expedientes que no tienen titulos en mayusculas:    2007  \n",
      "Total de expedientes: 3191 \n"
     ]
    }
   ],
   "source": [
    "print(f'''\n",
    "Cantidad de expediente que tienen titulos en mayusculas:        {len(dfTitulosMayusculas)}\n",
    "Cantidad de expedientes que no tienen titulos en mayusculas:    {len(dfLimpio) - len(dfTitulosMayusculas)}  \n",
    "Total de expedientes: {len(dfLimpio)} ''')"
   ]
  },
  {
   "cell_type": "code",
   "execution_count": 379,
   "metadata": {},
   "outputs": [
    {
     "data": {
      "image/png": "[encoded data removed]",
      "text/plain": [
       "<Figure size 432x288 with 1 Axes>"
      ]
     },
     "metadata": {},
     "output_type": "display_data"
    }
   ],
   "source": [
    "# Creo un grafico de torta\n",
    "import matplotlib.pyplot as plt\n",
    "\n",
    "totalExp = len(dfLimpio)\n",
    "totalExpMayusculas = len(dfTitulosMayusculas)\n",
    "\n",
    "# Creación de grafico de torta de la cantidad de expedientes con títulos en mayúsculas sobre el total de expedientes.\n",
    "cantExp = [totalExp, totalExpMayusculas]\n",
    "nombreTitulos = ['Total de Expedientes', 'Total de Expedientes con Títulos en Mayúsculas']\n",
    "colores = ['#2C4AF1','#2CF168']\n",
    "desfase=(0,0.1)\n",
    "\n",
    "plt.pie(cantExp, labels=nombreTitulos, autopct= '%0.1f %%', colors=colores, explode=desfase) #, explode=desfase\n",
    "plt.show()"
   ]
  },
  {
   "cell_type": "code",
   "execution_count": 380,
   "metadata": {},
   "outputs": [
    {
     "data": {
      "image/png": "[encoded data removed]",
      "text/plain": [
       "<Figure size 432x288 with 1 Axes>"
      ]
     },
     "metadata": {},
     "output_type": "display_data"
    }
   ],
   "source": [
    "# Creo un grafico de torta expedientes por tipo de busqueda.\n",
    "import matplotlib.pyplot as plt\n",
    "\n",
    "totalCandidatos = len(dfTitulosCandidatos)\n",
    "totalExpMayusculas = len(dfTitulosMayusculas)\n",
    "totalSinTitulos = len(dfSinTitulos)\n",
    "\n",
    "# Creación de grafico de torta de la cantidad de expedientes con títulos en mayúsculas sobre el total de expedientes.\n",
    "cantExp = [totalCandidatos, totalExpMayusculas, totalSinTitulos]\n",
    "nombreTitulos = ['Expedientes candidatos', 'Expedientes con Títulos en Mayúsculas', 'Expedientes sin Titulos']\n",
    "colores = ['#2C4AF1','#2CF168', 'r']\n",
    "desfase=(0,0,0.1)\n",
    "\n",
    "plt.pie(cantExp, labels=nombreTitulos, autopct= '%0.1f %%', colors=colores, explode=desfase) #, explode=desfase\n",
    "plt.show()"
   ]
  },
  {
   "cell_type": "markdown",
   "metadata": {},
   "source": [
    "## Titulos y ubicacion"
   ]
  },
  {
   "cell_type": "code",
   "execution_count": 381,
   "metadata": {},
   "outputs": [
    {
     "name": "stdout",
     "output_type": "stream",
     "text": [
      "[('I-PROEMIO:', 161, 171, 10),\n",
      " ('II-ANTECEDENTES DE INTERES MEDICO-LEGAL:', 690, 730, 40),\n",
      " ('III-EXAMEN FISICO DEL ACTOR:', 1646, 1674, 28),\n",
      " ('IV-CONSIDERACIONES MEDICO-LEGALES:', 9140, 9174, 34),\n",
      " ('VII-CONCLUSIONES.', 19171, 19188, 17),\n",
      " ('VII-INCAPACIDAD:', 20974, 20990, 16),\n",
      " ('VIII CONTESTACION DE LOS PUNTOS DE PERICIA:', 21297, 21340, 43),\n",
      " ('IX-PETITORIO:', 21411, 21424, 13)]\n"
     ]
    }
   ],
   "source": [
    "# Encontrar la ubicacion del titulo en el documento\n",
    "titulosPosicion=[]\n",
    "\n",
    "for titulo in titulosMayusculas[0]:\n",
    "    inicioTitulo = dfLimpio[0].index(titulo)\n",
    "    palabrasPorTitulo = len(titulo)\n",
    "    finalTitulo = inicioTitulo + palabrasPorTitulo\n",
    "    titulosPosicion.append((titulo, inicioTitulo, finalTitulo, palabrasPorTitulo))\n",
    "\n",
    "pprint(titulosPosicion)"
   ]
  },
  {
   "cell_type": "code",
   "execution_count": 382,
   "metadata": {},
   "outputs": [
    {
     "name": "stdout",
     "output_type": "stream",
     "text": [
      "('juez nacional hortas maria andrea perito medico oficio siguientes autos '\n",
      " 'domicilio constituido calle austria piso dpto capital domicilio electronico '\n",
      " 'cumplimiento dispuesto referente presentes autos despues haber examinado '\n",
      " 'dijo boiero franco ivan tomaron momento examen clinico actual consideraron '\n",
      " 'capacidad generica particular puntos pericia solicitados partes')\n",
      "'LONGITUD DE PALABRAS: 44'\n"
     ]
    }
   ],
   "source": [
    "# Creo una variable que contiene el párrafo de un título en particular\n",
    "parrafoConsideraciones = dfLimpio[0][171:690]\n",
    "#parrafoConsideraciones = general(parrafoConsideraciones)\n",
    "parrafoConsideraciones = remove_stops(parrafoConsideraciones)\n",
    "parrafoConsideraciones = limpiar_palabras(parrafoConsideraciones)\n",
    "pprint(parrafoConsideraciones)\n",
    "pprint(f'LONGITUD DE PALABRAS: {len(parrafoConsideraciones.split())}')"
   ]
  },
  {
   "cell_type": "markdown",
   "metadata": {},
   "source": [
    "# DATAFRAME DE UBICACIÓN DE TÍTULOS"
   ]
  },
  {
   "cell_type": "code",
   "execution_count": 383,
   "metadata": {},
   "outputs": [],
   "source": [
    "# Encontrar la ubicacion del titulo en el documento\n",
    "titulosPosicion1=[]\n",
    "expedientesRaros = []\n",
    "tipo='encontrado'\n",
    "for i in range(len(dfLimpio)):\n",
    "    for titulo in titulosMayusculas[i]:\n",
    "        inicioTitulo = dfLimpio[i].index(titulo)\n",
    "        caracteres = len(titulo)\n",
    "        titulo = re.sub('[\\n\\.):-]',' ',titulo)\n",
    "        titulo = limpiar_palabras(titulo)\n",
    "        palabrasPorTitulo = len(titulo.split())\n",
    "        finalTitulo = inicioTitulo + caracteres\n",
    "        #if palabrasPorTitulo > 0:\n",
    "        titulosPosicion1.append((i, tipo, titulo, inicioTitulo, finalTitulo, palabrasPorTitulo))\n",
    "        #else:\n",
    "         \n",
    "        #   expedientesRaros.append((i, str(dfLimpio[i])))\n",
    "\n",
    "dfUbicacionTitulos = pd.DataFrame(titulosPosicion1,columns=['id','tipo','titulo','inicio','fin','longitud'])"
   ]
  },
  {
   "cell_type": "code",
   "execution_count": 384,
   "metadata": {},
   "outputs": [],
   "source": [
    "#dfUbicacionTitulos = dfUbicacionTitulos.drop(dfUbicacionTitulos[dfUbicacionTitulos['titulo'] ==''].index)\n",
    "#Aplicando esto, de 5776 filas, se reduce a 5390. "
   ]
  },
  {
   "cell_type": "code",
   "execution_count": 385,
   "metadata": {},
   "outputs": [],
   "source": [
    "#pprint(dfLimpio[488][9541:])\n",
    "#pprint(dfLimpio[1736])"
   ]
  },
  {
   "cell_type": "code",
   "execution_count": 386,
   "metadata": {},
   "outputs": [],
   "source": [
    "#pprint(df1[3639])\n",
    "#df.expediente[3639]"
   ]
  },
  {
   "cell_type": "markdown",
   "metadata": {},
   "source": [
    "## Calculo de la longitud de los parrafos"
   ]
  },
  {
   "cell_type": "code",
   "execution_count": 387,
   "metadata": {},
   "outputs": [],
   "source": [
    "# Calculo la longitud de caracteres de parrafos\n",
    "def longitud_parrafos(ubicacion, original):\n",
    "    parrafos=[]\n",
    "    for i in range(len(ubicacion)):\n",
    "        if i < len(ubicacion)-1:\n",
    "            inicio = ubicacion['inicio'][i]\n",
    "            fin = ubicacion['inicio'][i+1]\n",
    "            idDf = ubicacion['id'][i]\n",
    "            if (fin-inicio) > 0:\n",
    "                parrafo = original[idDf][inicio:fin]\n",
    "                parrafo = remove_stops(parrafo)\n",
    "                parrafo = general(parrafo)\n",
    "               \n",
    "                #parrafo = limpiar_palabras(parrafo)\n",
    "                caracteres = len(parrafo.split())\n",
    "                parrafos.append(caracteres)\n",
    "            else:\n",
    "                parrafo = original[idDf][inicio:]\n",
    "                parrafo = general(parrafo)\n",
    "                parrafo = remove_stops(parrafo)\n",
    "                parrafo = limpiar_palabras(parrafo)\n",
    "                caracteres = len(parrafo.split())\n",
    "                parrafos.append(caracteres)\n",
    "    return parrafos\n",
    "\n",
    "longitudP = longitud_parrafos(dfUbicacionTitulos, dfLimpio)"
   ]
  },
  {
   "cell_type": "code",
   "execution_count": 388,
   "metadata": {},
   "outputs": [],
   "source": [
    "dfUbicacionTitulos['longitud_parrafo'] = pd.DataFrame(longitudP)"
   ]
  },
  {
   "cell_type": "code",
   "execution_count": 389,
   "metadata": {},
   "outputs": [
    {
     "name": "stderr",
     "output_type": "stream",
     "text": [
      "C:\\Users\\gasto\\AppData\\Local\\Temp\\ipykernel_9620\\2840726199.py:1: SettingWithCopyWarning: \n",
      "A value is trying to be set on a copy of a slice from a DataFrame\n",
      "\n",
      "See the caveats in the documentation: https://pandas.pydata.org/pandas-docs/stable/user_guide/indexing.html#returning-a-view-versus-a-copy\n",
      "  dfUbicacionTitulos.longitud_parrafo[5775] = 112\n",
      "C:\\Users\\gasto\\AppData\\Local\\Temp\\ipykernel_9620\\2840726199.py:2: SettingWithCopyWarning: \n",
      "A value is trying to be set on a copy of a slice from a DataFrame\n",
      "\n",
      "See the caveats in the documentation: https://pandas.pydata.org/pandas-docs/stable/user_guide/indexing.html#returning-a-view-versus-a-copy\n",
      "  dfUbicacionTitulos.longitud_parrafo[5389] = 112\n"
     ]
    }
   ],
   "source": [
    "dfUbicacionTitulos.longitud_parrafo[5775] = 112\n",
    "dfUbicacionTitulos.longitud_parrafo[5389] = 112"
   ]
  },
  {
   "cell_type": "code",
   "execution_count": 390,
   "metadata": {},
   "outputs": [],
   "source": [
    "dfUbicacionTitulos['titulo'].to_csv('titulosEncontrados.csv',index=False)\n",
    "dfUbicacionTitulos.to_csv('df_TitulosEncontrados.csv',index=False)\n",
    "dfUbicacionTitulos.to_excel('df_TitulosEncontrados.xlsx',index=False)"
   ]
  },
  {
   "cell_type": "code",
   "execution_count": 391,
   "metadata": {},
   "outputs": [],
   "source": [
    "dfTitulosCandidatos.to_csv('df_titulosCandidatos.csv',index=False)\n",
    "dfTitulosCandidatos.to_excel('df_titulosCandidatos.xlsx', index=False)\n",
    "dfTitulosCandidatos['titulo'].to_csv('titulosCandidatos.csv',index=False)"
   ]
  },
  {
   "cell_type": "code",
   "execution_count": 392,
   "metadata": {},
   "outputs": [
    {
     "data": {
      "text/plain": [
       "count    5671.000000\n",
       "mean        2.254629\n",
       "std         1.357344\n",
       "min         0.000000\n",
       "25%         1.000000\n",
       "50%         2.000000\n",
       "75%         3.000000\n",
       "max         8.000000\n",
       "Name: longitud, dtype: float64"
      ]
     },
     "execution_count": 392,
     "metadata": {},
     "output_type": "execute_result"
    }
   ],
   "source": [
    "dfUbicacionTitulos['longitud'].describe()"
   ]
  },
  {
   "cell_type": "code",
   "execution_count": 393,
   "metadata": {},
   "outputs": [],
   "source": [
    "#pprint(dfLimpio[1736][14170:])"
   ]
  },
  {
   "cell_type": "code",
   "execution_count": 394,
   "metadata": {},
   "outputs": [],
   "source": [
    "# Creo una lista de parrafos\n",
    "def extraer_parrafos(ubicacion, original):\n",
    "    parrafos=[]\n",
    "    for i in range(len(ubicacion)):\n",
    "        if i < len(ubicacion)-1:\n",
    "            inicio = ubicacion['fin'][i]\n",
    "            fin = ubicacion['inicio'][i+1]\n",
    "            idDf = ubicacion['id'][i]\n",
    "            if (fin-inicio) > 0:\n",
    "                parrafo = original[idDf][inicio:fin]\n",
    "                caracteres = general(parrafo)\n",
    "                caracteres = remove_stops(caracteres)\n",
    "                caracteres = limpiar_palabras(caracteres)\n",
    "                caracteres = caracteres.split(sep=' ')\n",
    "                parrafos.append(caracteres)\n",
    "            else:\n",
    "                parrafo = original[idDf][inicio:]\n",
    "                caracteres = general(parrafo)\n",
    "                caracteres = remove_stops(caracteres)\n",
    "                caracteres = limpiar_palabras(caracteres)\n",
    "                caracteres = caracteres.split(sep=' ')\n",
    "                parrafos.append(caracteres)\n",
    "    return parrafos\n",
    "\n",
    "parrafos = extraer_parrafos(dfUbicacionTitulos,dfLimpio)"
   ]
  },
  {
   "cell_type": "code",
   "execution_count": 395,
   "metadata": {},
   "outputs": [],
   "source": [
    "#dfLimpio[0][172:690]#161:690\n",
    "#parrafos[0]"
   ]
  },
  {
   "cell_type": "code",
   "execution_count": 396,
   "metadata": {},
   "outputs": [
    {
     "name": "stdout",
     "output_type": "stream",
     "text": [
      "LONGITUD DE PALABRAS: 44\n"
     ]
    }
   ],
   "source": [
    "print(f'LONGITUD DE PALABRAS: {len(parrafos[0])}')"
   ]
  },
  {
   "cell_type": "code",
   "execution_count": 397,
   "metadata": {},
   "outputs": [],
   "source": [
    "#parrafos[0]"
   ]
  },
  {
   "cell_type": "code",
   "execution_count": 398,
   "metadata": {},
   "outputs": [],
   "source": [
    "#df['expediente'][165]"
   ]
  },
  {
   "cell_type": "markdown",
   "metadata": {},
   "source": [
    "# CREACION DE DOCUMENTO HTML\n",
    "## MUESTRO LOS TITULOS Y PARRAFOS ENCONTRADOS"
   ]
  },
  {
   "cell_type": "code",
   "execution_count": 399,
   "metadata": {},
   "outputs": [],
   "source": [
    "# Creamos un dataframe para colocar el salto de linea en formato HTML\n",
    "dfLimpioHTML = dfLimpio.apply(str)\n",
    "def limpiarTextoHTML(text):\n",
    "    text = text.strip().replace('\\n','<br>')\n",
    "    return text\n",
    "\n",
    "dfLimpioHTML = dfLimpioHTML.apply(limpiarTextoHTML)\n",
    "parrafoConsideraciones = limpiarTextoHTML(parrafoConsideraciones)"
   ]
  },
  {
   "cell_type": "code",
   "execution_count": 400,
   "metadata": {},
   "outputs": [],
   "source": [
    "colors = {\n",
    "    'procedimientos': '#cd5c5c',\n",
    "    'cuerpos': '#99ccff',\n",
    "    'afecciones': '#ffa500'\n",
    "}\n",
    "\n",
    "body = f'''\n",
    "        <p>\n",
    "        {dfLimpioHTML[1]}\n",
    "        </p>\n",
    "        <br>\n",
    "        '''\n",
    "body = body.replace(parrafoConsideraciones,f'<span style=\"background-color: #99ccff\">{parrafoConsideraciones}</span>')\n",
    "for titulo in titulosMayusculas[1]:\n",
    "    body = body.replace(titulo,f'<span style=\"background-color: #cd5c5c\">{titulo}</span>')\n",
    "with open('parrafos.html','w', encoding=\"utf-8\") as f:\n",
    "    f.write(body)"
   ]
  },
  {
   "cell_type": "markdown",
   "metadata": {},
   "source": [
    "# Gráfico de frecuencia de palabras por párrafo. Histograma."
   ]
  },
  {
   "cell_type": "code",
   "execution_count": 401,
   "metadata": {},
   "outputs": [
    {
     "data": {
      "image/png": "[encoded data removed]",
      "text/plain": [
       "<Figure size 432x288 with 1 Axes>"
      ]
     },
     "metadata": {
      "needs_background": "light"
     },
     "output_type": "display_data"
    }
   ],
   "source": [
    "import matplotlib.pyplot as plt\n",
    "\n",
    "longParrafos = dfUbicacionTitulos['longitud_parrafo']\n",
    "bins1 = [0, 25, 50, 75, 100, 125, 150, 175, 200] #, 2000, 2500, 3000, 3500, 4000, 4500, 5000, 5500, 6000\n",
    "\n",
    "plt.hist(longParrafos, bins1, edgecolor='black', label='Párrafos - Palabras')\n",
    "plt.xlabel('Cantidad en palabras')\n",
    "plt.ylabel('Cantidad de párrafos')\n",
    "plt.legend()\n",
    "plt.show()"
   ]
  },
  {
   "cell_type": "code",
   "execution_count": 402,
   "metadata": {},
   "outputs": [
    {
     "data": {
      "image/png": "[encoded data removed]",
      "text/plain": [
       "<Figure size 432x288 with 1 Axes>"
      ]
     },
     "metadata": {
      "needs_background": "light"
     },
     "output_type": "display_data"
    }
   ],
   "source": [
    "import matplotlib.pyplot as plt\n",
    "\n",
    "longParrafos = dfUbicacionTitulos['longitud_parrafo']\n",
    "#bins2 = [0,50, 100,150, 200,250, 300,350, 400,450, 500,550, 600,650, 700,750, 800,850, 900,950, 1000]#[0, 100, 200, 300, 400, 500, 600, 700, 800, 900, 1000] #, 2000, 2500, 3000, 3500, 4000, 4500, 5000, 5500, 6000\n",
    "\n",
    "plt.hist(longParrafos, bins=range(0,50,1),ec='k',label='Párrafos - Palabras', align='mid')\n",
    "plt.xlabel('Cantidad de palabras')\n",
    "plt.ylabel('Cantidad de párrafos')\n",
    "plt.legend()\n",
    "#plt.axis([1,100,1,300])\n",
    "plt.show()\n",
    "# total de parrafos 5775\n",
    "# limpiar titulos con parrafos de menos de 10 palabras."
   ]
  },
  {
   "cell_type": "code",
   "execution_count": 403,
   "metadata": {},
   "outputs": [
    {
     "data": {
      "image/png": "[encoded data removed]",
      "text/plain": [
       "<Figure size 432x288 with 1 Axes>"
      ]
     },
     "metadata": {
      "needs_background": "light"
     },
     "output_type": "display_data"
    }
   ],
   "source": [
    "import matplotlib.pyplot as plt\n",
    "\n",
    "longParrafos = dfUbicacionTitulos['longitud_parrafo']\n",
    "bins3 = [0, 500, 1000, 1500, 2000, 2500, 3000, 3500, 4000, 4500, 5000]\n",
    "\n",
    "plt.hist(longParrafos, bins3, edgecolor='black', label='Párrafos - Palabras')\n",
    "plt.legend()\n",
    "plt.xlabel('Cantidad en palabras')\n",
    "plt.ylabel('Cantidad de párrafos')\n",
    "plt.show()"
   ]
  },
  {
   "cell_type": "markdown",
   "metadata": {},
   "source": [
    "# Gráfico de frecuencia de palabras por párrafo. BoxPlot."
   ]
  },
  {
   "cell_type": "code",
   "execution_count": 404,
   "metadata": {},
   "outputs": [],
   "source": [
    "dfUbicacionTitulosLimpio = dfUbicacionTitulos.drop(dfUbicacionTitulos[dfUbicacionTitulos['titulo'] ==''].index)\n",
    "dfUbicacionTitulosLimpio = dfUbicacionTitulos.drop(dfUbicacionTitulos[dfUbicacionTitulos['longitud_parrafo'] > 1000].index)\n",
    "longParrafosBox = dfUbicacionTitulosLimpio['longitud_parrafo']"
   ]
  },
  {
   "cell_type": "code",
   "execution_count": 405,
   "metadata": {},
   "outputs": [
    {
     "data": {
      "image/png": "[encoded data removed]",
      "text/plain": [
       "<Figure size 432x288 with 1 Axes>"
      ]
     },
     "metadata": {
      "needs_background": "light"
     },
     "output_type": "display_data"
    }
   ],
   "source": [
    "plt.boxplot(longParrafosBox)\n",
    "plt.title('Distribucion de frecuencia de palabras por párrafo')\n",
    "plt.xlabel('Párrafos')\n",
    "plt.ylabel('Cantidad de párrafos')\n",
    "plt.show()"
   ]
  },
  {
   "cell_type": "code",
   "execution_count": 406,
   "metadata": {},
   "outputs": [
    {
     "data": {
      "text/plain": [
       "count    5170.000000\n",
       "mean      204.570793\n",
       "std       227.318345\n",
       "min         0.000000\n",
       "25%        40.000000\n",
       "50%       107.000000\n",
       "75%       293.000000\n",
       "max       999.000000\n",
       "Name: longitud_parrafo, dtype: float64"
      ]
     },
     "execution_count": 406,
     "metadata": {},
     "output_type": "execute_result"
    }
   ],
   "source": [
    "longParrafosBox.describe()"
   ]
  },
  {
   "cell_type": "code",
   "execution_count": 407,
   "metadata": {},
   "outputs": [
    {
     "data": {
      "text/plain": [
       "999.0"
      ]
     },
     "execution_count": 407,
     "metadata": {},
     "output_type": "execute_result"
    }
   ],
   "source": [
    "longParrafosBox.max()"
   ]
  },
  {
   "cell_type": "code",
   "execution_count": 408,
   "metadata": {},
   "outputs": [
    {
     "data": {
      "text/plain": [
       "<AxesSubplot:>"
      ]
     },
     "execution_count": 408,
     "metadata": {},
     "output_type": "execute_result"
    },
    {
     "data": {
      "image/png": "[encoded data removed]",
      "text/plain": [
       "<Figure size 432x288 with 1 Axes>"
      ]
     },
     "metadata": {
      "needs_background": "light"
     },
     "output_type": "display_data"
    }
   ],
   "source": [
    "dfUbicacionTitulos['longitud_parrafo'].plot(kind='box')"
   ]
  },
  {
   "cell_type": "markdown",
   "metadata": {},
   "source": [
    "# TF-IDF"
   ]
  },
  {
   "cell_type": "code",
   "execution_count": 409,
   "metadata": {},
   "outputs": [],
   "source": [
    "import numpy as np\n",
    "import pandas as pd\n",
    "import nltk\n",
    "import re\n",
    "import os\n",
    "import codecs\n",
    "from sklearn import feature_extraction"
   ]
  },
  {
   "cell_type": "code",
   "execution_count": 410,
   "metadata": {},
   "outputs": [],
   "source": [
    "from nltk.stem.snowball import SnowballStemmer\n",
    "stemmer = SnowballStemmer(\"spanish\")"
   ]
  },
  {
   "cell_type": "code",
   "execution_count": 411,
   "metadata": {},
   "outputs": [],
   "source": [
    "\n",
    "# here I define a tokenizer and stemmer which returns the set of stems in the text that it is passed\n",
    "\n",
    "def tokenize_and_stem(text):\n",
    "    # first tokenize by sentence, then by word to ensure that punctuation is caught as it's own token\n",
    "    tokens = [word for sent in nltk.sent_tokenize(text) for word in nltk.word_tokenize(sent)]\n",
    "    filtered_tokens = []\n",
    "    # filter out any tokens not containing letters (e.g., numeric tokens, raw punctuation)\n",
    "    for token in tokens:\n",
    "        if re.search('[a-zA-Z]', token):\n",
    "            filtered_tokens.append(token)\n",
    "    stems = [stemmer.stem(t) for t in filtered_tokens]\n",
    "    return stems\n",
    "\n",
    "\n",
    "def tokenize_only(text):\n",
    "    # first tokenize by sentence, then by word to ensure that punctuation is caught as it's own token\n",
    "    tokens = [word.lower() for sent in nltk.sent_tokenize(text) for word in nltk.word_tokenize(sent)]\n",
    "    filtered_tokens = []\n",
    "    # filter out any tokens not containing letters (e.g., numeric tokens, raw punctuation)\n",
    "    for token in tokens:\n",
    "        if re.search('[a-zA-Z]', token):\n",
    "            filtered_tokens.append(token)\n",
    "    return filtered_tokens"
   ]
  },
  {
   "cell_type": "code",
   "execution_count": 412,
   "metadata": {},
   "outputs": [],
   "source": [
    "# #not super pythonic, no, not at all.\n",
    "# #use extend so it's a big flat list of vocab\n",
    "totalvocab_stemmed = []\n",
    "totalvocab_tokenized = []\n",
    "for i in dfUbicacionTitulos['titulo']:\n",
    "    allwords_stemmed = tokenize_and_stem(i) #for each item in 'synopses', tokenize/stem\n",
    "    totalvocab_stemmed.extend(allwords_stemmed) #extend the 'totalvocab_stemmed' list\n",
    "    \n",
    "    allwords_tokenized = tokenize_only(i)\n",
    "    totalvocab_tokenized.extend(allwords_tokenized)"
   ]
  },
  {
   "cell_type": "code",
   "execution_count": 413,
   "metadata": {},
   "outputs": [
    {
     "name": "stdout",
     "output_type": "stream",
     "text": [
      "there are 12786 items in vocab_frame\n"
     ]
    }
   ],
   "source": [
    "vocab_frame = pd.DataFrame({'words': totalvocab_tokenized}, index = totalvocab_stemmed)\n",
    "print ('there are ' + str(vocab_frame.shape[0]) + ' items in vocab_frame')"
   ]
  },
  {
   "cell_type": "code",
   "execution_count": 414,
   "metadata": {},
   "outputs": [
    {
     "name": "stdout",
     "output_type": "stream",
     "text": [
      "(13445, 25)\n"
     ]
    }
   ],
   "source": [
    "from sklearn.feature_extraction.text import TfidfVectorizer\n",
    "\n",
    "#define vectorizer parameters\n",
    "tfidf_vectorizer = TfidfVectorizer(max_df=0.95, max_features=25,\n",
    "                                 min_df=100,\n",
    "                                 use_idf=True, ngram_range=(1,4))# tokenizer=tokenize_and_stem\n",
    "\n",
    "tfidf_matrix = tfidf_vectorizer.fit(dfUbicacionTitulos['titulo']) #fit the vectorizer to synopses\n",
    "tfidf_final = tfidf_matrix.transform(dfTitulosCandidatos['titulo'])\n",
    "print(tfidf_final.shape)"
   ]
  },
  {
   "cell_type": "code",
   "execution_count": 415,
   "metadata": {},
   "outputs": [],
   "source": [
    "terms = tfidf_vectorizer.get_feature_names_out()"
   ]
  },
  {
   "cell_type": "code",
   "execution_count": 416,
   "metadata": {},
   "outputs": [
    {
     "data": {
      "text/plain": [
       "array(['actor', 'antecedentes', 'antecedentes autos', 'autos', 'clinica',\n",
       "       'conclusiones', 'consideraciones', 'consideraciones medico',\n",
       "       'consideraciones medico legales', 'contestacion',\n",
       "       'contestacion puntos', 'examen', 'historia', 'historia clinica',\n",
       "       'interes', 'interes medico', 'legal', 'legales', 'medico',\n",
       "       'medico legal', 'medico legales', 'pericia', 'petitorio', 'puntos',\n",
       "       'puntos pericia'], dtype=object)"
      ]
     },
     "execution_count": 416,
     "metadata": {},
     "output_type": "execute_result"
    }
   ],
   "source": [
    "terms"
   ]
  },
  {
   "cell_type": "markdown",
   "metadata": {},
   "source": [
    "## CountVectorizer"
   ]
  },
  {
   "cell_type": "code",
   "execution_count": 417,
   "metadata": {},
   "outputs": [],
   "source": [
    "from sklearn.feature_extraction.text import CountVectorizer\n",
    "\n",
    "coun_vect = CountVectorizer()\n",
    "count_matrix = coun_vect.fit(dfUbicacionTitulos['titulo'])\n",
    "count_final = count_matrix.transform(dfTitulosCandidatos['titulo'])\n",
    "count_array = count_final.toarray()\n"
   ]
  },
  {
   "cell_type": "code",
   "execution_count": 418,
   "metadata": {},
   "outputs": [
    {
     "data": {
      "text/plain": [
       "array(['aaec', 'abdomen', 'abodarje', ..., 'wiberg', 'wiuerg', 'zambrano'],\n",
       "      dtype=object)"
      ]
     },
     "execution_count": 418,
     "metadata": {},
     "output_type": "execute_result"
    }
   ],
   "source": [
    "count_matrix.get_feature_names_out()"
   ]
  },
  {
   "cell_type": "markdown",
   "metadata": {},
   "source": [
    "# PRUEBAS"
   ]
  },
  {
   "cell_type": "code",
   "execution_count": 419,
   "metadata": {},
   "outputs": [],
   "source": [
    "# Se unen los dos dataframes en uno solo: Guardo los titulos encontrados y titulos candidatos en un solo dataframe\n",
    "dfTitulos = pd.concat([dfUbicacionTitulos, dfTitulosCandidatos], ignore_index=True)\n",
    "\n",
    "# Se seleccionan y renombran las columnas de interés\n",
    "dfTitulos = dfTitulos[['id', 'tipo', 'titulo', 'inicio', 'fin', 'longitud']]\n",
    "dfTitulos.columns = ['id', 'tipo', 'titulo', 'inicio', 'fin', 'longitud']"
   ]
  },
  {
   "cell_type": "code",
   "execution_count": 420,
   "metadata": {},
   "outputs": [],
   "source": [
    "# Guardo los titulos encontrados y titulos candidatos en un solo dataframe y lo convierot a un archivo .csv\n",
    "dfTitulos.to_csv('dftitulos.csv',index=False)"
   ]
  },
  {
   "cell_type": "code",
   "execution_count": 421,
   "metadata": {},
   "outputs": [],
   "source": [
    "def limpiar_tokenizar(text):\n",
    "    tokenizado=[]\n",
    "    for titulo in text:\n",
    "        # Tokenización por palabras individuales\n",
    "        tokenizado.append(titulo.split(sep = ' '))\n",
    "    return(tokenizado)"
   ]
  },
  {
   "cell_type": "code",
   "execution_count": 422,
   "metadata": {},
   "outputs": [
    {
     "data": {
      "text/html": [
       "<div>\n",
       "<style scoped>\n",
       "    .dataframe tbody tr th:only-of-type {\n",
       "        vertical-align: middle;\n",
       "    }\n",
       "\n",
       "    .dataframe tbody tr th {\n",
       "        vertical-align: top;\n",
       "    }\n",
       "\n",
       "    .dataframe thead th {\n",
       "        text-align: right;\n",
       "    }\n",
       "</style>\n",
       "<table border=\"1\" class=\"dataframe\">\n",
       "  <thead>\n",
       "    <tr style=\"text-align: right;\">\n",
       "      <th></th>\n",
       "      <th>titulo</th>\n",
       "      <th>titulo_tokenizado</th>\n",
       "    </tr>\n",
       "  </thead>\n",
       "  <tbody>\n",
       "    <tr>\n",
       "      <th>0</th>\n",
       "      <td>proemio</td>\n",
       "      <td>[proemio]</td>\n",
       "    </tr>\n",
       "    <tr>\n",
       "      <th>1</th>\n",
       "      <td>antecedentes interes medico legal</td>\n",
       "      <td>[antecedentes, interes, medico, legal]</td>\n",
       "    </tr>\n",
       "    <tr>\n",
       "      <th>2</th>\n",
       "      <td>examen fisico actor</td>\n",
       "      <td>[examen, fisico, actor]</td>\n",
       "    </tr>\n",
       "    <tr>\n",
       "      <th>3</th>\n",
       "      <td>consideraciones medico legales</td>\n",
       "      <td>[consideraciones, medico, legales]</td>\n",
       "    </tr>\n",
       "    <tr>\n",
       "      <th>4</th>\n",
       "      <td>conclusiones</td>\n",
       "      <td>[conclusiones]</td>\n",
       "    </tr>\n",
       "  </tbody>\n",
       "</table>\n",
       "</div>"
      ],
      "text/plain": [
       "                              titulo                       titulo_tokenizado\n",
       "0                            proemio                               [proemio]\n",
       "1  antecedentes interes medico legal  [antecedentes, interes, medico, legal]\n",
       "2                examen fisico actor                 [examen, fisico, actor]\n",
       "3     consideraciones medico legales      [consideraciones, medico, legales]\n",
       "4                       conclusiones                          [conclusiones]"
      ]
     },
     "execution_count": 422,
     "metadata": {},
     "output_type": "execute_result"
    }
   ],
   "source": [
    "dfTitulos['titulo_tokenizado'] = limpiar_tokenizar(dfTitulos['titulo'])\n",
    "dfTitulos[['titulo', 'titulo_tokenizado']].head()"
   ]
  },
  {
   "cell_type": "code",
   "execution_count": 423,
   "metadata": {},
   "outputs": [
    {
     "data": {
      "text/html": [
       "<div>\n",
       "<style scoped>\n",
       "    .dataframe tbody tr th:only-of-type {\n",
       "        vertical-align: middle;\n",
       "    }\n",
       "\n",
       "    .dataframe tbody tr th {\n",
       "        vertical-align: top;\n",
       "    }\n",
       "\n",
       "    .dataframe thead th {\n",
       "        text-align: right;\n",
       "    }\n",
       "</style>\n",
       "<table border=\"1\" class=\"dataframe\">\n",
       "  <thead>\n",
       "    <tr style=\"text-align: right;\">\n",
       "      <th></th>\n",
       "      <th>id</th>\n",
       "      <th>tipo</th>\n",
       "      <th>inicio</th>\n",
       "      <th>fin</th>\n",
       "      <th>token</th>\n",
       "    </tr>\n",
       "  </thead>\n",
       "  <tbody>\n",
       "    <tr>\n",
       "      <th>0</th>\n",
       "      <td>0</td>\n",
       "      <td>encontrado</td>\n",
       "      <td>161</td>\n",
       "      <td>171</td>\n",
       "      <td>proemio</td>\n",
       "    </tr>\n",
       "    <tr>\n",
       "      <th>1</th>\n",
       "      <td>0</td>\n",
       "      <td>encontrado</td>\n",
       "      <td>690</td>\n",
       "      <td>730</td>\n",
       "      <td>antecedentes</td>\n",
       "    </tr>\n",
       "    <tr>\n",
       "      <th>1</th>\n",
       "      <td>0</td>\n",
       "      <td>encontrado</td>\n",
       "      <td>690</td>\n",
       "      <td>730</td>\n",
       "      <td>interes</td>\n",
       "    </tr>\n",
       "  </tbody>\n",
       "</table>\n",
       "</div>"
      ],
      "text/plain": [
       "   id        tipo  inicio  fin         token\n",
       "0   0  encontrado     161  171       proemio\n",
       "1   0  encontrado     690  730  antecedentes\n",
       "1   0  encontrado     690  730       interes"
      ]
     },
     "execution_count": 423,
     "metadata": {},
     "output_type": "execute_result"
    }
   ],
   "source": [
    "# Unnest de la columna titulo_tokenizado\n",
    "# ==============================================================================\n",
    "titulos_tidy = dfTitulos.explode(column='titulo_tokenizado')\n",
    "titulos_tidy = titulos_tidy.drop(columns='titulo')\n",
    "titulos_tidy = titulos_tidy.drop(columns='longitud')\n",
    "titulos_tidy = titulos_tidy.rename(columns={'titulo_tokenizado':'token'})\n",
    "titulos_tidy = titulos_tidy.drop(titulos_tidy[titulos_tidy['token'] ==''].index)\n",
    "titulos_tidy.head(3)"
   ]
  },
  {
   "cell_type": "markdown",
   "metadata": {},
   "source": [
    "## Frecuencia de título"
   ]
  },
  {
   "cell_type": "code",
   "execution_count": 424,
   "metadata": {},
   "outputs": [
    {
     "name": "stdout",
     "output_type": "stream",
     "text": [
      "--------------------------\n",
      "Palabras totales por títulos\n",
      "--------------------------\n"
     ]
    },
    {
     "data": {
      "text/plain": [
       "tipo\n",
       "candidato     28043\n",
       "encontrado    12786\n",
       "Name: token, dtype: int64"
      ]
     },
     "execution_count": 424,
     "metadata": {},
     "output_type": "execute_result"
    }
   ],
   "source": [
    "# Palabras totales utilizadas por cada autor\n",
    "# ==============================================================================\n",
    "print('--------------------------')\n",
    "print('Palabras totales por títulos')\n",
    "print('--------------------------')\n",
    "titulos_tidy.groupby(by='tipo')['token'].count()"
   ]
  },
  {
   "cell_type": "code",
   "execution_count": 425,
   "metadata": {},
   "outputs": [
    {
     "name": "stdout",
     "output_type": "stream",
     "text": [
      "----------------------------\n",
      "Palabras distintas por títulos\n",
      "----------------------------\n"
     ]
    },
    {
     "data": {
      "text/plain": [
       "tipo\n",
       "candidato     3275\n",
       "encontrado    1026\n",
       "Name: token, dtype: int64"
      ]
     },
     "execution_count": 425,
     "metadata": {},
     "output_type": "execute_result"
    }
   ],
   "source": [
    "# Palabras distintas por títulos\n",
    "# ==============================================================================\n",
    "print('----------------------------')\n",
    "print('Palabras distintas por títulos')\n",
    "print('----------------------------')\n",
    "titulos_tidy.groupby(by='tipo')['token'].nunique()"
   ]
  },
  {
   "cell_type": "code",
   "execution_count": 426,
   "metadata": {},
   "outputs": [
    {
     "data": {
      "text/html": [
       "<div>\n",
       "<style scoped>\n",
       "    .dataframe tbody tr th:only-of-type {\n",
       "        vertical-align: middle;\n",
       "    }\n",
       "\n",
       "    .dataframe tbody tr th {\n",
       "        vertical-align: top;\n",
       "    }\n",
       "\n",
       "    .dataframe thead th {\n",
       "        text-align: right;\n",
       "    }\n",
       "</style>\n",
       "<table border=\"1\" class=\"dataframe\">\n",
       "  <thead>\n",
       "    <tr style=\"text-align: right;\">\n",
       "      <th></th>\n",
       "      <th>mean</th>\n",
       "      <th>std</th>\n",
       "    </tr>\n",
       "    <tr>\n",
       "      <th>tipo</th>\n",
       "      <th></th>\n",
       "      <th></th>\n",
       "    </tr>\n",
       "  </thead>\n",
       "  <tbody>\n",
       "    <tr>\n",
       "      <th>candidato</th>\n",
       "      <td>16.399415</td>\n",
       "      <td>16.980976</td>\n",
       "    </tr>\n",
       "    <tr>\n",
       "      <th>encontrado</th>\n",
       "      <td>11.118261</td>\n",
       "      <td>8.571205</td>\n",
       "    </tr>\n",
       "  </tbody>\n",
       "</table>\n",
       "</div>"
      ],
      "text/plain": [
       "                 mean        std\n",
       "tipo                            \n",
       "candidato   16.399415  16.980976\n",
       "encontrado  11.118261   8.571205"
      ]
     },
     "execution_count": 426,
     "metadata": {},
     "output_type": "execute_result"
    }
   ],
   "source": [
    "# Longitud media y desviación de los titulos de cada tipo\n",
    "# ==============================================================================\n",
    "temp_df = pd.DataFrame(titulos_tidy.groupby(by = [\"tipo\", \"id\"])[\"token\"].count())\n",
    "temp_df.reset_index().groupby(\"tipo\")[\"token\"].agg(['mean', 'std'])"
   ]
  },
  {
   "cell_type": "code",
   "execution_count": 427,
   "metadata": {},
   "outputs": [
    {
     "name": "stdout",
     "output_type": "stream",
     "text": [
      "Top 5 títulos más repetidos por tipo\n"
     ]
    },
    {
     "data": {
      "text/html": [
       "<div>\n",
       "<style scoped>\n",
       "    .dataframe tbody tr th:only-of-type {\n",
       "        vertical-align: middle;\n",
       "    }\n",
       "\n",
       "    .dataframe tbody tr th {\n",
       "        vertical-align: top;\n",
       "    }\n",
       "\n",
       "    .dataframe thead th {\n",
       "        text-align: right;\n",
       "    }\n",
       "</style>\n",
       "<table border=\"1\" class=\"dataframe\">\n",
       "  <thead>\n",
       "    <tr style=\"text-align: right;\">\n",
       "      <th></th>\n",
       "      <th></th>\n",
       "      <th>tipo</th>\n",
       "      <th>token</th>\n",
       "      <th>count</th>\n",
       "    </tr>\n",
       "    <tr>\n",
       "      <th>tipo</th>\n",
       "      <th></th>\n",
       "      <th></th>\n",
       "      <th></th>\n",
       "      <th></th>\n",
       "    </tr>\n",
       "  </thead>\n",
       "  <tbody>\n",
       "    <tr>\n",
       "      <th rowspan=\"5\" valign=\"top\">candidato</th>\n",
       "      <th>2748</th>\n",
       "      <td>candidato</td>\n",
       "      <td>respuesta</td>\n",
       "      <td>635</td>\n",
       "    </tr>\n",
       "    <tr>\n",
       "      <th>1237</th>\n",
       "      <td>candidato</td>\n",
       "      <td>examen</td>\n",
       "      <td>612</td>\n",
       "    </tr>\n",
       "    <tr>\n",
       "      <th>1639</th>\n",
       "      <td>candidato</td>\n",
       "      <td>informe</td>\n",
       "      <td>542</td>\n",
       "    </tr>\n",
       "    <tr>\n",
       "      <th>1937</th>\n",
       "      <td>candidato</td>\n",
       "      <td>medico</td>\n",
       "      <td>518</td>\n",
       "    </tr>\n",
       "    <tr>\n",
       "      <th>617</th>\n",
       "      <td>candidato</td>\n",
       "      <td>consideraciones</td>\n",
       "      <td>389</td>\n",
       "    </tr>\n",
       "    <tr>\n",
       "      <th rowspan=\"5\" valign=\"top\">encontrado</th>\n",
       "      <th>3866</th>\n",
       "      <td>encontrado</td>\n",
       "      <td>medico</td>\n",
       "      <td>827</td>\n",
       "    </tr>\n",
       "    <tr>\n",
       "      <th>4083</th>\n",
       "      <td>encontrado</td>\n",
       "      <td>puntos</td>\n",
       "      <td>609</td>\n",
       "    </tr>\n",
       "    <tr>\n",
       "      <th>3469</th>\n",
       "      <td>encontrado</td>\n",
       "      <td>conclusiones</td>\n",
       "      <td>576</td>\n",
       "    </tr>\n",
       "    <tr>\n",
       "      <th>3991</th>\n",
       "      <td>encontrado</td>\n",
       "      <td>pericia</td>\n",
       "      <td>537</td>\n",
       "    </tr>\n",
       "    <tr>\n",
       "      <th>3372</th>\n",
       "      <td>encontrado</td>\n",
       "      <td>antecedentes</td>\n",
       "      <td>485</td>\n",
       "    </tr>\n",
       "  </tbody>\n",
       "</table>\n",
       "</div>"
      ],
      "text/plain": [
       "                       tipo            token  count\n",
       "tipo                                               \n",
       "candidato  2748   candidato        respuesta    635\n",
       "           1237   candidato           examen    612\n",
       "           1639   candidato          informe    542\n",
       "           1937   candidato           medico    518\n",
       "           617    candidato  consideraciones    389\n",
       "encontrado 3866  encontrado           medico    827\n",
       "           4083  encontrado           puntos    609\n",
       "           3469  encontrado     conclusiones    576\n",
       "           3991  encontrado          pericia    537\n",
       "           3372  encontrado     antecedentes    485"
      ]
     },
     "execution_count": 427,
     "metadata": {},
     "output_type": "execute_result"
    }
   ],
   "source": [
    "# Top 5 títulos más repetidos por tipo\n",
    "# ==============================================================================\n",
    "print('Top 5 títulos más repetidos por tipo')\n",
    "titulos_tidy.groupby(['tipo','token'])['token'] \\\n",
    " .count() \\\n",
    " .reset_index(name='count') \\\n",
    " .groupby('tipo') \\\n",
    " .apply(lambda x: x.sort_values('count', ascending=False).head(5))"
   ]
  },
  {
   "cell_type": "code",
   "execution_count": 428,
   "metadata": {},
   "outputs": [
    {
     "data": {
      "image/png": "[encoded data removed]",
      "text/plain": [
       "<Figure size 720x1152 with 2 Axes>"
      ]
     },
     "metadata": {
      "needs_background": "light"
     },
     "output_type": "display_data"
    }
   ],
   "source": [
    "# Top 10 títulos por tipo \n",
    "# ==============================================================================\n",
    "fig, axs = plt.subplots(nrows=2, ncols=1,figsize=(10, 16))\n",
    "for i, tipo in enumerate(titulos_tidy.tipo.unique()):\n",
    "    df_temp = titulos_tidy[titulos_tidy.tipo == tipo]\n",
    "    counts  = df_temp['token'].value_counts(ascending=False).head(25)\n",
    "    counts.plot(kind='barh', color='firebrick', ax=axs[i])\n",
    "    axs[i].invert_yaxis()\n",
    "    axs[i].set_title(tipo)\n",
    "\n",
    "fig.tight_layout()"
   ]
  },
  {
   "cell_type": "code",
   "execution_count": 429,
   "metadata": {},
   "outputs": [],
   "source": [
    "# Pivotado de títutlos por tipo y token.\n",
    "# ==============================================================================\n",
    "titulos_pivot = titulos_tidy.groupby([\"tipo\",\"token\"])[\"token\"] \\\n",
    "                .agg([\"count\"]).reset_index() \\\n",
    "                .pivot(index = \"token\" , columns=\"tipo\", values= \"count\")\n",
    "titulos_pivot.columns.name = None"
   ]
  },
  {
   "cell_type": "code",
   "execution_count": 430,
   "metadata": {},
   "outputs": [
    {
     "data": {
      "text/plain": [
       "'aacs'"
      ]
     },
     "execution_count": 430,
     "metadata": {},
     "output_type": "execute_result"
    }
   ],
   "source": [
    "titulos_pivot.encontrado.index[0]"
   ]
  },
  {
   "cell_type": "code",
   "execution_count": 431,
   "metadata": {},
   "outputs": [
    {
     "name": "stdout",
     "output_type": "stream",
     "text": [
      "actor\n",
      "actora\n",
      "antecedentes\n",
      "autos\n",
      "complementarios\n",
      "conclusiones\n",
      "consideraciones\n",
      "datos\n",
      "estudios\n",
      "examen\n",
      "hechos\n",
      "incapacidad\n",
      "interes\n",
      "legal\n",
      "legales\n",
      "medico\n",
      "pericia\n",
      "personales\n",
      "petitorio\n",
      "puntos\n"
     ]
    }
   ],
   "source": [
    "for i, count in enumerate(titulos_pivot.encontrado):\n",
    "    if titulos_pivot.candidato[i] > 80 and count > 80:\n",
    "        print(titulos_pivot.index[i])"
   ]
  },
  {
   "cell_type": "code",
   "execution_count": 432,
   "metadata": {},
   "outputs": [],
   "source": [
    "# Test de correlación (coseno) por títulos candidato y título encontrado\n",
    "# ==============================================================================\n",
    "from scipy.spatial.distance import cosine\n",
    "\n",
    "def similitud_coseno(a,b):\n",
    "    distancia = cosine(a,b)\n",
    "    return distancia\n",
    "\n",
    "matriz_corr = titulos_pivot.corr(method=similitud_coseno)"
   ]
  },
  {
   "cell_type": "code",
   "execution_count": 433,
   "metadata": {},
   "outputs": [
    {
     "name": "stdout",
     "output_type": "stream",
     "text": [
      "Correlación entre tipos de títulos\n"
     ]
    },
    {
     "data": {
      "text/html": [
       "<div>\n",
       "<style scoped>\n",
       "    .dataframe tbody tr th:only-of-type {\n",
       "        vertical-align: middle;\n",
       "    }\n",
       "\n",
       "    .dataframe tbody tr th {\n",
       "        vertical-align: top;\n",
       "    }\n",
       "\n",
       "    .dataframe thead th {\n",
       "        text-align: right;\n",
       "    }\n",
       "</style>\n",
       "<table border=\"1\" class=\"dataframe\">\n",
       "  <thead>\n",
       "    <tr style=\"text-align: right;\">\n",
       "      <th></th>\n",
       "      <th>candidato</th>\n",
       "      <th>encontrado</th>\n",
       "    </tr>\n",
       "  </thead>\n",
       "  <tbody>\n",
       "    <tr>\n",
       "      <th>candidato</th>\n",
       "      <td>1.000000</td>\n",
       "      <td>0.357399</td>\n",
       "    </tr>\n",
       "    <tr>\n",
       "      <th>encontrado</th>\n",
       "      <td>0.357399</td>\n",
       "      <td>1.000000</td>\n",
       "    </tr>\n",
       "  </tbody>\n",
       "</table>\n",
       "</div>"
      ],
      "text/plain": [
       "            candidato  encontrado\n",
       "candidato    1.000000    0.357399\n",
       "encontrado   0.357399    1.000000"
      ]
     },
     "execution_count": 433,
     "metadata": {},
     "output_type": "execute_result"
    }
   ],
   "source": [
    "print('Correlación entre tipos de títulos')\n",
    "matriz_corr"
   ]
  },
  {
   "cell_type": "code",
   "execution_count": 434,
   "metadata": {},
   "outputs": [
    {
     "data": {
      "image/png": "[encoded data removed]",
      "text/plain": [
       "<Figure size 720x432 with 1 Axes>"
      ]
     },
     "metadata": {
      "needs_background": "light"
     },
     "output_type": "display_data"
    }
   ],
   "source": [
    "import seaborn as sns\n",
    "\n",
    "# Gráfico de correlación\n",
    "# ==============================================================================\n",
    "f, ax = plt.subplots(figsize=(10, 6))\n",
    "temp = titulos_pivot.dropna()\n",
    "sns.regplot(\n",
    "    x  = np.log(temp.candidato),\n",
    "    y  = np.log(temp.encontrado),\n",
    "    scatter_kws =  {'alpha': 0.05},\n",
    "    ax = ax\n",
    ");\n",
    "for i in np.random.choice(range(temp.shape[0]), 100):\n",
    "    ax.annotate(\n",
    "        text  = temp.index[i],\n",
    "        xy    = (np.log(temp.candidato[i]), np.log(temp.encontrado[i])),\n",
    "        alpha = 0.7\n",
    "    )"
   ]
  },
  {
   "cell_type": "code",
   "execution_count": 435,
   "metadata": {},
   "outputs": [
    {
     "name": "stdout",
     "output_type": "stream",
     "text": [
      "Palabras comunes entre títulos encontrados y títulos candidatos: 575\n"
     ]
    }
   ],
   "source": [
    "# Número de palabras comunes en títulos encotnrados y candidatos.\n",
    "# ==============================================================================\n",
    "titulo_encontrado = set(titulos_tidy[titulos_tidy.tipo == 'encontrado']['token'])\n",
    "titulo_candidato = set(titulos_tidy[titulos_tidy.tipo == 'candidato']['token'])\n",
    "\n",
    "\n",
    "print(f\"Palabras comunes entre títulos encontrados y títulos candidatos: {len(titulo_encontrado.intersection(titulo_candidato))}\")"
   ]
  },
  {
   "cell_type": "code",
   "execution_count": 436,
   "metadata": {},
   "outputs": [],
   "source": [
    "nuevosTitulosEncontrados = []\n",
    "for encontrado in titulo_encontrado:\n",
    "    for candidato in titulo_candidato:\n",
    "        if encontrado == candidato :\n",
    "            nuevosTitulosEncontrados.append(candidato)"
   ]
  },
  {
   "cell_type": "code",
   "execution_count": 437,
   "metadata": {},
   "outputs": [],
   "source": [
    "# Cálculo del log of odds ratio de cada palabra títulos encontrados y títulos candidatos\n",
    "# ==============================================================================\n",
    "# Pivotaje y despivotaje\n",
    "titulos_pivot = titulos_tidy.groupby([\"tipo\",\"token\"])[\"token\"] \\\n",
    "                .agg([\"count\"]).reset_index() \\\n",
    "                .pivot(index = \"token\" , columns=\"tipo\", values= \"count\")\n",
    "\n",
    "titulos_pivot = titulos_pivot.fillna(value=0)\n",
    "titulos_pivot.columns.name = None\n",
    "\n",
    "titulos_unpivot = titulos_pivot.melt(value_name='n', var_name='tipo', ignore_index=False)\n",
    "titulos_unpivot = titulos_unpivot.reset_index()\n",
    "\n",
    "# Selección de los títlos encontrados y candidatos. \n",
    "titulos_unpivot = titulos_unpivot[titulos_unpivot.tipo.isin(['encontrado', 'candidato'])]\n",
    "\n",
    "# Se añade el total de palabras de cada titulo.\n",
    "titulos_unpivot = titulos_unpivot.merge(\n",
    "                    titulos_tidy.groupby('tipo')['token'].count().rename('N'),\n",
    "                    how = 'left',\n",
    "                    on  = 'tipo'\n",
    "                 )\n",
    "\n",
    "# Cálculo de odds y log of odds de cada palabra\n",
    "titulos_logOdds = titulos_unpivot.copy()\n",
    "titulos_logOdds['odds'] = (titulos_logOdds.n + 1) / (titulos_logOdds.N + 1)\n",
    "titulos_logOdds = titulos_logOdds[['token', 'tipo', 'odds']] \\\n",
    "                    .pivot(index='token', columns='tipo', values='odds')\n",
    "titulos_logOdds.columns.name = None\n",
    "\n",
    "titulos_logOdds['log_odds']     = np.log(titulos_logOdds.encontrado/titulos_logOdds.candidato)\n",
    "titulos_logOdds['abs_log_odds'] = np.abs(titulos_logOdds.log_odds)\n",
    "\n",
    "# Si el logaritmo de odds es mayor que cero, significa que es una palabra con\n",
    "# mayor probabilidad de ser título encontrado. Esto es así porque el ratio sea ha\n",
    "# calculado como encontrado/candidato.\n",
    "titulos_logOdds['tipo_frecuente'] = np.where(titulos_logOdds.log_odds > 0,\n",
    "                                              \"encontrado\",\n",
    "                                              \"candidato\"\n",
    "                                    )"
   ]
  },
  {
   "cell_type": "code",
   "execution_count": 438,
   "metadata": {},
   "outputs": [
    {
     "name": "stdout",
     "output_type": "stream",
     "text": [
      "-----------------------------------\n",
      "Top 10 palabras más diferenciadas en títulos encontrados y tíulos candidatos\n",
      "-----------------------------------\n"
     ]
    },
    {
     "data": {
      "text/html": [
       "<div>\n",
       "<style scoped>\n",
       "    .dataframe tbody tr th:only-of-type {\n",
       "        vertical-align: middle;\n",
       "    }\n",
       "\n",
       "    .dataframe tbody tr th {\n",
       "        vertical-align: top;\n",
       "    }\n",
       "\n",
       "    .dataframe thead th {\n",
       "        text-align: right;\n",
       "    }\n",
       "</style>\n",
       "<table border=\"1\" class=\"dataframe\">\n",
       "  <thead>\n",
       "    <tr style=\"text-align: right;\">\n",
       "      <th></th>\n",
       "      <th>candidato</th>\n",
       "      <th>encontrado</th>\n",
       "      <th>log_odds</th>\n",
       "      <th>abs_log_odds</th>\n",
       "      <th>tipo_frecuente</th>\n",
       "    </tr>\n",
       "    <tr>\n",
       "      <th>token</th>\n",
       "      <th></th>\n",
       "      <th></th>\n",
       "      <th></th>\n",
       "      <th></th>\n",
       "      <th></th>\n",
       "    </tr>\n",
       "  </thead>\n",
       "  <tbody>\n",
       "    <tr>\n",
       "      <th>integral</th>\n",
       "      <td>0.000036</td>\n",
       "      <td>0.004145</td>\n",
       "      <td>4.755638</td>\n",
       "      <td>4.755638</td>\n",
       "      <td>encontrado</td>\n",
       "    </tr>\n",
       "    <tr>\n",
       "      <th>realizado</th>\n",
       "      <td>0.006953</td>\n",
       "      <td>0.000078</td>\n",
       "      <td>-4.487654</td>\n",
       "      <td>4.487654</td>\n",
       "      <td>candidato</td>\n",
       "    </tr>\n",
       "    <tr>\n",
       "      <th>auxiliares</th>\n",
       "      <td>0.000036</td>\n",
       "      <td>0.003050</td>\n",
       "      <td>4.448907</td>\n",
       "      <td>4.448907</td>\n",
       "      <td>encontrado</td>\n",
       "    </tr>\n",
       "    <tr>\n",
       "      <th>discusion</th>\n",
       "      <td>0.000036</td>\n",
       "      <td>0.003050</td>\n",
       "      <td>4.448907</td>\n",
       "      <td>4.448907</td>\n",
       "      <td>encontrado</td>\n",
       "    </tr>\n",
       "    <tr>\n",
       "      <th>remitir</th>\n",
       "      <td>0.004885</td>\n",
       "      <td>0.000078</td>\n",
       "      <td>-4.134635</td>\n",
       "      <td>4.134635</td>\n",
       "      <td>candidato</td>\n",
       "    </tr>\n",
       "    <tr>\n",
       "      <th>contestar</th>\n",
       "      <td>0.000036</td>\n",
       "      <td>0.002190</td>\n",
       "      <td>4.117550</td>\n",
       "      <td>4.117550</td>\n",
       "      <td>encontrado</td>\n",
       "    </tr>\n",
       "    <tr>\n",
       "      <th>llevados</th>\n",
       "      <td>0.000071</td>\n",
       "      <td>0.003832</td>\n",
       "      <td>3.984019</td>\n",
       "      <td>3.984019</td>\n",
       "      <td>encontrado</td>\n",
       "    </tr>\n",
       "    <tr>\n",
       "      <th>sido</th>\n",
       "      <td>0.004172</td>\n",
       "      <td>0.000078</td>\n",
       "      <td>-3.976828</td>\n",
       "      <td>3.976828</td>\n",
       "      <td>candidato</td>\n",
       "    </tr>\n",
       "    <tr>\n",
       "      <th>cabo</th>\n",
       "      <td>0.000071</td>\n",
       "      <td>0.003754</td>\n",
       "      <td>3.963400</td>\n",
       "      <td>3.963400</td>\n",
       "      <td>encontrado</td>\n",
       "    </tr>\n",
       "    <tr>\n",
       "      <th>cuerpo</th>\n",
       "      <td>0.004101</td>\n",
       "      <td>0.000078</td>\n",
       "      <td>-3.959586</td>\n",
       "      <td>3.959586</td>\n",
       "      <td>candidato</td>\n",
       "    </tr>\n",
       "    <tr>\n",
       "      <th>remitirse</th>\n",
       "      <td>0.004065</td>\n",
       "      <td>0.000078</td>\n",
       "      <td>-3.950853</td>\n",
       "      <td>3.950853</td>\n",
       "      <td>candidato</td>\n",
       "    </tr>\n",
       "    <tr>\n",
       "      <th>desarrollado</th>\n",
       "      <td>0.004029</td>\n",
       "      <td>0.000078</td>\n",
       "      <td>-3.942042</td>\n",
       "      <td>3.942042</td>\n",
       "      <td>candidato</td>\n",
       "    </tr>\n",
       "    <tr>\n",
       "      <th>oficio</th>\n",
       "      <td>0.000071</td>\n",
       "      <td>0.003597</td>\n",
       "      <td>3.920840</td>\n",
       "      <td>3.920840</td>\n",
       "      <td>encontrado</td>\n",
       "    </tr>\n",
       "    <tr>\n",
       "      <th>galeano</th>\n",
       "      <td>0.000036</td>\n",
       "      <td>0.001799</td>\n",
       "      <td>3.920840</td>\n",
       "      <td>3.920840</td>\n",
       "      <td>encontrado</td>\n",
       "    </tr>\n",
       "    <tr>\n",
       "      <th>rotacion</th>\n",
       "      <td>0.003922</td>\n",
       "      <td>0.000078</td>\n",
       "      <td>-3.915135</td>\n",
       "      <td>3.915135</td>\n",
       "      <td>candidato</td>\n",
       "    </tr>\n",
       "    <tr>\n",
       "      <th>romina</th>\n",
       "      <td>0.000036</td>\n",
       "      <td>0.001642</td>\n",
       "      <td>3.829868</td>\n",
       "      <td>3.829868</td>\n",
       "      <td>encontrado</td>\n",
       "    </tr>\n",
       "    <tr>\n",
       "      <th>alejadra</th>\n",
       "      <td>0.000036</td>\n",
       "      <td>0.001564</td>\n",
       "      <td>3.781078</td>\n",
       "      <td>3.781078</td>\n",
       "      <td>encontrado</td>\n",
       "    </tr>\n",
       "    <tr>\n",
       "      <th>contestado</th>\n",
       "      <td>0.003245</td>\n",
       "      <td>0.000078</td>\n",
       "      <td>-3.725514</td>\n",
       "      <td>3.725514</td>\n",
       "      <td>candidato</td>\n",
       "    </tr>\n",
       "    <tr>\n",
       "      <th>juicio</th>\n",
       "      <td>0.003174</td>\n",
       "      <td>0.000078</td>\n",
       "      <td>-3.703291</td>\n",
       "      <td>3.703291</td>\n",
       "      <td>candidato</td>\n",
       "    </tr>\n",
       "    <tr>\n",
       "      <th>dato</th>\n",
       "      <td>0.003174</td>\n",
       "      <td>0.000078</td>\n",
       "      <td>-3.703291</td>\n",
       "      <td>3.703291</td>\n",
       "      <td>candidato</td>\n",
       "    </tr>\n",
       "    <tr>\n",
       "      <th>contestada</th>\n",
       "      <td>0.003067</td>\n",
       "      <td>0.000078</td>\n",
       "      <td>-3.669002</td>\n",
       "      <td>3.669002</td>\n",
       "      <td>candidato</td>\n",
       "    </tr>\n",
       "    <tr>\n",
       "      <th>problematica</th>\n",
       "      <td>0.000107</td>\n",
       "      <td>0.004067</td>\n",
       "      <td>3.637977</td>\n",
       "      <td>3.637977</td>\n",
       "      <td>encontrado</td>\n",
       "    </tr>\n",
       "    <tr>\n",
       "      <th>remito</th>\n",
       "      <td>0.002924</td>\n",
       "      <td>0.000078</td>\n",
       "      <td>-3.621374</td>\n",
       "      <td>3.621374</td>\n",
       "      <td>candidato</td>\n",
       "    </tr>\n",
       "    <tr>\n",
       "      <th>cardio</th>\n",
       "      <td>0.000036</td>\n",
       "      <td>0.001329</td>\n",
       "      <td>3.618559</td>\n",
       "      <td>3.618559</td>\n",
       "      <td>encontrado</td>\n",
       "    </tr>\n",
       "    <tr>\n",
       "      <th>idem</th>\n",
       "      <td>0.002817</td>\n",
       "      <td>0.000078</td>\n",
       "      <td>-3.584102</td>\n",
       "      <td>3.584102</td>\n",
       "      <td>candidato</td>\n",
       "    </tr>\n",
       "    <tr>\n",
       "      <th>patologicos</th>\n",
       "      <td>0.000036</td>\n",
       "      <td>0.001251</td>\n",
       "      <td>3.557934</td>\n",
       "      <td>3.557934</td>\n",
       "      <td>encontrado</td>\n",
       "    </tr>\n",
       "    <tr>\n",
       "      <th>bibliiografia</th>\n",
       "      <td>0.000036</td>\n",
       "      <td>0.001251</td>\n",
       "      <td>3.557934</td>\n",
       "      <td>3.557934</td>\n",
       "      <td>encontrado</td>\n",
       "    </tr>\n",
       "    <tr>\n",
       "      <th>aportadas</th>\n",
       "      <td>0.000036</td>\n",
       "      <td>0.001251</td>\n",
       "      <td>3.557934</td>\n",
       "      <td>3.557934</td>\n",
       "      <td>encontrado</td>\n",
       "    </tr>\n",
       "    <tr>\n",
       "      <th>pensamiento</th>\n",
       "      <td>0.002674</td>\n",
       "      <td>0.000078</td>\n",
       "      <td>-3.532142</td>\n",
       "      <td>3.532142</td>\n",
       "      <td>candidato</td>\n",
       "    </tr>\n",
       "    <tr>\n",
       "      <th>proemio</th>\n",
       "      <td>0.000071</td>\n",
       "      <td>0.002346</td>\n",
       "      <td>3.493396</td>\n",
       "      <td>3.493396</td>\n",
       "      <td>encontrado</td>\n",
       "    </tr>\n",
       "  </tbody>\n",
       "</table>\n",
       "</div>"
      ],
      "text/plain": [
       "               candidato  encontrado  log_odds  abs_log_odds tipo_frecuente\n",
       "token                                                                      \n",
       "integral        0.000036    0.004145  4.755638      4.755638     encontrado\n",
       "realizado       0.006953    0.000078 -4.487654      4.487654      candidato\n",
       "auxiliares      0.000036    0.003050  4.448907      4.448907     encontrado\n",
       "discusion       0.000036    0.003050  4.448907      4.448907     encontrado\n",
       "remitir         0.004885    0.000078 -4.134635      4.134635      candidato\n",
       "contestar       0.000036    0.002190  4.117550      4.117550     encontrado\n",
       "llevados        0.000071    0.003832  3.984019      3.984019     encontrado\n",
       "sido            0.004172    0.000078 -3.976828      3.976828      candidato\n",
       "cabo            0.000071    0.003754  3.963400      3.963400     encontrado\n",
       "cuerpo          0.004101    0.000078 -3.959586      3.959586      candidato\n",
       "remitirse       0.004065    0.000078 -3.950853      3.950853      candidato\n",
       "desarrollado    0.004029    0.000078 -3.942042      3.942042      candidato\n",
       "oficio          0.000071    0.003597  3.920840      3.920840     encontrado\n",
       "galeano         0.000036    0.001799  3.920840      3.920840     encontrado\n",
       "rotacion        0.003922    0.000078 -3.915135      3.915135      candidato\n",
       "romina          0.000036    0.001642  3.829868      3.829868     encontrado\n",
       "alejadra        0.000036    0.001564  3.781078      3.781078     encontrado\n",
       "contestado      0.003245    0.000078 -3.725514      3.725514      candidato\n",
       "juicio          0.003174    0.000078 -3.703291      3.703291      candidato\n",
       "dato            0.003174    0.000078 -3.703291      3.703291      candidato\n",
       "contestada      0.003067    0.000078 -3.669002      3.669002      candidato\n",
       "problematica    0.000107    0.004067  3.637977      3.637977     encontrado\n",
       "remito          0.002924    0.000078 -3.621374      3.621374      candidato\n",
       "cardio          0.000036    0.001329  3.618559      3.618559     encontrado\n",
       "idem            0.002817    0.000078 -3.584102      3.584102      candidato\n",
       "patologicos     0.000036    0.001251  3.557934      3.557934     encontrado\n",
       "bibliiografia   0.000036    0.001251  3.557934      3.557934     encontrado\n",
       "aportadas       0.000036    0.001251  3.557934      3.557934     encontrado\n",
       "pensamiento     0.002674    0.000078 -3.532142      3.532142      candidato\n",
       "proemio         0.000071    0.002346  3.493396      3.493396     encontrado"
      ]
     },
     "execution_count": 438,
     "metadata": {},
     "output_type": "execute_result"
    }
   ],
   "source": [
    "print('-----------------------------------')\n",
    "print('Top 10 palabras más diferenciadas en títulos encontrados y tíulos candidatos')\n",
    "print('-----------------------------------')\n",
    "titulos_logOdds.sort_values('abs_log_odds', ascending=False).head(30)"
   ]
  },
  {
   "cell_type": "code",
   "execution_count": 439,
   "metadata": {},
   "outputs": [
    {
     "data": {
      "image/png": "[encoded data removed]",
      "text/plain": [
       "<Figure size 720x864 with 1 Axes>"
      ]
     },
     "metadata": {
      "needs_background": "light"
     },
     "output_type": "display_data"
    }
   ],
   "source": [
    "# Top 15 palabras más características de cada tipo de título\n",
    "# ==============================================================================\n",
    "\n",
    "top_30 = titulos_logOdds[['log_odds', 'abs_log_odds', 'tipo_frecuente']] \\\n",
    "        .groupby('tipo_frecuente') \\\n",
    "        .apply(lambda x: x.nlargest(30, columns='abs_log_odds').reset_index()) \\\n",
    "        .reset_index(drop=True) \\\n",
    "        .sort_values('log_odds')\n",
    "\n",
    "f, ax = plt.subplots(figsize=(10, 12))\n",
    "sns.barplot(\n",
    "    x    = 'log_odds',\n",
    "    y    = 'token',\n",
    "    hue  = 'tipo_frecuente',\n",
    "    data = top_30,\n",
    "    ax   = ax\n",
    ")\n",
    "ax.set_title('Top 10 palabras más características de cada tipo de título')\n",
    "ax.set_xlabel('log odds ratio (titulos encontrados / titulos candidatos)');"
   ]
  },
  {
   "cell_type": "code",
   "execution_count": 440,
   "metadata": {},
   "outputs": [
    {
     "data": {
      "text/plain": [
       "5671"
      ]
     },
     "execution_count": 440,
     "metadata": {},
     "output_type": "execute_result"
    }
   ],
   "source": [
    "len(longParrafos)"
   ]
  },
  {
   "cell_type": "code",
   "execution_count": 463,
   "metadata": {},
   "outputs": [
    {
     "ename": "KeyError",
     "evalue": "2185",
     "output_type": "error",
     "traceback": [
      "\u001b[1;31m---------------------------------------------------------------------------\u001b[0m",
      "\u001b[1;31mValueError\u001b[0m                                Traceback (most recent call last)",
      "File \u001b[1;32me:\\2.lugalhub\\1-proyecto\\proyecto-env\\lib\\site-packages\\pandas\\core\\indexes\\range.py:385\u001b[0m, in \u001b[0;36mRangeIndex.get_loc\u001b[1;34m(self, key, method, tolerance)\u001b[0m\n\u001b[0;32m    384\u001b[0m \u001b[39mtry\u001b[39;00m:\n\u001b[1;32m--> 385\u001b[0m     \u001b[39mreturn\u001b[39;00m \u001b[39mself\u001b[39;49m\u001b[39m.\u001b[39;49m_range\u001b[39m.\u001b[39;49mindex(new_key)\n\u001b[0;32m    386\u001b[0m \u001b[39mexcept\u001b[39;00m \u001b[39mValueError\u001b[39;00m \u001b[39mas\u001b[39;00m err:\n",
      "\u001b[1;31mValueError\u001b[0m: 2185 is not in range",
      "\nThe above exception was the direct cause of the following exception:\n",
      "\u001b[1;31mKeyError\u001b[0m                                  Traceback (most recent call last)",
      "\u001b[1;32me:\\2.lugalhub\\1-proyecto\\REPOSITORIO\\Mi-Proyecto\\Busqueda_titulo-parrafo.ipynb Cell 110'\u001b[0m in \u001b[0;36m<cell line: 1>\u001b[1;34m()\u001b[0m\n\u001b[1;32m----> <a href='vscode-notebook-cell:/e%3A/2.lugalhub/1-proyecto/REPOSITORIO/Mi-Proyecto/Busqueda_titulo-parrafo.ipynb#ch0000106?line=0'>1</a>\u001b[0m dfSinTitulosEncontrados[\u001b[39m'\u001b[39;49m\u001b[39mexpediente\u001b[39;49m\u001b[39m'\u001b[39;49m][\u001b[39m2185\u001b[39;49m][\u001b[39m156\u001b[39m:]\n",
      "File \u001b[1;32me:\\2.lugalhub\\1-proyecto\\proyecto-env\\lib\\site-packages\\pandas\\core\\series.py:958\u001b[0m, in \u001b[0;36mSeries.__getitem__\u001b[1;34m(self, key)\u001b[0m\n\u001b[0;32m    955\u001b[0m     \u001b[39mreturn\u001b[39;00m \u001b[39mself\u001b[39m\u001b[39m.\u001b[39m_values[key]\n\u001b[0;32m    957\u001b[0m \u001b[39melif\u001b[39;00m key_is_scalar:\n\u001b[1;32m--> 958\u001b[0m     \u001b[39mreturn\u001b[39;00m \u001b[39mself\u001b[39;49m\u001b[39m.\u001b[39;49m_get_value(key)\n\u001b[0;32m    960\u001b[0m \u001b[39mif\u001b[39;00m is_hashable(key):\n\u001b[0;32m    961\u001b[0m     \u001b[39m# Otherwise index.get_value will raise InvalidIndexError\u001b[39;00m\n\u001b[0;32m    962\u001b[0m     \u001b[39mtry\u001b[39;00m:\n\u001b[0;32m    963\u001b[0m         \u001b[39m# For labels that don't resolve as scalars like tuples and frozensets\u001b[39;00m\n",
      "File \u001b[1;32me:\\2.lugalhub\\1-proyecto\\proyecto-env\\lib\\site-packages\\pandas\\core\\series.py:1069\u001b[0m, in \u001b[0;36mSeries._get_value\u001b[1;34m(self, label, takeable)\u001b[0m\n\u001b[0;32m   1066\u001b[0m     \u001b[39mreturn\u001b[39;00m \u001b[39mself\u001b[39m\u001b[39m.\u001b[39m_values[label]\n\u001b[0;32m   1068\u001b[0m \u001b[39m# Similar to Index.get_value, but we do not fall back to positional\u001b[39;00m\n\u001b[1;32m-> 1069\u001b[0m loc \u001b[39m=\u001b[39m \u001b[39mself\u001b[39;49m\u001b[39m.\u001b[39;49mindex\u001b[39m.\u001b[39;49mget_loc(label)\n\u001b[0;32m   1070\u001b[0m \u001b[39mreturn\u001b[39;00m \u001b[39mself\u001b[39m\u001b[39m.\u001b[39mindex\u001b[39m.\u001b[39m_get_values_for_loc(\u001b[39mself\u001b[39m, loc, label)\n",
      "File \u001b[1;32me:\\2.lugalhub\\1-proyecto\\proyecto-env\\lib\\site-packages\\pandas\\core\\indexes\\range.py:387\u001b[0m, in \u001b[0;36mRangeIndex.get_loc\u001b[1;34m(self, key, method, tolerance)\u001b[0m\n\u001b[0;32m    385\u001b[0m         \u001b[39mreturn\u001b[39;00m \u001b[39mself\u001b[39m\u001b[39m.\u001b[39m_range\u001b[39m.\u001b[39mindex(new_key)\n\u001b[0;32m    386\u001b[0m     \u001b[39mexcept\u001b[39;00m \u001b[39mValueError\u001b[39;00m \u001b[39mas\u001b[39;00m err:\n\u001b[1;32m--> 387\u001b[0m         \u001b[39mraise\u001b[39;00m \u001b[39mKeyError\u001b[39;00m(key) \u001b[39mfrom\u001b[39;00m \u001b[39merr\u001b[39;00m\n\u001b[0;32m    388\u001b[0m \u001b[39mself\u001b[39m\u001b[39m.\u001b[39m_check_indexing_error(key)\n\u001b[0;32m    389\u001b[0m \u001b[39mraise\u001b[39;00m \u001b[39mKeyError\u001b[39;00m(key)\n",
      "\u001b[1;31mKeyError\u001b[0m: 2185"
     ]
    }
   ],
   "source": [
    "dfSinTitulosEncontrados['expediente'][2185][156:]"
   ]
  },
  {
   "cell_type": "code",
   "execution_count": 450,
   "metadata": {},
   "outputs": [
    {
     "data": {
      "text/plain": [
       "'neamente incorporan ejercicios isometricos suaves elevacion pierna La mayor parte pacientes suelen recuperar funcion programa sencillo ejercicios ningun bajo impacto, inicialmente centrados bicicleta estatica. En casos remodelacion meniscal recuperacion motora rapida norma. A pesar observaciones, estudios demostrado fortaleza pierna reduce tras realizar remodelacion meniscal, especialmente afectacion inicial funcion extensora rodilla. (1) De hecho, estudio demostro recuperacion funcional niveles preoperatorios posible, cabo 4 6 semanas, funcion cuadriceps completa realizar fisioterapia queda mas debil contralateral mas 12 semanas tras realizar remodelacion meniscal. (2) Se demostrado musculos extensores rodilla pierden 20% 40% fuerza flexores alrededor 20% semanas realizada remodelacion. (3) El mayor problema defectos que, unicamente defecto residual 10% extensores flexores rodilla, aumenta riesgo lesion misma.(4) Por tanto, si existe programa fisioterapia intensiva supervisada, pacientes sido sometidos reparacion meniscal pueden tener mayor riesgo sufrir lesiones trabajo actividades deportivas. Entonces, debe realizar programa fisioterapia intensivo supervisado si persiste deficit significativo pesar realizar programa establecido. El aspecto mas puede dificultar proceso rehabilitacion mas influye resultados remodelacion meniscal cambio degenerativo preexistente. La extension daño condral correlaciona peor pronostico. La tecnica meniscectomia parcial mas facil rapida suele elegir debido reparacion meniscal mas compleja requiere mas tiempo. Igualmente, rehabilitacion postoperatorio reparacion meniscal mas elaborada, compleja, extensa conservadora postoperatorio remodelacion meniscal. La mayoria fisioterapeutas estan familiarizados tipo procedimiento conocen manejo adecuado adelantar proceso rehabilitacion libre efectos bio-negativos estructuras cicatrizacion. Por razon, medicos ortopedistas confian desempeño fisioterapeuta prefieren diferir remision etapas posteriores exponga seguridad reparacion meniscal. Para contribuir seguridad orientar fisioterapeuta procedimiento realizado, cirujano debe consignar remision mayor informacion posible, contemplando cuidados especiales (prioritariamente debe hacer) objetivos propuestos. Cuando describe procedimiento realizado, fisioterapeuta puede confundirse creer trata remodelacion meniscal ver incision posterior realiza tecnica reparacion “todo- dentro”. Existen protocolos diferentes rehabilitacion reparaciones meniscales bibliografia. Hay poca diferencia diversos protocolos cada vez van recomendando programas mas agresivos mayor numero cirujanos Shelbourne Barber.(5) Este ultimo autor demostro existian diferencias estadisticamente significativas grupo realizo reparacion meniscal siguio regimen postoperatorio conservador, comparandolo segundo grupo pacientes permitio incorporarse nuevo deportes contacto cuanto desaparecio derrame; consiguio extension completa menos flexion. La mayor diferencia postoperatorio remodelacion reparacion meniscal cuidado apoyo. En medio prefiere seguir protocolo rehabilitacion mas conservador consiste cuatro semanas apoyo, seguidas 2 semanas carga parcial lograr maxima carga. Se recomienda movilizacion inmediata. Algunos cirujanos prefieren limitar flexion 90 varias semanas, creyendo flexion mayor puede provocar demasiadas fuerzas estres reparacion cuerno posterior. Arnoczky demostrado menisco poca movilidad sufre pocas fuerzas estres 15 60 movilidad. (6) La sentadilla profunda rotacion tibial deben ser evitadas menos primeras 12 semanas. (7) El fortalecimiento flexores rodilla tambien debe diferirse 4 semanas, especialmente reparaciones menisco medial, insercion semimembranoso menisco. La contraccion dicho musculo somete tension sutura produciendo efecto indeseado proceso cicatrizacion. Ademas ser impulsado hacia atras semimembranoso flexion, menisco medial retrocede menos, casi mitad menos externo, hace mas vulnerable repetidas flexo-extensiones adelantamiento, retroceso incompleto nuevo adelantamiento. En proceso, menisco interno puede ser sorprendido condilos femorales provocar pinzamiento estres sutura. Biomecanicamente ejercicios cadena cinetica cerrada apoyo parcial progresivo mas seguros funcionales ejercicios cadena cinetica abierta. Para fisioterapeutas importante tener cuenta debe realizar flexion maxima forzada rodilla (tocar gluteo talon) pacientes mayores existe posibilidad producir desgarro cuerno posterior menisco. Mientras pacientes jovenes tejido meniscal sano generalmente requieren produzca traumatismo rodilla importante vea comprometido tejido meniscal, pacientes mayores van ser mas propensos sufrir roturas meniscales ejercicio normal realizar actividades simples ponerse cuclillas (rotura secundaria 1 simplemente degeneracion meniscal). BIBLIOGRAFIA CONSULTADA. 1. Insall John N., Scott W. Norman: Rodilla. MARBAN. . Villalobos M.J., Trueba D.C., Luque G.C.: Rehabilitacion rodilla despues meniscectomia artroscopica. Rev Mex Ortop Traum . 3. Einsingbach Thomas: La recuperacion muscular fisioterapia rehabilitacion. Medicina Deportiva. Editorial Paidotribo. 4. Benedetto KP, Rangger C: Arthroscopic partial meniscectomy: 5-year follow-up. :, Am 70:, . Barber FA: Unrestricted rehabilitation of meniscus repairs. Arthroscopy 6. Arnoczky SP, Warren RF, Spivak JM: Meniscal repair using anexogenous fibrin clot. An experimental study in dogs. J Bone Joint Surg 7. Starke Ch., Kopf S., Petersen W.,Becker R. Arthroscopy: The Journal of Arthroscopic and Related Surgery, Vol 25, No 9 (September), : pp -EXAMENES COMPLEMENTARIOS: Se adjuntan final informe pericial. EXAMEN DE LA ZONA AFECTADA. Examen funcional rodilla derecha. (Se utilizo ponderacion fisica metodo 0 neutro goniometro universal, movilidad activa asistida) 1· -Presenta nivel region intervenida quirurgicamente cicatrices portales artroscopicos normales, signos flogosis, temperatura conservada. -Marcha eubasica punta pie talon dificultades. - Movilidad flexion 0°-° - Extension dentro rangos normales. - Sin trastornos neurologicos. Reflejo patelar conservado bilateral. - Signo choque negativo. - Bostezo interno externo negativos. - Maniobra cajon anterior posterior negativas. - Presenta signos friccion meniscal. Temperatura conservada. - Signos evidentes hipotrofia muscular muslo derecho. Perimetro ambos muslos, muslo derecho (54 cm), izquierd0 (5cm). Se evidencia clara asimetria. Se realizo medicion segun tecnica, 7 cm polo superior rotula. El resto examen aporta elementos interes medico legal presente informe. INCAPACIDAD: FISICA: muscular. Incapacidad: 15% • Meniscectomia derecha signos objetivos hipotrofia • Limitacion funcional rodilla derecha flexion 0° °. 1 Incapacidad: 4% SUBTOTAL FISICA: 19% FACTORES DE PONDERACION. - Edad: 39 años 0,5 % 19%)a2,85% - Intermedia dificultad realizar tareas habituales (15% - Amerita Recalificacion: SI (10% 19%) 1,9% SUBTOTAL FISICA: 27,25 % PSICOLOGICA. Incapacidad: 0% (Decreto 96) INCAPACIDAD permanente, parcial definitiva: 27,25% CONCLUSIONES MEDICO LEGALES: Del analisis documental aportada entrevista realizada surge toda claridad Sr. Lanardonne, Paul Humberto sufre hecho subito violento 18 marzo recibe golpechoque alta energia cinetica rodilla derecha parte clarck transportaba pallet mercaderia resultando ruptura meniscal mecanismo entorsis rotacion externa flexion forzada. Realiza denuncia aseguradora atienden clinica Provincial Merlo evaluado especialista receta antiinflamatorio solicita Resonancia rodilla derecha objetiva ruptura 1 meniscal cuerno posterior (segun consta ficha evolucion siniestro). Luego otorgan sesiones fisio kinesio terapia mejoria (consta historia clinica fecha ) intervenido quirurgicamente via artroscopica. Es evidente mecanica siniestral accidente ocasiono lesion meniscal rodilla derecha intervenido quirurgicamente acorde lex practica. Sin embargo, consta documental aportada recibido prestaciones kinesicas adecuadas calidad cantidad necesaria intension recuperar ad integrum movilidad rodilla derecha, dicho objetivo logrado parcialmente, quedando secuelas señaladas utsupra. A fecha, trascurrido año siete meses siniestro, incapacidad objetivamente demostrada presenta actor permanente asi tambien dolor cronico ostenta, requiriendo ingesta ocasional antiinflamatorios mitigar mismo. Se dan contestados puntos pericia ambas partes atento consta presente informe pericial nuevo señalar aporte mas claridad caso. Es cuanto aportar. Sirvase , mandar agregar Dictamen presente elevo momento procesal correspondiente, regular honorarios tarea profesional desarrollada. DIOS GUARDE A USIA. SERA JUSTICIA. 1 15'"
      ]
     },
     "execution_count": 450,
     "metadata": {},
     "output_type": "execute_result"
    }
   ],
   "source": [
    "dfExpTitulosCandidatos.expediente[308][7502:]"
   ]
  },
  {
   "cell_type": "code",
   "execution_count": null,
   "metadata": {},
   "outputs": [],
   "source": []
  }
 ],
 "metadata": {
  "kernelspec": {
   "display_name": "Python 3.9.5 ('proyecto-env')",
   "language": "python",
   "name": "python3"
  },
  "language_info": {
   "codemirror_mode": {
    "name": "ipython",
    "version": 3
   },
   "file_extension": ".py",
   "mimetype": "text/x-python",
   "name": "python",
   "nbconvert_exporter": "python",
   "pygments_lexer": "ipython3",
   "version": "3.9.5"
  },
  "orig_nbformat": 4,
  "vscode": {
   "interpreter": {
    "hash": "009f8d941f1a5e5fa5c53bd1fe1f1a27e75894b84557fa679569ec42254b5e02"
   }
  }
 },
 "nbformat": 4,
 "nbformat_minor": 2
}
