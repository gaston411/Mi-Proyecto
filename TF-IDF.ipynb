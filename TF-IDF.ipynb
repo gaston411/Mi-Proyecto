{
 "cells": [
  {
   "cell_type": "code",
   "execution_count": 10,
   "metadata": {},
   "outputs": [],
   "source": [
    "import pandas as pd\n",
    "from pprint import pprint\n",
    "df = pd.read_csv(\"pericias_medicas.csv\", sep=\",\", encoding=\"utf-8\")\n",
    "df = df['text'].apply(str)\n",
    "df1 = df.head(20)"
   ]
  },
  {
   "cell_type": "code",
   "execution_count": 139,
   "metadata": {},
   "outputs": [],
   "source": [
    "import re\n",
    "\n",
    "def limpiarTexto(text):\n",
    "    text = re.sub(r'[-,;+º*?¿!¡<>{}// %&´\"\"]',' ',text)\n",
    "    text = re.sub('^ +',' ',text)\n",
    "    text = re.sub('\\n ','',text)\n",
    "    text = re.sub('\\n\\n+','\\n',text)\n",
    "    text = re.sub(' +\\n','\\n',text)\n",
    "    text = re.sub('\\. \\n','\\.\\n',text)\n",
    "    text = re.sub('\\d\\n','',text)\n",
    "    text = re.sub('\\x0c','',text)\n",
    "    text = re.sub('¨[... ]','',text)\n",
    "    text = text.lower()\n",
    "    text = re.sub(' {2,100}',' ',text)\n",
    "    text = re.sub('^ +','',text)\n",
    "    text = re.sub('n.º.','',text)\n",
    "    text = re.sub('[a-zA-z-.]@[a-zA-Z].com','',text)\n",
    "    text = re.sub('\\d+','',text)\n",
    "    text = re.sub(r'^ ix|iv|vi+|i+x |(i{2,3})','', text)\n",
    "\n",
    "    text = re.sub(' +\\n+','\\n',text)\n",
    "    text = re.sub('\\n+','\\n',text)\n",
    "    text = re.sub('\\d+\\n','',text)\n",
    "    text.strip()\n",
    "    return text\n",
    "\n",
    "dfLimpio = df1.apply(limpiarTexto)"
   ]
  },
  {
   "cell_type": "code",
   "execution_count": null,
   "metadata": {},
   "outputs": [],
   "source": [
    "#pprint(dfLimpio[0])"
   ]
  },
  {
   "cell_type": "markdown",
   "metadata": {},
   "source": [
    "## Limpieza de texto"
   ]
  },
  {
   "cell_type": "code",
   "execution_count": 5,
   "metadata": {},
   "outputs": [],
   "source": [
    "import nltk\n",
    "\n",
    "stops = nltk.corpus.stopwords.words('spanish')\n",
    "\n",
    "#elimino stopwords\n",
    "def remove_stops(texto: str) -> str:\n",
    "    \"\"\"\n",
    "    Función que elimina stopwords\n",
    "    Params:\n",
    "        **texto**:texto a ser limpiado de stopwords\n",
    "\n",
    "    \"\"\"\n",
    "    texto = [\n",
    "        i for i in texto.split() if i not in stops\n",
    "    ]\n",
    "    return texto\n",
    "\n",
    "df1.apply(str)\n",
    "df1 = df1.apply(remove_stops)\n"
   ]
  },
  {
   "cell_type": "code",
   "execution_count": 6,
   "metadata": {},
   "outputs": [],
   "source": [
    "#pprint(df1[10])"
   ]
  },
  {
   "cell_type": "markdown",
   "metadata": {},
   "source": [
    "## Expresion regular para encontrar los titulos"
   ]
  },
  {
   "cell_type": "code",
   "execution_count": 157,
   "metadata": {},
   "outputs": [
    {
     "name": "stdout",
     "output_type": "stream",
     "text": [
      "(\"[' juez nacional:', 'examen fisico del actor:', 'semiologia de las \"\n",
      " \"afecciones:', ' tobillo:', 'consideraciones medico legales:', \"\n",
      " \"'npsicotrauma:', 'npetitorio:']\")\n"
     ]
    }
   ],
   "source": [
    "#creo un nuevo data frame de titulos\n",
    "titulos1 = (re.findall(r'\\n[a-z- \\.]+:\\n', df1[0]))\n",
    "\n",
    "def buscarTitulos(text):\n",
    "    \n",
    "    text = re.sub(r'^ ','', text)\n",
    "    titulosBuscados = re.findall(r'\\n[a-z- \\.]+:\\n', text)\n",
    "    return titulosBuscados\n",
    "\n",
    "def limpiarTitulos(text):\n",
    "    text = re.sub(r'\\\\n +','\\n', text)\n",
    "    text = re.sub(r' +',' ', text)\n",
    "    text = re.findall(r'[a-z ]+:', text)\n",
    "    #text = re.sub(r'\\\\n','', text)\n",
    "    return text\n",
    "\n",
    "def sacarEspacios(text):\n",
    "    text = re.sub(r' +',' ', text)\n",
    "    return text\n",
    "\n",
    "def limpio(text):\n",
    "    text = re.sub(r'\\\\n +','\\n', text)\n",
    "    text = re.sub(r' +',' ', text)\n",
    "    text = re.sub(r'^ ','', text)\n",
    "    return text\n",
    "\n",
    "dfTitulos = dfLimpio.apply(buscarTitulos)\n",
    "dfTitulos = dfTitulos.apply(str)\n",
    "dfTitulos = dfTitulos.apply(limpiarTitulos)\n",
    "dfTitulos = dfTitulos.apply(str)\n",
    "dfLimpio = dfLimpio.apply(limpio)\n",
    "#dfTitulos = dfTitulos.apply(sacarEspacios)\n",
    "pprint(dfTitulos[0])\n",
    "#HACER ESTADISTICAS DE TITULOS\n"
   ]
  },
  {
   "cell_type": "code",
   "execution_count": 189,
   "metadata": {},
   "outputs": [
    {
     "name": "stdout",
     "output_type": "stream",
     "text": [
      "'0 ,  juez nacional:'\n",
      "176\n",
      "191\n",
      "15\n",
      "'1 , examen fisico del actor:'\n",
      "2084\n",
      "2108\n",
      "24\n",
      "'2 , semiologia de las afecciones:'\n",
      "5055\n",
      "5084\n",
      "29\n",
      "'3 ,  tobillo:'\n",
      "5475\n",
      "5484\n",
      "9\n",
      "'4 , consideraciones medico legales:'\n",
      "9326\n",
      "9357\n",
      "31\n",
      "'5 , npsicotrauma:'\n"
     ]
    },
    {
     "ename": "ValueError",
     "evalue": "substring not found",
     "output_type": "error",
     "traceback": [
      "\u001b[1;31m---------------------------------------------------------------------------\u001b[0m",
      "\u001b[1;31mValueError\u001b[0m                                Traceback (most recent call last)",
      "\u001b[1;32m<ipython-input-189-0a958fafb3eb>\u001b[0m in \u001b[0;36m<module>\u001b[1;34m\u001b[0m\n\u001b[0;32m      5\u001b[0m \u001b[1;32mfor\u001b[0m \u001b[0mi\u001b[0m\u001b[1;33m,\u001b[0m\u001b[0mj\u001b[0m \u001b[1;32min\u001b[0m \u001b[0menumerate\u001b[0m\u001b[1;33m(\u001b[0m\u001b[0mtitulos\u001b[0m\u001b[1;33m)\u001b[0m\u001b[1;33m:\u001b[0m\u001b[1;33m\u001b[0m\u001b[1;33m\u001b[0m\u001b[0m\n\u001b[0;32m      6\u001b[0m     \u001b[0mpprint\u001b[0m\u001b[1;33m(\u001b[0m\u001b[1;34mf'{i} , {j}'\u001b[0m\u001b[1;33m)\u001b[0m\u001b[1;33m\u001b[0m\u001b[1;33m\u001b[0m\u001b[0m\n\u001b[1;32m----> 7\u001b[1;33m     \u001b[0mpprint\u001b[0m\u001b[1;33m(\u001b[0m\u001b[0mdfLimpio\u001b[0m\u001b[1;33m[\u001b[0m\u001b[1;36m0\u001b[0m\u001b[1;33m]\u001b[0m\u001b[1;33m.\u001b[0m\u001b[0mindex\u001b[0m\u001b[1;33m(\u001b[0m\u001b[0mtitulos\u001b[0m\u001b[1;33m[\u001b[0m\u001b[0mi\u001b[0m\u001b[1;33m]\u001b[0m\u001b[1;33m)\u001b[0m\u001b[1;33m)\u001b[0m\u001b[1;33m\u001b[0m\u001b[1;33m\u001b[0m\u001b[0m\n\u001b[0m\u001b[0;32m      8\u001b[0m     \u001b[0minicio\u001b[0m \u001b[1;33m=\u001b[0m \u001b[0mdfLimpio\u001b[0m\u001b[1;33m[\u001b[0m\u001b[1;36m0\u001b[0m\u001b[1;33m]\u001b[0m\u001b[1;33m.\u001b[0m\u001b[0mindex\u001b[0m\u001b[1;33m(\u001b[0m\u001b[0mtitulos\u001b[0m\u001b[1;33m[\u001b[0m\u001b[0mi\u001b[0m\u001b[1;33m]\u001b[0m\u001b[1;33m)\u001b[0m\u001b[1;33m\u001b[0m\u001b[1;33m\u001b[0m\u001b[0m\n\u001b[0;32m      9\u001b[0m     \u001b[0mpprint\u001b[0m\u001b[1;33m(\u001b[0m\u001b[0minicio\u001b[0m \u001b[1;33m+\u001b[0m \u001b[1;33m(\u001b[0m\u001b[0mlen\u001b[0m\u001b[1;33m(\u001b[0m\u001b[0mtitulos\u001b[0m\u001b[1;33m[\u001b[0m\u001b[0mi\u001b[0m\u001b[1;33m]\u001b[0m\u001b[1;33m)\u001b[0m\u001b[1;33m)\u001b[0m\u001b[1;33m)\u001b[0m\u001b[1;33m\u001b[0m\u001b[1;33m\u001b[0m\u001b[0m\n",
      "\u001b[1;31mValueError\u001b[0m: substring not found"
     ]
    }
   ],
   "source": [
    "#lista de titulos y ubicacion\n",
    "dfTitulos = dfTitulos.apply(str)\n",
    "titulos = (re.findall(r'[ a-z-]+:', dfTitulos[0]))\n",
    "titulosPosicion=[]\n",
    "for i,j in enumerate(titulos):\n",
    "    pprint(f'{i} , {j}')\n",
    "    pprint(dfLimpio[0].index(titulos[i]))\n",
    "    inicio = dfLimpio[0].index(titulos[i])\n",
    "    pprint(inicio + (len(titulos[i])))\n",
    "    final = inicio + (len(titulos[i]))\n",
    "    pprint(final-inicio)\n",
    "    #palabrasPorTitulo = final-inicio\n",
    "    #titulosPosicion.append((titulos[i], inicio,final, palabrasPorTitulo))\n",
    "pprint(titulosPosicion)\n",
    "#anotar parrafos entre titulos.\n",
    "#parrafo = texto[inicio:inicio+1]"
   ]
  },
  {
   "cell_type": "code",
   "execution_count": 180,
   "metadata": {},
   "outputs": [
    {
     "name": "stdout",
     "output_type": "stream",
     "text": [
      "176\n",
      "'u'\n"
     ]
    }
   ],
   "source": [
    "pprint(dfLimpio[0].index(titulos[0]))\n",
    "pprint(dfLimpio[0][178])"
   ]
  },
  {
   "cell_type": "code",
   "execution_count": null,
   "metadata": {},
   "outputs": [],
   "source": []
  }
 ],
 "metadata": {
  "interpreter": {
   "hash": "8f7c04c36d0b751253b9619efb75c537c6c26f8df6c81e91ba988c38192421cc"
  },
  "kernelspec": {
   "display_name": "Python 3.9.5 64-bit",
   "language": "python",
   "name": "python3"
  },
  "language_info": {
   "codemirror_mode": {
    "name": "ipython",
    "version": 3
   },
   "file_extension": ".py",
   "mimetype": "text/x-python",
   "name": "python",
   "nbconvert_exporter": "python",
   "pygments_lexer": "ipython3",
   "version": "3.9.5"
  },
  "orig_nbformat": 4
 },
 "nbformat": 4,
 "nbformat_minor": 2
}
