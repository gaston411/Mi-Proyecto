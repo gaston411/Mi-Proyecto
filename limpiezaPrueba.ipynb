{
 "cells": [
  {
   "cell_type": "markdown",
   "metadata": {},
   "source": [
    "#### importamos las librerias necesarias"
   ]
  },
  {
   "cell_type": "code",
   "execution_count": 11,
   "metadata": {},
   "outputs": [
    {
     "name": "stdout",
     "output_type": "stream",
     "text": [
      "0        \\n\\nInforma a continuaciÃ³n: \\n\\nJ.T. 13 \\nPE...\n",
      "1        \\n\\nJUZG. 40 \\n\\nPERITO MEDICO PRESENTA INFOR...\n",
      "2       Expediente NÂº CNT 74803/2014 \\n \\nJUZGADO NAC...\n",
      "3       JUZGADO NACIONAL DE TRABAJO 59       LAVALLE 1...\n",
      "4        \\n\\n \\n\\nPERITO PRESENTA INFORME \\n\\n \\n\\n \\n...\n",
      "                              ...                        \n",
      "3801    1 \\n \\n\\n21-3-2018 \\nTRABAJO NÂº  72 \\nPRESENT...\n",
      "3802     \\n\\n \\n\\nJNT  NÂº  75  â  PARANA  520  â ...\n",
      "3803     \\n\\nII.- HISTORIA CLINICA \\n\\n) se dirige a V...\n",
      "3804    PERITO PSICÃLOGO INFORMA SEGUNDA INCOMPARECEN...\n",
      "3805    Juzgado Nacional del Trabajo NÂ°: 27 \\n\\nTte. ...\n",
      "Name: text, Length: 3806, dtype: object\n"
     ]
    }
   ],
   "source": [
    "import pandas as pd\n",
    "import numpy as np\n",
    "\n",
    "df = pd.read_csv('pericias_medicas.csv',  encoding='latin-1')\n",
    "df = df['text'].apply(str)\n",
    "\n",
    "print(df)\n"
   ]
  },
  {
   "cell_type": "code",
   "execution_count": null,
   "metadata": {},
   "outputs": [],
   "source": []
  }
 ],
 "metadata": {
  "interpreter": {
   "hash": "6598166c970a47e7821424993c254687b8a79b8ac255184d876b10779f30e06d"
  },
  "kernelspec": {
   "display_name": "Python 3.9.5 64-bit",
   "language": "python",
   "name": "python3"
  },
  "language_info": {
   "codemirror_mode": {
    "name": "ipython",
    "version": 3
   },
   "file_extension": ".py",
   "mimetype": "text/x-python",
   "name": "python",
   "nbconvert_exporter": "python",
   "pygments_lexer": "ipython3",
   "version": "3.9.5"
  },
  "orig_nbformat": 4
 },
 "nbformat": 4,
 "nbformat_minor": 2
}
