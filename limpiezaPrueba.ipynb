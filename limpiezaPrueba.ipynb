{
 "cells": [
  {
   "cell_type": "markdown",
   "metadata": {},
   "source": [
    "# Importamos librerias - Creamos el dataframe de pericias"
   ]
  },
  {
   "cell_type": "code",
   "execution_count": 3,
   "metadata": {},
   "outputs": [
    {
     "data": {
      "text/plain": [
       "0      \\n\\nInforma a continuación: \\n\\nJ.T. 13 \\nPER...\n",
       "1      \\n\\nJUZG. 40 \\n\\nPERITO MEDICO PRESENTA INFOR...\n",
       "2     Expediente Nº CNT 74803/2014 \\n \\nJUZGADO NACI...\n",
       "3     JUZGADO NACIONAL DE TRABAJO 59       LAVALLE 1...\n",
       "4      \\n\\n \\n\\nPERITO PRESENTA INFORME \\n\\n \\n\\n \\n...\n",
       "5                           JNT N°72 \\n\\nPERITO MEDI...\n",
       "6     J. T.  Nº 20              Exp. 9231//2016     ...\n",
       "7     PERITO MEDICO PRESENTA INFORME \\n\\nSr. Juez: \\...\n",
       "8     II.- HISTORIA CLINICA \\n\\nPERITO MEDICO PRESEN...\n",
       "9     JNT nº 67, Sito en Calle Lavalle nº 1268, Ciud...\n",
       "10    PERITO MEDICO: PRESENTA PERITACION MEDICA.- \\n...\n",
       "11     \\n\\nSR. JUEZ: \\n\\nJUZGADO NACIONAL DEL TRABAJ...\n",
       "12    PRESENTA DICTAMEN PERICIAL \\n\\nSeñor Juez: \\n\\...\n",
       "13    JUZG. NAC. DEL TRABAJO Nº 12 \\n\\n             ...\n",
       "14    SE PRESENTA – HACE SABER: \\n\\nJuz T 51 \\n\\n \\n...\n",
       "15    PERITO MÉDICO PRESENTA INFORME PERICIAL\\n\\nSr....\n",
       "16    PRESENTA INFORME PERICIAL MÉDICO. \\n\\nJ.N.T. 1...\n",
       "17    PERITO MEDICO PRESENTA INFORME PERICIAL \\n\\nJu...\n",
       "18     \\nPERITO MEDICO PRESENTA INFORME PERICIAL.  \\...\n",
       "19    PERITO MEDICO INFORMA -SOLICITA\\n \\nEXPEDIENTE...\n",
       "Name: text, dtype: object"
      ]
     },
     "execution_count": 3,
     "metadata": {},
     "output_type": "execute_result"
    }
   ],
   "source": [
    "import pandas as pd\n",
    "import numpy as np\n",
    "from pprint import pprint\n",
    "\n",
    "df = pd.read_csv('pericias_medicas.csv', sep=',',  encoding='utf-8')\n",
    "#convierte en string los datos de la columna text\n",
    "df = df['text'].apply(str)\n",
    "df1 = df.head(20)\n",
    "df1"
   ]
  },
  {
   "cell_type": "markdown",
   "metadata": {},
   "source": [
    "## Limpieza de texto"
   ]
  },
  {
   "cell_type": "code",
   "execution_count": 7,
   "metadata": {},
   "outputs": [],
   "source": [
    "# Limpieza de texto\n",
    "# Primera etapa de la limpieza de texto\n",
    "import re, string, unicodedata\n",
    "'''\n",
    "Se hace la eliminacion de texto entre corchetes, acentos, signos de puntuacion (excepto . y :), palabras con numeros.\n",
    "Se eliminan los espacios de sobra\n",
    "Se eliminan \\r, \\t, \\v, \\f, \\a\n",
    "'''\n",
    "def limpiarTexto1(txt: str, bert=False, nums=False) -> str:\n",
    "    \"\"\"\n",
    "    Elimina caracteres no deseados\n",
    "    Params:\n",
    "        **txt**:texto a ser limpiado de caracteres no desaeados\n",
    "    \"\"\"\n",
    "    if nums:\n",
    "        txt = re.sub(r'\\d+', ' ', txt)\n",
    "    if not bert:\n",
    "        txt = txt.translate(str.maketrans(\n",
    "            'áéíóúýàèìòùÁÉÍÓÚÀÈÌÒÙÝ', 'aeiouyaeiouAEIOUAEIOUY'))\n",
    "\n",
    "    '''\n",
    "    Eliminamos caracteres especiales: tabulador orizontal(\\t), tabulador vertical(\\v), \n",
    "    retorno de carro(\\r), avance de pagina(\\f), \n",
    "    caracter de retroceso: Marca el límite de una palabra(\\b), \n",
    "    '''\n",
    "    txt = txt.replace('\\r', ' ').replace(\"\\v\", ' ').replace(\n",
    "        \"\\t\", ' ').replace(\"\\f\", ' ').replace(\"\\a\", ' ').replace(\"\\b\", ' ')\n",
    "    txt = re.sub(' +', ' ', txt)\n",
    "    txt = txt.strip()\n",
    "    return txt\n",
    "df1.apply(str)\n",
    "df1 = df1.apply(limpiarTexto1)\n"
   ]
  },
  {
   "cell_type": "code",
   "execution_count": 10,
   "metadata": {},
   "outputs": [
    {
     "data": {
      "text/plain": [
       "'Informa a continuacion: \\n\\nJ.T. 13 \\nPERITO MEDICO PRESENTA INFORME PERICIAL \\n \\nAutos: “BOIERO FRANCO IVAN c/SWISS MEDICAL ART S.A. s/Accidente - Ley Especial” \\nExpediente N.º: 71399/2017 \\n \\nI-PROEMIO: \\n \\nSr. JUEZ NACIONAL: \\n \\nHORTAS MARIA ANDREA S. perito medico de oficio en los siguientes \\nautos, con domicilio constituido en la calle Austria 1754 3º piso Dpto. 10 de esta \\nCapital Z 172, tel. 4325-8802 domicilio electronico mashortas@hotmail.com, 27-\\n16523394-3 en cumplimiento lo dispuesto por V.S. referente a los presentes autos \\ny despues de haber examinado a quien dijo ser Boiero Franco Ivan quien se \\ntomaron en el momento del examen el estado clinico actual se consideraron la \\ncapacidad generica y en particular los puntos de pericia solicitados por las partes \\ny/o V.S.: \\n \\n \\n \\nII-ANTECEDENTES DE INTERES MEDICO-LEGAL: \\nFoja 3 Inicia la demanda \\nFoja 6 vta. Hechos accidente in itinere refiere que el 20 de setiembre del 2017 siendo \\nlas 5:10h se encontraba en camino al trabajo y al cruzar la calle piso una piedra con \\nel pie izquierdo que queda trabado girando su cuerpo y sufriendo una entorsis en \\nsu tobillo izquierdo asi y como consecuencia del fuerte dolor es que da aviso a su \\nempleador quien realiza la correspondiente denuncia a la ART donde le realizan \\nestudios radiograficos le indican reposo y kinesiologia otorgandole el alta medica \\nsin incapacidad. \\nCabe destacar que previo al accidente nunca presento sintomatologia como \\ntampoco ingresos a la ART por dolencias en la zona denunciada . Jamas se le \\nrealizo un examen preocupacional ni periodico . Sostiene que presenta una \\nIncapacidad del 8%. \\nFoja 7 vta. refiere que el accidente tambien determino daño psiquico en el actor. \\nFoja 27 Puntos de pericia medica \\nFoja 27 vta. Puntos de pericia psicologica \\nFoja 45 Contesta la demandada \\nFoja 49 Niega todos y cada uno de los hechos \\nFoja 50 Hechos: el siniestro laboral fue denunciado al demandado , con respecto al \\naccidente ocurrido fue denunciado a Swiss Medical bajo el siniestro 21700033815 \\nel cual fue aceptado por el demandado, y se le brindo las prestaciones \\ncorrespondientes en especie manteniendo la atencion hasta el 25/10/17 en que fue \\ndado de alta sin incapacidad. \\nFoja 69 puntos de pericia medica y psicologica \\n\\n1 \\n \\n\\n III-EXAMEN FISICO DEL ACTOR: \\n \\nIII-1 PROSOGRAFIA: Se presenta al examen una persona del sexo masculino que \\ndeambula por sus propios medios sin ayuda de terceros, ni protesis alguna, color \\nde piel blanca cabello castaño corto pronuncia correctamente las palabras, su \\naspecto es bueno y colaborador, y la presentacion correcta y adecuada con un \\ncomportamiento acorde al entorno y la ocasion. Concurre sin acompañantes al \\npresente examen medico y en la solicitud de estudios que se realizo el 20 de \\nmarzo del 2019 Refiere los hechos por si mismo. \\n \\nIII-2 MOTIVO DE LA EVALUACION: \\n- Limitacion movilidad del tobillo izquierdo \\n- Depresion \\n \\nIII-3 DATOS PERSONALES: El examinado que concurre solo a su examen, \\nproporciona por si misma los datos asentados en este informe y se identifica con \\nDNI 32.385.243 declara haber nacido el 23 de mayo de 1986, de 33 años de \\nnacionalidad argentina, estudios terciarios completos en Seguridad e Higiene, \\nocupacion comerciante. Domiciliado en la calle Robert Kennedy 3447 de la \\nlocalidad de Villa de Mayo de la Pcia. Bs.As. estado soltero vive en pareja y tiene \\nun hija de 9 meses . No refiere alergias medicamentosas, refiere antecedentes \\nquirurgicos apendicectomia y varicocele. No recibe tratamiento medicamentoso. \\nEs zurdo en su actividad diaria, fuma 2 cigarrillos por dia no consume alcohol y \\npracticaba futbol que dejo . \\n \\n\\n \\n\\n \\n \\nIII-4 RELATO DE LOS HECHOS: El siguiente item corresponde al relato de los \\nhechos segun como lo ha efectuado el actor en la presente entrevista. : refiere que, \\nen agosto del 2017, yendo a trabajar a ASPRO Delta Compresiones , el viaje era \\nprimero en tren y luego tomaba un colectivo en la Estacion Belgrano Norte. \\nComenta que la misma la estaban arreglando por correr piso mal sobre una piedra \\ny se doblo el tobillo, por lo que quedo inmovilizado. Dio aviso a su empleador al \\ndepartamento de seguridad e higiene, ya que estaba trabajando por agencia y la \\n\\n2 \\n\\n empresa lo envio a la ART y lo derivaron a Villa Lynch a una Clinica, por Swiss \\nMedical. Al llegar el pie estaba edematizado, a pesar de ello lo hicieron recorrer \\nhaciendo los tramites, que lo debio hacer saltando en un pie ya que no tenia como \\ntrasladarse. Le dieron luego una silla de rueda, lo examinaron le diagnosticaron \\nun esguince y lo mandaron a la casa con analgesicos. Nunca lo inmovilizaron , las \\nmuletas, se las consiguieron 15 dias despues. Nunca le otorgaron traslado , y la \\nkinesiologia se le otorgaron una vez por dia casi por un mes y estuvo por 15 dias \\nsin poder apoyar el pie por lo que iba saltando en el pie sano. Los primeros dias \\ncasi no podia tocarse . Le pusieron magnetoterapia y le dieron 15 min de ejercicios \\nde apoyo a los 10 dias le dieron el apto y como seguia con dolores le otorgaron 5 \\nsesiones mas y continuaba con los mismos ejercicios. Cuando comenzo con el \\napoyo como pisaba mal se le resintio la rodilla, el pie seguia edematizado y no \\npodia caminar , le otorgaron 3 sesiones mas y el alta que firmo en disconformidad \\ncuando se reincorporo lo echaron. Las tareas que realizaba era montaje de \\ncompresores de gas , por lo cual la actividad las realizaba parado y trepado \\n \\n \\nIII-5-SEMIOLOGIA DE LAS AFECCIONES: \\n1. \\nGENERAL el examinado presenta un buen estado general, su actitud es \\nactiva e indiferente, no se aprecian posturas patologicas, la marcha es normal en \\nsus fases de impulso apoyo y balanceo, no presenta dificultades para la marcha en \\npunta de pie y ni talon . No presenta cicatrices en la region en cuestion. Pesa 70 kg \\ny mide 1,66 lo que determina un IMC de 25,45 correspondiente a la categoria de \\nsobrepeso \\n \\n2. TOBILLO: \\nAnamnesis: refiere que persisten los dolores del tobillo, no puede jugar mas al \\nfutbol, porque le empieza a doler el maleolo externo y siente un tiron en la rodilla \\nSi permanece de pie por tiempo prolongado, el pie comienza a edematizarse le \\nsucede lo mismo cuando camina mucho. \\nExamen Fisico: al momento del examen no se constataron edemas, a la palpacion \\npresento dolor con maniobras defensivas del en la region retromaleolar externo \\nDiametro bimaleolar derecho 23 cm, izquierdo 24 cm. Se constato la movilidad \\nactiva y la pasiva siendo la misma mesurada con goniometro y volcada al presente \\ninforme. \\n \\n\\n \\nFlexion dorsal \\nFlexion plantar \\nInversion \\nEversion \\n\\nT. Derecho \\n30° \\n40° \\n30° \\n20° \\n\\nT. Izq. \\n20° \\n30° \\n20° \\n20° \\n\\n \\n\\n3 \\n \\n\\n -EXAMENES COMPLEMENTARIOS : RMN de tobillo izquierdo \\n \\n\\n \\n\\n \\n4. PSICOENTREVISTA: El actor realiza un relato de los hechos, preciso, coherente, \\nsin signos de fabulacion. Con un lenguaje escaso y es parco en el relato, y acorde a \\nsu nivel cultural, se presento a las entrevistas periciales en buen estado de \\nprolijidad en sus ropas y modales. No ofrecio obstaculos en sus referencias y \\ncolaboro con el interrogatorio, el examen fisico y las pruebas a las que fue \\nsometido. Tiene un dialogo sencillo acorde a su nivel educativo, mantiene una \\nactitud atenta y cordial al dialogo, con correlacion entre el pensamiento y la \\ndiccion. Se mantuvo orientado en tiempo y espacio. No presenta alteraciones del \\njuicio ni del pensamiento, no presenta alteraciones de la memoria. No tiene \\nantecedentes familiares ni personales de traumatismo de craneo, tumores del \\nsistema nervioso central. Su grupo familiar de origen esta constituido por su padre \\nquien esta vivo sana y trabaja de maestro mayor de obra. Su madre esta viva sana \\ny es ama de casa son 4 hermanos. Comenta que nacio en la localidad de Malvinas \\nArgentinas y describe su infancia como buena, tiene una familia unida sus padres \\nestan juntos. Los estudios primarios los curso en la Escuela Jean Piaget de donde \\naun conserva amigos. Practicaba handball , con respecto a la adolescencia comenta \\nque los estudios los efectuo en el Colegio Teresita de Liseaux, y esta en contacto \\naun con los amigos y continuaba jugando futbol y handball. Los fines de semana \\nsalia con amigos era de ir a bailar poco. Le gustaba estudiar musica , el padre es \\nmusico, toca guitarra, piano hoy en dia en la casa de sus padres hay una sala de \\nensayo. Cuando finalizo el secundario comenzo a trabajar con el padre en Siemens \\ny comenzo en la UBA a estudiar diseño grafico, hizo el CBC, pero luego lo dejo y \\nse dedico a trabajar. Inicio luego en la UTN la tecnicatura en seguridad e higiene \\nen el 2014. En su tiempo libre esta con su familia y amigos. A su señora la conocio \\npor unos amigos, ella trabaja con el tienen un comercio, despues de que dejo de \\ntrabajar en ASPRO realizo diferentes tareas, comenzo en una empresa de montaje \\nde equipos por diagnostico por imagenes estuvo cerca de 8 meses, pero luego por \\n\\n4 \\n\\n cuestiones formales se fue y luego empezo a trabajar en una empresa similar, pero \\ncon sede en Cordoba hasta septiembre del 2018 que realizo una inversion y puso \\nuna libreria que la atiende junto con su señora. Asi dejo de viajar , luego cambiaron \\nde rubro y hoy tiene una granja. Con respecto al accidente lo afecto en lo personal \\nen cuanto a que abandono el deporte, perdio oportunidades laborales, lo habian \\nllamado por un trabajo en Mendoza y por temor a volverse a lesionar no viajo y lo \\ndeshecho, no le ocasiono problemas con su señora, tampoco con sus amigos y \\ntampoco registro cambios de caracter, aunque a veces reniega de la situacion. Lo \\npone de mal humor los dolores, pero trata de sobrellevarlo. No realizo psicoterapia \\npor este hecho, la realizo en 1° o 2° porque lo mando el director del colegio por \\nhiperactividad Le trajo problemas para dormir al principio o cuando le duele \\nmucho la pierna sobre todo los dias de humedad . \\n \\n-EXAMENES COMPLEMENTARIOS: Psicodiagnostico (los test estan adjuntados \\nen autos) \\n\\n \\n\\n5 \\n \\n\\n \\n\\n \\n\\n \\n\\n \\n\\n \\nIV-CONSIDERACIONES MEDICO-LEGALES: \\nComenta el Sr Boiero que mientras se dirigia al trabajo, corre para no \\n \\nperder el tren pisando mal con su pie izquierdo por lo cual sufrio un esguince del \\n\\n6 \\n\\n tobillo izquierdo. Fue asistido por la ART segun sus referencias donde se le brindo \\ntratamiento kinesico para luego que le den el alta con tareas habituales. A pesar de \\nque el actor refirio la persistencia de las dolencias. La demandada refiere que se \\nacepto el siniestro y se le brindo las prestaciones correspondientes hasta el alta. No \\nhay documentacion medica adjuntada en autos, sobre estudios o tratamientos \\nefectuados. Del examen medico efectuado se constato que el actor presenta dolor \\nque manifesto con maniobras defensivas y disminucion a la movilidad con \\nrespecto a su contralateral. Se le solicito una RMN donde se constato que el actor \\npresenta un esguince del ligamento peroneo-astragalino anterior e injuria parcial \\ndel ligamento tibioperoneo anterior. El tobillo es una articulacion que juega un \\npapel importante en la bipedestacion y distribucion del peso corporal; la alteracion \\nen su biomecanica causa dolor y predispone a lesiones recurrentes. Es importante \\nconocer su anatomia para evaluar las estructuras involucradas y sus afecciones . \\nLa region anatomica del tobillo esta formada por dos articulaciones, la articulacion \\ntibioperoneo-astragalina (compuesta por el extremo distal de la tibia, el perone y \\nel astragalo) y la subastragalina (troclea del astragalo y calcaneo) unido por una \\nserie de ligamentos que lo mantiene estable y permite la realizacion de los \\nmovimientos del tobillo: flexion, extension, inversion y eversion . El diagnostico \\nque presento y aun presenta es el de esguince en el ligamento peroneo-astragalino \\nanterior y el ligamento tibioperoneo anterior. El ligamento peroneo-astragalino \\nanterior es el mas debil, se identifica como una banda delgada que se extiende \\ndesde el maleolo lateral y se inserta en la region anterior del astragalo su funcion \\nes la de evitar el desplazamiento posterior del astragalo. El ligamento tibioperoneo \\nanterior se ve como una banda corta, y contribuye con otros a mantener la \\nsindesmosis. Cuando se produce un desplazamiento hacia adentro o hacia afuera \\ndel pie se produce una distension excesiva del tendon que segun el grado de la \\nmisma va desde la elongacion hasta la disrupcion de las fibras. \\n\\n“GRADO I (desgarro parcial de un ligamento): \\nexiste dolor, cuya intensidad puede ser muy \\nvariable segun los casos, y que suele aparecer tras \\nun periodo de menos dolor. La impotencia funcional \\nno existe o es minima y existe poca tumefaccion de \\nla zona. No hay inestabilidad articular. \\nGRADO II (desgarro incompleto de un ligamento \\ncon incapacidad funcional moderada): hay dolor a \\nla palpacion sobre las estructuras lesionadas. Existe \\ntumefaccion precoz por el edema de partes blandas, \\ny equimosis en las primeras 24-48 horas. La impotencia funcional es moderada. Existe \\ninestabilidad articular que se pone de manifiesto con las maniobras de movilidad pasiva. \\nGRADO III (rotura completa y perdida de integridad de un ligamento): la tumefaccion por \\nel edema y el hematoma local es inmediata tras el accidente. La equimosis es tambien precoz. \\nEl dolor es intenso desde el principio, con percepcion clara de la gravedad por parte del \\n\\n7 \\n \\n\\n paciente. Existe impotencia funcional total, con imposibilidad para el apoyo. En ocasiones \\na esta fase inicial de dolor agudo e intenso puede seguir otra de analgesia debido a rotura \\nde haces nerviosos aferentes.”1 \\nLa mayoria de los esguinces pueden ser tratados con exito en cuanto al dolor, con \\nla inmovilizacion y el tratamiento kinesiologico adecuado el cuadro deberia \\nresolverse, pero si las fibras se encuentran desgarradas puede requerir tratamiento \\nquirurgico a fin de reparar el tendon . De no evolucionar en forma satisfactoria \\npermanecen sintomas como hinchazon periarticular, dolor, rigidez del tobillo o la \\ninestabilidad articular , que es tanto mayor cuanto menos adecuado ha sido el \\nperiodo y tipo de inmovilizacion, y la posterior rehabilitacion. El paciente percibe \\nuna cierta inestabilidad e inseguridad del tobillo con frecuentes torceduras \\nposteriores. En base a lo expuesto surge que las lesiones del tobillo del Sr Boiero \\nno se han resuelto en su totalidad persistiendo aun las dificultades a la movilidad, \\nasi como los dolores. Surge de la RMN que las lesiones tendinosas aun persisten \\nen el actor. Esto determina que el actor por las dificultades en el movilidad \\npresenta una Incapacidad Parcial y Permanente del 6% segun el Baremo Ley \\n24557. \\nPsicotrauma: \\nPero ademas de conocer la historia del sujeto, se debera prestar atencion a las \\nliteratura reconoce y describe \\ncaracteristicas del evento traumatico. La \\ncaracteristicas particulares para que el suceso tenga capacidad traumatizante. Asi \\npor ejemplo todo hecho ajeno a la experiencia cotidiana de quien lo padezca, el \\npeligro de muerte y el tipo de amenaza a la integridad condicionaran la modalidad \\nde la respuesta. Incluso mas alla de las caracteristicas de la personalidad. Sin \\nembargo, el hecho saliente que no todo excombatiente o sobreviviente de \\ncatastrofes padezca de trastornos cronicos obliga a ponderar no solo las \\ncaracteristicas del accidente traumatico sino tambien la forma en que estos fueran \\nvivenciados. Se reconoce que la valencia negativa - es decir el significado moral \\npeyorativo que se atribuya al evento o sus consecuencias, el comportamiento \\ndurante la produccion del mismo y la sensacion de no poder controlar la marcha \\nde los hechos cuando estos ocurren, condicionaran positivamente la manifestacion \\nde la patologia. Y sobre estas condiciones jugara un rol trascendente la constitucion \\ny la historia de quien padezca el trauma. “La relacion de la sicopatologia \\nfenomenologica con la semiologia descriptiva en materia de reaccion a trauma \\nofrece una formula de integracion. La misma consiste en brindar un contexto \\ncomprensivo a la modalidad de respuesta clinica desencadenada por un estimulo \\ndeterminado, en una persona especifica. Mas alla de la figura clinica que adopte la \\nexpresion morbida, la fenomenologia permitira establecer que tipo de vivencia \\nsubyace a la clinica. Entonces cuando un sujeto presente Reacciones Agudas a \\n\\n1 Esguince de Tobillo .F. Sanchez Ruano E. Paya Zaforteza Especialista en Traumatologia \\n \\n \\n\\n \\n\\n8 \\n\\n Estres, Trastornos por Estres Agudo o Trastornos de Adaptacion, que cumplan con \\nsu curso natural y luego remitan, desde este abordaje se considerara que la \\nrespuesta adopta la forma de una reaccion primaria. Pero si la presentacion asume \\nla forma de TEPT, ya sea de origen precoz o tardio, o a punto de partido de un \\nTrastorno por Estres Agudo; la nocion a aplicar sera la de desarrollo. “Modelo de \\nabordaje a niveles jerarquicos progresivos de la figura del daño psiquico”- Esteban \\nToro Martinez \\nBinder fue quien analizo y expuso con acabada claridad conceptual esta particular \\nmanifestacion psicopatologica. Estudia asi \"aquellos trastornos que se producen \\ncuando ciertas vivencias a las que se llaman psicotraumatico provocan \\ndeterminadas respuestas psicologicas anormales\", y designa como vivencias \\npsicotraumaticas \"aquellas que sacuden o minan el equilibrio animico de una \\npersona o que trastornan mas o menos el balance interno previamente alterado. Se \\nproducen porque circunstancias del medio ambiente, que pasando por los organos \\nde los sentidos entran en la psique, afectando a ciertas disposiciones sensibles de \\nla persona. De este pueda ser controlada suficientemente por el aparato psiquico \\nglobal.\" \\n “El mismo autor distingue en estas respuestas animicas a las vivencias \\ntraumaticas, entre \"reacciones\" y \"desarrollos\". En tal sentido expresa Binder que \\ntrastorno \\n\"la reaccion psicologicamente anormal es \\npsicotraumatico agudo del equilibrio... cursa un breve tiempo (entre unas horas y \\nun par de meses) como manifestacion aislada. Al cesar el efecto traumatico de la \\nvivencia, la persona recupera relativamente pronto el dominio de sus funciones \\npsiquicas y la reaccion por regla general cesa, sin dejar tras de si alteraciones \\npermanentes de la psique\". En cambio \"los desarrollos psiquicos anormales\" son \\nmucho mas dificiles de superar, toda vez que bajo la incidencia de daños \\npsicotraumatico cronicos o que se repiten continuamente se producen alteraciones \\ndesfavorables de la estructura de determinadas disposiciones psiquicas y con ello \\nrespuestas anomalas de larga duracion (meses o años) y la consecuente \\ndesadaptacion a la vida cotidiana. “Importancia de la semiologia delictiva en la \\nperitacion psiquiatrita-forense penal” – Dr. Brunoy Romi. Si analizamos estos \\nhechos en el actor es menester tener en claro que se trata de una alteracion de la \\nhomeostasis del individuo y que afecta las distintas areas de su vida como la \\npersonal, la vida de relacion, de pareja, su ambito laboral, cambios de humor y de \\nanimo. Estos hechos los manifiesta con depresiones, inhibiciones, fobias, cambios \\nalimentarios, aislamiento, desgano. La mencion de sintomas aislados no constituye \\npor si daño psiquico, es menester que como cualquier otra patologia constituya un \\nsindrome coherente. En cuanto al actor hay que observar que las secuelas fisicas, \\nasi como el accidente no ha afectado las distintas areas como la personal, familiar \\no de pareja. A pesar de las lesiones el actor ha logrado continuar con su vida \\nnormal, reinsertarse en el ambito laboral y mantener relacion con sus pares. Son \\nlas dificultades en la movilidad, asi como los dolores los hechos que lo aquejan y \\n\\nla respuesta a un \\n\\n9 \\n \\n\\n le dificultan compartir actividades deportivas con sus amigos. Estas dificultades \\naisladas que menciono como secuelas del accidente no constituyen por si mismas \\nun daño psiquico, pero conforman lo que el Dr. Risso define como daño moral, que \\nel mismo lo define como el “sufrimiento normal “de una afeccion . Las \\nobservaciones de esta perito coinciden con lo expuesto con el profesional que llevo \\na cabo el psicodiagnostico Por lo tanto se puede concluir que el actor no presenta \\nincapacidad por secuelas psicologicas. \\n \\nVII-CONCLUSIONES. \\n \\n1. \\nLas secuelas en el tobillo izquierdo que presenta el actor es consecuencia \\ndel accidente que padecio. El tratamiento que se le efectuo segun las referencias \\ndel actor fueron las adecuadas en cuanto a la inmovilizacion y al tratamiento \\nkinesiologico, sin embargo, no se obtuvo el resultado satisfactorio. Podria \\ncorresponder a una inmovilizacion no adecuada o a un tratamiento kinesico \\nincompleto. \\n2. \\nEstas conclusiones son en base al hecho que aun persiste las dificultades \\npara la movilidad, los dolores, son consecuencia que persiste el esguince como se \\nobserva en la RMN solicitada . \\n3. \\ntendones y los musculos para mejorar la movilidad. \\n4. \\nde la misma articulacion, agravando aun mas el cuadro. \\n5. \\nCon respecto al daño psicologico, ya se ha expresado que no se ha \\nconstatado que los sintomas que refirio el actor no afectaron las diferentes esferas \\nde su vida, no ha alterado la personal, familiar, de pareja. Se ah reinsertado en el \\nambito laboral sin dificultades. Lo observado por esta perito es coincidente con lo \\nobservado por el profesional que ha llevado a cabo el psicodiagnostico. \\n6. \\nLas dolencias y dificultades para la movilidad que presenta el actor \\ndetermina que presente dificultades intermedias para la realizacion de tareas \\nhabituales, en vista que le genera dificultades para deambular, y estar de pie por \\ntiempo prolongado. No se considera que requiera recalificacion en vista que \\ndesarrolla tareas laborales por su cuenta. \\n7. \\nQue a los efectos fiscales denuncio mi CUIT N.º: 27-16523394-3 y me hallo \\ninscripta como RESPONSABLE INSCRIPTA por lo que al momento del deposito \\nde honorarios se CONSIDERE EL DEPOSITO DEL I.V.A \\n \\n\\nLa articulacion es factible que por la inestabilidad el actor sufra otra lesion \\n\\nEl actor deberia completar tratamiento kinesico a fin de fortificar los \\n\\n10 \\n\\n \\n\\n \\nVII-INCAPACIDAD: el actor por las lesiones sufridas presenta una incapacidad \\nparcial y permanente del 6% segun el baremo mencionado. \\nFactores de ponderacion: \\nAmerita recalificacion: no \\nDificultad para tareas habituales: Intermedia 15% = 0,9 % \\nEdad: 2% = 0,12% \\n \\nIncapacidad Parcial y Permanente del 7,02% segun el Baremo Ley 24557 \\n \\nVIII CONTESTACION DE LOS PUNTOS DE PERICIA: \\nVIII-1-De la parte actora \\n1. Ya fue contestado en el informe pericial. \\n2. Ya fue contestado en el informe pericial \\n3. Ya fue contestado en el informe pericial \\n4. Ya fue contestado en el informe pericial. \\n5. Ya fue contestado en el informe pericial \\n6. Ya fue contestado en el informe pericial \\n\\n11 \\n \\n\\n 7. Ya fue contestado en el informe pericial. \\n8. Ya fue contestado en el informe pericial. \\n9. Ya fue contestado en el informe pericial. \\n10. Ya fue contestado en el informe pericial. \\nPsicologicos \\n1. Ya fue contestado en el informe pericial. \\n2. Ya fue contestado en el informe pericial \\n3. Ya fue contestado en el informe pericial \\n4. Ya fue contestado en el informe pericial. \\n5. Ya fue contestado en el informe pericial. \\n6. Ya fue contestado en el informe pericial. \\n7. Ya fue contestado en el informe pericial. \\n8. Ya fue contestado en el informe pericial. \\nVIII-1-De la parte demandada \\n1. Ya fue contestado en el informe pericial \\n2. Ya fue contestado en el presente informe \\n3. Ya fue contestado en el informe pericial \\n4. Ya fue contestado en el informe pericial \\n5. Ya fue contestado en el informe pericial \\n6. Ya fue contestado en el informe pericial \\n7. Ya fue contestado en el informe pericial. \\n8. Ya fue contestado en el informe pericial. \\n \\nIX-PETITORIO: \\n\\nHabiendo finalizado el trabajo encomendado, respetuosamente solicito que \\n\\nDe por cumplida mi tarea pericial en legal tiempo y forma. \\nOrdene agregar el presente informe en autos y se elevara la copia \\n\\nOportunamente regule los honorarios correspondientes teniendo en cuenta \\n\\nV.S.: \\n− \\n− \\ndigitalizada al sistema a fin de darle traslado a las partes. \\n− \\nla calidad, tipo y extension del trabajo realizado. \\n− \\nforma digitalizada. \\n\\n \\n\\n \\n\\nEs todo cuanto puedo informar a V.S. \\nA Quien Dios Guarde \\n \\n \\n\\nSe adjuntan las copias para traslado a traves del sistema informatico en \\n\\n \\n\\n \\n \\n\\n12'"
      ]
     },
     "execution_count": 10,
     "metadata": {},
     "output_type": "execute_result"
    }
   ],
   "source": [
    "# Segunda fase de limpieza\n",
    "# Se eliminan todos los elementos que meten ruido al texto y que no fueron eliminados en la fase de limpieza 1.\n",
    "import re\n",
    "\n",
    "def limpiarTexto2(text):\n",
    "    text = re.sub('^ ',' ',text)\n",
    "    text = re.sub('\\n +\\n','\\n',text)\n",
    "    text = re.sub(' +\\n\\n','\\n',text)\n",
    "    text = re.sub('\\n\\n+','\\n',text)\n",
    "    text = re.sub(' \\n','\\n',text)\n",
    "    text = re.sub('\\d\\n','',text)\n",
    "    text = re.sub('\\x0c','',text)\n",
    "    text = re.sub('\\u200b\\n','',text)\n",
    "    text = re.sub('\\d{3,100}','',text)\n",
    "    text = re.sub('\\d+-\\d+','',text)\n",
    "    text = re.sub('\\x0c','',text)\n",
    "    text = re.sub('[nN]º|[nN][. ]º','',text)\n",
    "    text = re.sub('[º<>/]','',text)\n",
    "    text = re.sub('\\d{3,100}','',text)\n",
    "    text = re.sub('[a-zA-z-.]+@[a-zA-Z]+.com','',text)\n",
    "    return text\n",
    "\n",
    "dfLimpio = df1.apply(limpiarTexto2)"
   ]
  },
  {
   "cell_type": "code",
   "execution_count": 14,
   "metadata": {},
   "outputs": [],
   "source": [
    "# Tercera fase de limpieza\n",
    "# Eliminamos las lineas que no son de utilidad para el analisis o que van a afectar los resultados del mismo.\n",
    "# Ejemplo de linea eliminada: las lineas que comienzan con \"Se encuentra contestada en.....\"\n",
    "import re\n",
    "\n",
    "def limpiarTexto3(text):\n",
    "    text = re.sub('[a-z1-9.]+[).-] [s|S]e encuentra contestad[a|o] .+[. \\n]','',text)\n",
    "    text = re.sub('[0-9]+[. ]+[yY]a fue contestado.+[.\\n]','',text)\n",
    "    text = re.sub('[fF]oja [1-9].+\\n', '', text)\n",
    "    text = re.sub('[pP]regunta[ 0-9]+[)].+\\n|[rR]espuesta[ 0-9]+[)].+\\n','',text)#elimina oraciones comenzadas en preguta/respuesta.\n",
    "    return text\n",
    "\n",
    "dfLimpio = dfLimpio.apply(limpiarTexto3)\n",
    "dfLimpio = dfLimpio.apply(limpiarTexto2)\n",
    "#dfLimpio[0]"
   ]
  },
  {
   "cell_type": "markdown",
   "metadata": {},
   "source": [
    "# Busqueda de titulos"
   ]
  },
  {
   "cell_type": "code",
   "execution_count": 37,
   "metadata": {},
   "outputs": [
    {
     "name": "stdout",
     "output_type": "stream",
     "text": [
      "['I-PROEMIO:',\n",
      " 'III-EXAMEN FISICO DEL ACTOR:',\n",
      " 'III-1 PROSOGRAFIA:',\n",
      " 'III-2 MOTIVO DE LA EVALUACION:',\n",
      " 'III-3 DATOS PERSONALES:',\n",
      " 'III-4 RELATO DE LOS HECHOS:',\n",
      " 'V.A\\n'\n",
      " 'La articulacion es factible que por la inestabilidad el actor sufra otra '\n",
      " 'lesion\\n'\n",
      " 'El actor deberia completar tratamiento kinesico a fin de fortificar los\\n',\n",
      " 'VII-INCAPACIDAD:',\n",
      " 'IX-PETITORIO:']\n"
     ]
    }
   ],
   "source": [
    "# Busqueda de titulos\n",
    "# Se crea un nuevo dataframe de titulos según distintos criterios\n",
    "\n",
    "# busca titulos que comienzan con numeros romanos\n",
    "def buscarTitulosRomanos(text):\n",
    "    # Expresiones regulares para encontrar los numeros romanos\n",
    "    tituloNroRomano =re.compile(r'(I{1,3}|IV|V|VI{1,3}|IX|X)[-.)][\\w\\s]+[:\\n]')\n",
    "    titulosRomanosEncontrados = []\n",
    "\n",
    "    for m in tituloNroRomano.finditer(text):\n",
    "        titulosRomanosEncontrados.append(m.group())\n",
    "\n",
    "    return titulosRomanosEncontrados\n",
    "\n",
    "# titulosConNroRomano: lista que guarda los titulos que comienzan con numeros romanos   \n",
    "titulosConNroRomano=[]\n",
    "for expediente in dfLimpio:\n",
    "    titulosConNroRomano.append(buscarTitulosRomanos(expediente))\n",
    "\n",
    "pprint(titulosConNroRomano[0])"
   ]
  },
  {
   "cell_type": "code",
   "execution_count": 30,
   "metadata": {},
   "outputs": [
    {
     "name": "stdout",
     "output_type": "stream",
     "text": [
      "['5-SEMIOLOGIA DE LAS AFECCIONES:',\n",
      " '2. TOBILLO:',\n",
      " '4. PSICOENTREVISTA:',\n",
      " '1.\\n'\n",
      " 'Las secuelas en el tobillo izquierdo que presenta el actor es consecuencia\\n',\n",
      " '2.\\n'\n",
      " 'Estas conclusiones son en base al hecho que aun persiste las dificultades\\n',\n",
      " '6.\\n'\n",
      " 'Las dolencias y dificultades para la movilidad que presenta el actor\\n'\n",
      " 'determina que presente dificultades intermedias para la realizacion de '\n",
      " 'tareas\\n',\n",
      " '7.\\nQue a los efectos fiscales denuncio mi CUIT :',\n",
      " '1-De la parte actora\\n1 Psicologicos\\n',\n",
      " '1-De la parte demandada\\n']\n"
     ]
    }
   ],
   "source": [
    "# Busca titulos que comienzan con numeros latinos\n",
    "def buscarTitulosLatinos(text):\n",
    "    # Expresion regular para encontrar titulos que comienzan con numeros\n",
    "    tituloNroLatino =re.compile(r'[1-9][-.)][\\w\\s]+[:\\n]')\n",
    "    titulosLatinosEncontrados = []\n",
    "\n",
    "    for m in tituloNroLatino.finditer(text):\n",
    "        titulosLatinosEncontrados.append(m.group())\n",
    "\n",
    "    return titulosLatinosEncontrados\n",
    "\n",
    "# titulosConNroLatino: lista que guarda los titulos que comienzan con numeros latinos\n",
    "titulosConNroLatino=[]\n",
    "for expediente in dfLimpio:\n",
    "    titulosConNroLatino.append(buscarTitulosLatinos(expediente))\n",
    "pprint(titulosConNroLatino[0])"
   ]
  },
  {
   "cell_type": "code",
   "execution_count": 38,
   "metadata": {},
   "outputs": [],
   "source": [
    "# Busca titulos en mayusculas\n",
    "def buscarTitulosMayusculas(text):\n",
    "    # Expresion regular para encontrar titulos en mayusculas.\n",
    "    tituloMayusculas =re.compile(r'([1-9]|I{1,3}|IV|V|VI{1,3}|IX|X)[-.)][A-Z -]+[:.\\n]')\n",
    "    titulosMayusculasEncontrados = []\n",
    "\n",
    "    for m in tituloMayusculas.finditer(text):\n",
    "        titulosMayusculasEncontrados.append(m.group())\n",
    "\n",
    "    return titulosMayusculasEncontrados\n",
    "# titulosMAyuscula: lista que guarda los titulos en mayusculas\n",
    "titulosMayusculas=[]\n",
    "for expediente in dfLimpio:\n",
    "    titulosMayusculas.append(buscarTitulosMayusculas(expediente))\n"
   ]
  },
  {
   "cell_type": "markdown",
   "metadata": {},
   "source": [
    "#### Eliminacion de stopwords y lematizacion."
   ]
  },
  {
   "cell_type": "code",
   "execution_count": 42,
   "metadata": {},
   "outputs": [
    {
     "ename": "AttributeError",
     "evalue": "module 'scipy' has no attribute '_lib'",
     "output_type": "error",
     "traceback": [
      "\u001b[1;31m---------------------------------------------------------------------------\u001b[0m",
      "\u001b[1;31mAttributeError\u001b[0m                            Traceback (most recent call last)",
      "\u001b[1;32mc:\\Users\\brena\\HubLegal\\Repo\\branch\\limpiezaPrueba.ipynb Cell 12'\u001b[0m in \u001b[0;36m<cell line: 1>\u001b[1;34m()\u001b[0m\n\u001b[1;32m----> <a href='vscode-notebook-cell:/c%3A/Users/brena/HubLegal/Repo/branch/limpiezaPrueba.ipynb#ch0000011?line=0'>1</a>\u001b[0m \u001b[39mimport\u001b[39;00m \u001b[39mnltk\u001b[39;00m\n\u001b[0;32m      <a href='vscode-notebook-cell:/c%3A/Users/brena/HubLegal/Repo/branch/limpiezaPrueba.ipynb#ch0000011?line=1'>2</a>\u001b[0m \u001b[39mimport\u001b[39;00m \u001b[39mre\u001b[39;00m\n\u001b[0;32m      <a href='vscode-notebook-cell:/c%3A/Users/brena/HubLegal/Repo/branch/limpiezaPrueba.ipynb#ch0000011?line=3'>4</a>\u001b[0m stops \u001b[39m=\u001b[39m nltk\u001b[39m.\u001b[39mcorpus\u001b[39m.\u001b[39mstopwords\u001b[39m.\u001b[39mwords(\u001b[39m'\u001b[39m\u001b[39mspanish\u001b[39m\u001b[39m'\u001b[39m)\n",
      "File \u001b[1;32mc:\\Users\\brena\\HubLegal\\Repo\\branch\\env\\lib\\site-packages\\nltk\\__init__.py:132\u001b[0m, in \u001b[0;36m<module>\u001b[1;34m\u001b[0m\n\u001b[0;32m    <a href='file:///c%3A/Users/brena/HubLegal/Repo/branch/env/lib/site-packages/nltk/__init__.py?line=123'>124</a>\u001b[0m     subprocess\u001b[39m.\u001b[39mPopen \u001b[39m=\u001b[39m _fake_Popen\n\u001b[0;32m    <a href='file:///c%3A/Users/brena/HubLegal/Repo/branch/env/lib/site-packages/nltk/__init__.py?line=125'>126</a>\u001b[0m \u001b[39m###########################################################\u001b[39;00m\n\u001b[0;32m    <a href='file:///c%3A/Users/brena/HubLegal/Repo/branch/env/lib/site-packages/nltk/__init__.py?line=126'>127</a>\u001b[0m \u001b[39m# TOP-LEVEL MODULES\u001b[39;00m\n\u001b[0;32m    <a href='file:///c%3A/Users/brena/HubLegal/Repo/branch/env/lib/site-packages/nltk/__init__.py?line=127'>128</a>\u001b[0m \u001b[39m###########################################################\u001b[39;00m\n\u001b[0;32m    <a href='file:///c%3A/Users/brena/HubLegal/Repo/branch/env/lib/site-packages/nltk/__init__.py?line=128'>129</a>\u001b[0m \n\u001b[0;32m    <a href='file:///c%3A/Users/brena/HubLegal/Repo/branch/env/lib/site-packages/nltk/__init__.py?line=129'>130</a>\u001b[0m \u001b[39m# Import top-level functionality into top-level namespace\u001b[39;00m\n\u001b[1;32m--> <a href='file:///c%3A/Users/brena/HubLegal/Repo/branch/env/lib/site-packages/nltk/__init__.py?line=131'>132</a>\u001b[0m \u001b[39mfrom\u001b[39;00m \u001b[39mnltk\u001b[39;00m\u001b[39m.\u001b[39;00m\u001b[39mcollocations\u001b[39;00m \u001b[39mimport\u001b[39;00m \u001b[39m*\u001b[39m\n\u001b[0;32m    <a href='file:///c%3A/Users/brena/HubLegal/Repo/branch/env/lib/site-packages/nltk/__init__.py?line=132'>133</a>\u001b[0m \u001b[39mfrom\u001b[39;00m \u001b[39mnltk\u001b[39;00m\u001b[39m.\u001b[39;00m\u001b[39mdecorators\u001b[39;00m \u001b[39mimport\u001b[39;00m decorator, memoize\n\u001b[0;32m    <a href='file:///c%3A/Users/brena/HubLegal/Repo/branch/env/lib/site-packages/nltk/__init__.py?line=133'>134</a>\u001b[0m \u001b[39mfrom\u001b[39;00m \u001b[39mnltk\u001b[39;00m\u001b[39m.\u001b[39;00m\u001b[39mfeatstruct\u001b[39;00m \u001b[39mimport\u001b[39;00m \u001b[39m*\u001b[39m\n",
      "File \u001b[1;32mc:\\Users\\brena\\HubLegal\\Repo\\branch\\env\\lib\\site-packages\\nltk\\collocations.py:36\u001b[0m, in \u001b[0;36m<module>\u001b[1;34m\u001b[0m\n\u001b[0;32m     <a href='file:///c%3A/Users/brena/HubLegal/Repo/branch/env/lib/site-packages/nltk/collocations.py?line=32'>33</a>\u001b[0m \u001b[39mimport\u001b[39;00m \u001b[39mitertools\u001b[39;00m \u001b[39mas\u001b[39;00m \u001b[39m_itertools\u001b[39;00m\n\u001b[0;32m     <a href='file:///c%3A/Users/brena/HubLegal/Repo/branch/env/lib/site-packages/nltk/collocations.py?line=34'>35</a>\u001b[0m \u001b[39m# these two unused imports are referenced in collocations.doctest\u001b[39;00m\n\u001b[1;32m---> <a href='file:///c%3A/Users/brena/HubLegal/Repo/branch/env/lib/site-packages/nltk/collocations.py?line=35'>36</a>\u001b[0m \u001b[39mfrom\u001b[39;00m \u001b[39mnltk\u001b[39;00m\u001b[39m.\u001b[39;00m\u001b[39mmetrics\u001b[39;00m \u001b[39mimport\u001b[39;00m (\n\u001b[0;32m     <a href='file:///c%3A/Users/brena/HubLegal/Repo/branch/env/lib/site-packages/nltk/collocations.py?line=36'>37</a>\u001b[0m     BigramAssocMeasures,\n\u001b[0;32m     <a href='file:///c%3A/Users/brena/HubLegal/Repo/branch/env/lib/site-packages/nltk/collocations.py?line=37'>38</a>\u001b[0m     ContingencyMeasures,\n\u001b[0;32m     <a href='file:///c%3A/Users/brena/HubLegal/Repo/branch/env/lib/site-packages/nltk/collocations.py?line=38'>39</a>\u001b[0m     QuadgramAssocMeasures,\n\u001b[0;32m     <a href='file:///c%3A/Users/brena/HubLegal/Repo/branch/env/lib/site-packages/nltk/collocations.py?line=39'>40</a>\u001b[0m     TrigramAssocMeasures,\n\u001b[0;32m     <a href='file:///c%3A/Users/brena/HubLegal/Repo/branch/env/lib/site-packages/nltk/collocations.py?line=40'>41</a>\u001b[0m )\n\u001b[0;32m     <a href='file:///c%3A/Users/brena/HubLegal/Repo/branch/env/lib/site-packages/nltk/collocations.py?line=41'>42</a>\u001b[0m \u001b[39mfrom\u001b[39;00m \u001b[39mnltk\u001b[39;00m\u001b[39m.\u001b[39;00m\u001b[39mmetrics\u001b[39;00m\u001b[39m.\u001b[39;00m\u001b[39mspearman\u001b[39;00m \u001b[39mimport\u001b[39;00m ranks_from_scores, spearman_correlation\n\u001b[0;32m     <a href='file:///c%3A/Users/brena/HubLegal/Repo/branch/env/lib/site-packages/nltk/collocations.py?line=42'>43</a>\u001b[0m \u001b[39mfrom\u001b[39;00m \u001b[39mnltk\u001b[39;00m\u001b[39m.\u001b[39;00m\u001b[39mprobability\u001b[39;00m \u001b[39mimport\u001b[39;00m FreqDist\n",
      "File \u001b[1;32mc:\\Users\\brena\\HubLegal\\Repo\\branch\\env\\lib\\site-packages\\nltk\\metrics\\__init__.py:18\u001b[0m, in \u001b[0;36m<module>\u001b[1;34m\u001b[0m\n\u001b[0;32m     <a href='file:///c%3A/Users/brena/HubLegal/Repo/branch/env/lib/site-packages/nltk/metrics/__init__.py?line=15'>16</a>\u001b[0m \u001b[39mfrom\u001b[39;00m \u001b[39mnltk\u001b[39;00m\u001b[39m.\u001b[39;00m\u001b[39mmetrics\u001b[39;00m\u001b[39m.\u001b[39;00m\u001b[39magreement\u001b[39;00m \u001b[39mimport\u001b[39;00m AnnotationTask\n\u001b[0;32m     <a href='file:///c%3A/Users/brena/HubLegal/Repo/branch/env/lib/site-packages/nltk/metrics/__init__.py?line=16'>17</a>\u001b[0m \u001b[39mfrom\u001b[39;00m \u001b[39mnltk\u001b[39;00m\u001b[39m.\u001b[39;00m\u001b[39mmetrics\u001b[39;00m\u001b[39m.\u001b[39;00m\u001b[39maline\u001b[39;00m \u001b[39mimport\u001b[39;00m align\n\u001b[1;32m---> <a href='file:///c%3A/Users/brena/HubLegal/Repo/branch/env/lib/site-packages/nltk/metrics/__init__.py?line=17'>18</a>\u001b[0m \u001b[39mfrom\u001b[39;00m \u001b[39mnltk\u001b[39;00m\u001b[39m.\u001b[39;00m\u001b[39mmetrics\u001b[39;00m\u001b[39m.\u001b[39;00m\u001b[39massociation\u001b[39;00m \u001b[39mimport\u001b[39;00m (\n\u001b[0;32m     <a href='file:///c%3A/Users/brena/HubLegal/Repo/branch/env/lib/site-packages/nltk/metrics/__init__.py?line=18'>19</a>\u001b[0m     BigramAssocMeasures,\n\u001b[0;32m     <a href='file:///c%3A/Users/brena/HubLegal/Repo/branch/env/lib/site-packages/nltk/metrics/__init__.py?line=19'>20</a>\u001b[0m     ContingencyMeasures,\n\u001b[0;32m     <a href='file:///c%3A/Users/brena/HubLegal/Repo/branch/env/lib/site-packages/nltk/metrics/__init__.py?line=20'>21</a>\u001b[0m     NgramAssocMeasures,\n\u001b[0;32m     <a href='file:///c%3A/Users/brena/HubLegal/Repo/branch/env/lib/site-packages/nltk/metrics/__init__.py?line=21'>22</a>\u001b[0m     QuadgramAssocMeasures,\n\u001b[0;32m     <a href='file:///c%3A/Users/brena/HubLegal/Repo/branch/env/lib/site-packages/nltk/metrics/__init__.py?line=22'>23</a>\u001b[0m     TrigramAssocMeasures,\n\u001b[0;32m     <a href='file:///c%3A/Users/brena/HubLegal/Repo/branch/env/lib/site-packages/nltk/metrics/__init__.py?line=23'>24</a>\u001b[0m )\n\u001b[0;32m     <a href='file:///c%3A/Users/brena/HubLegal/Repo/branch/env/lib/site-packages/nltk/metrics/__init__.py?line=24'>25</a>\u001b[0m \u001b[39mfrom\u001b[39;00m \u001b[39mnltk\u001b[39;00m\u001b[39m.\u001b[39;00m\u001b[39mmetrics\u001b[39;00m\u001b[39m.\u001b[39;00m\u001b[39mconfusionmatrix\u001b[39;00m \u001b[39mimport\u001b[39;00m ConfusionMatrix\n\u001b[0;32m     <a href='file:///c%3A/Users/brena/HubLegal/Repo/branch/env/lib/site-packages/nltk/metrics/__init__.py?line=25'>26</a>\u001b[0m \u001b[39mfrom\u001b[39;00m \u001b[39mnltk\u001b[39;00m\u001b[39m.\u001b[39;00m\u001b[39mmetrics\u001b[39;00m\u001b[39m.\u001b[39;00m\u001b[39mdistance\u001b[39;00m \u001b[39mimport\u001b[39;00m (\n\u001b[0;32m     <a href='file:///c%3A/Users/brena/HubLegal/Repo/branch/env/lib/site-packages/nltk/metrics/__init__.py?line=26'>27</a>\u001b[0m     binary_distance,\n\u001b[0;32m     <a href='file:///c%3A/Users/brena/HubLegal/Repo/branch/env/lib/site-packages/nltk/metrics/__init__.py?line=27'>28</a>\u001b[0m     custom_distance,\n\u001b[1;32m   (...)\u001b[0m\n\u001b[0;32m     <a href='file:///c%3A/Users/brena/HubLegal/Repo/branch/env/lib/site-packages/nltk/metrics/__init__.py?line=34'>35</a>\u001b[0m     presence,\n\u001b[0;32m     <a href='file:///c%3A/Users/brena/HubLegal/Repo/branch/env/lib/site-packages/nltk/metrics/__init__.py?line=35'>36</a>\u001b[0m )\n",
      "File \u001b[1;32mc:\\Users\\brena\\HubLegal\\Repo\\branch\\env\\lib\\site-packages\\nltk\\metrics\\association.py:26\u001b[0m, in \u001b[0;36m<module>\u001b[1;34m\u001b[0m\n\u001b[0;32m     <a href='file:///c%3A/Users/brena/HubLegal/Repo/branch/env/lib/site-packages/nltk/metrics/association.py?line=22'>23</a>\u001b[0m _SMALL \u001b[39m=\u001b[39m \u001b[39m1e-20\u001b[39m\n\u001b[0;32m     <a href='file:///c%3A/Users/brena/HubLegal/Repo/branch/env/lib/site-packages/nltk/metrics/association.py?line=24'>25</a>\u001b[0m \u001b[39mtry\u001b[39;00m:\n\u001b[1;32m---> <a href='file:///c%3A/Users/brena/HubLegal/Repo/branch/env/lib/site-packages/nltk/metrics/association.py?line=25'>26</a>\u001b[0m     \u001b[39mfrom\u001b[39;00m \u001b[39mscipy\u001b[39;00m\u001b[39m.\u001b[39;00m\u001b[39mstats\u001b[39;00m \u001b[39mimport\u001b[39;00m fisher_exact\n\u001b[0;32m     <a href='file:///c%3A/Users/brena/HubLegal/Repo/branch/env/lib/site-packages/nltk/metrics/association.py?line=26'>27</a>\u001b[0m \u001b[39mexcept\u001b[39;00m \u001b[39mImportError\u001b[39;00m:\n\u001b[0;32m     <a href='file:///c%3A/Users/brena/HubLegal/Repo/branch/env/lib/site-packages/nltk/metrics/association.py?line=28'>29</a>\u001b[0m     \u001b[39mdef\u001b[39;00m \u001b[39mfisher_exact\u001b[39m(\u001b[39m*\u001b[39m_args, \u001b[39m*\u001b[39m\u001b[39m*\u001b[39m_kwargs):\n",
      "File \u001b[1;32mc:\\Users\\brena\\HubLegal\\Repo\\branch\\env\\lib\\site-packages\\scipy\\stats\\__init__.py:453\u001b[0m, in \u001b[0;36m<module>\u001b[1;34m\u001b[0m\n\u001b[0;32m      <a href='file:///c%3A/Users/brena/HubLegal/Repo/branch/env/lib/site-packages/scipy/stats/__init__.py?line=0'>1</a>\u001b[0m \u001b[39m\"\"\"\u001b[39;00m\n\u001b[0;32m      <a href='file:///c%3A/Users/brena/HubLegal/Repo/branch/env/lib/site-packages/scipy/stats/__init__.py?line=1'>2</a>\u001b[0m \u001b[39m.. _statsrefmanual:\u001b[39;00m\n\u001b[0;32m      <a href='file:///c%3A/Users/brena/HubLegal/Repo/branch/env/lib/site-packages/scipy/stats/__init__.py?line=2'>3</a>\u001b[0m \n\u001b[1;32m   (...)\u001b[0m\n\u001b[0;32m    <a href='file:///c%3A/Users/brena/HubLegal/Repo/branch/env/lib/site-packages/scipy/stats/__init__.py?line=449'>450</a>\u001b[0m \n\u001b[0;32m    <a href='file:///c%3A/Users/brena/HubLegal/Repo/branch/env/lib/site-packages/scipy/stats/__init__.py?line=450'>451</a>\u001b[0m \u001b[39m\"\"\"\u001b[39;00m\n\u001b[1;32m--> <a href='file:///c%3A/Users/brena/HubLegal/Repo/branch/env/lib/site-packages/scipy/stats/__init__.py?line=452'>453</a>\u001b[0m \u001b[39mfrom\u001b[39;00m \u001b[39m.\u001b[39;00m\u001b[39m_stats_py\u001b[39;00m \u001b[39mimport\u001b[39;00m \u001b[39m*\u001b[39m\n\u001b[0;32m    <a href='file:///c%3A/Users/brena/HubLegal/Repo/branch/env/lib/site-packages/scipy/stats/__init__.py?line=453'>454</a>\u001b[0m \u001b[39mfrom\u001b[39;00m \u001b[39m.\u001b[39;00m\u001b[39m_variation\u001b[39;00m \u001b[39mimport\u001b[39;00m variation\n\u001b[0;32m    <a href='file:///c%3A/Users/brena/HubLegal/Repo/branch/env/lib/site-packages/scipy/stats/__init__.py?line=454'>455</a>\u001b[0m \u001b[39mfrom\u001b[39;00m \u001b[39m.\u001b[39;00m\u001b[39mdistributions\u001b[39;00m \u001b[39mimport\u001b[39;00m \u001b[39m*\u001b[39m\n",
      "File \u001b[1;32mc:\\Users\\brena\\HubLegal\\Repo\\branch\\env\\lib\\site-packages\\scipy\\stats\\_stats_py.py:44\u001b[0m, in \u001b[0;36m<module>\u001b[1;34m\u001b[0m\n\u001b[0;32m     <a href='file:///c%3A/Users/brena/HubLegal/Repo/branch/env/lib/site-packages/scipy/stats/_stats_py.py?line=41'>42</a>\u001b[0m \u001b[39mimport\u001b[39;00m \u001b[39mscipy\u001b[39;00m\u001b[39m.\u001b[39;00m\u001b[39mspecial\u001b[39;00m \u001b[39mas\u001b[39;00m \u001b[39mspecial\u001b[39;00m\n\u001b[0;32m     <a href='file:///c%3A/Users/brena/HubLegal/Repo/branch/env/lib/site-packages/scipy/stats/_stats_py.py?line=42'>43</a>\u001b[0m \u001b[39mfrom\u001b[39;00m \u001b[39mscipy\u001b[39;00m \u001b[39mimport\u001b[39;00m linalg\n\u001b[1;32m---> <a href='file:///c%3A/Users/brena/HubLegal/Repo/branch/env/lib/site-packages/scipy/stats/_stats_py.py?line=43'>44</a>\u001b[0m \u001b[39mfrom\u001b[39;00m \u001b[39m.\u001b[39;00m \u001b[39mimport\u001b[39;00m distributions\n\u001b[0;32m     <a href='file:///c%3A/Users/brena/HubLegal/Repo/branch/env/lib/site-packages/scipy/stats/_stats_py.py?line=44'>45</a>\u001b[0m \u001b[39mfrom\u001b[39;00m \u001b[39m.\u001b[39;00m \u001b[39mimport\u001b[39;00m _mstats_basic \u001b[39mas\u001b[39;00m mstats_basic\n\u001b[0;32m     <a href='file:///c%3A/Users/brena/HubLegal/Repo/branch/env/lib/site-packages/scipy/stats/_stats_py.py?line=45'>46</a>\u001b[0m \u001b[39mfrom\u001b[39;00m \u001b[39m.\u001b[39;00m\u001b[39m_stats_mstats_common\u001b[39;00m \u001b[39mimport\u001b[39;00m (_find_repeats, linregress, theilslopes,\n\u001b[0;32m     <a href='file:///c%3A/Users/brena/HubLegal/Repo/branch/env/lib/site-packages/scipy/stats/_stats_py.py?line=46'>47</a>\u001b[0m                                    siegelslopes)\n",
      "File \u001b[1;32mc:\\Users\\brena\\HubLegal\\Repo\\branch\\env\\lib\\site-packages\\scipy\\stats\\distributions.py:8\u001b[0m, in \u001b[0;36m<module>\u001b[1;34m\u001b[0m\n\u001b[0;32m      <a href='file:///c%3A/Users/brena/HubLegal/Repo/branch/env/lib/site-packages/scipy/stats/distributions.py?line=0'>1</a>\u001b[0m \u001b[39m#\u001b[39;00m\n\u001b[0;32m      <a href='file:///c%3A/Users/brena/HubLegal/Repo/branch/env/lib/site-packages/scipy/stats/distributions.py?line=1'>2</a>\u001b[0m \u001b[39m# Author:  Travis Oliphant  2002-2011 with contributions from\u001b[39;00m\n\u001b[0;32m      <a href='file:///c%3A/Users/brena/HubLegal/Repo/branch/env/lib/site-packages/scipy/stats/distributions.py?line=2'>3</a>\u001b[0m \u001b[39m#          SciPy Developers 2004-2011\u001b[39;00m\n\u001b[1;32m   (...)\u001b[0m\n\u001b[0;32m      <a href='file:///c%3A/Users/brena/HubLegal/Repo/branch/env/lib/site-packages/scipy/stats/distributions.py?line=5'>6</a>\u001b[0m \u001b[39m#       instead of `git blame -Lxxx,+x`.\u001b[39;00m\n\u001b[0;32m      <a href='file:///c%3A/Users/brena/HubLegal/Repo/branch/env/lib/site-packages/scipy/stats/distributions.py?line=6'>7</a>\u001b[0m \u001b[39m#\u001b[39;00m\n\u001b[1;32m----> <a href='file:///c%3A/Users/brena/HubLegal/Repo/branch/env/lib/site-packages/scipy/stats/distributions.py?line=7'>8</a>\u001b[0m \u001b[39mfrom\u001b[39;00m \u001b[39m.\u001b[39;00m\u001b[39m_distn_infrastructure\u001b[39;00m \u001b[39mimport\u001b[39;00m (rv_discrete, rv_continuous, rv_frozen)\n\u001b[0;32m     <a href='file:///c%3A/Users/brena/HubLegal/Repo/branch/env/lib/site-packages/scipy/stats/distributions.py?line=9'>10</a>\u001b[0m \u001b[39mfrom\u001b[39;00m \u001b[39m.\u001b[39;00m \u001b[39mimport\u001b[39;00m _continuous_distns\n\u001b[0;32m     <a href='file:///c%3A/Users/brena/HubLegal/Repo/branch/env/lib/site-packages/scipy/stats/distributions.py?line=10'>11</a>\u001b[0m \u001b[39mfrom\u001b[39;00m \u001b[39m.\u001b[39;00m \u001b[39mimport\u001b[39;00m _discrete_distns\n",
      "File \u001b[1;32mc:\\Users\\brena\\HubLegal\\Repo\\branch\\env\\lib\\site-packages\\scipy\\stats\\_distn_infrastructure.py:24\u001b[0m, in \u001b[0;36m<module>\u001b[1;34m\u001b[0m\n\u001b[0;32m     <a href='file:///c%3A/Users/brena/HubLegal/Repo/branch/env/lib/site-packages/scipy/stats/_distn_infrastructure.py?line=19'>20</a>\u001b[0m \u001b[39mfrom\u001b[39;00m \u001b[39mscipy\u001b[39;00m\u001b[39m.\u001b[39;00m\u001b[39mspecial\u001b[39;00m \u001b[39mimport\u001b[39;00m (comb, chndtr, entr, xlogy, ive)\n\u001b[0;32m     <a href='file:///c%3A/Users/brena/HubLegal/Repo/branch/env/lib/site-packages/scipy/stats/_distn_infrastructure.py?line=21'>22</a>\u001b[0m \u001b[39m# for root finding for continuous distribution ppf, and max likelihood\u001b[39;00m\n\u001b[0;32m     <a href='file:///c%3A/Users/brena/HubLegal/Repo/branch/env/lib/site-packages/scipy/stats/_distn_infrastructure.py?line=22'>23</a>\u001b[0m \u001b[39m# estimation\u001b[39;00m\n\u001b[1;32m---> <a href='file:///c%3A/Users/brena/HubLegal/Repo/branch/env/lib/site-packages/scipy/stats/_distn_infrastructure.py?line=23'>24</a>\u001b[0m \u001b[39mfrom\u001b[39;00m \u001b[39mscipy\u001b[39;00m \u001b[39mimport\u001b[39;00m optimize\n\u001b[0;32m     <a href='file:///c%3A/Users/brena/HubLegal/Repo/branch/env/lib/site-packages/scipy/stats/_distn_infrastructure.py?line=25'>26</a>\u001b[0m \u001b[39m# for functions of continuous distributions (e.g. moments, entropy, cdf)\u001b[39;00m\n\u001b[0;32m     <a href='file:///c%3A/Users/brena/HubLegal/Repo/branch/env/lib/site-packages/scipy/stats/_distn_infrastructure.py?line=26'>27</a>\u001b[0m \u001b[39mfrom\u001b[39;00m \u001b[39mscipy\u001b[39;00m \u001b[39mimport\u001b[39;00m integrate\n",
      "File \u001b[1;32mc:\\Users\\brena\\HubLegal\\Repo\\branch\\env\\lib\\site-packages\\scipy\\optimize\\__init__.py:399\u001b[0m, in \u001b[0;36m<module>\u001b[1;34m\u001b[0m\n\u001b[0;32m      <a href='file:///c%3A/Users/brena/HubLegal/Repo/branch/env/lib/site-packages/scipy/optimize/__init__.py?line=0'>1</a>\u001b[0m \u001b[39m\"\"\"\u001b[39;00m\n\u001b[0;32m      <a href='file:///c%3A/Users/brena/HubLegal/Repo/branch/env/lib/site-packages/scipy/optimize/__init__.py?line=1'>2</a>\u001b[0m \u001b[39m=====================================================\u001b[39;00m\n\u001b[0;32m      <a href='file:///c%3A/Users/brena/HubLegal/Repo/branch/env/lib/site-packages/scipy/optimize/__init__.py?line=2'>3</a>\u001b[0m \u001b[39mOptimization and root finding (:mod:`scipy.optimize`)\u001b[39;00m\n\u001b[1;32m   (...)\u001b[0m\n\u001b[0;32m    <a href='file:///c%3A/Users/brena/HubLegal/Repo/branch/env/lib/site-packages/scipy/optimize/__init__.py?line=395'>396</a>\u001b[0m \n\u001b[0;32m    <a href='file:///c%3A/Users/brena/HubLegal/Repo/branch/env/lib/site-packages/scipy/optimize/__init__.py?line=396'>397</a>\u001b[0m \u001b[39m\"\"\"\u001b[39;00m\n\u001b[1;32m--> <a href='file:///c%3A/Users/brena/HubLegal/Repo/branch/env/lib/site-packages/scipy/optimize/__init__.py?line=398'>399</a>\u001b[0m \u001b[39mfrom\u001b[39;00m \u001b[39m.\u001b[39;00m\u001b[39m_optimize\u001b[39;00m \u001b[39mimport\u001b[39;00m \u001b[39m*\u001b[39m\n\u001b[0;32m    <a href='file:///c%3A/Users/brena/HubLegal/Repo/branch/env/lib/site-packages/scipy/optimize/__init__.py?line=399'>400</a>\u001b[0m \u001b[39mfrom\u001b[39;00m \u001b[39m.\u001b[39;00m\u001b[39m_minimize\u001b[39;00m \u001b[39mimport\u001b[39;00m \u001b[39m*\u001b[39m\n\u001b[0;32m    <a href='file:///c%3A/Users/brena/HubLegal/Repo/branch/env/lib/site-packages/scipy/optimize/__init__.py?line=400'>401</a>\u001b[0m \u001b[39mfrom\u001b[39;00m \u001b[39m.\u001b[39;00m\u001b[39m_root\u001b[39;00m \u001b[39mimport\u001b[39;00m \u001b[39m*\u001b[39m\n",
      "File \u001b[1;32mc:\\Users\\brena\\HubLegal\\Repo\\branch\\env\\lib\\site-packages\\scipy\\optimize\\_optimize.py:33\u001b[0m, in \u001b[0;36m<module>\u001b[1;34m\u001b[0m\n\u001b[0;32m     <a href='file:///c%3A/Users/brena/HubLegal/Repo/branch/env/lib/site-packages/scipy/optimize/_optimize.py?line=29'>30</a>\u001b[0m \u001b[39mfrom\u001b[39;00m \u001b[39mnumpy\u001b[39;00m \u001b[39mimport\u001b[39;00m (atleast_1d, eye, argmin, zeros, shape, squeeze,\n\u001b[0;32m     <a href='file:///c%3A/Users/brena/HubLegal/Repo/branch/env/lib/site-packages/scipy/optimize/_optimize.py?line=30'>31</a>\u001b[0m                    asarray, sqrt, Inf, asfarray)\n\u001b[0;32m     <a href='file:///c%3A/Users/brena/HubLegal/Repo/branch/env/lib/site-packages/scipy/optimize/_optimize.py?line=31'>32</a>\u001b[0m \u001b[39mimport\u001b[39;00m \u001b[39mnumpy\u001b[39;00m \u001b[39mas\u001b[39;00m \u001b[39mnp\u001b[39;00m\n\u001b[1;32m---> <a href='file:///c%3A/Users/brena/HubLegal/Repo/branch/env/lib/site-packages/scipy/optimize/_optimize.py?line=32'>33</a>\u001b[0m \u001b[39mfrom\u001b[39;00m \u001b[39mscipy\u001b[39;00m\u001b[39m.\u001b[39;00m\u001b[39msparse\u001b[39;00m\u001b[39m.\u001b[39;00m\u001b[39mlinalg\u001b[39;00m \u001b[39mimport\u001b[39;00m LinearOperator\n\u001b[0;32m     <a href='file:///c%3A/Users/brena/HubLegal/Repo/branch/env/lib/site-packages/scipy/optimize/_optimize.py?line=33'>34</a>\u001b[0m \u001b[39mfrom\u001b[39;00m \u001b[39m.\u001b[39;00m\u001b[39m_linesearch\u001b[39;00m \u001b[39mimport\u001b[39;00m (line_search_wolfe1, line_search_wolfe2,\n\u001b[0;32m     <a href='file:///c%3A/Users/brena/HubLegal/Repo/branch/env/lib/site-packages/scipy/optimize/_optimize.py?line=34'>35</a>\u001b[0m                           line_search_wolfe2 \u001b[39mas\u001b[39;00m line_search,\n\u001b[0;32m     <a href='file:///c%3A/Users/brena/HubLegal/Repo/branch/env/lib/site-packages/scipy/optimize/_optimize.py?line=35'>36</a>\u001b[0m                           LineSearchWarning)\n\u001b[0;32m     <a href='file:///c%3A/Users/brena/HubLegal/Repo/branch/env/lib/site-packages/scipy/optimize/_optimize.py?line=36'>37</a>\u001b[0m \u001b[39mfrom\u001b[39;00m \u001b[39m.\u001b[39;00m\u001b[39m_numdiff\u001b[39;00m \u001b[39mimport\u001b[39;00m approx_derivative\n",
      "File \u001b[1;32mc:\\Users\\brena\\HubLegal\\Repo\\branch\\env\\lib\\site-packages\\scipy\\sparse\\linalg\\__init__.py:120\u001b[0m, in \u001b[0;36m<module>\u001b[1;34m\u001b[0m\n\u001b[0;32m      <a href='file:///c%3A/Users/brena/HubLegal/Repo/branch/env/lib/site-packages/scipy/sparse/linalg/__init__.py?line=0'>1</a>\u001b[0m \u001b[39m\"\"\"\u001b[39;00m\n\u001b[0;32m      <a href='file:///c%3A/Users/brena/HubLegal/Repo/branch/env/lib/site-packages/scipy/sparse/linalg/__init__.py?line=1'>2</a>\u001b[0m \u001b[39mSparse linear algebra (:mod:`scipy.sparse.linalg`)\u001b[39;00m\n\u001b[0;32m      <a href='file:///c%3A/Users/brena/HubLegal/Repo/branch/env/lib/site-packages/scipy/sparse/linalg/__init__.py?line=2'>3</a>\u001b[0m \u001b[39m==================================================\u001b[39;00m\n\u001b[1;32m   (...)\u001b[0m\n\u001b[0;32m    <a href='file:///c%3A/Users/brena/HubLegal/Repo/branch/env/lib/site-packages/scipy/sparse/linalg/__init__.py?line=116'>117</a>\u001b[0m \n\u001b[0;32m    <a href='file:///c%3A/Users/brena/HubLegal/Repo/branch/env/lib/site-packages/scipy/sparse/linalg/__init__.py?line=117'>118</a>\u001b[0m \u001b[39m\"\"\"\u001b[39;00m\n\u001b[1;32m--> <a href='file:///c%3A/Users/brena/HubLegal/Repo/branch/env/lib/site-packages/scipy/sparse/linalg/__init__.py?line=119'>120</a>\u001b[0m \u001b[39mfrom\u001b[39;00m \u001b[39m.\u001b[39;00m\u001b[39m_isolve\u001b[39;00m \u001b[39mimport\u001b[39;00m \u001b[39m*\u001b[39m\n\u001b[0;32m    <a href='file:///c%3A/Users/brena/HubLegal/Repo/branch/env/lib/site-packages/scipy/sparse/linalg/__init__.py?line=120'>121</a>\u001b[0m \u001b[39mfrom\u001b[39;00m \u001b[39m.\u001b[39;00m\u001b[39m_dsolve\u001b[39;00m \u001b[39mimport\u001b[39;00m \u001b[39m*\u001b[39m\n\u001b[0;32m    <a href='file:///c%3A/Users/brena/HubLegal/Repo/branch/env/lib/site-packages/scipy/sparse/linalg/__init__.py?line=121'>122</a>\u001b[0m \u001b[39mfrom\u001b[39;00m \u001b[39m.\u001b[39;00m\u001b[39m_interface\u001b[39;00m \u001b[39mimport\u001b[39;00m \u001b[39m*\u001b[39m\n",
      "File \u001b[1;32mc:\\Users\\brena\\HubLegal\\Repo\\branch\\env\\lib\\site-packages\\scipy\\sparse\\linalg\\_isolve\\__init__.py:4\u001b[0m, in \u001b[0;36m<module>\u001b[1;34m\u001b[0m\n\u001b[0;32m      <a href='file:///c%3A/Users/brena/HubLegal/Repo/branch/env/lib/site-packages/scipy/sparse/linalg/_isolve/__init__.py?line=0'>1</a>\u001b[0m \u001b[39m\"\u001b[39m\u001b[39mIterative Solvers for Sparse Linear Systems\u001b[39m\u001b[39m\"\u001b[39m\n\u001b[0;32m      <a href='file:///c%3A/Users/brena/HubLegal/Repo/branch/env/lib/site-packages/scipy/sparse/linalg/_isolve/__init__.py?line=2'>3</a>\u001b[0m \u001b[39m#from info import __doc__\u001b[39;00m\n\u001b[1;32m----> <a href='file:///c%3A/Users/brena/HubLegal/Repo/branch/env/lib/site-packages/scipy/sparse/linalg/_isolve/__init__.py?line=3'>4</a>\u001b[0m \u001b[39mfrom\u001b[39;00m \u001b[39m.\u001b[39;00m\u001b[39miterative\u001b[39;00m \u001b[39mimport\u001b[39;00m \u001b[39m*\u001b[39m\n\u001b[0;32m      <a href='file:///c%3A/Users/brena/HubLegal/Repo/branch/env/lib/site-packages/scipy/sparse/linalg/_isolve/__init__.py?line=4'>5</a>\u001b[0m \u001b[39mfrom\u001b[39;00m \u001b[39m.\u001b[39;00m\u001b[39mminres\u001b[39;00m \u001b[39mimport\u001b[39;00m minres\n\u001b[0;32m      <a href='file:///c%3A/Users/brena/HubLegal/Repo/branch/env/lib/site-packages/scipy/sparse/linalg/_isolve/__init__.py?line=5'>6</a>\u001b[0m \u001b[39mfrom\u001b[39;00m \u001b[39m.\u001b[39;00m\u001b[39mlgmres\u001b[39;00m \u001b[39mimport\u001b[39;00m lgmres\n",
      "File \u001b[1;32mc:\\Users\\brena\\HubLegal\\Repo\\branch\\env\\lib\\site-packages\\scipy\\sparse\\linalg\\_isolve\\iterative.py:150\u001b[0m, in \u001b[0;36m<module>\u001b[1;34m\u001b[0m\n\u001b[0;32m    <a href='file:///c%3A/Users/brena/HubLegal/Repo/branch/env/lib/site-packages/scipy/sparse/linalg/_isolve/iterative.py?line=123'>124</a>\u001b[0m         \u001b[39mreturn\u001b[39;00m fn\n\u001b[0;32m    <a href='file:///c%3A/Users/brena/HubLegal/Repo/branch/env/lib/site-packages/scipy/sparse/linalg/_isolve/iterative.py?line=124'>125</a>\u001b[0m     \u001b[39mreturn\u001b[39;00m combine\n\u001b[0;32m    <a href='file:///c%3A/Users/brena/HubLegal/Repo/branch/env/lib/site-packages/scipy/sparse/linalg/_isolve/iterative.py?line=127'>128</a>\u001b[0m \u001b[39m@set_docstring\u001b[39;49m(\u001b[39m'\u001b[39;49m\u001b[39mUse BIConjugate Gradient iteration to solve ``Ax = b``.\u001b[39;49m\u001b[39m'\u001b[39;49m,\n\u001b[0;32m    <a href='file:///c%3A/Users/brena/HubLegal/Repo/branch/env/lib/site-packages/scipy/sparse/linalg/_isolve/iterative.py?line=128'>129</a>\u001b[0m                \u001b[39m'\u001b[39;49m\u001b[39mThe real or complex N-by-N matrix of the linear system.\u001b[39;49m\u001b[39m\\n\u001b[39;49;00m\u001b[39m'\u001b[39;49m\n\u001b[0;32m    <a href='file:///c%3A/Users/brena/HubLegal/Repo/branch/env/lib/site-packages/scipy/sparse/linalg/_isolve/iterative.py?line=129'>130</a>\u001b[0m                \u001b[39m'\u001b[39;49m\u001b[39mAlternatively, ``A`` can be a linear operator which can\u001b[39;49m\u001b[39m\\n\u001b[39;49;00m\u001b[39m'\u001b[39;49m\n\u001b[0;32m    <a href='file:///c%3A/Users/brena/HubLegal/Repo/branch/env/lib/site-packages/scipy/sparse/linalg/_isolve/iterative.py?line=130'>131</a>\u001b[0m                \u001b[39m'\u001b[39;49m\u001b[39mproduce ``Ax`` and ``A^T x`` using, e.g.,\u001b[39;49m\u001b[39m\\n\u001b[39;49;00m\u001b[39m'\u001b[39;49m\n\u001b[0;32m    <a href='file:///c%3A/Users/brena/HubLegal/Repo/branch/env/lib/site-packages/scipy/sparse/linalg/_isolve/iterative.py?line=131'>132</a>\u001b[0m                \u001b[39m'\u001b[39;49m\u001b[39m``scipy.sparse.linalg.LinearOperator``.\u001b[39;49m\u001b[39m'\u001b[39;49m,\n\u001b[0;32m    <a href='file:///c%3A/Users/brena/HubLegal/Repo/branch/env/lib/site-packages/scipy/sparse/linalg/_isolve/iterative.py?line=132'>133</a>\u001b[0m                footer\u001b[39m=\u001b[39;49m\u001b[39m\"\"\"\u001b[39;49m\n\u001b[0;32m    <a href='file:///c%3A/Users/brena/HubLegal/Repo/branch/env/lib/site-packages/scipy/sparse/linalg/_isolve/iterative.py?line=133'>134</a>\u001b[0m \n\u001b[0;32m    <a href='file:///c%3A/Users/brena/HubLegal/Repo/branch/env/lib/site-packages/scipy/sparse/linalg/_isolve/iterative.py?line=134'>135</a>\u001b[0m \u001b[39m               Examples\u001b[39;49m\n\u001b[0;32m    <a href='file:///c%3A/Users/brena/HubLegal/Repo/branch/env/lib/site-packages/scipy/sparse/linalg/_isolve/iterative.py?line=135'>136</a>\u001b[0m \u001b[39m               --------\u001b[39;49m\n\u001b[0;32m    <a href='file:///c%3A/Users/brena/HubLegal/Repo/branch/env/lib/site-packages/scipy/sparse/linalg/_isolve/iterative.py?line=136'>137</a>\u001b[0m \u001b[39m               >>> from scipy.sparse import csc_matrix\u001b[39;49m\n\u001b[0;32m    <a href='file:///c%3A/Users/brena/HubLegal/Repo/branch/env/lib/site-packages/scipy/sparse/linalg/_isolve/iterative.py?line=137'>138</a>\u001b[0m \u001b[39m               >>> from scipy.sparse.linalg import bicg\u001b[39;49m\n\u001b[0;32m    <a href='file:///c%3A/Users/brena/HubLegal/Repo/branch/env/lib/site-packages/scipy/sparse/linalg/_isolve/iterative.py?line=138'>139</a>\u001b[0m \u001b[39m               >>> A = csc_matrix([[3, 2, 0], [1, -1, 0], [0, 5, 1]], dtype=float)\u001b[39;49m\n\u001b[0;32m    <a href='file:///c%3A/Users/brena/HubLegal/Repo/branch/env/lib/site-packages/scipy/sparse/linalg/_isolve/iterative.py?line=139'>140</a>\u001b[0m \u001b[39m               >>> b = np.array([2, 4, -1], dtype=float)\u001b[39;49m\n\u001b[0;32m    <a href='file:///c%3A/Users/brena/HubLegal/Repo/branch/env/lib/site-packages/scipy/sparse/linalg/_isolve/iterative.py?line=140'>141</a>\u001b[0m \u001b[39m               >>> x, exitCode = bicg(A, b)\u001b[39;49m\n\u001b[0;32m    <a href='file:///c%3A/Users/brena/HubLegal/Repo/branch/env/lib/site-packages/scipy/sparse/linalg/_isolve/iterative.py?line=141'>142</a>\u001b[0m \u001b[39m               >>> print(exitCode)            # 0 indicates successful convergence\u001b[39;49m\n\u001b[0;32m    <a href='file:///c%3A/Users/brena/HubLegal/Repo/branch/env/lib/site-packages/scipy/sparse/linalg/_isolve/iterative.py?line=142'>143</a>\u001b[0m \u001b[39m               0\u001b[39;49m\n\u001b[0;32m    <a href='file:///c%3A/Users/brena/HubLegal/Repo/branch/env/lib/site-packages/scipy/sparse/linalg/_isolve/iterative.py?line=143'>144</a>\u001b[0m \u001b[39m               >>> np.allclose(A.dot(x), b)\u001b[39;49m\n\u001b[0;32m    <a href='file:///c%3A/Users/brena/HubLegal/Repo/branch/env/lib/site-packages/scipy/sparse/linalg/_isolve/iterative.py?line=144'>145</a>\u001b[0m \u001b[39m               True\u001b[39;49m\n\u001b[0;32m    <a href='file:///c%3A/Users/brena/HubLegal/Repo/branch/env/lib/site-packages/scipy/sparse/linalg/_isolve/iterative.py?line=145'>146</a>\u001b[0m \n\u001b[0;32m    <a href='file:///c%3A/Users/brena/HubLegal/Repo/branch/env/lib/site-packages/scipy/sparse/linalg/_isolve/iterative.py?line=146'>147</a>\u001b[0m \u001b[39m               \u001b[39;49m\u001b[39m\"\"\"\u001b[39;49m\n\u001b[0;32m    <a href='file:///c%3A/Users/brena/HubLegal/Repo/branch/env/lib/site-packages/scipy/sparse/linalg/_isolve/iterative.py?line=147'>148</a>\u001b[0m                )\n\u001b[0;32m    <a href='file:///c%3A/Users/brena/HubLegal/Repo/branch/env/lib/site-packages/scipy/sparse/linalg/_isolve/iterative.py?line=148'>149</a>\u001b[0m \u001b[39m@non_reentrant\u001b[39;49m()\n\u001b[1;32m--> <a href='file:///c%3A/Users/brena/HubLegal/Repo/branch/env/lib/site-packages/scipy/sparse/linalg/_isolve/iterative.py?line=149'>150</a>\u001b[0m \u001b[39mdef\u001b[39;49;00m \u001b[39mbicg\u001b[39;49m(A, b, x0\u001b[39m=\u001b[39;49m\u001b[39mNone\u001b[39;49;00m, tol\u001b[39m=\u001b[39;49m\u001b[39m1e-5\u001b[39;49m, maxiter\u001b[39m=\u001b[39;49m\u001b[39mNone\u001b[39;49;00m, M\u001b[39m=\u001b[39;49m\u001b[39mNone\u001b[39;49;00m, callback\u001b[39m=\u001b[39;49m\u001b[39mNone\u001b[39;49;00m, atol\u001b[39m=\u001b[39;49m\u001b[39mNone\u001b[39;49;00m):\n\u001b[0;32m    <a href='file:///c%3A/Users/brena/HubLegal/Repo/branch/env/lib/site-packages/scipy/sparse/linalg/_isolve/iterative.py?line=150'>151</a>\u001b[0m     A,M,x,b,postprocess \u001b[39m=\u001b[39;49m make_system(A, M, x0, b)\n\u001b[0;32m    <a href='file:///c%3A/Users/brena/HubLegal/Repo/branch/env/lib/site-packages/scipy/sparse/linalg/_isolve/iterative.py?line=152'>153</a>\u001b[0m     n \u001b[39m=\u001b[39;49m \u001b[39mlen\u001b[39;49m(b)\n",
      "File \u001b[1;32mc:\\Users\\brena\\HubLegal\\Repo\\branch\\env\\lib\\site-packages\\scipy\\_lib\\_threadsafety.py:57\u001b[0m, in \u001b[0;36mnon_reentrant.<locals>.decorator\u001b[1;34m(func)\u001b[0m\n\u001b[0;32m     <a href='file:///c%3A/Users/brena/HubLegal/Repo/branch/env/lib/site-packages/scipy/_lib/_threadsafety.py?line=54'>55</a>\u001b[0m     msg \u001b[39m=\u001b[39m \u001b[39m\"\u001b[39m\u001b[39m%s\u001b[39;00m\u001b[39m is not re-entrant\u001b[39m\u001b[39m\"\u001b[39m \u001b[39m%\u001b[39m func\u001b[39m.\u001b[39m\u001b[39m__name__\u001b[39m\n\u001b[0;32m     <a href='file:///c%3A/Users/brena/HubLegal/Repo/branch/env/lib/site-packages/scipy/_lib/_threadsafety.py?line=55'>56</a>\u001b[0m lock \u001b[39m=\u001b[39m ReentrancyLock(msg)\n\u001b[1;32m---> <a href='file:///c%3A/Users/brena/HubLegal/Repo/branch/env/lib/site-packages/scipy/_lib/_threadsafety.py?line=56'>57</a>\u001b[0m \u001b[39mreturn\u001b[39;00m lock\u001b[39m.\u001b[39;49mdecorate(func)\n",
      "File \u001b[1;32mc:\\Users\\brena\\HubLegal\\Repo\\branch\\env\\lib\\site-packages\\scipy\\_lib\\_threadsafety.py:45\u001b[0m, in \u001b[0;36mReentrancyLock.decorate\u001b[1;34m(self, func)\u001b[0m\n\u001b[0;32m     <a href='file:///c%3A/Users/brena/HubLegal/Repo/branch/env/lib/site-packages/scipy/_lib/_threadsafety.py?line=42'>43</a>\u001b[0m     \u001b[39mwith\u001b[39;00m \u001b[39mself\u001b[39m:\n\u001b[0;32m     <a href='file:///c%3A/Users/brena/HubLegal/Repo/branch/env/lib/site-packages/scipy/_lib/_threadsafety.py?line=43'>44</a>\u001b[0m         \u001b[39mreturn\u001b[39;00m func(\u001b[39m*\u001b[39ma, \u001b[39m*\u001b[39m\u001b[39m*\u001b[39mkw)\n\u001b[1;32m---> <a href='file:///c%3A/Users/brena/HubLegal/Repo/branch/env/lib/site-packages/scipy/_lib/_threadsafety.py?line=44'>45</a>\u001b[0m \u001b[39mreturn\u001b[39;00m scipy\u001b[39m.\u001b[39;49m_lib\u001b[39m.\u001b[39mdecorator\u001b[39m.\u001b[39mdecorate(func, caller)\n",
      "\u001b[1;31mAttributeError\u001b[0m: module 'scipy' has no attribute '_lib'"
     ]
    }
   ],
   "source": [
    "import nltk\n",
    "import re\n",
    "\n",
    "stops = nltk.corpus.stopwords.words('spanish')\n",
    "\n",
    "#elimino stopwords\n",
    "def remove_stops(texto: str) -> str:\n",
    "    \"\"\"\n",
    "    Función que elimina stopwords\n",
    "    Params:\n",
    "        **texto**:texto a ser limpiado de stopwords\n",
    "\n",
    "    \"\"\"\n",
    "    texto = [\n",
    "        i for i in texto.split() if i not in stops\n",
    "    ]\n",
    "    return texto\n",
    "\n",
    "df1 = df1.apply(remove_stops)\n",
    "\n",
    "print(df1[0])"
   ]
  },
  {
   "cell_type": "code",
   "execution_count": null,
   "metadata": {},
   "outputs": [],
   "source": [
    "from sklearn.feature_extraction.text import CountVectorizer \n",
    "\n",
    "documento = df1.apply(str)  \n",
    "# crear la transformación  \n",
    "vectorizer = CountVectorizer() \n",
    "# tokenizar y construir el vocabulario\n",
    "vectorizer.fit(documento) \n",
    "  \n",
    "print(\"Vocabulary: \", vectorizer.vocabulary_) \n",
    "# codificador de documentos\n",
    "vector = vectorizer.transform(documento) \n",
    "\n",
    "# resumir vector codificado\n",
    "#print(\"El documento codificado es:\") \n",
    "#print(vector.shape)\n",
    "#print(type(vector))\n",
    "#print(vector.toarray())"
   ]
  },
  {
   "cell_type": "code",
   "execution_count": null,
   "metadata": {},
   "outputs": [],
   "source": [
    "# r'.\\n +'[0-9]+[-. ]+[a-zA-z ]+'\n",
    "\n",
    "#.\\n +'([vV][.-]+ [A-Za-z ]+)|([iI{0,3}][vV]+[.-]+ [A-Za-z ]+)"
   ]
  }
 ],
 "metadata": {
  "interpreter": {
   "hash": "cd892e8658082d770cf4c4fdc4f23e65f4abc65c752bf7e1163677acec3c7bbd"
  },
  "kernelspec": {
   "display_name": "Python 3.10.4 ('env': venv)",
   "language": "python",
   "name": "python3"
  },
  "language_info": {
   "codemirror_mode": {
    "name": "ipython",
    "version": 3
   },
   "file_extension": ".py",
   "mimetype": "text/x-python",
   "name": "python",
   "nbconvert_exporter": "python",
   "pygments_lexer": "ipython3",
   "version": "3.10.4"
  },
  "orig_nbformat": 4
 },
 "nbformat": 4,
 "nbformat_minor": 2
}
