{
 "cells": [
  {
   "cell_type": "markdown",
   "metadata": {},
   "source": [
    "# Importamos librerías - Creamos el dataframe de pericias"
   ]
  },
  {
   "cell_type": "code",
   "execution_count": 1,
   "metadata": {},
   "outputs": [],
   "source": [
    "import pandas as pd\n",
    "import numpy as np\n",
    "from pprint import pprint\n",
    "\n",
    "df = pd.read_csv('pericias_medicas.csv', sep=',',  encoding='utf-8')\n",
    "#convierte en string los datos de la columna text\n",
    "df1 = df['text'].apply(str)"
   ]
  },
  {
   "cell_type": "markdown",
   "metadata": {},
   "source": [
    "## Limpieza de texto"
   ]
  },
  {
   "cell_type": "code",
   "execution_count": 2,
   "metadata": {},
   "outputs": [],
   "source": [
    "# Limpieza de texto\n",
    "# Primera etapa de la limpieza de texto\n",
    "import re, string, unicodedata\n",
    "'''\n",
    "Se hace la eliminacion de texto entre corchetes, acentos, signos de puntuacion (excepto . y :), palabras con numeros.\n",
    "Se eliminan los espacios de sobra\n",
    "Se eliminan \\r, \\t, \\v, \\f, \\a\n",
    "'''\n",
    "def limpiarTexto1(txt: str, bert=False, nums=False) -> str:\n",
    "    \"\"\"\n",
    "    Elimina caracteres no deseados\n",
    "    Params:\n",
    "        **txt**:texto a ser limpiado de caracteres no desaeados\n",
    "    \"\"\"\n",
    "    if nums:\n",
    "        txt = re.sub(r'\\d+', ' ', txt)\n",
    "    if not bert:\n",
    "        txt = txt.translate(str.maketrans(\n",
    "            'áéíóúýàèìòùÁÉÍÓÚÀÈÌÒÙÝ', 'aeiouyaeiouAEIOUAEIOUY'))\n",
    "\n",
    "    '''\n",
    "    Eliminamos caracteres especiales: tabulador orizontal(\\t), tabulador vertical(\\v), \n",
    "    retorno de carro(\\r), avance de pagina(\\f), \n",
    "    caracter de retroceso: Marca el límite de una palabra(\\b), \n",
    "    '''\n",
    "    txt = txt.replace('\\r', ' ').replace(\"\\v\", ' ').replace(\n",
    "        \"\\t\", ' ').replace(\"\\f\", ' ').replace(\"\\a\", ' ').replace(\"\\b\", ' ')\n",
    "    txt = re.sub(' +', ' ', txt)\n",
    "    txt = txt.strip()\n",
    "    return txt\n",
    "df1 = df1.apply(str)\n",
    "df1 = df1.apply(limpiarTexto1)"
   ]
  },
  {
   "cell_type": "code",
   "execution_count": 3,
   "metadata": {},
   "outputs": [],
   "source": [
    "# Segunda fase de limpieza\n",
    "# Se eliminan todos los elementos que meten ruido al texto y que no fueron eliminados en la fase de limpieza 1.\n",
    "import re\n",
    "\n",
    "def limpiarTexto2(text):\n",
    "    text = re.sub('^ ',' ',text)\n",
    "    text = re.sub('\\n +\\n','\\n',text)\n",
    "    text = re.sub(' +\\n\\n','\\n',text)\n",
    "    text = re.sub('\\n\\n+','\\n',text)\n",
    "    text = re.sub(' \\n','\\n',text)\n",
    "    text = re.sub('\\d\\n','',text)\n",
    "    text = re.sub('\\x0c','',text)\n",
    "    text = re.sub('\\u200b\\n','',text)\n",
    "    text = re.sub('\\d{3,100}','',text)\n",
    "    text = re.sub('\\d+-\\d+','',text)\n",
    "    text = re.sub('\\x0c','',text)\n",
    "    text = re.sub('[nN]º|[nN][. ]º','',text)\n",
    "    text = re.sub('[º<>/]','',text)\n",
    "    text = re.sub('\\d{3,100}','',text)\n",
    "    text = re.sub('[a-zA-z-.]+@[a-zA-Z]+.com','',text)\n",
    "    return text\n",
    "\n",
    "df1 = df1.apply(limpiarTexto2)"
   ]
  },
  {
   "cell_type": "code",
   "execution_count": 34,
   "metadata": {},
   "outputs": [],
   "source": [
    "# Tercera fase de limpieza\n",
    "# Eliminamos las lineas que no son de utilidad para el analisis o que van a afectar los resultados del mismo.\n",
    "# Ejemplo de linea eliminada: las lineas que comienzan con \"Se encuentra contestada en.....\"\n",
    "import re\n",
    "\n",
    "def limpiarTexto3(text):\n",
    "    text = re.sub('[a-z1-9.]+[).-] [s|S]e encuentra contestad[a|o] .+[. \\n]','',text)\n",
    "    text = re.sub('[0-9]+[. ]+[yY]a fue contestado.+[.\\n]','',text)\n",
    "    text = re.sub('[fF]oja [1-9].+\\n', '', text)\n",
    "    text = re.sub('[pP]regunta[ 0-9]+[)].+\\n|[rR]espuesta[ 0-9]+[)].+\\n','',text)#elimina oraciones comenzadas en preguta/respuesta.\n",
    "    text = re.sub('V[. ]+[S\\n\\.]+', '', text)\n",
    "    #text = re.sub('[IV]+.[A-Z]{1,3}[\\n.]', '', text)\n",
    "    text = re.sub('[I][.][P][.]','',text)\n",
    "    text = re.sub('[I][.][T][.]','',text)\n",
    "    text = re.sub('[I][.][A][.]','',text)\n",
    "    text = re.sub('[I][.][L][.]','',text)\n",
    "    text = re.sub('[I][.][B][.]','',text)\n",
    "    text = re.sub('[I][.][N][.]','',text)\n",
    "    text = re.sub('[I][.][V][.]','',text)\n",
    "    text = re.sub('[V][.][M][.]','',text)\n",
    "    text = re.sub('[V][.][A][.]','',text)\n",
    "    text = re.sub('[I][.][D][.]','',text)\n",
    "\n",
    "    return text\n",
    "\n",
    "dfLimpio = df1.apply(limpiarTexto3)\n",
    "dfLimpio = dfLimpio.apply(limpiarTexto2)\n",
    "#pprint(dfLimpio[0])"
   ]
  },
  {
   "cell_type": "markdown",
   "metadata": {},
   "source": [
    "# Búsqueda de títulos"
   ]
  },
  {
   "cell_type": "code",
   "execution_count": 5,
   "metadata": {},
   "outputs": [],
   "source": [
    "# Búsqueda de títulos\n",
    "# Se crea un nuevo dataframe de títulos según distintos criterios\n",
    "\n",
    "# busca titulos que comienzan con numeros romanos\n",
    "def buscarTitulosRomanos(text):\n",
    "    # Expresiones regulares para encontrar los numeros romanos\n",
    "    tituloNroRomano =re.compile(r'(I{1,3}|IV|V|VI{1,3}|IX|X)[-.) ]+[\\w\\s-]+[:\\.\\n]')\n",
    "    tituloNroRomano5 =re.compile(r'V[-.)]+[\\w\\s-]+[:\\n]')\n",
    "    titulosRomanosEncontrados = []\n",
    "\n",
    "    for m in tituloNroRomano.finditer(text):\n",
    "        titulosRomanosEncontrados.append(m.group())\n",
    "    for m in tituloNroRomano5.finditer(text):\n",
    "        titulosRomanosEncontrados.append(m.group())\n",
    "        \n",
    "    return titulosRomanosEncontrados\n",
    "\n",
    "# titulosConNroRomano: lista que guarda los titulos que comienzan con numeros romanos   \n",
    "titulosConNroRomano=[]\n",
    "for expediente in dfLimpio:\n",
    "    titulosConNroRomano.append(buscarTitulosRomanos(expediente))"
   ]
  },
  {
   "cell_type": "code",
   "execution_count": 6,
   "metadata": {},
   "outputs": [],
   "source": [
    "# Busca títulos que comienzan con números latinos\n",
    "def buscarTitulosLatinos(text):\n",
    "    # Expresiún regular para encontrar tútulos que comienzan con números\n",
    "    tituloNroLatino =re.compile(r'[1-9][-.)][\\w\\s-]+[:\\n]')\n",
    "    titulosLatinosEncontrados = []\n",
    "\n",
    "    for m in tituloNroLatino.finditer(text):\n",
    "        titulosLatinosEncontrados.append(m.group())\n",
    "\n",
    "    return titulosLatinosEncontrados\n",
    "\n",
    "# titulosConNroLatino: lista que guarda los tútulos que comienzan con números latinos\n",
    "titulosConNroLatino=[]\n",
    "for expediente in dfLimpio:\n",
    "    titulosConNroLatino.append(buscarTitulosLatinos(expediente))"
   ]
  },
  {
   "cell_type": "code",
   "execution_count": 35,
   "metadata": {},
   "outputs": [],
   "source": [
    "# Busca títulos en mayusculas\n",
    "def buscarTitulosMayusculas(text):\n",
    "    # Expresiín regular para encontrar títulos en mayusculas.\n",
    "    tituloMayusculas =re.compile(r'(I{1,3}|IV|V|VI{1,3}|IX|X)[-.)]+[A-Z -]+[:.\\n]') #[1-9]|\n",
    "    titulosMayusculasEncontrados = []\n",
    "\n",
    "    for m in tituloMayusculas.finditer(text):\n",
    "        if len(m.group()) > 8:\n",
    "            titulosMayusculasEncontrados.append(m.group())\n",
    "\n",
    "    return titulosMayusculasEncontrados\n",
    "# titulosMAyuscula: lista que guarda los títulos en mayusculas\n",
    "titulosMayusculas=[]\n",
    "for expediente in dfLimpio:\n",
    "    if len((buscarTitulosMayusculas(expediente))) > 6:\n",
    "        titulosMayusculas.append(buscarTitulosMayusculas(expediente))\n",
    "\n",
    "dfTitulosMayusculasConStops = pd.DataFrame(titulosMayusculas)\n"
   ]
  },
  {
   "cell_type": "markdown",
   "metadata": {},
   "source": [
    "## Eliminación de stopwords. Nueva limpieza"
   ]
  },
  {
   "cell_type": "code",
   "execution_count": 9,
   "metadata": {},
   "outputs": [],
   "source": [
    "import nltk\n",
    "import re\n",
    "\n",
    "stops = nltk.corpus.stopwords.words('spanish')\n",
    "\n",
    "# elimino stopwords\n",
    "def remove_stops(texto: str) -> str:\n",
    "    \"\"\"\n",
    "    Función que elimina stopwords\n",
    "    Params:\n",
    "        **texto**:texto a ser limpiado de stopwords\n",
    "\n",
    "    \"\"\"\n",
    "    texto = [\n",
    "        i for i in texto.split() if i not in stops\n",
    "    ]\n",
    "    return texto\n",
    "\n",
    "def limpiarTitulos(text):\n",
    "    text = text.lower()\n",
    "    text = re.sub(r'\\n','',text)\n",
    "    text = re.sub(r'[a-z]\\.[a-z]\\.','',text)\n",
    "    text = re.sub(r'(i{2,3}|iv|vi{1,3}|ix)','',text)\n",
    "    text = re.sub(r'\\W',' ',text)    \n",
    "    text = re.sub(r'\\d+','',text)\n",
    "    text = re.sub(r' [a-z] ','',text)\n",
    "    \n",
    "    \n",
    "    return text\n",
    "\n",
    "# elimino stopwords y hago una última limpieza\n",
    "titulosMayusculasStop = limpiarTitulos(str(titulosMayusculas))\n",
    "titulosMayusculasStop = remove_stops(str(titulosMayusculasStop))\n",
    "titulosConNroLatinoStop = limpiarTitulos(str(titulosConNroLatino))\n",
    "titulosConNroLatinoStop = remove_stops(str(titulosConNroLatinoStop))\n",
    "titulosConNroRomanoStop = limpiarTitulos(str(titulosConNroRomano))\n",
    "titulosConNroRomanoStop = remove_stops(str(titulosConNroRomanoStop))"
   ]
  },
  {
   "cell_type": "markdown",
   "metadata": {},
   "source": [
    "# FASE DE ANALISIS"
   ]
  },
  {
   "cell_type": "markdown",
   "metadata": {},
   "source": [
    "## Creación de dataframes de títulos"
   ]
  },
  {
   "cell_type": "code",
   "execution_count": 10,
   "metadata": {},
   "outputs": [],
   "source": [
    "# crear un df de títulos.\n",
    "import pandas as pd\n",
    "\n",
    "dfTitulosRomanos = pd.DataFrame(titulosConNroRomanoStop)\n",
    "dfTitulosLatinos= pd.DataFrame(titulosConNroLatinoStop)\n",
    "dfTitulosMayusculas= pd.DataFrame(titulosMayusculasStop)\n"
   ]
  },
  {
   "cell_type": "markdown",
   "metadata": {},
   "source": [
    "## Contadores"
   ]
  },
  {
   "cell_type": "code",
   "execution_count": 12,
   "metadata": {},
   "outputs": [
    {
     "name": "stdout",
     "output_type": "stream",
     "text": [
      "Palabras en titulos ROMANOS:           63891\n",
      "Palabras en titulos LATINOS:           175339\n",
      "Palabras en titulos con MAYUSCULAS:    10514\n",
      "\n",
      "TOTAL DE PALABRAS ENCONTRADAS EN TITULOS:   249744\n",
      "\n",
      "TOTAL DE PALABRAS DEL DATAFRAME ORIGINAL:   8693476\n",
      "\n"
     ]
    }
   ],
   "source": [
    "# Titulos totales del dataframe original\n",
    "def contarPalabras(text):\n",
    "    totalPalabras = 0\n",
    "    for expediente in text:\n",
    "        p = expediente.split()\n",
    "        totalPalabras+=(len(p))\n",
    "    return totalPalabras\n",
    "\n",
    "# Total de palabras en el datrafame origina.\n",
    "palabrasTotalesDf = contarPalabras(df1)\n",
    "\n",
    "# Contadores de títulos\n",
    "# Total de titulos por tipo de busqueda\n",
    "contTitulosLatino = len(titulosConNroLatinoStop)\n",
    "contTitulosRomanos = len(titulosConNroRomanoStop)\n",
    "contTitulosmayusculas = len(titulosMayusculasStop)\n",
    "totalPalabrasTitulos = contTitulosLatino + contTitulosRomanos + contTitulosmayusculas\n",
    "\n",
    "# Mostrar por pantalla la cantidad de palabras por tituto, cantidad de palabras totales\n",
    "print(f'''Palabras en titulos ROMANOS:           {contTitulosRomanos}\n",
    "Palabras en titulos LATINOS:           {contTitulosLatino}\n",
    "Palabras en titulos con MAYUSCULAS:    {contTitulosmayusculas}\n",
    "\n",
    "TOTAL DE PALABRAS ENCONTRADAS EN TITULOS:   {totalPalabrasTitulos}\n",
    "\n",
    "TOTAL DE PALABRAS DEL DATAFRAME ORIGINAL:   {palabrasTotalesDf}\n",
    "''')"
   ]
  },
  {
   "cell_type": "code",
   "execution_count": null,
   "metadata": {},
   "outputs": [],
   "source": []
  },
  {
   "cell_type": "markdown",
   "metadata": {},
   "source": [
    "### Dataframe de frecuencias"
   ]
  },
  {
   "cell_type": "code",
   "execution_count": 13,
   "metadata": {},
   "outputs": [],
   "source": [
    "# Obtengo la frecuencia relativa de las palabras de los titulos\n",
    "frecuenciaTitulosRomanos = dfTitulosRomanos.value_counts()\n",
    "frecuenciaTitulosLatinos = dfTitulosLatinos.value_counts()\n",
    "frecuenciaTitulosMayuscula = dfTitulosMayusculas.value_counts()\n",
    "\n",
    "# Crea un dataframe de frecuencias\n",
    "dfFrecuencias = pd.DataFrame()\n",
    "dfFrecuencias['latinos'] = frecuenciaTitulosLatinos\n",
    "dfFrecuencias['romanos'] = pd.DataFrame(frecuenciaTitulosRomanos)\n",
    "dfFrecuencias['mayuscula'] = pd.DataFrame(frecuenciaTitulosMayuscula)\n"
   ]
  },
  {
   "cell_type": "code",
   "execution_count": 14,
   "metadata": {},
   "outputs": [
    {
     "name": "stdout",
     "output_type": "stream",
     "text": [
      "FRECUENCIA DE PALABRAS\n",
      "TITULOS EN MAYUSCULA\n",
      "puntos             538\n",
      "pericia            514\n",
      "conclusiones       496\n",
      "petitorio          454\n",
      "legales            451\n",
      "antecedentes       440\n",
      "consideraciones    384\n",
      "legal              310\n",
      "interes            282\n",
      "dtype: int64\n"
     ]
    }
   ],
   "source": [
    "# mostrar por pantalla la frecuencia de titulos\n",
    "print(f'''FRECUENCIA DE PALABRAS\n",
    "TITULOS EN MAYUSCULA\n",
    "{frecuenciaTitulosMayuscula[1:10]}''')"
   ]
  },
  {
   "cell_type": "markdown",
   "metadata": {},
   "source": [
    "# GRAFICOS"
   ]
  },
  {
   "cell_type": "code",
   "execution_count": 15,
   "metadata": {},
   "outputs": [
    {
     "data": {
      "text/plain": [
       "<module 'matplotlib.pyplot' from 'c:\\\\Users\\\\gasto\\\\anaconda3\\\\lib\\\\site-packages\\\\matplotlib\\\\pyplot.py'>"
      ]
     },
     "execution_count": 15,
     "metadata": {},
     "output_type": "execute_result"
    },
    {
     "data": {
      "image/png": "[encoded data removed]",
      "text/plain": [
       "<Figure size 432x288 with 1 Axes>"
      ]
     },
     "metadata": {},
     "output_type": "display_data"
    }
   ],
   "source": [
    "# Creo un grafico de torta\n",
    "import matplotlib.pyplot as plt\n",
    "\n",
    "# Creacion de grafico de torta de la cantidad de titulos encontrados segun el tipo de busqueda\n",
    "cantTitulos = [contTitulosLatino, contTitulosRomanos, contTitulosmayusculas]\n",
    "nombreTitulos = ['Latinos', 'Romanos', 'Mayusculas']\n",
    "colores = ['#2C4AF1','#2CF168','#F12C2C']\n",
    "\n",
    "plt.pie(cantTitulos, labels=nombreTitulos, autopct= '%0.1f %%', colors=colores)\n",
    "plt"
   ]
  },
  {
   "cell_type": "code",
   "execution_count": 16,
   "metadata": {},
   "outputs": [
    {
     "data": {
      "text/plain": [
       "<module 'matplotlib.pyplot' from 'c:\\\\Users\\\\gasto\\\\anaconda3\\\\lib\\\\site-packages\\\\matplotlib\\\\pyplot.py'>"
      ]
     },
     "execution_count": 16,
     "metadata": {},
     "output_type": "execute_result"
    },
    {
     "data": {
      "image/png": "[encoded data removed]",
      "text/plain": [
       "<Figure size 432x288 with 1 Axes>"
      ]
     },
     "metadata": {},
     "output_type": "display_data"
    }
   ],
   "source": [
    "# Creo un grafico de torta\n",
    "import matplotlib.pyplot as plt\n",
    "\n",
    "# Creacion de grafico de torta de la cantidad de titulos encontrados sobre la cantidad de palabras en total de dataframe\n",
    "cantPalabras = [palabrasTotalesDf, totalPalabrasTitulos]\n",
    "nombreTitulos = ['Palabras totales', 'Palabras en titulos']\n",
    "colores = ['#2C4AF1','#2CF168']\n",
    "desfase=(0,0.5)\n",
    "\n",
    "plt.pie(cantPalabras, labels=nombreTitulos, autopct= '%0.1f %%', colors=colores, explode=desfase) #, explode=desfase\n",
    "plt"
   ]
  },
  {
   "cell_type": "markdown",
   "metadata": {},
   "source": [
    "## NUBE DE PALABRAS"
   ]
  },
  {
   "cell_type": "code",
   "execution_count": 17,
   "metadata": {},
   "outputs": [
    {
     "data": {
      "image/png": "[encoded data removed]",
      "text/plain": [
       "<PIL.Image.Image image mode=RGB size=400x200 at 0x232D20C63D0>"
      ]
     },
     "execution_count": 17,
     "metadata": {},
     "output_type": "execute_result"
    }
   ],
   "source": [
    "# Import the wordcloud library\n",
    "import pandas as pd\n",
    "import matplotlib.pyplot as plt\n",
    "from wordcloud import WordCloud\n",
    "\n",
    "# Join the different processed titles together.\n",
    "long_string = ','.join(list(dfTitulosMayusculas[0].apply(str)))\n",
    "\n",
    "# Create a WordCloud object\n",
    "wordcloud = WordCloud(background_color=\"white\", max_words=1000, contour_width=3, contour_color='steelblue')\n",
    "\n",
    "# Generate a word cloud\n",
    "wordcloud.generate(long_string)\n",
    "\n",
    "# Visualize the word cloud\n",
    "wordcloud.to_image()"
   ]
  },
  {
   "cell_type": "code",
   "execution_count": 18,
   "metadata": {},
   "outputs": [
    {
     "data": {
      "image/png": "[encoded data removed]",
      "text/plain": [
       "<PIL.Image.Image image mode=RGB size=400x200 at 0x232B3440AC0>"
      ]
     },
     "execution_count": 18,
     "metadata": {},
     "output_type": "execute_result"
    }
   ],
   "source": [
    "# elimino stopwords de la nube de palabras.\n",
    "import nltk\n",
    "\n",
    "stops = nltk.corpus.stopwords.words('spanish')\n",
    "\n",
    "# agregar palabra a la lista\n",
    "#stops.append('algo')\n",
    "\n",
    "\n",
    "# Import the wordcloud library\n",
    "import pandas as pd\n",
    "import matplotlib.pyplot as plt\n",
    "from wordcloud import WordCloud\n",
    "\n",
    "# Join the different processed titles together.\n",
    "long_string = ','.join(list(dfTitulosMayusculas[0].apply(str)))\n",
    "\n",
    "# Create a WordCloud object\n",
    "wordcloud = WordCloud(background_color=\"white\", max_words=1000, contour_width=3, contour_color='steelblue', stopwords=stops) #, stopwords=stops\n",
    "\n",
    "# Generate a word cloud\n",
    "wordcloud.generate(long_string)\n",
    "\n",
    "# Visualize the word cloud\n",
    "wordcloud.to_image()"
   ]
  },
  {
   "cell_type": "code",
   "execution_count": null,
   "metadata": {},
   "outputs": [],
   "source": []
  },
  {
   "cell_type": "markdown",
   "metadata": {},
   "source": [
    "# PRUEBAS"
   ]
  },
  {
   "cell_type": "code",
   "execution_count": 19,
   "metadata": {},
   "outputs": [],
   "source": [
    "# DIVIDIR EN ORACIONES:\n",
    "from nltk import sent_tokenize\n",
    "# dividir en oraciones\n",
    "sentences = sent_tokenize(dfLimpio[0])\n",
    "#print(sentences[])"
   ]
  },
  {
   "cell_type": "code",
   "execution_count": 20,
   "metadata": {},
   "outputs": [
    {
     "name": "stdout",
     "output_type": "stream",
     "text": [
      "59\n"
     ]
    }
   ],
   "source": [
    "pprint(sentences.index('-EXAMENES COMPLEMENTARIOS: Psicodiagnostico (los test estan adjuntados\\n'\n",
    " 'en autos)\\n'\n",
    " 'IV-CONSIDERACIONES MEDICO-LEGALES:\\n'\n",
    " 'Comenta el Sr Boiero que mientras se dirigia al trabajo, corre para no\\n'\n",
    " 'perder el tren pisando mal con su pie izquierdo por lo cual sufrio un '\n",
    " 'esguince del\\n'\n",
    " ' tobillo izquierdo.'))"
   ]
  },
  {
   "cell_type": "code",
   "execution_count": 21,
   "metadata": {},
   "outputs": [
    {
     "name": "stdout",
     "output_type": "stream",
     "text": [
      "('-EXAMENES COMPLEMENTARIOS: Psicodiagnostico (los test estan adjuntados\\n'\n",
      " 'en autos)\\n'\n",
      " 'IV-CONSIDERACIONES MEDICO-LEGALES:\\n'\n",
      " 'Comenta el Sr Boiero que mientras se dirigia al trabajo, corre para no\\n'\n",
      " 'perder el tren pisando mal con su pie izquierdo por lo cual sufrio un '\n",
      " 'esguince del\\n'\n",
      " ' tobillo izquierdo.')\n",
      "\n",
      "\n",
      "'Esta oración tiene: 143 palabras'\n"
     ]
    }
   ],
   "source": [
    "pprint(sentences[59])\n",
    "print('\\n')\n",
    "pprint(f'Esta oración tiene: {len(sentences)} palabras')"
   ]
  },
  {
   "cell_type": "code",
   "execution_count": null,
   "metadata": {},
   "outputs": [],
   "source": []
  },
  {
   "cell_type": "markdown",
   "metadata": {},
   "source": [
    "## Creamos un vectorizador para ver las frecuencias de palabras por documento"
   ]
  },
  {
   "cell_type": "code",
   "execution_count": 22,
   "metadata": {},
   "outputs": [],
   "source": [
    "# Importamos librerias necesarias.\n",
    "from sklearn.feature_extraction.text import TfidfVectorizer\n",
    "from sklearn.cluster import KMeans\n",
    "import numpy as np\n",
    "import pandas as pd\n",
    "import nltk\n",
    "\n",
    "stops = nltk.corpus.stopwords.words('spanish')\n",
    "\n",
    "vectorizer = TfidfVectorizer(stop_words=set(stops))\n",
    "X = vectorizer.fit_transform(dfLimpio)\n"
   ]
  },
  {
   "cell_type": "code",
   "execution_count": 23,
   "metadata": {},
   "outputs": [],
   "source": [
    "true_k = 4\n",
    "model = KMeans(n_clusters=true_k, init='k-means++', max_iter=100, n_init=1)\n",
    "model.fit(X)\n",
    "\n",
    "order_centroids = model.cluster_centers_.argsort()[:, ::-1]\n",
    "terms = vectorizer.get_feature_names()"
   ]
  },
  {
   "cell_type": "code",
   "execution_count": 24,
   "metadata": {},
   "outputs": [
    {
     "name": "stdout",
     "output_type": "stream",
     "text": [
      "Cluster 0:\n",
      " rodilla\n",
      " actor\n",
      " si\n",
      " presenta\n",
      " incapacidad\n",
      " examen\n",
      " medico\n",
      " informe\n",
      " respuesta\n",
      " accidente\n",
      "Cluster 1:\n",
      " columna\n",
      " lumbar\n",
      " actor\n",
      " cervical\n",
      " examen\n",
      " presenta\n",
      " dolor\n",
      " disco\n",
      " medico\n",
      " incapacidad\n",
      "Cluster 2:\n",
      " actor\n",
      " examen\n",
      " tobillo\n",
      " medico\n",
      " presenta\n",
      " mano\n",
      " incapacidad\n",
      " dedo\n",
      " derecho\n",
      " izquierdo\n",
      "Cluster 3:\n",
      " medico\n",
      " perito\n",
      " informa\n",
      " robacio\n",
      " domicilio\n",
      " autos\n",
      " canciani\n",
      " ley\n",
      " victoria\n",
      " ciudad\n",
      "\n",
      "\n",
      "Predicción***************************\n",
      "[3]\n"
     ]
    }
   ],
   "source": [
    "for i in range(true_k): \n",
    "    print(f'Cluster %d:' % i, ), \n",
    "    for ind in order_centroids[i, :10]: \n",
    "        print(' %s' % terms[ind])   \n",
    "\n",
    "\n",
    "print('\\n') \n",
    "print('Predicción***************************') \n",
    "X = vectorizer.transform(['consideraciones medico legales']) \n",
    "predicted = model.predict(X)\n",
    "print(predicted)"
   ]
  },
  {
   "cell_type": "markdown",
   "metadata": {},
   "source": [
    "# Muestro en documento HTML"
   ]
  },
  {
   "cell_type": "code",
   "execution_count": 25,
   "metadata": {},
   "outputs": [],
   "source": [
    "# Creamos un dataframe para colocar el salto de linea en formato HTML\n",
    "dfLimpioHTML = dfLimpio.apply(str)\n",
    "def limpiarTextoHTML(text):\n",
    "    text = text.strip().replace('\\n','<br>')\n",
    "    return text\n",
    "\n",
    "dfLimpioHTML = dfLimpioHTML.apply(limpiarTextoHTML)\n"
   ]
  },
  {
   "cell_type": "code",
   "execution_count": 26,
   "metadata": {},
   "outputs": [],
   "source": [
    "colors = {\n",
    "    'procedimientos': '#cd5c5c',\n",
    "    'cuerpos': '#99ccff',\n",
    "    'afecciones': '#ffa500'\n",
    "}\n",
    "\n",
    "body = f'''\n",
    "        <p>\n",
    "        {dfLimpioHTML[0]}\n",
    "        </p>\n",
    "        <br>\n",
    "        '''\n",
    "for titulo in titulosMayusculas[0]:\n",
    "    body = body.replace(titulo,f'<span style=\"background-color: #99ccff\">{titulo}</span>')\n",
    "with open('titulos.html','w', encoding=\"utf-8\") as f:\n",
    "    f.write(body)"
   ]
  },
  {
   "cell_type": "code",
   "execution_count": null,
   "metadata": {},
   "outputs": [],
   "source": []
  },
  {
   "cell_type": "code",
   "execution_count": null,
   "metadata": {},
   "outputs": [],
   "source": []
  },
  {
   "cell_type": "code",
   "execution_count": null,
   "metadata": {},
   "outputs": [],
   "source": [
    "def preprocess(text):\n",
    "    result = []\n",
    "    for token in gensim.utils.simple_preprocess(text):\n",
    "        if token not in gensim.parsing.preprocessing.STOPWORDS and len(token) > 3:\n",
    "            result.append(lemmatize_stemming(token))\n",
    "    return resul"
   ]
  }
 ],
 "metadata": {
  "interpreter": {
   "hash": "42875111758dffc1ca879dbe67063d4b14d2fb8b4b9c438105dae1201065df52"
  },
  "kernelspec": {
   "display_name": "Python 3.8.8 ('base')",
   "language": "python",
   "name": "python3"
  },
  "language_info": {
   "codemirror_mode": {
    "name": "ipython",
    "version": 3
   },
   "file_extension": ".py",
   "mimetype": "text/x-python",
   "name": "python",
   "nbconvert_exporter": "python",
   "pygments_lexer": "ipython3",
   "version": "3.8.8"
  },
  "orig_nbformat": 4
 },
 "nbformat": 4,
 "nbformat_minor": 2
}
