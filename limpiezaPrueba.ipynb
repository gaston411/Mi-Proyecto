{
 "cells": [
  {
   "cell_type": "markdown",
   "metadata": {},
   "source": [
    "# Importamos librerias - Creamos el dataframe de pericias"
   ]
  },
  {
   "cell_type": "code",
   "execution_count": 2,
   "metadata": {},
   "outputs": [
    {
     "data": {
      "text/plain": [
       "0      \\n\\nInforma a continuación: \\n\\nJ.T. 13 \\nPER...\n",
       "1      \\n\\nJUZG. 40 \\n\\nPERITO MEDICO PRESENTA INFOR...\n",
       "2     Expediente Nº CNT 74803/2014 \\n \\nJUZGADO NACI...\n",
       "3     JUZGADO NACIONAL DE TRABAJO 59       LAVALLE 1...\n",
       "4      \\n\\n \\n\\nPERITO PRESENTA INFORME \\n\\n \\n\\n \\n...\n",
       "5                           JNT N°72 \\n\\nPERITO MEDI...\n",
       "6     J. T.  Nº 20              Exp. 9231//2016     ...\n",
       "7     PERITO MEDICO PRESENTA INFORME \\n\\nSr. Juez: \\...\n",
       "8     II.- HISTORIA CLINICA \\n\\nPERITO MEDICO PRESEN...\n",
       "9     JNT nº 67, Sito en Calle Lavalle nº 1268, Ciud...\n",
       "10    PERITO MEDICO: PRESENTA PERITACION MEDICA.- \\n...\n",
       "11     \\n\\nSR. JUEZ: \\n\\nJUZGADO NACIONAL DEL TRABAJ...\n",
       "12    PRESENTA DICTAMEN PERICIAL \\n\\nSeñor Juez: \\n\\...\n",
       "13    JUZG. NAC. DEL TRABAJO Nº 12 \\n\\n             ...\n",
       "14    SE PRESENTA – HACE SABER: \\n\\nJuz T 51 \\n\\n \\n...\n",
       "15    PERITO MÉDICO PRESENTA INFORME PERICIAL\\n\\nSr....\n",
       "16    PRESENTA INFORME PERICIAL MÉDICO. \\n\\nJ.N.T. 1...\n",
       "17    PERITO MEDICO PRESENTA INFORME PERICIAL \\n\\nJu...\n",
       "18     \\nPERITO MEDICO PRESENTA INFORME PERICIAL.  \\...\n",
       "19    PERITO MEDICO INFORMA -SOLICITA\\n \\nEXPEDIENTE...\n",
       "Name: text, dtype: object"
      ]
     },
     "execution_count": 2,
     "metadata": {},
     "output_type": "execute_result"
    }
   ],
   "source": [
    "import pandas as pd\n",
    "import numpy as np\n",
    "from pprint import pprint\n",
    "\n",
    "df = pd.read_csv('pericias_medicas.csv', sep=',',  encoding='utf-8')\n",
    "#convierte en string los datos de la columna text\n",
    "df = df['text'].apply(str)\n",
    "df1 = df.head(20)\n",
    "df1"
   ]
  },
  {
   "cell_type": "markdown",
   "metadata": {},
   "source": [
    "## Limpieza de texto"
   ]
  },
  {
   "cell_type": "code",
   "execution_count": 3,
   "metadata": {},
   "outputs": [],
   "source": [
    "# Limpieza de texto\n",
    "# Primera etapa de la limpieza de texto\n",
    "import re, string, unicodedata\n",
    "'''\n",
    "Se hace la eliminacion de texto entre corchetes, acentos, signos de puntuacion (excepto . y :), palabras con numeros.\n",
    "Se eliminan los espacios de sobra\n",
    "Se eliminan \\r, \\t, \\v, \\f, \\a\n",
    "'''\n",
    "def limpiarTexto1(txt: str, bert=False, nums=False) -> str:\n",
    "    \"\"\"\n",
    "    Elimina caracteres no deseados\n",
    "    Params:\n",
    "        **txt**:texto a ser limpiado de caracteres no desaeados\n",
    "    \"\"\"\n",
    "    if nums:\n",
    "        txt = re.sub(r'\\d+', ' ', txt)\n",
    "    if not bert:\n",
    "        txt = txt.translate(str.maketrans(\n",
    "            'áéíóúýàèìòùÁÉÍÓÚÀÈÌÒÙÝ', 'aeiouyaeiouAEIOUAEIOUY'))\n",
    "\n",
    "    '''\n",
    "    Eliminamos caracteres especiales: tabulador orizontal(\\t), tabulador vertical(\\v), \n",
    "    retorno de carro(\\r), avance de pagina(\\f), \n",
    "    caracter de retroceso: Marca el límite de una palabra(\\b), \n",
    "    '''\n",
    "    txt = txt.replace('\\r', ' ').replace(\"\\v\", ' ').replace(\n",
    "        \"\\t\", ' ').replace(\"\\f\", ' ').replace(\"\\a\", ' ').replace(\"\\b\", ' ')\n",
    "    txt = re.sub(' +', ' ', txt)\n",
    "    txt = txt.strip()\n",
    "    return txt\n",
    "df1.apply(str)\n",
    "df1 = df1.apply(limpiarTexto1)\n",
    "#df1"
   ]
  },
  {
   "cell_type": "code",
   "execution_count": 4,
   "metadata": {},
   "outputs": [
    {
     "data": {
      "text/plain": [
       "0     Informa a continuacion:\\nJ.T. 1PERITO MEDICO P...\n",
       "1     JUZG. 4PERITO MEDICO PRESENTA INFORME MEDICOPE...\n",
       "2     Expediente  CNT JUZGADO NACIONAL DE 1 INSTANCI...\n",
       "3     JUZGADO NACIONAL DE TRABAJO 59 LAVALLE  2P\\nPE...\n",
       "4     PERITO PRESENTA INFORME\\nDatos personales\\n\\nJ...\n",
       "5     JNT N°7PERITO MEDICA PRESENTA INFORME PERICIAL...\n",
       "6     J. T.  20 Exp.  R. Saenz Peña . P. 2\\nPERITO M...\n",
       "7     PERITO MEDICO PRESENTA INFORME\\nSr. Juez:\\nEl ...\n",
       "8     II. HISTORIA CLINICA\\nPERITO MEDICO PRESENTA P...\n",
       "9     JNT  67, Sito en Calle Lavalle  , Ciudad Auton...\n",
       "10    PERITO MEDICO: PRESENTA PERITACION MEDICA.\\nSe...\n",
       "11    SR. JUEZ:\\nJUZGADO NACIONAL DEL TRABAJO  4PERI...\n",
       "12    PRESENTA DICTAMEN PERICIAL\\nSeñor Juez:\\nEl Dr...\n",
       "13    JUZG. NAC. DEL TRABAJO  1 EXP.  PERICIA MEDICA...\n",
       "14    SE PRESENTA – HACE SABER:\\nJuz T 5Sr. Juez:\\nR...\n",
       "15    PERITO MEDICO PRESENTA INFORME PERICIAL\\nSr. J...\n",
       "16    PRESENTA INFORME PERICIAL MEDICO.\\nJ.N.T. 1Señ...\n",
       "17    PERITO MEDICO PRESENTA INFORME PERICIAL\\nJuzga...\n",
       "18    PERITO MEDICO PRESENTA INFORME PERICIAL.\\nSr. ...\n",
       "19    PERITO MEDICO INFORMA SOLICITA\\nEXPEDIENTE  JU...\n",
       "Name: text, dtype: object"
      ]
     },
     "execution_count": 4,
     "metadata": {},
     "output_type": "execute_result"
    }
   ],
   "source": [
    "# Segunda fase de limpieza\n",
    "# Se eliminan todos los elementos que meten ruido al texto y que no fueron eliminados en la fase de limpieza 1.\n",
    "import re\n",
    "\n",
    "def limpiarTexto2(text):\n",
    "    text = re.sub('^ ',' ',text)\n",
    "    text = re.sub('\\n +\\n','\\n',text)\n",
    "    text = re.sub(' +\\n\\n','\\n',text)\n",
    "    text = re.sub('\\n\\n+','\\n',text)\n",
    "    text = re.sub(' \\n','\\n',text)\n",
    "    text = re.sub('\\d\\n','',text)\n",
    "    text = re.sub('\\x0c','',text)\n",
    "    text = re.sub('\\u200b\\n','',text)\n",
    "    text = re.sub('\\d{3,100}','',text)\n",
    "    text = re.sub('\\d+-\\d+','',text)\n",
    "    text = re.sub('\\x0c','',text)\n",
    "    text = re.sub('[nN]º|[nN][. ]º','',text)\n",
    "    text = re.sub('[º<>/-]','',text)\n",
    "    text = re.sub('\\d{3,100}','',text)\n",
    "    text = re.sub('[a-zA-z-.]+@[a-zA-Z]+.com','',text)\n",
    "    return text\n",
    "\n",
    "dfLimpio = df1.apply(limpiarTexto2)\n",
    "dfLimpio"
   ]
  },
  {
   "cell_type": "code",
   "execution_count": 5,
   "metadata": {},
   "outputs": [
    {
     "data": {
      "text/plain": [
       "0     Informa a continuacion:\\nJ.T. 1PERITO MEDICO P...\n",
       "1     JUZG. 4PERITO MEDICO PRESENTA INFORME MEDICOPE...\n",
       "2     Expediente  CNT JUZGADO NACIONAL DE 1 INSTANCI...\n",
       "3     JUZGADO NACIONAL DE TRABAJO 59 LAVALLE  2P\\nPE...\n",
       "4     PERITO PRESENTA INFORME\\nDatos personales\\nJuz...\n",
       "5     JNT N°7PERITO MEDICA PRESENTA INFORME PERICIAL...\n",
       "6     J. T.  20 Exp.  R. Saenz Peña . P. PERITO MEDI...\n",
       "7     PERITO MEDICO PRESENTA INFORME\\nSr. Juez:\\nEl ...\n",
       "8     II. HISTORIA CLINICA\\nPERITO MEDICO PRESENTA P...\n",
       "9     JNT  67, Sito en Calle Lavalle  , Ciudad Auton...\n",
       "10    PERITO MEDICO: PRESENTA PERITACION MEDICA.\\nSe...\n",
       "11    SR. JUEZ:\\nJUZGADO NACIONAL DEL TRABAJO  4PERI...\n",
       "12    PRESENTA DICTAMEN PERICIAL\\nSeñor Juez:\\nEl Dr...\n",
       "13    JUZG. NAC. DEL TRABAJO  1 EXP.  PERICIA MEDICA...\n",
       "14    SE PRESENTA – HACE SABER:\\nJuz T 5Sr. Juez:\\nR...\n",
       "15    PERITO MEDICO PRESENTA INFORME PERICIAL\\nSr. J...\n",
       "16    PRESENTA INFORME PERICIAL MEDICO.\\nJ.N.T. 1Señ...\n",
       "17    PERITO MEDICO PRESENTA INFORME PERICIAL\\nJuzga...\n",
       "18    PERITO MEDICO PRESENTA INFORME PERICIAL.\\nSr. ...\n",
       "19    PERITO MEDICO INFORMA SOLICITA\\nEXPEDIENTE  JU...\n",
       "Name: text, dtype: object"
      ]
     },
     "execution_count": 5,
     "metadata": {},
     "output_type": "execute_result"
    }
   ],
   "source": [
    "# Tercera fase de limpieza\n",
    "# Eliminamos las lineas que no son de utilidad para el analisis o que van a afectar los resultados del mismo.\n",
    "# Ejemplo de linea eliminada: las lineas que comienzan con \"Se encuentra contestada en.....\"\n",
    "import re\n",
    "\n",
    "def limpiarTexto3(text):\n",
    "    text = re.sub('[a-z1-9.]+[).-] [s|S]e encuentra contestad[a|o] .+[. \\n]','',text)\n",
    "    text = re.sub('[0-9]+[. ]+[yY]a fue contestado.+[.\\n]','',text)\n",
    "    text = re.sub('[fF]oja [1-9].+\\n', '', text)\n",
    "    text = re.sub('[pP]regunta[ 0-9]+[)].+\\n|[rR]espuesta[ 0-9]+[)].+\\n','',text)#elimina oraciones comenzadas en preguta/respuesta.\n",
    "    return text\n",
    "\n",
    "dfLimpio = dfLimpio.apply(limpiarTexto3)\n",
    "dfLimpio = dfLimpio.apply(limpiarTexto2)\n",
    "dfLimpio"
   ]
  },
  {
   "cell_type": "code",
   "execution_count": 85,
   "metadata": {},
   "outputs": [],
   "source": [
    "#QUISE GUARDAR EL DFLIMPIO SIN LAS PALABRAS CON LONGITUD MENOR A 2.\n",
    "#texto_nuevo = \" \"\n",
    "#for w in dfLimpio:\n",
    "#    if len(w)>2:\n",
    "#        texto_nuevo = texto_nuevo + \" \" + w\n",
    "#print(texto_nuevo)"
   ]
  },
  {
   "cell_type": "markdown",
   "metadata": {},
   "source": [
    "# Búsqueda de títulos"
   ]
  },
  {
   "cell_type": "code",
   "execution_count": 6,
   "metadata": {},
   "outputs": [],
   "source": [
    "# Busqueda de titulos\n",
    "# Se crea un nuevo dataframe de titulos según distintos criterios\n",
    "\n",
    "# busca titulos que comienzan con numeros romanos\n",
    "def buscarTitulosRomanos(text):\n",
    "    # Expresiones regulares para encontrar los numeros romanos\n",
    "    tituloNroRomano =re.compile(r'(I{1,3}|IV|V|VI{1,3}|IX|X)[-.)][\\w\\s]+[:\\n]')\n",
    "    titulosRomanosEncontrados = []\n",
    "\n",
    "    for m in tituloNroRomano.finditer(text):\n",
    "        titulosRomanosEncontrados.append(m.group())\n",
    "\n",
    "    return titulosRomanosEncontrados\n",
    "\n",
    "# titulosConNroRomano: lista que guarda los titulos que comienzan con numeros romanos   \n",
    "titulosConNroRomano=[]\n",
    "for expediente in dfLimpio:\n",
    "    titulosConNroRomano.append(buscarTitulosRomanos(expediente))\n",
    "\n",
    "#pprint(titulosConNroRomano[10])"
   ]
  },
  {
   "cell_type": "code",
   "execution_count": null,
   "metadata": {},
   "outputs": [],
   "source": [
    "#NO ESTA BIEN ESTO\n",
    "import pandas as pd\n",
    "dfTitulosCompletosRom = pd.DataFrame(titulosConNroRomano)\n",
    "dfTitulosCompletosRom"
   ]
  },
  {
   "cell_type": "code",
   "execution_count": 8,
   "metadata": {},
   "outputs": [],
   "source": [
    "#TAMPOCO QUEDA BIEN \n",
    "#Se exporta el dataframe a csv\n",
    "dfTitulosCompletosRom.to_csv('titCompletosRom.csv', index=False, sep=';')"
   ]
  },
  {
   "cell_type": "code",
   "execution_count": 9,
   "metadata": {},
   "outputs": [
    {
     "name": "stdout",
     "output_type": "stream",
     "text": [
      "['1) Datos personales:',\n",
      " '2) Motivo de la evaluacion:',\n",
      " '3) Antecedentes Heredofamiliares y personales:',\n",
      " '5) Ocupacion actual:',\n",
      " '7) Examen Fisico\\n',\n",
      " '8) ESTUDIOS MEDICOS COMPLEMENTARIOS SOLICITADOS:',\n",
      " '1) Informe las lesiones padecidas por el actor como consecuencia del\\n',\n",
      " '3) Indique los estudios que se le realizaron para su diagnostico y\\n',\n",
      " '4) Indique tiempos de control ambulatorio y de convalecencia que\\n',\n",
      " '6) Determine la incapacidad transitoria sufrida por el actor y la\\n',\n",
      " '7) Relate si debera someterse a tratamientos futuros como\\n',\n",
      " '4. por los fundamentos\\n',\n",
      " '2) Determine mediante la realizacion de un Psicodiagnostico con\\n',\n",
      " '4. por los fundamentos expuestos en el Punto\\n',\n",
      " '9) de la pericial\\nmedica\\nPERICIAL MEDICA DEMANDADA\\n',\n",
      " '1.Que tipo de signo sintomatologia presenta el actor en virtud\\n',\n",
      " '2.Realice un examen exhaustivo en su columna lumbar\\n',\n",
      " '3. Analisis radiografico de la columna lumbar valorando si existe\\n',\n",
      " '4. Si considera que el actor presenta patologia lumbar en\\n',\n",
      " '5. Se solicita que utilice la Tabla de Evaluacion de\\n',\n",
      " '1.Si el actor presenta algun tipo de afeccion en su esfera\\n',\n",
      " '2.Se efectue al actor un examen completo de las funciones\\n',\n",
      " '5.Si existe nexo causal entre la patologia detectada y la\\n',\n",
      " '2) Ordene agregar el presente informe en autos y de traslado a las\\n',\n",
      " '3) Oportunamente regule los honorarios correspondientes con mas los\\n',\n",
      " '4) Hago reserva del derecho de accionar contra cualquiera de las\\n']\n"
     ]
    }
   ],
   "source": [
    "# Busca titulos que comienzan con numeros latinos\n",
    "def buscarTitulosLatinos(text):\n",
    "    # Expresion regular para encontrar titulos que comienzan con numeros\n",
    "    tituloNroLatino =re.compile(r'[1-9][-.)][\\w\\s]+[:\\n]')\n",
    "    titulosLatinosEncontrados = []\n",
    "\n",
    "    for m in tituloNroLatino.finditer(text):\n",
    "        titulosLatinosEncontrados.append(m.group())\n",
    "\n",
    "    return titulosLatinosEncontrados\n",
    "\n",
    "# titulosConNroLatino: lista que guarda los titulos que comienzan con numeros latinos\n",
    "titulosConNroLatino=[]\n",
    "for expediente in dfLimpio:\n",
    "    titulosConNroLatino.append(buscarTitulosLatinos(expediente))\n",
    "pprint(titulosConNroLatino[9])"
   ]
  },
  {
   "cell_type": "code",
   "execution_count": 10,
   "metadata": {},
   "outputs": [
    {
     "name": "stdout",
     "output_type": "stream",
     "text": [
      "[['V.S.', 'V.S.', '2. TOBILLO:', '4. PSICOENTREVISTA:', 'I.V.', 'V.S.', 'V.S.'],\n",
      " ['V.S.',\n",
      "  'IV) EXAMEN DEL PERITO DE OFICIO.',\n",
      "  '3) PROSOPOGRAFIA:',\n",
      "  '4) DATOS PERSONALES:',\n",
      "  '7) DATOS LABORALES.',\n",
      "  '2) IMPOTENCIA FUNCIONAL DE SU M.',\n",
      "  '1) RESUMEN SEMIOLOGICO:',\n",
      "  '2) DIAGNOSTICO DE LAS SECUELAS\\n',\n",
      "  'V) CONSIDERACIONES MEDICAS:',\n",
      "  '5) PRONOSTICO Y TRATAMIENTO REQUERIDO EN EL FUTURO:',\n",
      "  'VII) CONTESTACION DE PUNTOS PERICIALES.',\n",
      "  'VIII) BIBLIOGRAFIA.',\n",
      "  'VII) CONCLUSIONES:',\n",
      "  'V.S.'],\n",
      " ['I.T.', 'V.S\\n'],\n",
      " ['II) A.', 'II) A.', 'V.S.'],\n",
      " ['I.T.', 'I.T.', 'V.S.', 'V.S.'],\n",
      " [],\n",
      " ['V. S.'],\n",
      " ['V.S.', 'V.S.'],\n",
      " ['II. HISTORIA CLINICA\\n',\n",
      "  '1. ANTECEDENTES PERSONALES\\n',\n",
      "  '2.ANTECEDENTES DE INTERES MEDICO LEGAL\\n',\n",
      "  '3. EXAMEN FISICO:',\n",
      "  '4. EXAMEN PSIQUICO:',\n",
      "  'IV. PUNTOS PERICIALES\\n',\n",
      "  'III. ESTUDIOS SOLICITADOS\\n',\n",
      "  '4. III B.',\n",
      "  'V. CONSIDERACIONES Y CONCLUSIONES MEDICO LEGALES\\n'],\n",
      " ['V.S.', '8) ESTUDIOS MEDICOS COMPLEMENTARIOS SOLICITADOS:', 'V. S.', 'V.S.'],\n",
      " ['V.S.', 'V.S.'],\n",
      " ['V. S.', 'V. S.', 'V.S.'],\n",
      " ['V.S.',\n",
      "  'I. DATOS PERSONALES\\n',\n",
      "  'II. MOTIVO DE RECLAMO Y DATOS LABORALES\\n',\n",
      "  'III. ANTECEDENTES DE LOS HECHOS EN LITIS\\n',\n",
      "  'IV.ANTECEDENTES MEDICOS\\n',\n",
      "  'V. EXAMEN CLINICO\\n',\n",
      "  'VI. ESTUDIOS COMPLEMENTARIOS REALIZADOS\\n',\n",
      "  'VII. CONSIDERACIONES MEDICO LEGALES\\n',\n",
      "  'II. VALORACION DE LA SECUELA FISICA SEGUN BAREMO DE ENFERMEDADES\\n',\n",
      "  'IX. CONCLUSION\\n',\n",
      "  'V.S.'],\n",
      " ['V.S.', 'V.S.', 'V.S.'],\n",
      " ['V.S.'],\n",
      " ['V.S.', 'V.S.', 'I.A.', 'V.S.'],\n",
      " [],\n",
      " ['9. R.', 'V.A.'],\n",
      " ['V.S.', 'V.S\\n'],\n",
      " []]\n"
     ]
    }
   ],
   "source": [
    "# Busca titulos en mayusculas\n",
    "def buscarTitulosMayusculas(text):\n",
    "    # Expresion regular para encontrar titulos en mayusculas.\n",
    "    tituloMayusculas =re.compile(r'([1-9]|I{1,3}|IV|V|VI{1,3}|IX|X)[-.)][A-Z -]+[:.\\n]')\n",
    "    titulosMayusculasEncontrados = []\n",
    "\n",
    "    for m in tituloMayusculas.finditer(text):\n",
    "        titulosMayusculasEncontrados.append(m.group())\n",
    "\n",
    "    return titulosMayusculasEncontrados\n",
    "# titulosMAyuscula: lista que guarda los titulos en mayusculas\n",
    "titulosMayusculas=[]\n",
    "for expediente in dfLimpio:\n",
    "    titulosMayusculas.append(buscarTitulosMayusculas(expediente))\n",
    "\n",
    "pprint(titulosMayusculas)\n"
   ]
  },
  {
   "cell_type": "markdown",
   "metadata": {},
   "source": [
    "#### Eliminacion de stopwords y tokenización."
   ]
  },
  {
   "cell_type": "code",
   "execution_count": 11,
   "metadata": {},
   "outputs": [],
   "source": [
    "import nltk\n",
    "import re\n",
    "\n",
    "stops = nltk.corpus.stopwords.words('spanish')\n",
    "\n",
    "#elimino stopwords\n",
    "def remove_stops(texto: str) -> str:\n",
    "    \"\"\"\n",
    "    Función que elimina stopwords\n",
    "    Params:\n",
    "        **texto**:texto a ser limpiado de stopwords\n",
    "\n",
    "    \"\"\"\n",
    "    texto = [\n",
    "        i for i in texto.split() if i not in stops\n",
    "    ]\n",
    "    return texto\n",
    "\n",
    "def limpiarTitulos(text):\n",
    "    text = text.lower()\n",
    "    text = re.sub(r'\\n','',text)\n",
    "    text = re.sub(r'[a-z]\\.[a-z]\\.','',text)\n",
    "    text = re.sub(r'(i{2,3}|iv|vi{1,3}|ix)','',text)\n",
    "    text = re.sub(r'\\W',' ',text)    \n",
    "    text = re.sub(r'\\d+','',text)\n",
    "    text = re.sub(r' [a-z] ','',text)\n",
    "    \n",
    "    return text\n",
    "\n",
    "#elimino stopwords y hago una ultima limpieza\n",
    "titulosMayusculasStop = limpiarTitulos(str(titulosMayusculas))\n",
    "titulosMayusculasStop = remove_stops(str(titulosMayusculasStop))\n",
    "titulosConNroLatinoStop = limpiarTitulos(str(titulosConNroLatino))\n",
    "titulosConNroLatinoStop = remove_stops(str(titulosConNroLatinoStop))\n",
    "titulosConNroRomanoStop = limpiarTitulos(str(titulosConNroRomano))\n",
    "titulosConNroRomanoStop = remove_stops(str(titulosConNroRomanoStop))"
   ]
  },
  {
   "cell_type": "code",
   "execution_count": 163,
   "metadata": {},
   "outputs": [],
   "source": [
    "#GRAFICO DE TORTA"
   ]
  },
  {
   "cell_type": "markdown",
   "metadata": {},
   "source": [
    "# Títulos en mayúsculas."
   ]
  },
  {
   "cell_type": "markdown",
   "metadata": {},
   "source": [
    "#### Unigrama"
   ]
  },
  {
   "cell_type": "code",
   "execution_count": null,
   "metadata": {},
   "outputs": [],
   "source": [
    "import pandas as pd\n",
    "dfTitulosMayusculas = pd.DataFrame(titulosMayusculasStop,columns=['Tokens'])\n",
    "dfTitulosMayusculas\n"
   ]
  },
  {
   "cell_type": "code",
   "execution_count": 178,
   "metadata": {},
   "outputs": [],
   "source": [
    "#Se exporta el dataframe a un archivo csv\n",
    "dfTitulosMayusculas.to_csv('titTokenEnMayusculas.csv', index=False, sep=';')"
   ]
  },
  {
   "cell_type": "code",
   "execution_count": null,
   "metadata": {},
   "outputs": [],
   "source": [
    "#Cantidad de veces que se repiten los tokens en los titulos.\n",
    "import pandas as pd\n",
    "FrecuenciaTitMay = pd.DataFrame(titulosMayusculasStop)\n",
    "cantMay = FrecuenciaTitMay.value_counts()\n",
    "print(cantMay)"
   ]
  },
  {
   "cell_type": "code",
   "execution_count": 128,
   "metadata": {},
   "outputs": [],
   "source": [
    "#def word_count(titulosMayusculasStop):\n",
    " #   import collections\n",
    "  #  word_freq = collections.defaultdict(int)\n",
    "   # with open(titulosMayusculasStop) as f:\n",
    "    #    for l in f:\n",
    "     #       for w in l.strip().split():  \n",
    "      #          word_freq[w] += 1\n",
    "    #return word_freq\n",
    "\n"
   ]
  },
  {
   "cell_type": "code",
   "execution_count": null,
   "metadata": {},
   "outputs": [],
   "source": [
    "\n",
    "#DATAFRAME DE LOS TITULOS EN MAYUSCULAS CON SUS FRECUENCIAS.\n",
    "import pandas as pd\n",
    "dfFrecuenciaTitMay = pd.DataFrame(cantMay,columns=['Frecuencia'])\n",
    "dfFrecuenciaTitMay"
   ]
  },
  {
   "cell_type": "code",
   "execution_count": null,
   "metadata": {},
   "outputs": [],
   "source": [
    "#No hay valores vacios\n",
    "dfFrecuenciaTitMay.isna().sum "
   ]
  },
  {
   "cell_type": "markdown",
   "metadata": {},
   "source": [
    "#### Bigramas"
   ]
  },
  {
   "cell_type": "code",
   "execution_count": null,
   "metadata": {},
   "outputs": [],
   "source": [
    "#bigrama de títulos con mayúsculas.\n",
    "bigramaMay=(list(nltk.ngrams(titulosMayusculasStop,2)))\n",
    "bigramaMay"
   ]
  },
  {
   "cell_type": "code",
   "execution_count": null,
   "metadata": {},
   "outputs": [],
   "source": [
    "import pandas as pd\n",
    "dfBigramaMay = pd.DataFrame(bigramaMay,columns=['Token1','Token2'])\n",
    "dfBigramaMay"
   ]
  },
  {
   "cell_type": "code",
   "execution_count": null,
   "metadata": {},
   "outputs": [],
   "source": [
    "#Cantidad de veces que se repiten los bigramas en los titulos con mayúsculas.\n",
    "import pandas as pd\n",
    "FrecuenciaBigMay = pd.DataFrame(bigramaMay,columns=['TOKEN1','TOKEN2'])\n",
    "cantBigMay = FrecuenciaBigMay.value_counts()\n",
    "print(cantBigMay)"
   ]
  },
  {
   "cell_type": "markdown",
   "metadata": {},
   "source": [
    "#### Trigramas"
   ]
  },
  {
   "cell_type": "code",
   "execution_count": null,
   "metadata": {},
   "outputs": [],
   "source": [
    "#trigrama de títulos con mayúsculas.\n",
    "trigramaMay=(list(nltk.ngrams(titulosMayusculasStop,3)))\n",
    "trigramaMay"
   ]
  },
  {
   "cell_type": "code",
   "execution_count": null,
   "metadata": {},
   "outputs": [],
   "source": [
    "import pandas as pd\n",
    "dfTrigramaMay = pd.DataFrame(trigramaMay,columns=['TOKEN1','TOKEN2','TOKEN3'])\n",
    "dfTrigramaMay"
   ]
  },
  {
   "cell_type": "code",
   "execution_count": null,
   "metadata": {},
   "outputs": [],
   "source": [
    "#Cantidad de veces que se repiten los trigramas en los titulos con mayúsculas.\n",
    "import pandas as pd\n",
    "FrecuenciaTrigMay = pd.DataFrame(trigramaMay,columns=['TOKEN1','TOKEN2','TOKEN3'])\n",
    "cantTrigMay = FrecuenciaTrigMay.value_counts()\n",
    "print(cantTrigMay)"
   ]
  },
  {
   "cell_type": "code",
   "execution_count": 162,
   "metadata": {},
   "outputs": [],
   "source": [
    "#INTENTO DE HACER UN GRAFICO PERO NO.\n",
    "#import pandas as pd\n",
    "#import numpy as np\n",
    "\n",
    "#dfFrecuenciaTitMay\n",
    "#ranges = [1,2,3,4,5,6,7,8,9,10]\n",
    "#print(dfFrecuenciaTitMay['frecuencia'].groupby(pd.cut(dfFrecuenciaTitMay.frecuencia, ranges, right=False)).count())"
   ]
  },
  {
   "cell_type": "markdown",
   "metadata": {},
   "source": [
    "#### DataFrame de los títulos con números romanos."
   ]
  },
  {
   "cell_type": "markdown",
   "metadata": {},
   "source": [
    "#### Unigrama"
   ]
  },
  {
   "cell_type": "code",
   "execution_count": null,
   "metadata": {},
   "outputs": [],
   "source": [
    "import pandas as pd\n",
    "dfTitulosRomanos = pd.DataFrame(titulosConNroRomanoStop,columns=['Tokens'])\n",
    "dfTitulosRomanos\n"
   ]
  },
  {
   "cell_type": "code",
   "execution_count": 179,
   "metadata": {},
   "outputs": [],
   "source": [
    "#Se exporta el dataframe a un archivo csv\n",
    "dfTitulosRomanos.to_csv('titTokenRomanos.csv', index=False, sep=';')"
   ]
  },
  {
   "cell_type": "code",
   "execution_count": null,
   "metadata": {},
   "outputs": [],
   "source": [
    "#Cantidad de veces que se repiten los tokens en los titulos.\n",
    "import pandas as pd\n",
    "FrecuenciaTitRomanos = pd.DataFrame(titulosConNroRomanoStop)\n",
    "cantRom = FrecuenciaTitRomanos.value_counts()\n",
    "print(cantRom)"
   ]
  },
  {
   "cell_type": "code",
   "execution_count": null,
   "metadata": {},
   "outputs": [],
   "source": [
    "#DATAFRAME DE LOS TITULOS CON NUMEROS ROMANOS Y SUS FRECUENCIAS.\n",
    "import pandas as pd\n",
    "dfFrecuenciaTitRom = pd.DataFrame(cantRom,columns=['Frecuencia'])\n",
    "dfFrecuenciaTitRom"
   ]
  },
  {
   "cell_type": "markdown",
   "metadata": {},
   "source": [
    "#### Bigramas"
   ]
  },
  {
   "cell_type": "code",
   "execution_count": null,
   "metadata": {},
   "outputs": [],
   "source": [
    "#bigrama de los títulos con números romanos.\n",
    "bigramaRom = (list(nltk.ngrams(titulosConNroRomanoStop,2)))\n",
    "bigramaRom"
   ]
  },
  {
   "cell_type": "code",
   "execution_count": null,
   "metadata": {},
   "outputs": [],
   "source": [
    "import pandas as pd\n",
    "dfBigramaRom = pd.DataFrame(bigramaRom,columns=['TOKEN1','TOKEN2'])\n",
    "dfBigramaRom"
   ]
  },
  {
   "cell_type": "code",
   "execution_count": null,
   "metadata": {},
   "outputs": [],
   "source": [
    "#Cantidad de veces que se repiten los bigramas en los titulos con números romanos.\n",
    "import pandas as pd\n",
    "FrecuenciaBigRom = pd.DataFrame(bigramaRom,columns=['TOKEN1','TOKEN2'])\n",
    "cantBigRom = FrecuenciaBigRom.value_counts()\n",
    "print(cantBigRom)"
   ]
  },
  {
   "cell_type": "markdown",
   "metadata": {},
   "source": [
    "#### Trigramas"
   ]
  },
  {
   "cell_type": "code",
   "execution_count": null,
   "metadata": {},
   "outputs": [],
   "source": [
    "#trigrama de los títulos con números romanos.\n",
    "trigramaRom = (list(nltk.ngrams(titulosConNroRomanoStop,3)))\n",
    "trigramaRom"
   ]
  },
  {
   "cell_type": "code",
   "execution_count": null,
   "metadata": {},
   "outputs": [],
   "source": [
    "import pandas as pd\n",
    "dfTrigramaRom = pd.DataFrame(trigramaRom,columns=['TOKEN1','TOKEN2','TOKEN3'])\n",
    "dfTrigramaRom"
   ]
  },
  {
   "cell_type": "code",
   "execution_count": null,
   "metadata": {},
   "outputs": [],
   "source": [
    "#Cantidad de veces que se repiten los trigramas en los titulos con números romanos.\n",
    "import pandas as pd\n",
    "FrecuenciaTrigRom = pd.DataFrame(trigramaRom,columns=['TOKEN1','TOKEN2','TOKEN3'])\n",
    "cantTrigRom = FrecuenciaTrigRom.value_counts()\n",
    "print(cantTrigRom)"
   ]
  },
  {
   "cell_type": "markdown",
   "metadata": {},
   "source": [
    "#### DataFrame de los títulos con números latinos."
   ]
  },
  {
   "cell_type": "markdown",
   "metadata": {},
   "source": [
    "#### Unigrama"
   ]
  },
  {
   "cell_type": "code",
   "execution_count": null,
   "metadata": {},
   "outputs": [],
   "source": [
    "import pandas as pd\n",
    "dfTitulosLatinos = pd.DataFrame(titulosConNroLatinoStop, columns=['Tokens'])\n",
    "\n",
    "#from IPython.display import HTML, display_html, display\n",
    "#display(HTML('<h2>Frecuencia de los titulos con números latinos</h2>'))\n",
    "#display_html(dfTitulosLatinos)\n",
    "dfTitulosLatinos"
   ]
  },
  {
   "cell_type": "code",
   "execution_count": 180,
   "metadata": {},
   "outputs": [],
   "source": [
    "#Se exporta el dataframe a un archivo csv\n",
    "dfTitulosLatinos.to_csv('titTokenLatinos.csv', index=False, sep=';')"
   ]
  },
  {
   "cell_type": "code",
   "execution_count": null,
   "metadata": {},
   "outputs": [],
   "source": [
    "#Cantidad de veces que se repiten los tokens en los titulos.\n",
    "import pandas as pd\n",
    "FrecuenciaTitLatinos = pd.DataFrame(titulosConNroLatinoStop)\n",
    "cantLat = FrecuenciaTitLatinos.value_counts()\n",
    "print(cantLat)"
   ]
  },
  {
   "cell_type": "code",
   "execution_count": null,
   "metadata": {},
   "outputs": [],
   "source": [
    "#DATAFRAME DE LOS TITULOS CON NUMEROS LATINOS Y SUS FRECUENCIAS.\n",
    "import pandas as pd\n",
    "dfFrecuenciaTitLat = pd.DataFrame(cantLat,columns=['Frecuencia'])\n",
    "dfFrecuenciaTitLat"
   ]
  },
  {
   "cell_type": "markdown",
   "metadata": {},
   "source": [
    "#### Bigramas"
   ]
  },
  {
   "cell_type": "code",
   "execution_count": null,
   "metadata": {},
   "outputs": [],
   "source": [
    "#bigrama de títulos con números latinos.\n",
    "bigramaLat=(list(nltk.ngrams(titulosConNroLatinoStop,2)))\n",
    "bigramaLat"
   ]
  },
  {
   "cell_type": "code",
   "execution_count": null,
   "metadata": {},
   "outputs": [],
   "source": [
    "import pandas as pd\n",
    "dfBigramaLat = pd.DataFrame(bigramaLat,columns=['TOKEN1','TOKEN2'])\n",
    "dfBigramaLat"
   ]
  },
  {
   "cell_type": "code",
   "execution_count": null,
   "metadata": {},
   "outputs": [],
   "source": [
    "#Cantidad de veces que se repiten los bigramas en los titulos con números latinos.\n",
    "import pandas as pd\n",
    "FrecuenciaBigLat = pd.DataFrame(bigramaLat,columns=['TOKEN1','TOKEN2'])\n",
    "cantBigLat = FrecuenciaBigLat.value_counts()\n",
    "print(cantBigLat)"
   ]
  },
  {
   "cell_type": "markdown",
   "metadata": {},
   "source": [
    "#### Trigramas"
   ]
  },
  {
   "cell_type": "code",
   "execution_count": null,
   "metadata": {},
   "outputs": [],
   "source": [
    "#trigrama de títulos con números latinos.\n",
    "trigramaLat=(list(nltk.ngrams(titulosConNroLatinoStop,3)))\n",
    "trigramaLat"
   ]
  },
  {
   "cell_type": "code",
   "execution_count": null,
   "metadata": {},
   "outputs": [],
   "source": [
    "import pandas as pd\n",
    "dfTrigramaLat = pd.DataFrame(trigramaLat,columns=['TOKEN1','TOKEN2','TOKEN3'])\n",
    "dfTrigramaLat"
   ]
  },
  {
   "cell_type": "code",
   "execution_count": 88,
   "metadata": {},
   "outputs": [
    {
     "name": "stdout",
     "output_type": "stream",
     "text": [
      "TOKEN1         TOKEN2            TOKEN3           \n",
      "honorarios     correspondientes  mas                  3\n",
      "oportunamente  regule            honorarios           3\n",
      "regule         honorarios        correspondientes     3\n",
      "hago           reserva           derecho              2\n",
      "reserva        derecho           accionar             2\n",
      "                                                     ..\n",
      "examen         exhausto          columna              1\n",
      "               completo          funciones            1\n",
      "evolucion      daños             psiquicosmorales     1\n",
      "evaluacion     si                actor                1\n",
      "vengo          nla               presentedenunciar    1\n",
      "Length: 519, dtype: int64\n"
     ]
    }
   ],
   "source": [
    "#Cantidad de veces que se repiten los trigramas en los titulos con números latinos.\n",
    "import pandas as pd\n",
    "FrecuenciaTrigLat = pd.DataFrame(trigramaLat,columns=['TOKEN1','TOKEN2','TOKEN3'])\n",
    "cantTrigLat = FrecuenciaTrigLat.value_counts()\n",
    "print(cantTrigLat)"
   ]
  },
  {
   "cell_type": "markdown",
   "metadata": {},
   "source": [
    "# Dataframe de todos los titulos"
   ]
  },
  {
   "cell_type": "code",
   "execution_count": null,
   "metadata": {},
   "outputs": [],
   "source": [
    "# crear un df de títulos.\n",
    "import pandas as pd\n",
    "\n",
    "dfTitulos = pd.DataFrame()\n",
    "dfTitulos['latinos'] = titulosConNroLatinoStop\n",
    "dfTitulos['romanos'] = pd.DataFrame(titulosConNroRomanoStop)\n",
    "dfTitulos['mayusculas'] = pd.DataFrame(titulosMayusculasStop)\n",
    "dfTitulos"
   ]
  },
  {
   "cell_type": "markdown",
   "metadata": {},
   "source": []
  },
  {
   "cell_type": "code",
   "execution_count": 135,
   "metadata": {},
   "outputs": [],
   "source": [
    "#INTENTO DE HACER UN GRAFICO PERO NO.\n",
    "#import pandas as pd\n",
    "#import numpy as np\n",
    "\n",
    "#dfFrecuenciaTitMay\n",
    "#ranges = [1,2,3,4,5,6,7,8,9,10]\n",
    "#print(dfFrecuenciaTitMay['frecuencia'].groupby(pd.cut(dfFrecuenciaTitMay.frecuencia, ranges, right=False)).count())"
   ]
  },
  {
   "cell_type": "code",
   "execution_count": 152,
   "metadata": {},
   "outputs": [],
   "source": [
    "#Queria saber cuales son los stopwords que hay \n",
    "#from nltk.corpus import stopwords\n",
    "#stopwords.words('spanish')"
   ]
  },
  {
   "cell_type": "code",
   "execution_count": 137,
   "metadata": {},
   "outputs": [],
   "source": [
    "#Se importan las librerias necesarias y se toman los datos de muestra\n",
    "import pandas as pd\n",
    "from sklearn.feature_extraction.text import TfidfVectorizer \n",
    "dato1 = titulosMayusculasStop\n",
    "dato2 = titulosConNroRomanoStop\n",
    "dato3 = titulosConNroLatinoStop"
   ]
  },
  {
   "cell_type": "code",
   "execution_count": 138,
   "metadata": {},
   "outputs": [
    {
     "name": "stdout",
     "output_type": "stream",
     "text": [
      "                                          Mayúsculas  \\\n",
      "0  [tobillo, psicoentresta, examen, perito, ofici...   \n",
      "\n",
      "                                             Romanos  \\\n",
      "0  [nla, articulacion, factible, inestabilidad, a...   \n",
      "\n",
      "                                             Latinos  \n",
      "0  [tobillo, psicoentresta, nlas, secuelas, tobil...  \n"
     ]
    }
   ],
   "source": [
    "#Convierte los datos de muestra en DataFrame usando Pandas\n",
    "dfTodosLosTitulos = pd.DataFrame({'Mayúsculas': [dato1], 'Romanos': [dato2], 'Latinos': [dato3]})\n",
    "print (dfTodosLosTitulos)"
   ]
  },
  {
   "cell_type": "code",
   "execution_count": 139,
   "metadata": {},
   "outputs": [],
   "source": [
    "#Inicializa el vectorizador\n",
    "#Se inicializa el vectorizador y se ajusta y transforman los datos\n",
    "tfidf_vectorizer = TfidfVectorizer()\n",
    "doc_vec = tfidf_vectorizer.fit_transform(dfTodosLosTitulos)"
   ]
  },
  {
   "cell_type": "code",
   "execution_count": 140,
   "metadata": {},
   "outputs": [],
   "source": [
    "#Convierte los datos transformados en un marco de datos\n",
    "dfMarco = pd.DataFrame(doc_vec.toarray().transpose(), index= tfidf_vectorizer.get_feature_names_out())"
   ]
  },
  {
   "cell_type": "code",
   "execution_count": 141,
   "metadata": {},
   "outputs": [
    {
     "name": "stdout",
     "output_type": "stream",
     "text": [
      "            Mayúsculas  Romanos  Latinos\n",
      "latinos            0.0      0.0      1.0\n",
      "mayúsculas         1.0      0.0      0.0\n",
      "romanos            0.0      1.0      0.0\n"
     ]
    }
   ],
   "source": [
    "#Cambia los nombres de las columnas e imprime el resultado\n",
    "dfMarco.columns = dfTodosLosTitulos.columns\n",
    "print(dfMarco)"
   ]
  },
  {
   "cell_type": "code",
   "execution_count": null,
   "metadata": {},
   "outputs": [],
   "source": [
    "#FRECUENCIA DE TODO EL TEXTO (df1 o dfLimpio????)\n",
    "from sklearn.feature_extraction.text import CountVectorizer \n",
    "\n",
    "documento = df1.apply(str)  \n",
    "# crear la transformación  \n",
    "vectorizer = CountVectorizer() \n",
    "# tokenizar y construir el vocabulario\n",
    "vectorizer.fit(documento) \n",
    "  \n",
    "print(\"Vocabulary: \", vectorizer.vocabulary_) \n",
    "# codificador de documentos\n",
    "vector = vectorizer.transform(documento) \n",
    "\n",
    "# resumir vector codificado\n",
    "#print(\"El documento codificado es:\") \n",
    "#print(vector.shape)\n",
    "#print(type(vector))\n",
    "#print(vector.toarray())"
   ]
  },
  {
   "cell_type": "code",
   "execution_count": null,
   "metadata": {},
   "outputs": [],
   "source": [
    "# r'.\\n +'[0-9]+[-. ]+[a-zA-z ]+'\n",
    "\n",
    "#.\\n +'([vV][.-]+ [A-Za-z ]+)|([iI{0,3}][vV]+[.-]+ [A-Za-z ]+)"
   ]
  }
 ],
 "metadata": {
  "interpreter": {
   "hash": "cd892e8658082d770cf4c4fdc4f23e65f4abc65c752bf7e1163677acec3c7bbd"
  },
  "kernelspec": {
   "display_name": "Python 3.10.4 ('env': venv)",
   "language": "python",
   "name": "python3"
  },
  "language_info": {
   "codemirror_mode": {
    "name": "ipython",
    "version": 3
   },
   "file_extension": ".py",
   "mimetype": "text/x-python",
   "name": "python",
   "nbconvert_exporter": "python",
   "pygments_lexer": "ipython3",
   "version": "3.10.4"
  },
  "orig_nbformat": 4
 },
 "nbformat": 4,
 "nbformat_minor": 2
}
