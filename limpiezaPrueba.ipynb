{
 "cells": [
  {
   "cell_type": "markdown",
   "metadata": {},
   "source": [
    "# Importamos librerias - Creamos el dataframe de pericias"
   ]
  },
  {
   "cell_type": "code",
   "execution_count": 3,
   "metadata": {},
   "outputs": [],
   "source": [
    "import pandas as pd\n",
    "import numpy as np\n",
    "from pprint import pprint\n",
    "\n",
    "df = pd.read_csv('pericias_medicas.csv', sep=',',  encoding='utf-8')\n",
    "#convierte en string los datos de la columna text\n",
    "df = df['text'].apply(str)\n",
    "df1 = df.head(20)"
   ]
  },
  {
   "cell_type": "markdown",
   "metadata": {},
   "source": [
    "## Limpieza de texto"
   ]
  },
  {
   "cell_type": "code",
   "execution_count": 4,
   "metadata": {},
   "outputs": [],
   "source": [
    "# Limpieza de texto\n",
    "# Primera etapa de la limpieza de texto\n",
    "import re, string, unicodedata\n",
    "'''\n",
    "Se hace la eliminacion de texto entre corchetes, acentos, signos de puntuacion (excepto . y :), palabras con numeros.\n",
    "Se eliminan los espacios de sobra\n",
    "Se eliminan \\r, \\t, \\v, \\f, \\a\n",
    "'''\n",
    "def limpiarTexto1(txt: str, bert=False, nums=False) -> str:\n",
    "    \"\"\"\n",
    "    Elimina caracteres no deseados\n",
    "    Params:\n",
    "        **txt**:texto a ser limpiado de caracteres no desaeados\n",
    "    \"\"\"\n",
    "    if nums:\n",
    "        txt = re.sub(r'\\d+', ' ', txt)\n",
    "    if not bert:\n",
    "        txt = txt.translate(str.maketrans(\n",
    "            'áéíóúýàèìòùÁÉÍÓÚÀÈÌÒÙÝ', 'aeiouyaeiouAEIOUAEIOUY'))\n",
    "\n",
    "    '''\n",
    "    Eliminamos caracteres especiales: tabulador orizontal(\\t), tabulador vertical(\\v), \n",
    "    retorno de carro(\\r), avance de pagina(\\f), \n",
    "    caracter de retroceso: Marca el límite de una palabra(\\b), \n",
    "    '''\n",
    "    txt = txt.replace('\\r', ' ').replace(\"\\v\", ' ').replace(\n",
    "        \"\\t\", ' ').replace(\"\\f\", ' ').replace(\"\\a\", ' ').replace(\"\\b\", ' ')\n",
    "    txt = re.sub(' +', ' ', txt)\n",
    "    txt = txt.strip()\n",
    "    return txt\n",
    "df1.apply(str)\n",
    "df1 = df1.apply(limpiarTexto1)\n"
   ]
  },
  {
   "cell_type": "code",
   "execution_count": 5,
   "metadata": {},
   "outputs": [],
   "source": [
    "# Segunda fase de limpieza\n",
    "# Se eliminan todos los elementos que meten ruido al texto y que no fueron eliminados en la fase de limpieza 1.\n",
    "import re\n",
    "\n",
    "def limpiarTexto2(text):\n",
    "    text = re.sub('^ ',' ',text)\n",
    "    text = re.sub('\\n +\\n','\\n',text)\n",
    "    text = re.sub(' +\\n\\n','\\n',text)\n",
    "    text = re.sub('\\n\\n+','\\n',text)\n",
    "    text = re.sub(' \\n','\\n',text)\n",
    "    text = re.sub('\\d\\n','',text)\n",
    "    text = re.sub('\\x0c','',text)\n",
    "    text = re.sub('\\u200b\\n','',text)\n",
    "    text = re.sub('\\d{3,100}','',text)\n",
    "    text = re.sub('\\d+-\\d+','',text)\n",
    "    text = re.sub('\\x0c','',text)\n",
    "    text = re.sub('[nN]º|[nN][. ]º','',text)\n",
    "    text = re.sub('[º<>/]','',text)\n",
    "    text = re.sub('\\d{3,100}','',text)\n",
    "    text = re.sub('[a-zA-z-.]+@[a-zA-Z]+.com','',text)\n",
    "    return text\n",
    "\n",
    "dfLimpio = df1.apply(limpiarTexto2)"
   ]
  },
  {
   "cell_type": "code",
   "execution_count": 6,
   "metadata": {},
   "outputs": [],
   "source": [
    "# Tercera fase de limpieza\n",
    "# Eliminamos las lineas que no son de utilidad para el analisis o que van a afectar los resultados del mismo.\n",
    "# Ejemplo de linea eliminada: las lineas que comienzan con \"Se encuentra contestada en.....\"\n",
    "import re\n",
    "\n",
    "def limpiarTexto3(text):\n",
    "    text = re.sub('[a-z1-9.]+[).-] [s|S]e encuentra contestad[a|o] .+[. \\n]','',text)\n",
    "    text = re.sub('[0-9]+[. ]+[yY]a fue contestado.+[.\\n]','',text)\n",
    "    text = re.sub('[fF]oja [1-9].+\\n', '', text)\n",
    "    text = re.sub('[pP]regunta[ 0-9]+[)].+\\n|[rR]espuesta[ 0-9]+[)].+\\n','',text)#elimina oraciones comenzadas en preguta/respuesta.\n",
    "    return text\n",
    "\n",
    "dfLimpio = dfLimpio.apply(limpiarTexto3)\n",
    "dfLimpio = dfLimpio.apply(limpiarTexto2)"
   ]
  },
  {
   "cell_type": "markdown",
   "metadata": {},
   "source": [
    "# Busqueda de titulos"
   ]
  },
  {
   "cell_type": "code",
   "execution_count": 34,
   "metadata": {},
   "outputs": [],
   "source": [
    "# Busqueda de titulos\n",
    "# Se crea un nuevo dataframe de titulos según distintos criterios\n",
    "\n",
    "# busca titulos que comienzan con numeros romanos\n",
    "def buscarTitulosRomanos(text):\n",
    "    # Expresiones regulares para encontrar los numeros romanos\n",
    "    tituloNroRomano =re.compile(r'(I{1,3}|IV|V|VI{1,3}|IX|X)[-.)][\\w\\s]+[:\\n]')\n",
    "    titulosRomanosEncontrados = []\n",
    "\n",
    "    for m in tituloNroRomano.finditer(text):\n",
    "        titulosRomanosEncontrados.append(m.group())\n",
    "\n",
    "    return titulosRomanosEncontrados\n",
    "\n",
    "# titulosConNroRomano: lista que guarda los titulos que comienzan con numeros romanos   \n",
    "titulosConNroRomano=[]\n",
    "for expediente in dfLimpio:\n",
    "    titulosConNroRomano.append(buscarTitulosRomanos(expediente))\n",
    "\n",
    "#pprint(titulosConNroRomano[9])"
   ]
  },
  {
   "cell_type": "code",
   "execution_count": 35,
   "metadata": {},
   "outputs": [],
   "source": [
    "# Busca titulos que comienzan con numeros latinos\n",
    "def buscarTitulosLatinos(text):\n",
    "    # Expresion regular para encontrar titulos que comienzan con numeros\n",
    "    tituloNroLatino =re.compile(r'[1-9][-.)][\\w\\s]+[:\\n]')\n",
    "    titulosLatinosEncontrados = []\n",
    "\n",
    "    for m in tituloNroLatino.finditer(text):\n",
    "        titulosLatinosEncontrados.append(m.group())\n",
    "\n",
    "    return titulosLatinosEncontrados\n",
    "\n",
    "# titulosConNroLatino: lista que guarda los titulos que comienzan con numeros latinos\n",
    "titulosConNroLatino=[]\n",
    "for expediente in dfLimpio:\n",
    "    titulosConNroLatino.append(buscarTitulosLatinos(expediente))\n",
    "#pprint(titulosConNroLatino[1])"
   ]
  },
  {
   "cell_type": "code",
   "execution_count": 62,
   "metadata": {},
   "outputs": [
    {
     "name": "stdout",
     "output_type": "stream",
     "text": [
      "['I-PROEMIO:',\n",
      " 'V.S.',\n",
      " 'V.S.',\n",
      " 'II-ANTECEDENTES DE INTERES MEDICO-LEGAL:',\n",
      " 'III-EXAMEN FISICO DEL ACTOR:',\n",
      " '5-SEMIOLOGIA DE LAS AFECCIONES:',\n",
      " '2. TOBILLO:',\n",
      " '4. PSICOENTREVISTA:',\n",
      " 'IV-CONSIDERACIONES MEDICO-LEGALES:',\n",
      " 'VII-CONCLUSIONES.',\n",
      " 'I.V.',\n",
      " 'VII-INCAPACIDAD:',\n",
      " 'IX-PETITORIO:',\n",
      " 'V.S.',\n",
      " 'V.S.']\n"
     ]
    }
   ],
   "source": [
    "# Busca titulos en mayusculas\n",
    "def buscarTitulosMayusculas(text):\n",
    "    # Expresion regular para encontrar titulos en mayusculas.\n",
    "    tituloMayusculas =re.compile(r'([1-9]|I{1,3}|IV|V|VI{1,3}|IX|X)[-.)][A-Z -]+[:.\\n]')\n",
    "    titulosMayusculasEncontrados = []\n",
    "\n",
    "    for m in tituloMayusculas.finditer(text):\n",
    "        titulosMayusculasEncontrados.append(m.group())\n",
    "\n",
    "    return titulosMayusculasEncontrados\n",
    "# titulosMAyuscula: lista que guarda los titulos en mayusculas\n",
    "titulosMayusculas=[]\n",
    "for expediente in dfLimpio:\n",
    "    titulosMayusculas.append(buscarTitulosMayusculas(expediente))\n",
    "\n",
    "pprint(titulosMayusculas[0])"
   ]
  },
  {
   "cell_type": "markdown",
   "metadata": {},
   "source": [
    "## Titulos totales"
   ]
  },
  {
   "cell_type": "code",
   "execution_count": 10,
   "metadata": {},
   "outputs": [],
   "source": [
    "# Se crea una nueva lista con todos los titulos del dataframe."
   ]
  },
  {
   "cell_type": "markdown",
   "metadata": {},
   "source": [
    "## Eliminacion de stopwords. Nueva limpieza"
   ]
  },
  {
   "cell_type": "code",
   "execution_count": null,
   "metadata": {},
   "outputs": [],
   "source": [
    "import nltk\n",
    "import re\n",
    "\n",
    "stops = nltk.corpus.stopwords.words('spanish')\n",
    "\n",
    "#elimino stopwords\n",
    "def remove_stops(texto: str) -> str:\n",
    "    \"\"\"\n",
    "    Función que elimina stopwords\n",
    "    Params:\n",
    "        **texto**:texto a ser limpiado de stopwords\n",
    "\n",
    "    \"\"\"\n",
    "    texto = [\n",
    "        i for i in texto.split() if i not in stops\n",
    "    ]\n",
    "    return texto\n",
    "\n",
    "def limpiarTitulos(text):\n",
    "    text = text.lower()\n",
    "    text = re.sub(r'\\n','',text)\n",
    "    text = re.sub(r'[a-z]\\.[a-z]\\.','',text)\n",
    "    text = re.sub(r'(i{2,3}|iv|vi{1,3}|ix)','',text)\n",
    "    text = re.sub(r'\\W',' ',text)    \n",
    "    text = re.sub(r'\\d+','',text)\n",
    "    text = re.sub(r' [a-z] ','',text)\n",
    "    \n",
    "    \n",
    "    return text\n",
    "\n",
    "#eliminos stopwords y hago una ultima limpieza\n",
    "titulosMayusculasStop = limpiarTitulos(str(titulosMayusculas))\n",
    "titulosMayusculasStop = remove_stops(str(titulosMayusculasStop))\n",
    "titulosConNroLatinoStop = limpiarTitulos(str(titulosConNroLatino))\n",
    "titulosConNroLatinoStop = remove_stops(str(titulosConNroLatinoStop))\n",
    "titulosConNroRomanoStop = limpiarTitulos(str(titulosConNroRomano))\n",
    "titulosConNroRomanoStop = remove_stops(str(titulosConNroRomanoStop))\n",
    "pprint(titulosMayusculasStop)"
   ]
  },
  {
   "cell_type": "code",
   "execution_count": null,
   "metadata": {},
   "outputs": [],
   "source": [
    "# crear un df de titulos.\n",
    "import pandas as pd\n",
    "\n",
    "# unifico las listas de titulos con mayuscula, numeros romanos, numeros latinos\n",
    "titulos = list(zip(titulosMayusculasStop, titulosConNroRomanoStop, titulosConNroLatinoStop))\n",
    "# dfTitulos: dataframe de todos los titulos del dataframe original df\n",
    "dfTitulos = pd.DataFrame(titulos, columns=['mayusculas','romanos', 'latinos'])\n",
    "dfTitulos"
   ]
  },
  {
   "cell_type": "code",
   "execution_count": null,
   "metadata": {},
   "outputs": [],
   "source": []
  },
  {
   "cell_type": "markdown",
   "metadata": {},
   "source": [
    "## Creamos un vectorizador para ver las frecuencias de palabras por documento"
   ]
  },
  {
   "cell_type": "code",
   "execution_count": null,
   "metadata": {},
   "outputs": [],
   "source": [
    "from sklearn.feature_extraction.text import TfidfVectorizer\n",
    "from sklearn.cluster import KMeans\n",
    "import numpy as np\n",
    "import pandas as pd\n",
    "\n",
    "vectorizer = TfidfVectorizer(stop_words='spanish')\n",
    "X = vectorizer.fit_transform(titulosMayusculas)"
   ]
  },
  {
   "cell_type": "code",
   "execution_count": null,
   "metadata": {},
   "outputs": [],
   "source": [
    "from sklearn.feature_extraction.text import CountVectorizer \n",
    "\n",
    "documento = titulosMayusculasStop\n",
    "#documento = dfLimpio.apply(str)\n",
    "# crear la transformación  \n",
    "vectorizer = CountVectorizer() \n",
    "# tokenizar y construir el vocabulario\n",
    "vectorizer.fit(documento) \n",
    "  \n",
    "print(\"Vocabulary: \", vectorizer.vocabulary_) \n",
    "# codificador de documentos\n",
    "vector = vectorizer.transform(documento) \n",
    "\n",
    "# resumir vector codificado\n",
    "#print(\"El documento codificado es:\") \n",
    "#print(vector.shape)\n",
    "#print(type(vector))\n",
    "#print(vector.toarray())"
   ]
  }
 ],
 "metadata": {
  "interpreter": {
   "hash": "8f7c04c36d0b751253b9619efb75c537c6c26f8df6c81e91ba988c38192421cc"
  },
  "kernelspec": {
   "display_name": "Python 3.9.5 64-bit",
   "language": "python",
   "name": "python3"
  },
  "language_info": {
   "codemirror_mode": {
    "name": "ipython",
    "version": 3
   },
   "file_extension": ".py",
   "mimetype": "text/x-python",
   "name": "python",
   "nbconvert_exporter": "python",
   "pygments_lexer": "ipython3",
   "version": "3.9.5"
  },
  "orig_nbformat": 4
 },
 "nbformat": 4,
 "nbformat_minor": 2
}
