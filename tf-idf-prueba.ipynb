{
 "cells": [
  {
   "cell_type": "markdown",
   "metadata": {},
   "source": [
    "# Vectorizacion de texto"
   ]
  },
  {
   "cell_type": "markdown",
   "metadata": {},
   "source": [
    "# MODELO 1."
   ]
  },
  {
   "cell_type": "code",
   "execution_count": 1,
   "metadata": {},
   "outputs": [],
   "source": [
    "#  TOPIC MODELING\n",
    "import pandas as pd\n",
    "from sklearn.feature_extraction.text import TfidfVectorizer\n",
    "from sklearn.cluster import KMeans\n",
    "from sklearn.metrics import adjusted_rand_score\n",
    "import string\n",
    "from nltk.corpus import stopwords\n",
    "import json\n",
    "import glob\n",
    "import re\n",
    "\n",
    "def load_data(file):\n",
    "    with open (file, \"r\", encoding=\"utf-8\") as f:\n",
    "        data = pd.read_csv(f)\n",
    "    return (data)\n",
    "\n",
    "def write_data(file, data):\n",
    "    with open (file, \"w\", encoding=\"utf-8\") as f:\n",
    "        json.dump(data, f, indent=4)\n"
   ]
  },
  {
   "cell_type": "code",
   "execution_count": 2,
   "metadata": {},
   "outputs": [],
   "source": [
    "def remove_stops(text, stops):\n",
    "    text = re.sub(r'(I{1,3}|IV|V|VI{1,3}|IX|X)[-.) ]+','',text)\n",
    "    text = re.sub(r'[^\\w\\s -]','',text)\n",
    "    text = re.sub(r'-',' ',text)\n",
    "    text = text.lower()\n",
    "    words = text.split()\n",
    "    final = []\n",
    "    for word in words:\n",
    "        if word not in stops:\n",
    "            final.append(word)\n",
    "    final = \" \".join(final)\n",
    "    final = final.translate(str.maketrans(\"\", \"\", string.punctuation))\n",
    "    final = \"\".join([i for i in final if not i.isdigit()])\n",
    "    while \"  \" in final:\n",
    "        final = final.replace(\"  \", \" \")\n",
    "    return (final)\n",
    "\n",
    "def clean_docs(docs):\n",
    "    stops = stopwords.words(\"spanish\")\n",
    "    final = []\n",
    "    for doc in docs:\n",
    "        #clean_doc = remove_stops(doc, stops)\n",
    "        final.append(doc)\n",
    "    return (final)"
   ]
  },
  {
   "cell_type": "code",
   "execution_count": 22,
   "metadata": {},
   "outputs": [],
   "source": [
    "encontrado = load_data(\"titulosEncontrados.csv\")\n",
    "candidato = load_data(\"titulosCandidatos.csv\")\n",
    "# print (descriptions[0])\n",
    "candidato = candidato.dropna()\n",
    "encontrado = encontrado.dropna()\n",
    "titEncontrado = clean_docs(encontrado['titulo'])\n",
    "titCandidato = clean_docs(candidato['titulo'])\n",
    "# print (cleaned_docs[0])\n"
   ]
  },
  {
   "cell_type": "code",
   "execution_count": 25,
   "metadata": {},
   "outputs": [],
   "source": [
    "dfTitCandidato = pd.read_csv('df_titulosCandidatos.csv', sep=',',  encoding='utf-8')\n",
    "dfTitEncontrado = pd.read_csv('df_titulosEncontrados.csv', sep=',',  encoding='utf-8')"
   ]
  },
  {
   "cell_type": "code",
   "execution_count": 4,
   "metadata": {},
   "outputs": [],
   "source": [
    "stops = stopwords.words(\"spanish\")\n",
    "\n",
    "vectorizer = TfidfVectorizer(\n",
    "                                lowercase=False,\n",
    "                                use_idf=True,\n",
    "                                max_features=20000,\n",
    "                                max_df=0.99,\n",
    "                                min_df=50,\n",
    "                                ngram_range = (1,3),\n",
    "                                stop_words = stops\n",
    "                                \n",
    "\n",
    "                            )\n",
    "\n",
    "vectorizer.fit(titEncontrado)\n",
    "vectorsCandidatos = vectorizer.transform(titCandidato)\n",
    "vectorsEncontrado = vectorizer.transform(titEncontrado)\n",
    "feature_names = vectorizer.get_feature_names_out()\n",
    "\n",
    "\n"
   ]
  },
  {
   "cell_type": "code",
   "execution_count": 5,
   "metadata": {},
   "outputs": [],
   "source": [
    "from sklearn.metrics.pairwise import cosine_similarity\n",
    "dist = cosine_similarity(vectorsCandidatos, vectorsEncontrado)"
   ]
  },
  {
   "cell_type": "code",
   "execution_count": 6,
   "metadata": {},
   "outputs": [
    {
     "data": {
      "text/plain": [
       "(13413, 5390)"
      ]
     },
     "execution_count": 6,
     "metadata": {},
     "output_type": "execute_result"
    }
   ],
   "source": [
    "dist.shape"
   ]
  },
  {
   "cell_type": "code",
   "execution_count": 7,
   "metadata": {},
   "outputs": [],
   "source": [
    "import seaborn as sns\n",
    "import numpy as np\n",
    "\n",
    "result = np.where(dist > 0.8)  #buscar como se utiliza\n"
   ]
  },
  {
   "cell_type": "code",
   "execution_count": 8,
   "metadata": {},
   "outputs": [],
   "source": [
    "#sns.heatmap(htm)"
   ]
  },
  {
   "cell_type": "code",
   "execution_count": 9,
   "metadata": {},
   "outputs": [
    {
     "data": {
      "text/plain": [
       "array([[0.        , 0.20939011, 0.        , ..., 0.        , 0.        ,\n",
       "        0.24865957],\n",
       "       [0.        , 0.        , 0.89997961, ..., 0.        , 0.        ,\n",
       "        0.        ],\n",
       "       [0.        , 0.        , 0.42124112, ..., 0.        , 0.        ,\n",
       "        0.        ],\n",
       "       ...,\n",
       "       [0.        , 0.        , 0.        , ..., 0.        , 0.        ,\n",
       "        0.        ],\n",
       "       [0.        , 0.        , 0.        , ..., 0.        , 0.        ,\n",
       "        0.        ],\n",
       "       [0.        , 0.        , 0.        , ..., 0.        , 0.        ,\n",
       "        0.18236778]])"
      ]
     },
     "execution_count": 9,
     "metadata": {},
     "output_type": "execute_result"
    }
   ],
   "source": [
    "dist"
   ]
  },
  {
   "cell_type": "code",
   "execution_count": 10,
   "metadata": {},
   "outputs": [],
   "source": [
    "true_k = 20\n",
    "\n",
    "model = KMeans(n_clusters=true_k, init=\"k-means++\", max_iter=100, n_init=1)\n",
    "\n",
    "model.fit(vectorsEncontrado)\n",
    "\n",
    "order_centroids = model.cluster_centers_.argsort()[:, ::-1]\n",
    "terms = vectorizer.get_feature_names_out()\n",
    "\n",
    "with open (\"clusters_results.txt\", \"w\", encoding=\"utf-8\") as f:\n",
    "    for i in range(true_k):\n",
    "        f.write(f\"Cluster {i}\")\n",
    "        f.write(\"\\n\")\n",
    "        for ind in order_centroids[i, :10]:\n",
    "            f.write (' %s' % terms[ind],)\n",
    "            f.write(\"\\n\")\n",
    "        f.write(\"\\n\")\n",
    "        f.write(\"\\n\")"
   ]
  },
  {
   "cell_type": "code",
   "execution_count": 11,
   "metadata": {},
   "outputs": [],
   "source": [
    "#terms"
   ]
  },
  {
   "cell_type": "code",
   "execution_count": 21,
   "metadata": {},
   "outputs": [
    {
     "data": {
      "text/plain": [
       "'remito conclusiones medicolegales'"
      ]
     },
     "execution_count": 21,
     "metadata": {},
     "output_type": "execute_result"
    }
   ],
   "source": []
  },
  {
   "cell_type": "markdown",
   "metadata": {},
   "source": [
    "## CountVectorizer"
   ]
  },
  {
   "cell_type": "code",
   "execution_count": 13,
   "metadata": {},
   "outputs": [
    {
     "data": {
      "text/html": [
       "<div>\n",
       "<style scoped>\n",
       "    .dataframe tbody tr th:only-of-type {\n",
       "        vertical-align: middle;\n",
       "    }\n",
       "\n",
       "    .dataframe tbody tr th {\n",
       "        vertical-align: top;\n",
       "    }\n",
       "\n",
       "    .dataframe thead th {\n",
       "        text-align: right;\n",
       "    }\n",
       "</style>\n",
       "<table border=\"1\" class=\"dataframe\">\n",
       "  <thead>\n",
       "    <tr style=\"text-align: right;\">\n",
       "      <th></th>\n",
       "      <th>actor</th>\n",
       "      <th>antecedentes</th>\n",
       "      <th>antecedentes autos</th>\n",
       "      <th>autos</th>\n",
       "      <th>clinica</th>\n",
       "      <th>conclusiones</th>\n",
       "      <th>consideraciones</th>\n",
       "      <th>consideraciones medico</th>\n",
       "      <th>consideraciones medico legales</th>\n",
       "      <th>contestacion</th>\n",
       "      <th>...</th>\n",
       "      <th>interes medico</th>\n",
       "      <th>legal</th>\n",
       "      <th>legales</th>\n",
       "      <th>medico</th>\n",
       "      <th>medico legal</th>\n",
       "      <th>medico legales</th>\n",
       "      <th>pericia</th>\n",
       "      <th>petitorio</th>\n",
       "      <th>puntos</th>\n",
       "      <th>puntos pericia</th>\n",
       "    </tr>\n",
       "  </thead>\n",
       "  <tbody>\n",
       "    <tr>\n",
       "      <th>0</th>\n",
       "      <td>0</td>\n",
       "      <td>0</td>\n",
       "      <td>0</td>\n",
       "      <td>0</td>\n",
       "      <td>0</td>\n",
       "      <td>0</td>\n",
       "      <td>0</td>\n",
       "      <td>0</td>\n",
       "      <td>0</td>\n",
       "      <td>0</td>\n",
       "      <td>...</td>\n",
       "      <td>0</td>\n",
       "      <td>0</td>\n",
       "      <td>0</td>\n",
       "      <td>0</td>\n",
       "      <td>0</td>\n",
       "      <td>0</td>\n",
       "      <td>0</td>\n",
       "      <td>0</td>\n",
       "      <td>0</td>\n",
       "      <td>0</td>\n",
       "    </tr>\n",
       "    <tr>\n",
       "      <th>1</th>\n",
       "      <td>0</td>\n",
       "      <td>1</td>\n",
       "      <td>0</td>\n",
       "      <td>0</td>\n",
       "      <td>0</td>\n",
       "      <td>0</td>\n",
       "      <td>0</td>\n",
       "      <td>0</td>\n",
       "      <td>0</td>\n",
       "      <td>0</td>\n",
       "      <td>...</td>\n",
       "      <td>1</td>\n",
       "      <td>1</td>\n",
       "      <td>0</td>\n",
       "      <td>1</td>\n",
       "      <td>1</td>\n",
       "      <td>0</td>\n",
       "      <td>0</td>\n",
       "      <td>0</td>\n",
       "      <td>0</td>\n",
       "      <td>0</td>\n",
       "    </tr>\n",
       "    <tr>\n",
       "      <th>2</th>\n",
       "      <td>1</td>\n",
       "      <td>0</td>\n",
       "      <td>0</td>\n",
       "      <td>0</td>\n",
       "      <td>0</td>\n",
       "      <td>0</td>\n",
       "      <td>0</td>\n",
       "      <td>0</td>\n",
       "      <td>0</td>\n",
       "      <td>0</td>\n",
       "      <td>...</td>\n",
       "      <td>0</td>\n",
       "      <td>0</td>\n",
       "      <td>0</td>\n",
       "      <td>0</td>\n",
       "      <td>0</td>\n",
       "      <td>0</td>\n",
       "      <td>0</td>\n",
       "      <td>0</td>\n",
       "      <td>0</td>\n",
       "      <td>0</td>\n",
       "    </tr>\n",
       "    <tr>\n",
       "      <th>3</th>\n",
       "      <td>0</td>\n",
       "      <td>0</td>\n",
       "      <td>0</td>\n",
       "      <td>0</td>\n",
       "      <td>0</td>\n",
       "      <td>0</td>\n",
       "      <td>1</td>\n",
       "      <td>1</td>\n",
       "      <td>1</td>\n",
       "      <td>0</td>\n",
       "      <td>...</td>\n",
       "      <td>0</td>\n",
       "      <td>0</td>\n",
       "      <td>1</td>\n",
       "      <td>1</td>\n",
       "      <td>0</td>\n",
       "      <td>1</td>\n",
       "      <td>0</td>\n",
       "      <td>0</td>\n",
       "      <td>0</td>\n",
       "      <td>0</td>\n",
       "    </tr>\n",
       "    <tr>\n",
       "      <th>4</th>\n",
       "      <td>0</td>\n",
       "      <td>0</td>\n",
       "      <td>0</td>\n",
       "      <td>0</td>\n",
       "      <td>0</td>\n",
       "      <td>1</td>\n",
       "      <td>0</td>\n",
       "      <td>0</td>\n",
       "      <td>0</td>\n",
       "      <td>0</td>\n",
       "      <td>...</td>\n",
       "      <td>0</td>\n",
       "      <td>0</td>\n",
       "      <td>0</td>\n",
       "      <td>0</td>\n",
       "      <td>0</td>\n",
       "      <td>0</td>\n",
       "      <td>0</td>\n",
       "      <td>0</td>\n",
       "      <td>0</td>\n",
       "      <td>0</td>\n",
       "    </tr>\n",
       "    <tr>\n",
       "      <th>...</th>\n",
       "      <td>...</td>\n",
       "      <td>...</td>\n",
       "      <td>...</td>\n",
       "      <td>...</td>\n",
       "      <td>...</td>\n",
       "      <td>...</td>\n",
       "      <td>...</td>\n",
       "      <td>...</td>\n",
       "      <td>...</td>\n",
       "      <td>...</td>\n",
       "      <td>...</td>\n",
       "      <td>...</td>\n",
       "      <td>...</td>\n",
       "      <td>...</td>\n",
       "      <td>...</td>\n",
       "      <td>...</td>\n",
       "      <td>...</td>\n",
       "      <td>...</td>\n",
       "      <td>...</td>\n",
       "      <td>...</td>\n",
       "      <td>...</td>\n",
       "    </tr>\n",
       "    <tr>\n",
       "      <th>5385</th>\n",
       "      <td>0</td>\n",
       "      <td>0</td>\n",
       "      <td>0</td>\n",
       "      <td>0</td>\n",
       "      <td>0</td>\n",
       "      <td>0</td>\n",
       "      <td>0</td>\n",
       "      <td>0</td>\n",
       "      <td>0</td>\n",
       "      <td>0</td>\n",
       "      <td>...</td>\n",
       "      <td>0</td>\n",
       "      <td>0</td>\n",
       "      <td>0</td>\n",
       "      <td>0</td>\n",
       "      <td>0</td>\n",
       "      <td>0</td>\n",
       "      <td>0</td>\n",
       "      <td>1</td>\n",
       "      <td>0</td>\n",
       "      <td>0</td>\n",
       "    </tr>\n",
       "    <tr>\n",
       "      <th>5386</th>\n",
       "      <td>0</td>\n",
       "      <td>0</td>\n",
       "      <td>0</td>\n",
       "      <td>0</td>\n",
       "      <td>1</td>\n",
       "      <td>0</td>\n",
       "      <td>0</td>\n",
       "      <td>0</td>\n",
       "      <td>0</td>\n",
       "      <td>0</td>\n",
       "      <td>...</td>\n",
       "      <td>0</td>\n",
       "      <td>0</td>\n",
       "      <td>0</td>\n",
       "      <td>0</td>\n",
       "      <td>0</td>\n",
       "      <td>0</td>\n",
       "      <td>0</td>\n",
       "      <td>0</td>\n",
       "      <td>0</td>\n",
       "      <td>0</td>\n",
       "    </tr>\n",
       "    <tr>\n",
       "      <th>5387</th>\n",
       "      <td>0</td>\n",
       "      <td>0</td>\n",
       "      <td>0</td>\n",
       "      <td>0</td>\n",
       "      <td>0</td>\n",
       "      <td>0</td>\n",
       "      <td>0</td>\n",
       "      <td>0</td>\n",
       "      <td>0</td>\n",
       "      <td>0</td>\n",
       "      <td>...</td>\n",
       "      <td>0</td>\n",
       "      <td>0</td>\n",
       "      <td>0</td>\n",
       "      <td>0</td>\n",
       "      <td>0</td>\n",
       "      <td>0</td>\n",
       "      <td>0</td>\n",
       "      <td>0</td>\n",
       "      <td>0</td>\n",
       "      <td>0</td>\n",
       "    </tr>\n",
       "    <tr>\n",
       "      <th>5388</th>\n",
       "      <td>0</td>\n",
       "      <td>0</td>\n",
       "      <td>0</td>\n",
       "      <td>0</td>\n",
       "      <td>0</td>\n",
       "      <td>0</td>\n",
       "      <td>0</td>\n",
       "      <td>0</td>\n",
       "      <td>0</td>\n",
       "      <td>0</td>\n",
       "      <td>...</td>\n",
       "      <td>0</td>\n",
       "      <td>0</td>\n",
       "      <td>0</td>\n",
       "      <td>0</td>\n",
       "      <td>0</td>\n",
       "      <td>0</td>\n",
       "      <td>0</td>\n",
       "      <td>0</td>\n",
       "      <td>1</td>\n",
       "      <td>0</td>\n",
       "    </tr>\n",
       "    <tr>\n",
       "      <th>5389</th>\n",
       "      <td>0</td>\n",
       "      <td>0</td>\n",
       "      <td>0</td>\n",
       "      <td>0</td>\n",
       "      <td>0</td>\n",
       "      <td>1</td>\n",
       "      <td>1</td>\n",
       "      <td>0</td>\n",
       "      <td>0</td>\n",
       "      <td>0</td>\n",
       "      <td>...</td>\n",
       "      <td>0</td>\n",
       "      <td>0</td>\n",
       "      <td>1</td>\n",
       "      <td>1</td>\n",
       "      <td>0</td>\n",
       "      <td>1</td>\n",
       "      <td>0</td>\n",
       "      <td>0</td>\n",
       "      <td>0</td>\n",
       "      <td>0</td>\n",
       "    </tr>\n",
       "  </tbody>\n",
       "</table>\n",
       "<p>5390 rows × 25 columns</p>\n",
       "</div>"
      ],
      "text/plain": [
       "      actor  antecedentes  antecedentes autos  autos  clinica  conclusiones  \\\n",
       "0         0             0                   0      0        0             0   \n",
       "1         0             1                   0      0        0             0   \n",
       "2         1             0                   0      0        0             0   \n",
       "3         0             0                   0      0        0             0   \n",
       "4         0             0                   0      0        0             1   \n",
       "...     ...           ...                 ...    ...      ...           ...   \n",
       "5385      0             0                   0      0        0             0   \n",
       "5386      0             0                   0      0        1             0   \n",
       "5387      0             0                   0      0        0             0   \n",
       "5388      0             0                   0      0        0             0   \n",
       "5389      0             0                   0      0        0             1   \n",
       "\n",
       "      consideraciones  consideraciones medico  consideraciones medico legales  \\\n",
       "0                   0                       0                               0   \n",
       "1                   0                       0                               0   \n",
       "2                   0                       0                               0   \n",
       "3                   1                       1                               1   \n",
       "4                   0                       0                               0   \n",
       "...               ...                     ...                             ...   \n",
       "5385                0                       0                               0   \n",
       "5386                0                       0                               0   \n",
       "5387                0                       0                               0   \n",
       "5388                0                       0                               0   \n",
       "5389                1                       0                               0   \n",
       "\n",
       "      contestacion  ...  interes medico  legal  legales  medico  medico legal  \\\n",
       "0                0  ...               0      0        0       0             0   \n",
       "1                0  ...               1      1        0       1             1   \n",
       "2                0  ...               0      0        0       0             0   \n",
       "3                0  ...               0      0        1       1             0   \n",
       "4                0  ...               0      0        0       0             0   \n",
       "...            ...  ...             ...    ...      ...     ...           ...   \n",
       "5385             0  ...               0      0        0       0             0   \n",
       "5386             0  ...               0      0        0       0             0   \n",
       "5387             0  ...               0      0        0       0             0   \n",
       "5388             0  ...               0      0        0       0             0   \n",
       "5389             0  ...               0      0        1       1             0   \n",
       "\n",
       "      medico legales  pericia  petitorio  puntos  puntos pericia  \n",
       "0                  0        0          0       0               0  \n",
       "1                  0        0          0       0               0  \n",
       "2                  0        0          0       0               0  \n",
       "3                  1        0          0       0               0  \n",
       "4                  0        0          0       0               0  \n",
       "...              ...      ...        ...     ...             ...  \n",
       "5385               0        0          1       0               0  \n",
       "5386               0        0          0       0               0  \n",
       "5387               0        0          0       0               0  \n",
       "5388               0        0          0       1               0  \n",
       "5389               1        0          0       0               0  \n",
       "\n",
       "[5390 rows x 25 columns]"
      ]
     },
     "execution_count": 13,
     "metadata": {},
     "output_type": "execute_result"
    }
   ],
   "source": [
    "import pandas as pd\n",
    "from sklearn.feature_extraction.text import CountVectorizer\n",
    "\n",
    "encontrado = load_data(\"titulosEncontrados.csv\")['titulo']\n",
    "coun_vect = CountVectorizer(ngram_range=(1,3),max_features = 25)\n",
    "coun_vect.fit(titEncontrado)\n",
    "count_candidatos = coun_vect.transform(titCandidato)\n",
    "count_encontrados = coun_vect.transform(titEncontrado)\n",
    "count_array = count_encontrados.toarray()\n",
    "dfCountVec = pd.DataFrame(data=count_array,columns = coun_vect.get_feature_names_out())\n",
    "dfCountVec"
   ]
  },
  {
   "cell_type": "code",
   "execution_count": 14,
   "metadata": {},
   "outputs": [
    {
     "name": "stdout",
     "output_type": "stream",
     "text": [
      "{'antecedentes': 1, 'interes': 14, 'medico': 18, 'legal': 16, 'interes medico': 15, 'medico legal': 19, 'examen': 11, 'actor': 0, 'consideraciones': 6, 'legales': 17, 'consideraciones medico': 7, 'medico legales': 20, 'consideraciones medico legales': 8, 'conclusiones': 5, 'contestacion': 9, 'puntos': 23, 'pericia': 21, 'contestacion puntos': 10, 'puntos pericia': 24, 'petitorio': 22, 'autos': 3, 'historia': 12, 'clinica': 4, 'historia clinica': 13, 'antecedentes autos': 2}\n"
     ]
    }
   ],
   "source": [
    "print(coun_vect.vocabulary_)"
   ]
  },
  {
   "cell_type": "code",
   "execution_count": 15,
   "metadata": {},
   "outputs": [
    {
     "name": "stdout",
     "output_type": "stream",
     "text": [
      "['actor' 'antecedentes' 'antecedentes autos' 'autos' 'clinica'\n",
      " 'conclusiones' 'consideraciones' 'consideraciones medico'\n",
      " 'consideraciones medico legales' 'contestacion' 'contestacion puntos'\n",
      " 'examen' 'historia' 'historia clinica' 'interes' 'interes medico' 'legal'\n",
      " 'legales' 'medico' 'medico legal' 'medico legales' 'pericia' 'petitorio'\n",
      " 'puntos' 'puntos pericia']\n"
     ]
    }
   ],
   "source": [
    "print(coun_vect.get_feature_names_out())"
   ]
  },
  {
   "cell_type": "code",
   "execution_count": 16,
   "metadata": {},
   "outputs": [
    {
     "data": {
      "text/plain": [
       "array(['actor', 'antecedentes', 'antecedentes autos', 'autos', 'clinica',\n",
       "       'conclusiones', 'consideraciones', 'consideraciones medico',\n",
       "       'consideraciones medico legales', 'contestacion',\n",
       "       'contestacion puntos', 'examen', 'historia', 'historia clinica',\n",
       "       'interes', 'interes medico', 'legal', 'legales', 'medico',\n",
       "       'medico legal', 'medico legales', 'pericia', 'petitorio', 'puntos',\n",
       "       'puntos pericia'], dtype=object)"
      ]
     },
     "execution_count": 16,
     "metadata": {},
     "output_type": "execute_result"
    }
   ],
   "source": [
    "coun_vect.get_feature_names_out()"
   ]
  },
  {
   "cell_type": "code",
   "execution_count": 17,
   "metadata": {},
   "outputs": [],
   "source": [
    "from sklearn.metrics.pairwise import cosine_similarity\n",
    "dist = cosine_similarity(count_candidatos, count_encontrados)"
   ]
  },
  {
   "cell_type": "code",
   "execution_count": 18,
   "metadata": {},
   "outputs": [
    {
     "data": {
      "text/plain": [
       "(13413, 5390)"
      ]
     },
     "execution_count": 18,
     "metadata": {},
     "output_type": "execute_result"
    }
   ],
   "source": [
    "dist.shape"
   ]
  },
  {
   "cell_type": "code",
   "execution_count": null,
   "metadata": {},
   "outputs": [],
   "source": [
    "candidatoEncontrado = []\n",
    "for titulo in titEncontrado:\n",
    "    for candidato in titCandidato:\n",
    "        if titulo == candidato:\n",
    "            candidatoEncontrado.append(candidato)"
   ]
  },
  {
   "cell_type": "code",
   "execution_count": 42,
   "metadata": {},
   "outputs": [],
   "source": [
    "candidatoEncontrado = []\n",
    "for i in range(len(dfTitEncontrado)):\n",
    "    titEncontrado = dfTitEncontrado.titulo[i]\n",
    "    for j in range(len(dfTitCandidato)):\n",
    "        if titEncontrado == dfTitCandidato.titulo[j]:\n",
    "            id = dfTitCandidato.id[j]\n",
    "            tituloCandidato = dfTitCandidato.titulo[j]\n",
    "            candidatoEncontrado.append((id, tituloCandidato))"
   ]
  },
  {
   "cell_type": "code",
   "execution_count": 50,
   "metadata": {},
   "outputs": [],
   "source": [
    "df_candidatoEncontrado = pd.DataFrame(candidatoEncontrado, columns=['id','titulo'])"
   ]
  },
  {
   "cell_type": "code",
   "execution_count": 52,
   "metadata": {},
   "outputs": [],
   "source": [
    "#df_candidatoEncontrado.to_csv('df_candidatoEncontrado.csv', index=False)\n",
    "#df_candidatoEncontrado.to_excel('df_candidatoEncontrado.xlsx', index=False)"
   ]
  },
  {
   "cell_type": "code",
   "execution_count": null,
   "metadata": {},
   "outputs": [],
   "source": []
  }
 ],
 "metadata": {
  "kernelspec": {
   "display_name": "Python 3.9.5 ('proyecto-env')",
   "language": "python",
   "name": "python3"
  },
  "language_info": {
   "codemirror_mode": {
    "name": "ipython",
    "version": 3
   },
   "file_extension": ".py",
   "mimetype": "text/x-python",
   "name": "python",
   "nbconvert_exporter": "python",
   "pygments_lexer": "ipython3",
   "version": "3.9.5"
  },
  "orig_nbformat": 4,
  "vscode": {
   "interpreter": {
    "hash": "009f8d941f1a5e5fa5c53bd1fe1f1a27e75894b84557fa679569ec42254b5e02"
   }
  }
 },
 "nbformat": 4,
 "nbformat_minor": 2
}
