{
 "cells": [
  {
   "cell_type": "markdown",
   "metadata": {},
   "source": [
    "# Vectorizacion de texto"
   ]
  },
  {
   "cell_type": "markdown",
   "metadata": {},
   "source": [
    "# Funciones de limpieza"
   ]
  },
  {
   "cell_type": "code",
   "execution_count": 1,
   "metadata": {},
   "outputs": [],
   "source": [
    "# Importo las librerias necesarias\n",
    "import pandas as pd\n",
    "from sklearn.feature_extraction.text import TfidfVectorizer\n",
    "from sklearn.cluster import KMeans\n",
    "from sklearn.metrics import adjusted_rand_score\n",
    "import string\n",
    "from nltk.corpus import stopwords\n",
    "import json\n",
    "import glob\n",
    "import re\n",
    "from pprint import pprint"
   ]
  },
  {
   "cell_type": "code",
   "execution_count": 2,
   "metadata": {},
   "outputs": [],
   "source": [
    "# Funciones de limpieza de títulos\n",
    "\n",
    "def remove_stops(text, stops):\n",
    "    text = re.sub(r'(I{1,3}|IV|V|VI{1,3}|IX|X)[-.) ]+','',text)\n",
    "    text = re.sub(r'[^\\w\\s -]','',text)\n",
    "    text = re.sub(r'-',' ',text)\n",
    "    text = text.lower()\n",
    "    words = text.split()\n",
    "    final = []\n",
    "    for word in words:\n",
    "        if word not in stops:\n",
    "            final.append(word)\n",
    "    final = \" \".join(final)\n",
    "    final = final.translate(str.maketrans(\"\", \"\", string.punctuation))\n",
    "    final = \"\".join([i for i in final if not i.isdigit()])\n",
    "    while \"  \" in final:\n",
    "        final = final.replace(\"  \", \" \")\n",
    "    return (final)\n",
    "\n",
    "def clean_docs(docs):\n",
    "    stops = stopwords.words(\"spanish\")\n",
    "    final = []\n",
    "    for doc in docs:\n",
    "        #clean_doc = remove_stops(doc, stops)\n",
    "        final.append(doc)\n",
    "    return (final)"
   ]
  },
  {
   "cell_type": "markdown",
   "metadata": {},
   "source": [
    "# Creo las variables con titulos candidatos y encontrados."
   ]
  },
  {
   "cell_type": "code",
   "execution_count": 3,
   "metadata": {},
   "outputs": [],
   "source": [
    "# Creo las variables con titulos candidatos y encontrados.\n",
    "\n",
    "encontrado = pd.read_csv(\"titulosEncontrados.csv\", sep=',',  encoding='utf-8')\n",
    "candidato = pd.read_csv(\"titulosCandidatos.csv\", sep=',',  encoding='utf-8')\n",
    "candidato = candidato.dropna()\n",
    "encontrado = encontrado.dropna()\n",
    "titEncontrado = clean_docs(encontrado['titulo'])\n",
    "titCandidato = clean_docs(candidato['titulo'])"
   ]
  },
  {
   "cell_type": "code",
   "execution_count": 4,
   "metadata": {},
   "outputs": [],
   "source": [
    "# Creo las variables que contienen los dataframes de titulos candidatos y encontrados.\n",
    "dfTitCandidato = pd.read_csv('df_titulosCandidatos.csv', sep=',',  encoding='utf-8')\n",
    "dfTitEncontrado = pd.read_csv('df_titulosEncontrados.csv', sep=',',  encoding='utf-8')\n",
    "dfExpTitulosCandidatos = pd.read_csv('df_ExpTitulosCandidatos.csv', sep=',',  encoding='utf-8')"
   ]
  },
  {
   "cell_type": "markdown",
   "metadata": {},
   "source": [
    "# TF_IDF"
   ]
  },
  {
   "cell_type": "code",
   "execution_count": 5,
   "metadata": {},
   "outputs": [],
   "source": [
    "stops = stopwords.words(\"spanish\")\n",
    "# Creo el vectorizador tf-idf de titulos encontrados y transformo titulos candidatos y encontrados\n",
    "vectorizer = TfidfVectorizer(\n",
    "                                lowercase=False,\n",
    "                                use_idf=True,\n",
    "                                max_features=20000,\n",
    "                                max_df=0.99,\n",
    "                                min_df=50,\n",
    "                                ngram_range = (1,3),\n",
    "                                stop_words = stops\n",
    "                            )\n",
    "\n",
    "vectorizer.fit(titEncontrado)\n",
    "vectorsCandidatos = vectorizer.transform(titCandidato)\n",
    "vectorsEncontrado = vectorizer.transform(titEncontrado)\n",
    "feature_names = vectorizer.get_feature_names_out()"
   ]
  },
  {
   "cell_type": "code",
   "execution_count": 6,
   "metadata": {},
   "outputs": [],
   "source": [
    "from sklearn.metrics.pairwise import cosine_similarity\n",
    "dist = cosine_similarity(vectorsCandidatos, vectorsEncontrado)"
   ]
  },
  {
   "cell_type": "code",
   "execution_count": 7,
   "metadata": {},
   "outputs": [],
   "source": [
    "# TOPIC MODELING - K-MEANS\n",
    "true_k = 20\n",
    "\n",
    "model = KMeans(n_clusters=true_k, init=\"k-means++\", max_iter=100, n_init=1)\n",
    "\n",
    "model.fit(vectorsEncontrado)\n",
    "\n",
    "order_centroids = model.cluster_centers_.argsort()[:, ::-1]\n",
    "terms = vectorizer.get_feature_names_out()\n",
    "\n",
    "with open (\"clusters_results.txt\", \"w\", encoding=\"utf-8\") as f:\n",
    "    for i in range(true_k):\n",
    "        f.write(f\"Cluster {i}\")\n",
    "        f.write(\"\\n\")\n",
    "        for ind in order_centroids[i, :10]:\n",
    "            f.write (' %s' % terms[ind],)\n",
    "            f.write(\"\\n\")\n",
    "        f.write(\"\\n\")\n",
    "        f.write(\"\\n\")"
   ]
  },
  {
   "cell_type": "markdown",
   "metadata": {},
   "source": [
    "# CountVectorizer"
   ]
  },
  {
   "cell_type": "code",
   "execution_count": 8,
   "metadata": {},
   "outputs": [
    {
     "data": {
      "text/html": [
       "<div>\n",
       "<style scoped>\n",
       "    .dataframe tbody tr th:only-of-type {\n",
       "        vertical-align: middle;\n",
       "    }\n",
       "\n",
       "    .dataframe tbody tr th {\n",
       "        vertical-align: top;\n",
       "    }\n",
       "\n",
       "    .dataframe thead th {\n",
       "        text-align: right;\n",
       "    }\n",
       "</style>\n",
       "<table border=\"1\" class=\"dataframe\">\n",
       "  <thead>\n",
       "    <tr style=\"text-align: right;\">\n",
       "      <th></th>\n",
       "      <th></th>\n",
       "      <th>a</th>\n",
       "      <th>ac</th>\n",
       "      <th>au</th>\n",
       "      <th>c</th>\n",
       "      <th>cl</th>\n",
       "      <th>co</th>\n",
       "      <th>d</th>\n",
       "      <th>f</th>\n",
       "      <th>i</th>\n",
       "      <th>...</th>\n",
       "      <th>us</th>\n",
       "      <th>usi</th>\n",
       "      <th>ut</th>\n",
       "      <th>uto</th>\n",
       "      <th>v</th>\n",
       "      <th>va</th>\n",
       "      <th>vi</th>\n",
       "      <th>x</th>\n",
       "      <th>xa</th>\n",
       "      <th>xam</th>\n",
       "    </tr>\n",
       "  </thead>\n",
       "  <tbody>\n",
       "    <tr>\n",
       "      <th>0</th>\n",
       "      <td>3</td>\n",
       "      <td>0</td>\n",
       "      <td>0</td>\n",
       "      <td>0</td>\n",
       "      <td>0</td>\n",
       "      <td>0</td>\n",
       "      <td>0</td>\n",
       "      <td>0</td>\n",
       "      <td>0</td>\n",
       "      <td>1</td>\n",
       "      <td>...</td>\n",
       "      <td>0</td>\n",
       "      <td>0</td>\n",
       "      <td>0</td>\n",
       "      <td>0</td>\n",
       "      <td>0</td>\n",
       "      <td>0</td>\n",
       "      <td>0</td>\n",
       "      <td>0</td>\n",
       "      <td>0</td>\n",
       "      <td>0</td>\n",
       "    </tr>\n",
       "    <tr>\n",
       "      <th>1</th>\n",
       "      <td>1</td>\n",
       "      <td>0</td>\n",
       "      <td>0</td>\n",
       "      <td>0</td>\n",
       "      <td>0</td>\n",
       "      <td>0</td>\n",
       "      <td>0</td>\n",
       "      <td>0</td>\n",
       "      <td>1</td>\n",
       "      <td>0</td>\n",
       "      <td>...</td>\n",
       "      <td>0</td>\n",
       "      <td>0</td>\n",
       "      <td>0</td>\n",
       "      <td>0</td>\n",
       "      <td>0</td>\n",
       "      <td>0</td>\n",
       "      <td>0</td>\n",
       "      <td>1</td>\n",
       "      <td>1</td>\n",
       "      <td>1</td>\n",
       "    </tr>\n",
       "    <tr>\n",
       "      <th>2</th>\n",
       "      <td>1</td>\n",
       "      <td>0</td>\n",
       "      <td>0</td>\n",
       "      <td>0</td>\n",
       "      <td>0</td>\n",
       "      <td>0</td>\n",
       "      <td>0</td>\n",
       "      <td>0</td>\n",
       "      <td>0</td>\n",
       "      <td>0</td>\n",
       "      <td>...</td>\n",
       "      <td>0</td>\n",
       "      <td>0</td>\n",
       "      <td>0</td>\n",
       "      <td>0</td>\n",
       "      <td>0</td>\n",
       "      <td>0</td>\n",
       "      <td>0</td>\n",
       "      <td>1</td>\n",
       "      <td>1</td>\n",
       "      <td>1</td>\n",
       "    </tr>\n",
       "    <tr>\n",
       "      <th>3</th>\n",
       "      <td>0</td>\n",
       "      <td>0</td>\n",
       "      <td>0</td>\n",
       "      <td>0</td>\n",
       "      <td>0</td>\n",
       "      <td>0</td>\n",
       "      <td>0</td>\n",
       "      <td>0</td>\n",
       "      <td>0</td>\n",
       "      <td>0</td>\n",
       "      <td>...</td>\n",
       "      <td>0</td>\n",
       "      <td>0</td>\n",
       "      <td>0</td>\n",
       "      <td>0</td>\n",
       "      <td>0</td>\n",
       "      <td>0</td>\n",
       "      <td>0</td>\n",
       "      <td>0</td>\n",
       "      <td>0</td>\n",
       "      <td>0</td>\n",
       "    </tr>\n",
       "    <tr>\n",
       "      <th>4</th>\n",
       "      <td>2</td>\n",
       "      <td>0</td>\n",
       "      <td>0</td>\n",
       "      <td>0</td>\n",
       "      <td>0</td>\n",
       "      <td>0</td>\n",
       "      <td>0</td>\n",
       "      <td>0</td>\n",
       "      <td>0</td>\n",
       "      <td>0</td>\n",
       "      <td>...</td>\n",
       "      <td>0</td>\n",
       "      <td>0</td>\n",
       "      <td>0</td>\n",
       "      <td>0</td>\n",
       "      <td>0</td>\n",
       "      <td>0</td>\n",
       "      <td>0</td>\n",
       "      <td>0</td>\n",
       "      <td>0</td>\n",
       "      <td>0</td>\n",
       "    </tr>\n",
       "    <tr>\n",
       "      <th>...</th>\n",
       "      <td>...</td>\n",
       "      <td>...</td>\n",
       "      <td>...</td>\n",
       "      <td>...</td>\n",
       "      <td>...</td>\n",
       "      <td>...</td>\n",
       "      <td>...</td>\n",
       "      <td>...</td>\n",
       "      <td>...</td>\n",
       "      <td>...</td>\n",
       "      <td>...</td>\n",
       "      <td>...</td>\n",
       "      <td>...</td>\n",
       "      <td>...</td>\n",
       "      <td>...</td>\n",
       "      <td>...</td>\n",
       "      <td>...</td>\n",
       "      <td>...</td>\n",
       "      <td>...</td>\n",
       "      <td>...</td>\n",
       "      <td>...</td>\n",
       "    </tr>\n",
       "    <tr>\n",
       "      <th>15690</th>\n",
       "      <td>0</td>\n",
       "      <td>0</td>\n",
       "      <td>0</td>\n",
       "      <td>0</td>\n",
       "      <td>0</td>\n",
       "      <td>0</td>\n",
       "      <td>0</td>\n",
       "      <td>0</td>\n",
       "      <td>0</td>\n",
       "      <td>0</td>\n",
       "      <td>...</td>\n",
       "      <td>0</td>\n",
       "      <td>0</td>\n",
       "      <td>0</td>\n",
       "      <td>0</td>\n",
       "      <td>0</td>\n",
       "      <td>0</td>\n",
       "      <td>0</td>\n",
       "      <td>0</td>\n",
       "      <td>0</td>\n",
       "      <td>0</td>\n",
       "    </tr>\n",
       "    <tr>\n",
       "      <th>15691</th>\n",
       "      <td>0</td>\n",
       "      <td>0</td>\n",
       "      <td>0</td>\n",
       "      <td>0</td>\n",
       "      <td>0</td>\n",
       "      <td>0</td>\n",
       "      <td>0</td>\n",
       "      <td>0</td>\n",
       "      <td>0</td>\n",
       "      <td>0</td>\n",
       "      <td>...</td>\n",
       "      <td>0</td>\n",
       "      <td>0</td>\n",
       "      <td>0</td>\n",
       "      <td>0</td>\n",
       "      <td>0</td>\n",
       "      <td>0</td>\n",
       "      <td>0</td>\n",
       "      <td>0</td>\n",
       "      <td>0</td>\n",
       "      <td>0</td>\n",
       "    </tr>\n",
       "    <tr>\n",
       "      <th>15692</th>\n",
       "      <td>0</td>\n",
       "      <td>0</td>\n",
       "      <td>0</td>\n",
       "      <td>0</td>\n",
       "      <td>0</td>\n",
       "      <td>0</td>\n",
       "      <td>0</td>\n",
       "      <td>0</td>\n",
       "      <td>0</td>\n",
       "      <td>0</td>\n",
       "      <td>...</td>\n",
       "      <td>0</td>\n",
       "      <td>0</td>\n",
       "      <td>0</td>\n",
       "      <td>0</td>\n",
       "      <td>0</td>\n",
       "      <td>0</td>\n",
       "      <td>0</td>\n",
       "      <td>0</td>\n",
       "      <td>0</td>\n",
       "      <td>0</td>\n",
       "    </tr>\n",
       "    <tr>\n",
       "      <th>15693</th>\n",
       "      <td>1</td>\n",
       "      <td>0</td>\n",
       "      <td>0</td>\n",
       "      <td>0</td>\n",
       "      <td>0</td>\n",
       "      <td>0</td>\n",
       "      <td>0</td>\n",
       "      <td>0</td>\n",
       "      <td>0</td>\n",
       "      <td>0</td>\n",
       "      <td>...</td>\n",
       "      <td>0</td>\n",
       "      <td>0</td>\n",
       "      <td>0</td>\n",
       "      <td>0</td>\n",
       "      <td>0</td>\n",
       "      <td>0</td>\n",
       "      <td>0</td>\n",
       "      <td>0</td>\n",
       "      <td>0</td>\n",
       "      <td>0</td>\n",
       "    </tr>\n",
       "    <tr>\n",
       "      <th>15694</th>\n",
       "      <td>2</td>\n",
       "      <td>0</td>\n",
       "      <td>0</td>\n",
       "      <td>0</td>\n",
       "      <td>1</td>\n",
       "      <td>0</td>\n",
       "      <td>1</td>\n",
       "      <td>0</td>\n",
       "      <td>0</td>\n",
       "      <td>0</td>\n",
       "      <td>...</td>\n",
       "      <td>1</td>\n",
       "      <td>1</td>\n",
       "      <td>0</td>\n",
       "      <td>0</td>\n",
       "      <td>0</td>\n",
       "      <td>0</td>\n",
       "      <td>0</td>\n",
       "      <td>0</td>\n",
       "      <td>0</td>\n",
       "      <td>0</td>\n",
       "    </tr>\n",
       "  </tbody>\n",
       "</table>\n",
       "<p>15695 rows × 254 columns</p>\n",
       "</div>"
      ],
      "text/plain": [
       "           a   ac   au   c   cl   co   d   f   i  ...  us  usi  ut  uto  v  \\\n",
       "0      3   0    0    0   0    0    0   0   0   1  ...   0    0   0    0  0   \n",
       "1      1   0    0    0   0    0    0   0   1   0  ...   0    0   0    0  0   \n",
       "2      1   0    0    0   0    0    0   0   0   0  ...   0    0   0    0  0   \n",
       "3      0   0    0    0   0    0    0   0   0   0  ...   0    0   0    0  0   \n",
       "4      2   0    0    0   0    0    0   0   0   0  ...   0    0   0    0  0   \n",
       "...   ..  ..  ...  ...  ..  ...  ...  ..  ..  ..  ...  ..  ...  ..  ... ..   \n",
       "15690  0   0    0    0   0    0    0   0   0   0  ...   0    0   0    0  0   \n",
       "15691  0   0    0    0   0    0    0   0   0   0  ...   0    0   0    0  0   \n",
       "15692  0   0    0    0   0    0    0   0   0   0  ...   0    0   0    0  0   \n",
       "15693  1   0    0    0   0    0    0   0   0   0  ...   0    0   0    0  0   \n",
       "15694  2   0    0    0   1    0    1   0   0   0  ...   1    1   0    0  0   \n",
       "\n",
       "       va  vi  x  xa  xam  \n",
       "0       0   0  0   0    0  \n",
       "1       0   0  1   1    1  \n",
       "2       0   0  1   1    1  \n",
       "3       0   0  0   0    0  \n",
       "4       0   0  0   0    0  \n",
       "...    ..  .. ..  ..  ...  \n",
       "15690   0   0  0   0    0  \n",
       "15691   0   0  0   0    0  \n",
       "15692   0   0  0   0    0  \n",
       "15693   0   0  0   0    0  \n",
       "15694   0   0  0   0    0  \n",
       "\n",
       "[15695 rows x 254 columns]"
      ]
     },
     "execution_count": 8,
     "metadata": {},
     "output_type": "execute_result"
    }
   ],
   "source": [
    "# Importo las librerias necesarias.\n",
    "import pandas as pd\n",
    "from sklearn.feature_extraction.text import CountVectorizer\n",
    "\n",
    "'''\n",
    "Creo el vectorizador - Función: countVectorizer.\n",
    "Entreno el vectorizador con títulos candidatos a nivel de caracteres.\n",
    "Creo las matrices de títulos candidatos y títulos encontrados.\n",
    "'''\n",
    "coun_vect = CountVectorizer(max_df=0.95,min_df=100,lowercase=True, analyzer=\"char\", ngram_range=(1,3),max_features = 1000)\n",
    "coun_vect.fit(titEncontrado)\n",
    "count_candidatos = coun_vect.transform(titCandidato)\n",
    "count_encontrados = coun_vect.transform(titEncontrado)\n",
    "count_array = count_candidatos.toarray()\n",
    "dfCountVec = pd.DataFrame(data=count_array,columns = coun_vect.get_feature_names_out())\n",
    "dfCountVec\n",
    "\n",
    "# Dimensiones: \n",
    "# encontrados 5286 rows × 300 columns\n",
    "# candidatos 10105 rows × 300 columns"
   ]
  },
  {
   "cell_type": "markdown",
   "metadata": {},
   "source": [
    "# Distancia cosenoidal"
   ]
  },
  {
   "cell_type": "code",
   "execution_count": 9,
   "metadata": {},
   "outputs": [],
   "source": [
    "# Calculo de la similitud de vectores - Función: similitud coseno\n",
    "from sklearn.metrics.pairwise import cosine_similarity\n",
    "dist = cosine_similarity(count_candidatos, count_encontrados)"
   ]
  },
  {
   "cell_type": "code",
   "execution_count": 10,
   "metadata": {},
   "outputs": [
    {
     "data": {
      "text/plain": [
       "(15695,)"
      ]
     },
     "execution_count": 10,
     "metadata": {},
     "output_type": "execute_result"
    }
   ],
   "source": [
    "# Filas - Vectores - titulos candidatos\n",
    "dist[:,0].shape"
   ]
  },
  {
   "cell_type": "code",
   "execution_count": 11,
   "metadata": {},
   "outputs": [
    {
     "data": {
      "text/plain": [
       "(15695, 2898)"
      ]
     },
     "execution_count": 11,
     "metadata": {},
     "output_type": "execute_result"
    }
   ],
   "source": [
    "# Filas: titulos candidatos\n",
    "# Columnas: titulos encontrados\n",
    "dist.shape"
   ]
  },
  {
   "cell_type": "markdown",
   "metadata": {},
   "source": [
    "# BUSQUEDA DE TÍTULOS CANDIDATOS\n",
    "## DISTANCIA COSENOIDAL"
   ]
  },
  {
   "cell_type": "code",
   "execution_count": 12,
   "metadata": {},
   "outputs": [],
   "source": [
    "# Calculo la distancia entre títulos candidatos y títulos encontrados. Solo se guarda el valor mayor de similitud.\n",
    "import numpy as np\n",
    "\n",
    "candidatoList=[]\n",
    "encotradoList=[]\n",
    "distancia=[]\n",
    "for i_cand in range(dist.shape[0]):\n",
    "    i_enc = np.argmax(dist[i_cand])\n",
    "    candidatoList.append(titCandidato[i_cand])\n",
    "    encotradoList.append(titEncontrado[i_enc])\n",
    "    distancia.append(dist[i_cand][i_enc])\n",
    "\n",
    "# Creo un dataframe de Nuevos títulos encontrados y sus distancias cosenoidales.\n",
    "dfNuevosCandidatosDistancia = pd.DataFrame({'candidato':candidatoList, 'encontrado': encotradoList, 'distancia': distancia})"
   ]
  },
  {
   "cell_type": "code",
   "execution_count": 13,
   "metadata": {},
   "outputs": [],
   "source": [
    "dfNuevosCandidatosDistancia.to_csv('df_nuevosCandidatosDistancia.csv',index=False)\n",
    "dfNuevosCandidatosDistancia.to_excel('df_nuevosCandidatosDistancia.xlsx',index=False)"
   ]
  },
  {
   "cell_type": "markdown",
   "metadata": {},
   "source": [
    "# BUSQUEDA DE TÍTULOS CANDIDATOS\n",
    "## Comparación de palabras"
   ]
  },
  {
   "cell_type": "code",
   "execution_count": 14,
   "metadata": {},
   "outputs": [],
   "source": [
    "# Funcion para buscar titulos candidatos = titulos encontrados\n",
    "def buscartitulo(tituloE, tituloC):\n",
    "    titEncontrados = []\n",
    "    for titulo in tituloE:\n",
    "        for candidato in tituloC:\n",
    "            if titulo == candidato:\n",
    "                titEncontrados.append(candidato)\n",
    "    return titEncontrados\n",
    "\n",
    "    "
   ]
  },
  {
   "cell_type": "code",
   "execution_count": 15,
   "metadata": {},
   "outputs": [],
   "source": [
    "# Creo los diccionarios de titulos candidatos y titulos encontrados.\n",
    "encontradosTokens = encontrado.value_counts().head(50)\n",
    "candidatoToken = candidato.value_counts().head(200)"
   ]
  },
  {
   "cell_type": "code",
   "execution_count": 16,
   "metadata": {},
   "outputs": [],
   "source": [
    "# Convierte a lista los titulos\n",
    "def listartitulos(tokens):\n",
    "    listTit=[]\n",
    "    for i,j in tokens.items():\n",
    "        i = remove_stops(str(i),stops)\n",
    "        listTit.append(i)\n",
    "    return listTit"
   ]
  },
  {
   "cell_type": "code",
   "execution_count": 17,
   "metadata": {},
   "outputs": [],
   "source": [
    "# Convierto titulos a listas de titulos.\n",
    "candidatosList = listartitulos(candidatoToken)\n",
    "encontradosList = listartitulos(encontradosTokens)"
   ]
  },
  {
   "cell_type": "code",
   "execution_count": 18,
   "metadata": {},
   "outputs": [],
   "source": [
    "# Creo una variable que contiene los titulos candidatos = titulos encontrados\n",
    "# Diccionario de titulos candidatos para la busqueda.\n",
    "candidatosEncontrados = buscartitulo(encontradosList, candidatosList)"
   ]
  },
  {
   "cell_type": "markdown",
   "metadata": {},
   "source": [
    "# Búsqueda de títulos en los títulos candidatos"
   ]
  },
  {
   "cell_type": "code",
   "execution_count": 19,
   "metadata": {},
   "outputs": [],
   "source": [
    "# Buscar_candidatos: compara títulos candidatos con el diccionario te títulos candidatos=encontrados\n",
    "def buscar_candidatos(encontrado, candidato, ide, inicio, fin):\n",
    "    indiceEncontrados=[]\n",
    "    for i in range(len(candidato)):\n",
    "        for e in encontrado:\n",
    "            if candidato[i] == e:\n",
    "                indiceEncontrados.append((ide[i],candidato[i], inicio[i], fin[i]))\n",
    "    return indiceEncontrados"
   ]
  },
  {
   "cell_type": "code",
   "execution_count": 20,
   "metadata": {},
   "outputs": [],
   "source": [
    "# Lista con los títulos candidatos que son títulos de sección, su índice y ubicación\n",
    "indicesCandidatos = buscar_candidatos(candidatosEncontrados ,dfTitCandidato.titulo, dfTitCandidato.ide, dfTitCandidato.inicio, dfTitCandidato.fin)"
   ]
  },
  {
   "cell_type": "code",
   "execution_count": 21,
   "metadata": {},
   "outputs": [],
   "source": [
    "# Creo un dataframe de nuevos titulos encontrados y su ubicacion.\n",
    "dfUbicacionNuevosEncontrados = pd.DataFrame(indicesCandidatos, columns=['ide', 'titulo', 'inicio', 'fin'])"
   ]
  },
  {
   "cell_type": "code",
   "execution_count": 22,
   "metadata": {},
   "outputs": [],
   "source": [
    "dfUbicacionNuevosEncontrados.to_csv('df_UbicacionNuevosEncontrados.csv',index=False)\n",
    "dfUbicacionNuevosEncontrados.to_excel('df_UbicacionNuevosEncontrados.xlsx',index=False)"
   ]
  },
  {
   "cell_type": "markdown",
   "metadata": {},
   "source": [
    "# Busqueda de expedientes sin titulos localizados"
   ]
  },
  {
   "cell_type": "code",
   "execution_count": 23,
   "metadata": {},
   "outputs": [],
   "source": [
    "# Guardo en dfExpNuevosTitulos los expedientes y su indice dentro del dataframe limpio (con todos los expedientes)\n",
    "\n",
    "dfExpSinTitulosEncontrados = dfExpTitulosCandidatos\n",
    "for id_e in dfUbicacionNuevosEncontrados.ide:\n",
    "    dfExpSinTitulosEncontrados = dfExpSinTitulosEncontrados.drop(dfExpSinTitulosEncontrados[dfExpSinTitulosEncontrados['ide'] ==id_e].index)\n",
    "    dfExpTitulosCandidatos.app\n",
    "# dfExpNuevosTitulosEncontrados = pd.DataFrame(expConTitulosMayusculas, columns=['ide','expediente'])\n",
    "# dfSinTitulosEncontrados = pd.DataFrame(expSinTitulosEncontrados, columns=['ide','expediente'])"
   ]
  },
  {
   "cell_type": "code",
   "execution_count": 24,
   "metadata": {},
   "outputs": [
    {
     "name": "stdout",
     "output_type": "stream",
     "text": [
      "('JUZGADO NACIONAL DE TRABAJO 59 LAVALLE 1268 2ºP PERITO MEDICO DENUNCIA '\n",
      " 'DOMICILIO ELECTRONICO - PRESENTA PERICIA - AUTORIZA EXPEDIENTE '\n",
      " '41300-201Señor Juez S/D. La Dra. Mabel Hilda Caputto Medica Legista MN '\n",
      " '61291, Medica Trabajo Mat. 3739, nombrada oficio Perito Medico autos '\n",
      " 'caratulados \" BARRERA ALEJANDRO ADRIAN c/MAILING GROUP SRL Y OTRO '\n",
      " 's/ACCIDENTE – LEY ESPECIAL”. ratificando domicilio constituido San Jose '\n",
      " 'Calazans 111 Planta Baja CABA, IVA Responsable INSCRIPTAcon CUIT numero '\n",
      " '27-10548071-2, Domicilio Electronico, VS respetuosamente digo: 27105480712, '\n",
      " '15-4422-183TELEFONO 1) Que vengo presente denunciar domicilio electronico, '\n",
      " 'indicado encabezado, solicitando ser incluida nuevo sistema informatico '\n",
      " 'efectos. 2) Que vengo informar examinado Sr. BARRERA ALEJANDRO ADRIAN '\n",
      " 'procede elevar siguiente informe pericial. 1* Antecedentes autos Interes '\n",
      " 'Medico Legal: Del INICIA DEMANDA apartado HECHOS: Manifiesta Sr. Actor '\n",
      " 'BARRERA Alejandro Adrian, empleado MAILING GROUP SRL año 2006, via publica '\n",
      " '23/02/200Refiere sufrio accidente aproximadamente MENSAJERO MOTOCICLISTA, '\n",
      " 'conducia motocicleta carril derecho Avda. San Martin – direccion provincia '\n",
      " 'capital – 30 metros llegar interseccion Avenidas San Martin Nazca Ciudad '\n",
      " 'Buenos Aires, automovil circulaba segundo carril San Martin misma direccion '\n",
      " 'Sr. Actor, cerro sorpresivamente marcha ingresar estacion servicio YPF '\n",
      " 'ubicada esquina. 16hs cuando, mientras cumplia 41300-2015 BARRERA ALEJANDRO '\n",
      " 'ADRIAN FECHA DE REALIZACION:domingo, 24 noviembre 201DRA. MABEL HILDA '\n",
      " 'CAPUTTO JUZGADO NACIONAL DE TRABAJO 59 LAVALLE 1268 2ºP Como consecuencia '\n",
      " 'maniobra conductor automovil, Sr. actor, circulaba baja velocidad (40 km/h) '\n",
      " 'carril derecha, debio realizar giro brusco motocicleta evitar choque, golpeo '\n",
      " 'cordon, subio vereda finalmente termino impactando arbol. A causa impacto, '\n",
      " 'ademas contusiones leves diversas parte cuerpo, Sr. Actor sintio fuerte '\n",
      " 'dolor hombro izquierdo, dolor incrementando minutos despues accidente, hizo '\n",
      " 'atender HOSPITAL DURAND, hicieron placas determinaron existencia FRACTURA '\n",
      " 'Denunciado siniestro empleador, sugirio hiciera atender ART, indico debia '\n",
      " 'concurrir CLINICA SANTA ISABEL, realizo tratamiento concedio alta medica. El '\n",
      " 'periodo convalecencia actor 40 dias, cuales sometido 22 sesiones '\n",
      " 'fisioterapia extremidad superior izquierda. 2* Examen clinico semiologico: '\n",
      " 'FECHA DE REALIZACION DEL EXAMEN 11-12-201Se presenta examen señor BARRERA '\n",
      " 'ALEJANDRO ADRIAN Quien identifica documento DNI 23.511.60Domiciliado GARCIA '\n",
      " 'DEL RIO 2465 PB “A” Telefono 15-4063-389Nacido 05/06/1973 CABA EDAD 45 años '\n",
      " '41300-2015 BARRERA ALEJANDRO ADRIAN FECHA DE REALIZACION:domingo, 24 '\n",
      " 'noviembre 201DRA. MABEL HILDA CAPUTTO JUZGADO NACIONAL DE TRABAJO 59 LAVALLE '\n",
      " '1268 2ºP Estado Civil. SOLTERO Hijos: NO Estudios. PRIMARIOS Profesion: '\n",
      " 'mensajero , motociclista EMPRESA MAILING GROUP FECHA DE INGRESO 6/7/200FECHA '\n",
      " 'DE ACCIDENTE 23/02/200FECHA DE ALTA 29/4/200FECHA DESVINCULACION '\n",
      " '201Antecedentes Clinicos-Quirurgicos: Niega diabetes, hipertension '\n",
      " 'cardiopatias. Sin antecedentes quirurgicos. Habitos: Niega bebidas '\n",
      " 'alcoholicas, Tabaco NO Niega Drogas Actividad deportiva CAMINAR Al examen '\n",
      " 'fisico presenta señor contextura fisica normal prolija, colaborador, '\n",
      " 'conciencia situacion, Refiere realizando tareas habituales mensajero '\n",
      " 'motociclista, efectos evitar chocar auto, perdio equilibrio, impactando '\n",
      " 'arbol. A raiz siniestro sufrio FRACURA DE TROQUITER DELHOMBRO IZQUIERDO Fue '\n",
      " 'asistido aseguradora, brindo prestaciones medicas 2sesiones tratamniento '\n",
      " 'kinesico. ILT 40 DIAS Peso 83kgs Talla 1,70 metros Se viste desviste '\n",
      " 'dificultad. Marcha eubasica MIEMBRO SUPERIOR HABIL DERECHO PRESENTA: Examen '\n",
      " 'HOMBRO IZQUIERDO:. Hombro IZQUIERDO CON LIMITACION FUNCIONAL 41300-2015 '\n",
      " 'BARRERA ALEJANDRO ADRIAN FECHA DE REALIZACION:domingo, 24 noviembre 201DRA. '\n",
      " 'MABEL HILDA CAPUTTO JUZGADO NACIONAL DE TRABAJO 59 LAVALLE 1268 2ºP '\n",
      " 'Palpacion elementos anatomicos indoloros Temperatura tono trofismo hombro '\n",
      " 'conservado No signos flogosis edema ABDOELEVACION 0º 120º (2%) ELEVACION '\n",
      " 'ANTERIOR 0º 120º (2%) ADUCCION 0º 20º (1%) ROTACION EXTERNA 0º 30º 5%) '\n",
      " 'ROTACION INTERNA 0º 30º (1%) EXAMEN DE LAS FUNCIONES PSIQUICAS Biotipo '\n",
      " 'normal, aspecto aseado prolijo, actitud activa, lucido orientado '\n",
      " 'autoalopsiquicamente conciencia situacion. Euprosexico, presenta '\n",
      " 'alteraciones sensoperceptivas, actividad mnesica conservada, presenta '\n",
      " 'patologia juicio conservado, razonamiento tipo logico, nivel intelectual '\n",
      " 'normal, capital ideativo relacion grado instruccion, eubulico, eutimico, '\n",
      " 'alteraciones lenguaje oral mimico. FOTOS ideica pensamiento, 41300-2015 '\n",
      " 'BARRERA ALEJANDRO ADRIAN FECHA DE REALIZACION:domingo, 24 noviembre 201DRA. '\n",
      " 'MABEL HILDA CAPUTTO JUZGADO NACIONAL DE TRABAJO 59 LAVALLE 1268 2ºP Estudios '\n",
      " 'solicitados • PSICODIAGNOSTICO • LIC. NATALIA V. GODOY MN 6673• TECNICAS '\n",
      " 'ADMINISTRADAS: Entrevista clinica semidirigida, inventario depresion Beck II '\n",
      " '(BDI II) A. T. Beck cols, test frases pletas J. Sacks, test guestaltico '\n",
      " 'visomotor Bender segun M. C. Gay, test grafico dos personas R. F. Verthely '\n",
      " 'S. B. De Hirsch M. Guinzbourg Braude, cuestionario desiderativo F.A '\n",
      " 'Maladesky T. A. Veccia, test persona bajo lluvia S. M. Querol M. I. Chavez '\n",
      " 'Paz, est arbol K. Koch R. Stora. • Conforme evaluacion adjunta material '\n",
      " 'psicocodiagnostico podria inferirse Sr. Actor posee personalidad ajustada '\n",
      " 'presente realidad inmediata, otorgandole plasticidad flexibilidad necesaria '\n",
      " 'afrontar circunstancias vida actual. 41300-2015 BARRERA ALEJANDRO ADRIAN '\n",
      " 'FECHA DE REALIZACION:domingo, 24 noviembre 201DRA. MABEL HILDA CAPUTTO '\n",
      " 'JUZGADO NACIONAL DE TRABAJO 59 LAVALLE 1268 2ºP • No evidenciaron '\n",
      " 'indicadores den cuenta existencia cuadro psicopatologico presente secuelas '\n",
      " 'psiquicas indole reactiva hecho autos, psicologia. • RNM DE HOMBRO IZQUIERDO '\n",
      " '• DR. FEDERICO PUERTAS MN 13830• FECHA: 18/05/201• Se observan leves cambios '\n",
      " 'señal tendon supraespinoso compatibles Tendinosis. • Tambien observa leve '\n",
      " 'engrosamiento tendon subescapuar cambios señal atribuibles Tendinosis. • '\n",
      " 'Pequeñas imagenes quistico-geodicas sector posterior troquiter subyacentes '\n",
      " 'insercion distal infraespinoso, aspecto degenerativo. • El tendon porcion '\n",
      " 'larga biceps observa normoalojado corredera cambios significativos señal. • '\n",
      " 'Se observan fenomenos producticos capsulo-ligamentarios articulacion '\n",
      " 'acromio-clavicular tenue impronta subacromial aspecto degenerativo. Se '\n",
      " 'observa edema-hiperemia oseo superficies confrontadas predominio clavicular. '\n",
      " '• Labrum glenoideo signos rotura. • El trofismo musculos conforman cintura '\n",
      " 'escapular respetado. DOCUMENTACION OBRANTE EN EL EXPEDIENTE. SOBRE MARRON '\n",
      " 'ADJUNTO 340DICTAMEN DE COMISON MEDICA FRACTURA DE TROQUITER CON LIMITACION '\n",
      " 'FUNCIONAL DEL HOMBRO IZQUIERDO LIMITACION FUNCIONAL INCPACIDAD 8,66% '\n",
      " 'ADDOELEVACION 13ELVACION ANTERIOR 13ROTACION EXTERNA 3ADUCCION 2HOMOLOGADO. '\n",
      " '4* Contestacion Puntos Pericia: Puntos pericia parte actor 41300-2015 '\n",
      " 'BARRERA ALEJANDRO ADRIAN FECHA DE REALIZACION:domingo, 24 noviembre 201DRA. '\n",
      " 'MABEL HILDA CAPUTTO JUZGADO NACIONAL DE TRABAJO 59 LAVALLE 1268 2ºP PERICIA '\n",
      " 'MEDICA: autos. 1. Naturaleza caracteres lesiones sufridas accidente El actor '\n",
      " 'manifiesta realizando tareas habituales mensajero motociclista, efectos '\n",
      " 'evitar chocar auto, perdio equilibrio, impactando arbol. A raiz siniestro '\n",
      " 'sufrio FRACURA DE TROQUITER DELHOMBRO IZQUIERDO Fue asistido aseguradora, '\n",
      " 'brindo prestaciones medicas 2sesiones tratamniento kinesico. ILT 40 DIAS 2. '\n",
      " 'Si lesiones sufridas pudieron ser ocasionadas forma relato presente demanda. '\n",
      " 'La documentacion obrante expediente confirma siniestro tal denuncia. 3. '\n",
      " 'Descripcion tratamientos sometio siniestro actualidad. El actor asistido '\n",
      " 'aseguradora brindo tratamiento medico kinesico. ILT 40 dias. 4. Calificar '\n",
      " 'estimar incapacidad permanente relacion total obrera, si podria seguir '\n",
      " 'realizando misma labor realizaba previo siniestro. El actor examen fisico '\n",
      " 'presenta contextura fisica normal prolija, colaborador, conciencia '\n",
      " 'situacion, Peso 83kgs Talla 1,70 metros Se viste desviste dificultad. Marcha '\n",
      " 'eubasica MIEMBRO SUPERIOR HABIL DERECHO PRESENTA: Examen HOMBRO IZQUIERDO:. '\n",
      " 'Hombro IZQUIERDO CON LIMITACION FUNCIONAL Palpacion elementos anatomicos '\n",
      " 'indoloros Temperatura tono trofismo hombro conservado No signos flogosis '\n",
      " 'edema ABDOELEVACION 0º 120º (2%) ELEVACION ANTERIOR 0º 120º (2%) 41300-2015 '\n",
      " 'BARRERA ALEJANDRO ADRIAN FECHA DE REALIZACION:domingo, 24 noviembre 201DRA. '\n",
      " 'MABEL HILDA CAPUTTO JUZGADO NACIONAL DE TRABAJO 59 LAVALLE 1268 2ºP ADUCCION '\n",
      " '0º 20º (1%) ROTACION EXTERNA 0º 30º 5%) ROTACION INTERNA 0º 30º (1%) LOS '\n",
      " 'ESTUDIOS REALIZADOS INFORMAN • RNM DE HOMBRO IZQUIERDO • DR. FEDERICO '\n",
      " 'PUERTAS MN 13830• FECHA: 18/05/201• Se observan leves cambios señal tendon '\n",
      " 'supraespinoso compatibles Tendinosis. • Tambien observa leve engrosamiento '\n",
      " 'tendon subescapuar cambios señal atribuibles Tendinosis. • Pequeñas imagenes '\n",
      " 'quistico-geodicas sector posterior troquiter subyacentes insercion distal '\n",
      " 'infraespinoso, aspecto degenerativo. • El tendon porcion larga biceps '\n",
      " 'observa normoalojado corredera cambios significativos señal. • Se observan '\n",
      " 'fenomenos producticos capsulo-ligamentarios articulacion acromio-clavicular '\n",
      " 'tenue impronta subacromial aspecto degenerativo. Se observa edema-hiperemia '\n",
      " 'oseo superficies confrontadas predominio clavicular. • Labrum glenoideo '\n",
      " 'signos rotura. • El trofismo musculos conforman cintura escapular respetado. '\n",
      " '5. Grado incapacidad permanente desempeño mensajero motociclista, jornada '\n",
      " 'laboral 8hs. diarias 40 hs semanales. Fundamentar respuesta. VER CUADRO DE '\n",
      " 'INCAPACIDAD 6. Plazo convalecencia inmovilizacion sufrido siniestro hast '\n",
      " 'alta medica. INFORMA documentacion obrante expediente. ILT 40 DIAS PERICIA '\n",
      " 'PSICOLOGICA: 1. Si accidente consecuencias influido negativamente salud '\n",
      " 'psiquica psicologica. 41300-2015 BARRERA ALEJANDRO ADRIAN FECHA DE '\n",
      " 'REALIZACION:domingo, 24 noviembre 201DRA. MABEL HILDA CAPUTTO JUZGADO '\n",
      " 'NACIONAL DE TRABAJO 59 LAVALLE 1268 2ºP El actor examen funciones psiquicas '\n",
      " 'presenta Biotipo normal, aspecto aseado prolijo, actitud activa, lucido '\n",
      " 'orientado autoalopsiquicamente conciencia situacion. Euprosexico, presenta '\n",
      " 'alteraciones sensoperceptivas, actividad mnesica conservada, presenta '\n",
      " 'patologia ideica pensamiento, juicio conservado, razonamiento tipo logico, '\n",
      " 'nivel intelectual normal, capital ideativo relacion grado instruccion, '\n",
      " 'eubulico, eutimico, alteraciones lenguaje oral mimico 2. Si trastornos '\n",
      " 'psiquicos detectados susceptibles tratamiento costo aproximado mismo valores '\n",
      " 'actuales. Los estudios realizados, informan actor momento l evaluaucion '\n",
      " 'presenta afeccion psicologica, siniestro denunciado. • PSICODIAGNOSTICO • '\n",
      " 'LIC. NATALIA V. GODOY MN 6673• TECNICAS ADMINISTRADAS: Entrevista clinica '\n",
      " 'semidirigida, inventario depresion Beck II (BDI II) A. T. Beck cols, test '\n",
      " 'frases pletas J. Sacks, test guestaltico visomotor Bender segun M. C. Gay, '\n",
      " 'test grafico dos personas R. F. Verthely S. B. De Hirsch M. Guinzbourg '\n",
      " 'Braude, cuestionario desiderativo F.A Maladesky T. A. Veccia, test persona '\n",
      " 'bajo lluvia S. M. Querol M. I. Chavez Paz, est arbol K. Koch R. Stora. • '\n",
      " 'Conforme evaluacion adjunta material psicocodiagnostico podria inferirse Sr. '\n",
      " 'Actor posee personalidad ajustada presente realidad inmediata, otorgandole '\n",
      " 'plasticidad flexibilidad necesaria afrontar circunstancias vida actual. • No '\n",
      " 'evidenciaron indicadores den cuenta existencia cuadro psicopatologico '\n",
      " 'presente secuelas psiquicas indole reactiva hecho autos, psicologia. Puntos '\n",
      " 'pericia demandada Los puntos pericia demandada encuentran ampliamente '\n",
      " 'contestados UT SUPRA desarrollados cuerpo informe pericial. 1. Todo dato '\n",
      " 'interes. Enumere baremos utilizados Las tablas baremos utilizadas siguientes '\n",
      " '41300-2015 BARRERA ALEJANDRO ADRIAN FECHA DE REALIZACION:domingo, 24 '\n",
      " 'noviembre 201DRA. MABEL HILDA CAPUTTO JUZGADO NACIONAL DE TRABAJO 59 LAVALLE '\n",
      " '1268 2ºP REFORMA Y ACTUALIZACION DE LA TABLA DE EVALUACION DE • '\n",
      " 'INCAPACIDADES LABORALES (BAREMO ART) DECRETO 49/201• VALORACION DE LAS '\n",
      " 'LESIONES CAUSADAS A LAS PERSONAS EN ACCIDENTES DE CIRCULACION Analisis '\n",
      " 'medico-forense Dr. Jose Escario Dr. Juan Antonio Cobo Plana Editorial MASSON '\n",
      " '199BAREMO GENERAL PARA EL FUERO CIVIL DR. ALTUBE – RINALDI AÑO 200• • TABLA '\n",
      " 'DE INCAPACIDADES EN EL APARATO LOCOMOTOR DE OSVALDO ROMANO Y DANIEL '\n",
      " 'FERNANDEZ BLANCO Fuente Rubistein S. J Codigo tablas incapacidades '\n",
      " 'laborativas, 2° Edicion ampliada 1990 Pag, 158 siguientes. • • DEL TRABAJO Y '\n",
      " 'ENFERMEDADES PROFESIONALES • DE ENERO DE 199CALCULO DE INCAPACIDAD BAREMO DE '\n",
      " 'LA ASOCIACION ARGENTINA DE COMPAÑIAS DE SEGURO TABLA GENERAL DE '\n",
      " 'INCAPACIDADES E INDEMNIZACIONES POR ACCIDENTES BAREMO NACIONAL DE LA '\n",
      " 'EVALUACION DE INCAPACIDADES LEY 24557 DEL 2DEL FUNCIONAL LIMITACION '\n",
      " 'ABDOELEVACION 0º 120º (2%) ELEVACION ANTERIOR 0º 120º (2%) ADUCCION 0º 20º '\n",
      " '(1%) ROTACION EXTERNA 0º 30º (5%) ROTACION INTERNA 0º 30º (1%) TOTAL 11 % '\n",
      " 'IZQUIERDO HOMBRO DIFICULTAD PARA REALIZAR LA TAREA ALTA SUB TOTAL EDAD DEL '\n",
      " 'DAMNIFICADO TOTAL 111,11,1,0,12,35* Consideraciones Medicolegales: La '\n",
      " 'fractura humero, unico hueso brazo, observan grupos edad, mas frecuentes '\n",
      " 'ancianos adultos jovenes. Cerca 85% fracturas humero desplazan hueso '\n",
      " 'posicion anatomica, pueden ser tratadas intervencion ortopedica quirurgica. '\n",
      " 'La causa fracturas humero proximal caida pies sujeto, seguido accidentes '\n",
      " 'automovilisticos caida escaleras 41300-2015 BARRERA ALEJANDRO ADRIAN FECHA '\n",
      " 'DE REALIZACION:domingo, 24 noviembre 201DRA. MABEL HILDA CAPUTTO 1 JUZGADO '\n",
      " 'NACIONAL DE TRABAJO 59 LAVALLE 1268 2ºP Otros mecanismos adicionales '\n",
      " 'incluyen violentas contracciones musculares convulsiones, electrocucion, '\n",
      " 'traumatismos relacionados atletismo. La mayoria fracturas humero proximal '\n",
      " 'cerradas. Ciertas lesiones unmente asociadas areas especificas fracturas '\n",
      " 'humero. En extremo superior, pueden involucrados cuello quirurgico cuello '\n",
      " 'anatomico humero, aunque fracturas cuello quirurgico unes. El nervio axilar '\n",
      " 'puede verse dañado tipo fracturas. Las fracturas tercio medio pueden dañar '\n",
      " 'nervio radial, atraviesa cara lateral humero, estrechamente asociado ranura '\n",
      " 'radial. El nervio mediano vulnerable daños zona supracondilea, nervio '\n",
      " 'cubital vulnerable cerca epicondilo medial, torno gira trayecto entrar '\n",
      " 'antebrazo. ]Fracturas proximales humero El extremo superior humero epifisis '\n",
      " 'proximal region fractura poca frecuencia ocurren, principalmente personas '\n",
      " 'mayores 60 años.3 El tratamiento suele ser conservador manejo dolor '\n",
      " 'inmovilizacion ferula posterior rehabilitacion fisioterapia. La verdadera '\n",
      " 'incidencia desgarros manguito rotador desconocida. Son unes pacientes mayor '\n",
      " 'edad, lesiones alta energia, existe importante desplazamiento. Fracturas '\n",
      " 'troquiter La tuberosidad mayor humero troquiter da insercion musculo '\n",
      " 'supraespinoso, musculo infraespinoso musculo redondo menor.4 Es segmento '\n",
      " 'oseo puede fracturarse produce golpe violento directo cabeza humeral, caida '\n",
      " 'lado suelo, conllevando seis variantes acuerdo clasificacion Neer:Fractura '\n",
      " 'vertice troquiter Fractura troquin humero Fractura conminuta promiso oseo '\n",
      " 'Fractura desplazamiento desplazamiento minimo fragmento Fractura '\n",
      " 'desplazamiento fragmento Fractura luxacion El brazo afectado sostiene '\n",
      " 'cabestrillo 2 3 semanas, cabo pronostico bueno consolidacion rapida. '\n",
      " 'Ocasionalmente, especial desplazamiento fragmentos troquiter, requiere '\n",
      " 'intervencion quirurgica llamada osteosintesis. 6* Conclusiones '\n",
      " 'medicolegales: De acuerdo antecedentes figuran autos, anamnesis sintomas, '\n",
      " 'exploracion signos clinicos 41300-2015 BARRERA ALEJANDRO ADRIAN FECHA DE '\n",
      " 'REALIZACION:domingo, 24 noviembre 201DRA. MABEL HILDA CAPUTTO 1 JUZGADO '\n",
      " 'NACIONAL DE TRABAJO 59 LAVALLE 1268 2ºP interconsultas analiticos, '\n",
      " 'plementarios realizados, estimo actor raiz siniestro denunciado sufrio '\n",
      " 'fractura troquiter hombro izquierdo, presenta limitacion funcional hombro '\n",
      " 'incapacidad indemnizable 12,32 % (doce 32/100) TOTAL VIDA EN FORMA PARCIAL Y '\n",
      " 'PERMANENTE. determina 1) incluya nuevo sistema siguientes Peticiono, '\n",
      " 'suscripta, Dres. PATRICIA BEATRIZ BARRIOS autorizados Domicilio Electronico '\n",
      " '27160375421, JORGE ANIBAL VAZQUEZ Domicilio Electronico 20161619435 ARIEL '\n",
      " 'RUBEN FICO Domicilio Electronico 20167659935, asi tambien faculte enviar '\n",
      " 'retirar copias traslado, oficios, cedulas, mandamientos, etc.; diligenciar '\n",
      " 'mismos; revisar expediente; presentar escritos; general ampliamente '\n",
      " 'desarrollar toda actividad encaminada buen tramite actuados 7* Es cuanto '\n",
      " 'puedo informar Dios guarde usted Proveer conformidad SERA JUSTICIA '\n",
      " '41300-2015 BARRERA ALEJANDRO ADRIAN FECHA DE REALIZACION:domingo, 24 '\n",
      " 'noviembre 201DRA. MABEL HILDA CAPUTTO 12')\n"
     ]
    }
   ],
   "source": [
    "pprint(dfExpSinTitulosEncontrados.expediente[1])"
   ]
  },
  {
   "cell_type": "markdown",
   "metadata": {},
   "source": [
    "# PRUEBAS"
   ]
  },
  {
   "cell_type": "code",
   "execution_count": 25,
   "metadata": {},
   "outputs": [],
   "source": [
    "import seaborn as sns\n",
    "import numpy as np\n",
    "\n",
    "#sns.heatmap(dist)"
   ]
  },
  {
   "cell_type": "code",
   "execution_count": 26,
   "metadata": {},
   "outputs": [
    {
     "data": {
      "text/plain": [
       "437"
      ]
     },
     "execution_count": 26,
     "metadata": {},
     "output_type": "execute_result"
    }
   ],
   "source": [
    "import numpy\n",
    "numpy.argmax(dist[0])\n",
    "\n"
   ]
  },
  {
   "cell_type": "code",
   "execution_count": 27,
   "metadata": {},
   "outputs": [
    {
     "data": {
      "text/plain": [
       "0.2752409412815902"
      ]
     },
     "execution_count": 27,
     "metadata": {},
     "output_type": "execute_result"
    }
   ],
   "source": [
    "dist[0][864]"
   ]
  },
  {
   "cell_type": "code",
   "execution_count": 28,
   "metadata": {},
   "outputs": [
    {
     "data": {
      "text/plain": [
       "'rvan'"
      ]
     },
     "execution_count": 28,
     "metadata": {},
     "output_type": "execute_result"
    }
   ],
   "source": [
    "titCandidato[0]\n",
    "titEncontrado[864]"
   ]
  },
  {
   "cell_type": "code",
   "execution_count": 29,
   "metadata": {},
   "outputs": [],
   "source": [
    "pruebaCandidatosList=['expedido','suscribe','acuerdo']\n",
    "pruebaEncontradoList=['documental medico legal agregada expediente','observan pericia siguientes','podria hacerlo juez']\n",
    "count_pruebaCandidato = coun_vect.transform(pruebaCandidatosList)\n",
    "count_peurebaEncontrado = coun_vect.transform(pruebaEncontradoList)"
   ]
  },
  {
   "cell_type": "code",
   "execution_count": 30,
   "metadata": {},
   "outputs": [],
   "source": [
    "distPrueba = cosine_similarity(count_pruebaCandidato, count_peurebaEncontrado)"
   ]
  },
  {
   "cell_type": "code",
   "execution_count": 31,
   "metadata": {},
   "outputs": [
    {
     "data": {
      "text/html": [
       "<div>\n",
       "<style scoped>\n",
       "    .dataframe tbody tr th:only-of-type {\n",
       "        vertical-align: middle;\n",
       "    }\n",
       "\n",
       "    .dataframe tbody tr th {\n",
       "        vertical-align: top;\n",
       "    }\n",
       "\n",
       "    .dataframe thead th {\n",
       "        text-align: right;\n",
       "    }\n",
       "</style>\n",
       "<table border=\"1\" class=\"dataframe\">\n",
       "  <thead>\n",
       "    <tr style=\"text-align: right;\">\n",
       "      <th></th>\n",
       "      <th>candidato</th>\n",
       "      <th>encontrado</th>\n",
       "      <th>distancia</th>\n",
       "    </tr>\n",
       "  </thead>\n",
       "  <tbody>\n",
       "    <tr>\n",
       "      <th>0</th>\n",
       "      <td>expedido</td>\n",
       "      <td>documental medico legal agregada expediente</td>\n",
       "      <td>0.564114</td>\n",
       "    </tr>\n",
       "    <tr>\n",
       "      <th>1</th>\n",
       "      <td>suscribe</td>\n",
       "      <td>observan pericia siguientes</td>\n",
       "      <td>0.589256</td>\n",
       "    </tr>\n",
       "    <tr>\n",
       "      <th>2</th>\n",
       "      <td>acuerdo</td>\n",
       "      <td>podria hacerlo juez</td>\n",
       "      <td>0.596559</td>\n",
       "    </tr>\n",
       "  </tbody>\n",
       "</table>\n",
       "</div>"
      ],
      "text/plain": [
       "  candidato                                   encontrado  distancia\n",
       "0  expedido  documental medico legal agregada expediente   0.564114\n",
       "1  suscribe                  observan pericia siguientes   0.589256\n",
       "2   acuerdo                          podria hacerlo juez   0.596559"
      ]
     },
     "execution_count": 31,
     "metadata": {},
     "output_type": "execute_result"
    }
   ],
   "source": [
    "# Calculo la distancia entre títulos candidatos y títulos encontrados. Solo se guarda el valor mayor de similitud.\n",
    "import numpy as np\n",
    "\n",
    "candidatoPruebaList=[]\n",
    "encotradoPruebaList=[]\n",
    "distanciaPrueba=[]\n",
    "for i_cand in range(distPrueba.shape[0]):\n",
    "    i_enc = np.argmax(distPrueba[i_cand])\n",
    "    candidatoPruebaList.append(pruebaCandidatosList[i_cand])\n",
    "    encotradoPruebaList.append(pruebaEncontradoList[i_enc])\n",
    "    distanciaPrueba.append(distPrueba[i_cand][i_enc])\n",
    "\n",
    "# Creo un dataframe de Nuevos títulos encontrados y sus distancias cosenoidales.\n",
    "pd.DataFrame({'candidato':candidatoPruebaList, 'encontrado': encotradoPruebaList, 'distancia': distanciaPrueba})"
   ]
  },
  {
   "cell_type": "code",
   "execution_count": 32,
   "metadata": {},
   "outputs": [],
   "source": [
    "coun_vect = CountVectorizer(max_df=0.99,min_df=1,lowercase=True, analyzer=\"char\", ngram_range=(1,3),max_features = 800)\n",
    "coun_vect.fit(titEncontrado)\n",
    "count_pruebaCandidato = coun_vect.transform(pruebaCandidatosList)\n",
    "count_peurebaEncontrado = coun_vect.transform(pruebaEncontradoList)"
   ]
  },
  {
   "cell_type": "code",
   "execution_count": 33,
   "metadata": {},
   "outputs": [],
   "source": [
    "distPrueba = cosine_similarity(count_pruebaCandidato, count_peurebaEncontrado)"
   ]
  },
  {
   "cell_type": "code",
   "execution_count": 34,
   "metadata": {},
   "outputs": [
    {
     "data": {
      "text/html": [
       "<div>\n",
       "<style scoped>\n",
       "    .dataframe tbody tr th:only-of-type {\n",
       "        vertical-align: middle;\n",
       "    }\n",
       "\n",
       "    .dataframe tbody tr th {\n",
       "        vertical-align: top;\n",
       "    }\n",
       "\n",
       "    .dataframe thead th {\n",
       "        text-align: right;\n",
       "    }\n",
       "</style>\n",
       "<table border=\"1\" class=\"dataframe\">\n",
       "  <thead>\n",
       "    <tr style=\"text-align: right;\">\n",
       "      <th></th>\n",
       "      <th>candidato</th>\n",
       "      <th>encontrado</th>\n",
       "      <th>distancia</th>\n",
       "    </tr>\n",
       "  </thead>\n",
       "  <tbody>\n",
       "    <tr>\n",
       "      <th>0</th>\n",
       "      <td>expedido</td>\n",
       "      <td>documental medico legal agregada expediente</td>\n",
       "      <td>0.535706</td>\n",
       "    </tr>\n",
       "    <tr>\n",
       "      <th>1</th>\n",
       "      <td>suscribe</td>\n",
       "      <td>observan pericia siguientes</td>\n",
       "      <td>0.478913</td>\n",
       "    </tr>\n",
       "    <tr>\n",
       "      <th>2</th>\n",
       "      <td>acuerdo</td>\n",
       "      <td>podria hacerlo juez</td>\n",
       "      <td>0.485071</td>\n",
       "    </tr>\n",
       "  </tbody>\n",
       "</table>\n",
       "</div>"
      ],
      "text/plain": [
       "  candidato                                   encontrado  distancia\n",
       "0  expedido  documental medico legal agregada expediente   0.535706\n",
       "1  suscribe                  observan pericia siguientes   0.478913\n",
       "2   acuerdo                          podria hacerlo juez   0.485071"
      ]
     },
     "execution_count": 34,
     "metadata": {},
     "output_type": "execute_result"
    }
   ],
   "source": [
    "# Calculo la distancia entre títulos candidatos y títulos encontrados. Solo se guarda el valor mayor de similitud.\n",
    "import numpy as np\n",
    "\n",
    "candidatoPruebaList=[]\n",
    "encotradoPruebaList=[]\n",
    "distanciaPrueba=[]\n",
    "for i_cand in range(distPrueba.shape[0]):\n",
    "    i_enc = np.argmax(distPrueba[i_cand])\n",
    "    candidatoPruebaList.append(pruebaCandidatosList[i_cand])\n",
    "    encotradoPruebaList.append(pruebaEncontradoList[i_enc])\n",
    "    distanciaPrueba.append(distPrueba[i_cand][i_enc])\n",
    "\n",
    "# Creo un dataframe de Nuevos títulos encontrados y sus distancias cosenoidales.\n",
    "pd.DataFrame({'candidato':candidatoPruebaList, 'encontrado': encotradoPruebaList, 'distancia': distanciaPrueba})"
   ]
  },
  {
   "cell_type": "code",
   "execution_count": null,
   "metadata": {},
   "outputs": [],
   "source": []
  }
 ],
 "metadata": {
  "kernelspec": {
   "display_name": "Python 3.9.5 ('proyecto-env')",
   "language": "python",
   "name": "python3"
  },
  "language_info": {
   "codemirror_mode": {
    "name": "ipython",
    "version": 3
   },
   "file_extension": ".py",
   "mimetype": "text/x-python",
   "name": "python",
   "nbconvert_exporter": "python",
   "pygments_lexer": "ipython3",
   "version": "3.9.5"
  },
  "orig_nbformat": 4,
  "vscode": {
   "interpreter": {
    "hash": "009f8d941f1a5e5fa5c53bd1fe1f1a27e75894b84557fa679569ec42254b5e02"
   }
  }
 },
 "nbformat": 4,
 "nbformat_minor": 2
}
