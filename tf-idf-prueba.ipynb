{
 "cells": [
  {
   "cell_type": "markdown",
   "metadata": {},
   "source": [
    "# Vectorizacion de texto"
   ]
  },
  {
   "cell_type": "markdown",
   "metadata": {},
   "source": [
    "# Funciones de limpieza"
   ]
  },
  {
   "cell_type": "code",
   "execution_count": 68,
   "metadata": {},
   "outputs": [],
   "source": [
    "# Importo las librerias necesarias\n",
    "import pandas as pd\n",
    "from sklearn.feature_extraction.text import TfidfVectorizer\n",
    "from sklearn.cluster import KMeans\n",
    "from sklearn.metrics import adjusted_rand_score\n",
    "import string\n",
    "from nltk.corpus import stopwords\n",
    "import json\n",
    "import glob\n",
    "import re\n",
    "from pprint import pprint\n",
    "stops = stopwords.words(\"spanish\")"
   ]
  },
  {
   "cell_type": "code",
   "execution_count": 69,
   "metadata": {},
   "outputs": [],
   "source": [
    "# Funciones de limpieza de títulos\n",
    "\n",
    "def remove_stops(text, stops):\n",
    "    text = re.sub(r'(I{1,3}|IV|V|VI{1,3}|IX|X)[-.) ]+','',text)\n",
    "    text = re.sub(r'[^\\w\\s -]','',text)\n",
    "    text = re.sub(r'-',' ',text)\n",
    "    text = text.lower()\n",
    "    words = text.split()\n",
    "    final = []\n",
    "    for word in words:\n",
    "        if word not in stops:\n",
    "            final.append(word)\n",
    "    final = \" \".join(final)\n",
    "    final = final.translate(str.maketrans(\"\", \"\", string.punctuation))\n",
    "    final = \"\".join([i for i in final if not i.isdigit()])\n",
    "    while \"  \" in final:\n",
    "        final = final.replace(\"  \", \" \")\n",
    "    return (final)\n",
    "\n",
    "def clean_docs(docs):\n",
    "    stops = stopwords.words(\"spanish\")\n",
    "    final = []\n",
    "    for doc in docs:\n",
    "        #clean_doc = remove_stops(doc, stops)\n",
    "        final.append(doc)\n",
    "    return (final)"
   ]
  },
  {
   "cell_type": "markdown",
   "metadata": {},
   "source": [
    "# Creo las variables con titulos candidatos y encontrados."
   ]
  },
  {
   "cell_type": "code",
   "execution_count": 70,
   "metadata": {},
   "outputs": [],
   "source": [
    "# Creo las variables con titulos candidatos y encontrados.\n",
    "\n",
    "encontrado = pd.read_csv(\"titulosEncontrados.csv\", sep=',',  encoding='utf-8')\n",
    "candidato = pd.read_csv(\"titulosCandidatos.csv\", sep=',',  encoding='utf-8')\n",
    "candidato = candidato.dropna()\n",
    "encontrado = encontrado.dropna()\n",
    "titEncontrado = clean_docs(encontrado['titulo'])\n",
    "titCandidato = clean_docs(candidato['titulo'])"
   ]
  },
  {
   "cell_type": "code",
   "execution_count": 71,
   "metadata": {},
   "outputs": [],
   "source": [
    "# Creo las variables que contienen los dataframes de titulos candidatos y encontrados.\n",
    "dfTitCandidato = pd.read_csv('df_titulosCandidatos.csv', sep=',',  encoding='utf-8')\n",
    "dfTitEncontrado = pd.read_csv('df_titulosEncontrados.csv', sep=',',  encoding='utf-8')\n",
    "dfExpTitulosCandidatos = pd.read_csv('df_ExpTitulosCandidatos.csv', sep=',',  encoding='utf-8')"
   ]
  },
  {
   "cell_type": "markdown",
   "metadata": {},
   "source": [
    "# CountVectorizer"
   ]
  },
  {
   "cell_type": "code",
   "execution_count": 72,
   "metadata": {},
   "outputs": [
    {
     "data": {
      "text/html": [
       "<div>\n",
       "<style scoped>\n",
       "    .dataframe tbody tr th:only-of-type {\n",
       "        vertical-align: middle;\n",
       "    }\n",
       "\n",
       "    .dataframe tbody tr th {\n",
       "        vertical-align: top;\n",
       "    }\n",
       "\n",
       "    .dataframe thead th {\n",
       "        text-align: right;\n",
       "    }\n",
       "</style>\n",
       "<table border=\"1\" class=\"dataframe\">\n",
       "  <thead>\n",
       "    <tr style=\"text-align: right;\">\n",
       "      <th></th>\n",
       "      <th></th>\n",
       "      <th>a</th>\n",
       "      <th>ac</th>\n",
       "      <th>an</th>\n",
       "      <th>au</th>\n",
       "      <th>c</th>\n",
       "      <th>cl</th>\n",
       "      <th>co</th>\n",
       "      <th>d</th>\n",
       "      <th>de</th>\n",
       "      <th>...</th>\n",
       "      <th>ut</th>\n",
       "      <th>uto</th>\n",
       "      <th>v</th>\n",
       "      <th>va</th>\n",
       "      <th>vi</th>\n",
       "      <th>x</th>\n",
       "      <th>xa</th>\n",
       "      <th>xam</th>\n",
       "      <th>z</th>\n",
       "      <th>za</th>\n",
       "    </tr>\n",
       "  </thead>\n",
       "  <tbody>\n",
       "    <tr>\n",
       "      <th>0</th>\n",
       "      <td>3</td>\n",
       "      <td>0</td>\n",
       "      <td>0</td>\n",
       "      <td>0</td>\n",
       "      <td>0</td>\n",
       "      <td>0</td>\n",
       "      <td>0</td>\n",
       "      <td>0</td>\n",
       "      <td>0</td>\n",
       "      <td>0</td>\n",
       "      <td>...</td>\n",
       "      <td>0</td>\n",
       "      <td>0</td>\n",
       "      <td>0</td>\n",
       "      <td>0</td>\n",
       "      <td>0</td>\n",
       "      <td>0</td>\n",
       "      <td>0</td>\n",
       "      <td>0</td>\n",
       "      <td>0</td>\n",
       "      <td>0</td>\n",
       "    </tr>\n",
       "    <tr>\n",
       "      <th>1</th>\n",
       "      <td>1</td>\n",
       "      <td>0</td>\n",
       "      <td>0</td>\n",
       "      <td>0</td>\n",
       "      <td>0</td>\n",
       "      <td>0</td>\n",
       "      <td>0</td>\n",
       "      <td>0</td>\n",
       "      <td>0</td>\n",
       "      <td>0</td>\n",
       "      <td>...</td>\n",
       "      <td>0</td>\n",
       "      <td>0</td>\n",
       "      <td>0</td>\n",
       "      <td>0</td>\n",
       "      <td>0</td>\n",
       "      <td>1</td>\n",
       "      <td>1</td>\n",
       "      <td>1</td>\n",
       "      <td>0</td>\n",
       "      <td>0</td>\n",
       "    </tr>\n",
       "    <tr>\n",
       "      <th>2</th>\n",
       "      <td>1</td>\n",
       "      <td>0</td>\n",
       "      <td>0</td>\n",
       "      <td>0</td>\n",
       "      <td>0</td>\n",
       "      <td>0</td>\n",
       "      <td>0</td>\n",
       "      <td>0</td>\n",
       "      <td>0</td>\n",
       "      <td>0</td>\n",
       "      <td>...</td>\n",
       "      <td>0</td>\n",
       "      <td>0</td>\n",
       "      <td>0</td>\n",
       "      <td>0</td>\n",
       "      <td>0</td>\n",
       "      <td>1</td>\n",
       "      <td>1</td>\n",
       "      <td>1</td>\n",
       "      <td>0</td>\n",
       "      <td>0</td>\n",
       "    </tr>\n",
       "    <tr>\n",
       "      <th>3</th>\n",
       "      <td>2</td>\n",
       "      <td>0</td>\n",
       "      <td>0</td>\n",
       "      <td>0</td>\n",
       "      <td>0</td>\n",
       "      <td>0</td>\n",
       "      <td>0</td>\n",
       "      <td>0</td>\n",
       "      <td>0</td>\n",
       "      <td>0</td>\n",
       "      <td>...</td>\n",
       "      <td>0</td>\n",
       "      <td>0</td>\n",
       "      <td>0</td>\n",
       "      <td>0</td>\n",
       "      <td>0</td>\n",
       "      <td>1</td>\n",
       "      <td>1</td>\n",
       "      <td>0</td>\n",
       "      <td>0</td>\n",
       "      <td>0</td>\n",
       "    </tr>\n",
       "    <tr>\n",
       "      <th>4</th>\n",
       "      <td>4</td>\n",
       "      <td>0</td>\n",
       "      <td>0</td>\n",
       "      <td>0</td>\n",
       "      <td>0</td>\n",
       "      <td>0</td>\n",
       "      <td>0</td>\n",
       "      <td>0</td>\n",
       "      <td>0</td>\n",
       "      <td>0</td>\n",
       "      <td>...</td>\n",
       "      <td>0</td>\n",
       "      <td>0</td>\n",
       "      <td>0</td>\n",
       "      <td>0</td>\n",
       "      <td>0</td>\n",
       "      <td>0</td>\n",
       "      <td>0</td>\n",
       "      <td>0</td>\n",
       "      <td>0</td>\n",
       "      <td>0</td>\n",
       "    </tr>\n",
       "    <tr>\n",
       "      <th>...</th>\n",
       "      <td>...</td>\n",
       "      <td>...</td>\n",
       "      <td>...</td>\n",
       "      <td>...</td>\n",
       "      <td>...</td>\n",
       "      <td>...</td>\n",
       "      <td>...</td>\n",
       "      <td>...</td>\n",
       "      <td>...</td>\n",
       "      <td>...</td>\n",
       "      <td>...</td>\n",
       "      <td>...</td>\n",
       "      <td>...</td>\n",
       "      <td>...</td>\n",
       "      <td>...</td>\n",
       "      <td>...</td>\n",
       "      <td>...</td>\n",
       "      <td>...</td>\n",
       "      <td>...</td>\n",
       "      <td>...</td>\n",
       "      <td>...</td>\n",
       "    </tr>\n",
       "    <tr>\n",
       "      <th>24241</th>\n",
       "      <td>6</td>\n",
       "      <td>1</td>\n",
       "      <td>1</td>\n",
       "      <td>0</td>\n",
       "      <td>0</td>\n",
       "      <td>0</td>\n",
       "      <td>0</td>\n",
       "      <td>0</td>\n",
       "      <td>0</td>\n",
       "      <td>0</td>\n",
       "      <td>...</td>\n",
       "      <td>0</td>\n",
       "      <td>0</td>\n",
       "      <td>0</td>\n",
       "      <td>0</td>\n",
       "      <td>0</td>\n",
       "      <td>0</td>\n",
       "      <td>0</td>\n",
       "      <td>0</td>\n",
       "      <td>0</td>\n",
       "      <td>0</td>\n",
       "    </tr>\n",
       "    <tr>\n",
       "      <th>24242</th>\n",
       "      <td>0</td>\n",
       "      <td>0</td>\n",
       "      <td>0</td>\n",
       "      <td>0</td>\n",
       "      <td>0</td>\n",
       "      <td>0</td>\n",
       "      <td>0</td>\n",
       "      <td>0</td>\n",
       "      <td>0</td>\n",
       "      <td>0</td>\n",
       "      <td>...</td>\n",
       "      <td>0</td>\n",
       "      <td>0</td>\n",
       "      <td>0</td>\n",
       "      <td>0</td>\n",
       "      <td>0</td>\n",
       "      <td>0</td>\n",
       "      <td>0</td>\n",
       "      <td>0</td>\n",
       "      <td>0</td>\n",
       "      <td>0</td>\n",
       "    </tr>\n",
       "    <tr>\n",
       "      <th>24243</th>\n",
       "      <td>1</td>\n",
       "      <td>0</td>\n",
       "      <td>0</td>\n",
       "      <td>0</td>\n",
       "      <td>0</td>\n",
       "      <td>0</td>\n",
       "      <td>0</td>\n",
       "      <td>0</td>\n",
       "      <td>0</td>\n",
       "      <td>0</td>\n",
       "      <td>...</td>\n",
       "      <td>0</td>\n",
       "      <td>0</td>\n",
       "      <td>0</td>\n",
       "      <td>0</td>\n",
       "      <td>0</td>\n",
       "      <td>0</td>\n",
       "      <td>0</td>\n",
       "      <td>0</td>\n",
       "      <td>0</td>\n",
       "      <td>0</td>\n",
       "    </tr>\n",
       "    <tr>\n",
       "      <th>24244</th>\n",
       "      <td>7</td>\n",
       "      <td>1</td>\n",
       "      <td>0</td>\n",
       "      <td>0</td>\n",
       "      <td>0</td>\n",
       "      <td>0</td>\n",
       "      <td>0</td>\n",
       "      <td>0</td>\n",
       "      <td>0</td>\n",
       "      <td>0</td>\n",
       "      <td>...</td>\n",
       "      <td>0</td>\n",
       "      <td>0</td>\n",
       "      <td>2</td>\n",
       "      <td>0</td>\n",
       "      <td>0</td>\n",
       "      <td>0</td>\n",
       "      <td>0</td>\n",
       "      <td>0</td>\n",
       "      <td>0</td>\n",
       "      <td>0</td>\n",
       "    </tr>\n",
       "    <tr>\n",
       "      <th>24245</th>\n",
       "      <td>2</td>\n",
       "      <td>0</td>\n",
       "      <td>0</td>\n",
       "      <td>0</td>\n",
       "      <td>0</td>\n",
       "      <td>1</td>\n",
       "      <td>0</td>\n",
       "      <td>1</td>\n",
       "      <td>0</td>\n",
       "      <td>0</td>\n",
       "      <td>...</td>\n",
       "      <td>0</td>\n",
       "      <td>0</td>\n",
       "      <td>0</td>\n",
       "      <td>0</td>\n",
       "      <td>0</td>\n",
       "      <td>0</td>\n",
       "      <td>0</td>\n",
       "      <td>0</td>\n",
       "      <td>0</td>\n",
       "      <td>0</td>\n",
       "    </tr>\n",
       "  </tbody>\n",
       "</table>\n",
       "<p>24246 rows × 346 columns</p>\n",
       "</div>"
      ],
      "text/plain": [
       "           a   ac   an   au   c   cl   co   d   de  ...  ut  uto  v  va  vi  \\\n",
       "0      3   0    0    0    0   0    0    0   0    0  ...   0    0  0   0   0   \n",
       "1      1   0    0    0    0   0    0    0   0    0  ...   0    0  0   0   0   \n",
       "2      1   0    0    0    0   0    0    0   0    0  ...   0    0  0   0   0   \n",
       "3      2   0    0    0    0   0    0    0   0    0  ...   0    0  0   0   0   \n",
       "4      4   0    0    0    0   0    0    0   0    0  ...   0    0  0   0   0   \n",
       "...   ..  ..  ...  ...  ...  ..  ...  ...  ..  ...  ...  ..  ... ..  ..  ..   \n",
       "24241  6   1    1    0    0   0    0    0   0    0  ...   0    0  0   0   0   \n",
       "24242  0   0    0    0    0   0    0    0   0    0  ...   0    0  0   0   0   \n",
       "24243  1   0    0    0    0   0    0    0   0    0  ...   0    0  0   0   0   \n",
       "24244  7   1    0    0    0   0    0    0   0    0  ...   0    0  2   0   0   \n",
       "24245  2   0    0    0    0   1    0    1   0    0  ...   0    0  0   0   0   \n",
       "\n",
       "       x  xa  xam  z  za  \n",
       "0      0   0    0  0   0  \n",
       "1      1   1    1  0   0  \n",
       "2      1   1    1  0   0  \n",
       "3      1   1    0  0   0  \n",
       "4      0   0    0  0   0  \n",
       "...   ..  ..  ... ..  ..  \n",
       "24241  0   0    0  0   0  \n",
       "24242  0   0    0  0   0  \n",
       "24243  0   0    0  0   0  \n",
       "24244  0   0    0  0   0  \n",
       "24245  0   0    0  0   0  \n",
       "\n",
       "[24246 rows x 346 columns]"
      ]
     },
     "execution_count": 72,
     "metadata": {},
     "output_type": "execute_result"
    }
   ],
   "source": [
    "# Importo las librerias necesarias.\n",
    "import pandas as pd\n",
    "from sklearn.feature_extraction.text import CountVectorizer\n",
    "\n",
    "'''\n",
    "Creo el vectorizador - Función: countVectorizer.\n",
    "Entreno el vectorizador con títulos candidatos a nivel de caracteres.\n",
    "Creo las matrices de títulos candidatos y títulos encontrados.\n",
    "'''\n",
    "coun_vect = CountVectorizer(max_df=0.95,min_df=100,lowercase=True, analyzer=\"char\", ngram_range=(1,3),max_features = 1000)\n",
    "coun_vect.fit(titEncontrado)\n",
    "count_candidatos = coun_vect.transform(titCandidato)\n",
    "count_encontrados = coun_vect.transform(titEncontrado)\n",
    "count_array = count_candidatos.toarray()\n",
    "dfCountVec = pd.DataFrame(data=count_array,columns = coun_vect.get_feature_names_out())\n",
    "dfCountVec\n",
    "\n",
    "# Dimensiones: \n",
    "# encontrados 5286 rows × 300 columns\n",
    "# candidatos 10105 rows × 300 columns"
   ]
  },
  {
   "cell_type": "markdown",
   "metadata": {},
   "source": [
    "# Distancia cosenoidal"
   ]
  },
  {
   "cell_type": "code",
   "execution_count": 73,
   "metadata": {},
   "outputs": [],
   "source": [
    "# Calculo de la similitud de vectores - Función: similitud coseno\n",
    "from sklearn.metrics.pairwise import cosine_similarity\n",
    "dist = cosine_similarity(count_candidatos, count_encontrados)"
   ]
  },
  {
   "cell_type": "code",
   "execution_count": 74,
   "metadata": {},
   "outputs": [
    {
     "data": {
      "text/plain": [
       "(24246,)"
      ]
     },
     "execution_count": 74,
     "metadata": {},
     "output_type": "execute_result"
    }
   ],
   "source": [
    "# Filas - Vectores - titulos candidatos\n",
    "dist[:,0].shape"
   ]
  },
  {
   "cell_type": "code",
   "execution_count": 75,
   "metadata": {},
   "outputs": [
    {
     "data": {
      "text/plain": [
       "(24246, 5179)"
      ]
     },
     "execution_count": 75,
     "metadata": {},
     "output_type": "execute_result"
    }
   ],
   "source": [
    "# Filas: titulos candidatos\n",
    "# Columnas: titulos encontrados\n",
    "dist.shape"
   ]
  },
  {
   "cell_type": "markdown",
   "metadata": {},
   "source": [
    "# BUSQUEDA DE TÍTULOS CANDIDATOS\n",
    "## DISTANCIA COSENOIDAL"
   ]
  },
  {
   "cell_type": "code",
   "execution_count": 76,
   "metadata": {},
   "outputs": [],
   "source": [
    "# Calculo la distancia entre títulos candidatos y títulos encontrados. Solo se guarda el valor mayor de similitud.\n",
    "import numpy as np\n",
    "\n",
    "candidatoList=[]\n",
    "encotradoList=[]\n",
    "distancia=[]\n",
    "for i_cand in range(dist.shape[0]):\n",
    "    i_enc = np.argmax(dist[i_cand])\n",
    "    if dist[i_cand][i_enc] > 0.9:\n",
    "        candidatoList.append(titCandidato[i_cand])\n",
    "        encotradoList.append(titEncontrado[i_enc])\n",
    "        distancia.append(dist[i_cand][i_enc])\n",
    "\n",
    "# Creo un dataframe de Nuevos títulos encontrados y sus distancias cosenoidales.\n",
    "dfNuevosCandidatosDistancia = pd.DataFrame({'candidato':candidatoList, 'encontrado': encotradoList, 'distancia': distancia})"
   ]
  },
  {
   "cell_type": "code",
   "execution_count": 77,
   "metadata": {},
   "outputs": [],
   "source": [
    "dfNuevosCandidatosDistancia.to_csv('df_nuevosCandidatosDistancia.csv',index=False)\n",
    "dfNuevosCandidatosDistancia.to_excel('df_nuevosCandidatosDistancia.xlsx',index=False)"
   ]
  },
  {
   "cell_type": "markdown",
   "metadata": {},
   "source": [
    "# BUSQUEDA DE TÍTULOS CANDIDATOS\n",
    "## Comparación de palabras"
   ]
  },
  {
   "cell_type": "code",
   "execution_count": 78,
   "metadata": {},
   "outputs": [],
   "source": [
    "# Funcion para buscar titulos candidatos = titulos encontrados\n",
    "def buscartitulo(tituloE, tituloC):\n",
    "    titEncontrados = []\n",
    "    for titulo in tituloE:\n",
    "        for candidato in tituloC:\n",
    "            if titulo == candidato:\n",
    "                titEncontrados.append(candidato)\n",
    "    return titEncontrados\n",
    "\n",
    "    "
   ]
  },
  {
   "cell_type": "code",
   "execution_count": 79,
   "metadata": {},
   "outputs": [],
   "source": [
    "# Creo los diccionarios de titulos candidatos y titulos encontrados.\n",
    "encontradosTokens = encontrado.value_counts().head(200)\n",
    "candidatoToken = candidato.value_counts().head(500)"
   ]
  },
  {
   "cell_type": "code",
   "execution_count": 80,
   "metadata": {},
   "outputs": [
    {
     "data": {
      "text/plain": [
       "titulo                                          \n",
       "petitorio                                           461\n",
       "conclusiones                                        386\n",
       "consideraciones medico legales                      269\n",
       "historia clinica                                    164\n",
       "contestacion puntos pericia                         155\n",
       "                                                   ... \n",
       "procedimientos utilizados para pericia                3\n",
       "contestacion puntos pericia fijados sentenciante      3\n",
       "antecedentes medico legales                           3\n",
       "izquierdo                                             3\n",
       "antecedentes hechos                                   3\n",
       "Length: 200, dtype: int64"
      ]
     },
     "execution_count": 80,
     "metadata": {},
     "output_type": "execute_result"
    }
   ],
   "source": [
    "encontradosTokens"
   ]
  },
  {
   "cell_type": "code",
   "execution_count": 81,
   "metadata": {},
   "outputs": [],
   "source": [
    "# Convierte a lista los titulos\n",
    "def listartitulos(tokens):\n",
    "    listTit=[]\n",
    "    for i,j in tokens.items():\n",
    "        i = remove_stops(str(i),stops)\n",
    "        listTit.append(i)\n",
    "    return listTit"
   ]
  },
  {
   "cell_type": "code",
   "execution_count": 82,
   "metadata": {},
   "outputs": [],
   "source": [
    "# Convierto titulos a listas de titulos.\n",
    "candidatosList = listartitulos(candidatoToken)\n",
    "encontradosList = listartitulos(encontradosTokens)"
   ]
  },
  {
   "cell_type": "code",
   "execution_count": 83,
   "metadata": {},
   "outputs": [],
   "source": [
    "# Creo una variable que contiene los titulos candidatos = titulos encontrados\n",
    "# Diccionario de titulos candidatos para la busqueda.\n",
    "candidatosEncontrados = buscartitulo(encontradosList, candidatosList)"
   ]
  },
  {
   "cell_type": "code",
   "execution_count": 84,
   "metadata": {},
   "outputs": [
    {
     "data": {
      "text/plain": [
       "['petitorio',\n",
       " 'conclusiones',\n",
       " 'consideraciones medico legales',\n",
       " 'historia clinica',\n",
       " 'contestacion puntos pericia',\n",
       " 'antecedentes autos interes medico legal',\n",
       " 'hechos',\n",
       " 'conclusiones medico legales',\n",
       " 'objeto',\n",
       " 'consideraciones medicolegales',\n",
       " 'datos personales',\n",
       " 'examen actor',\n",
       " 'examen fisico',\n",
       " 'antecedentes autos',\n",
       " 'bibliografia',\n",
       " 'estudios complementarios',\n",
       " 'antecedentes interes medico legal',\n",
       " 'respuesta puntos pericia',\n",
       " 'examen perito oficio',\n",
       " 'puntos periciales',\n",
       " 'puntos pericia',\n",
       " 'incapacidad',\n",
       " 'antecedentes',\n",
       " 'identificacion actor',\n",
       " 'conclusiones medicolegales',\n",
       " 'columna cervical',\n",
       " 'manifestacion ansiosa',\n",
       " 'historia clinica actual',\n",
       " 'historia clinica actual',\n",
       " 'columna lumbosacra',\n",
       " 'relato hechos',\n",
       " 'antecedentes personales',\n",
       " 'incapacidad actual',\n",
       " 'actual',\n",
       " 'conclusion',\n",
       " 'examen medico',\n",
       " '',\n",
       " '',\n",
       " '',\n",
       " '',\n",
       " 'tecnicas administradas',\n",
       " 'presenta',\n",
       " 'columna lumbar',\n",
       " 'examenes complementarios',\n",
       " 'diagnostico',\n",
       " 'rodilla derecha',\n",
       " 'antecedentes interes medicolegal',\n",
       " 'relacion eventos autos',\n",
       " 'anamnesis examen fisico',\n",
       " 'factores ponderacion',\n",
       " 'identificacion',\n",
       " 'manifestacion depresiva',\n",
       " 'datos personales peritado',\n",
       " 'puntos pericia parte demandada',\n",
       " 'tratamiento',\n",
       " 'anamnesis',\n",
       " 'izquierdo']"
      ]
     },
     "execution_count": 84,
     "metadata": {},
     "output_type": "execute_result"
    }
   ],
   "source": [
    "candidatosEncontrados"
   ]
  },
  {
   "cell_type": "markdown",
   "metadata": {},
   "source": [
    "# Búsqueda de títulos en los títulos candidatos"
   ]
  },
  {
   "cell_type": "code",
   "execution_count": 85,
   "metadata": {},
   "outputs": [],
   "source": [
    "# Buscar_candidatos: compara títulos candidatos con el diccionario te títulos candidatos=encontrados\n",
    "def buscar_candidatos(encontrado, candidato, ide, inicio, fin):\n",
    "    indiceEncontrados=[]\n",
    "    for i in range(len(candidato)):\n",
    "        for e in encontrado:\n",
    "            if candidato[i] == e:\n",
    "                indiceEncontrados.append((ide[i],candidato[i], inicio[i], fin[i]))\n",
    "    return indiceEncontrados"
   ]
  },
  {
   "cell_type": "code",
   "execution_count": 86,
   "metadata": {},
   "outputs": [],
   "source": [
    "# Lista con los títulos candidatos que son títulos de sección, su índice y ubicación\n",
    "indicesCandidatos = buscar_candidatos(candidatosEncontrados ,dfTitCandidato.titulo, dfTitCandidato.ide, dfTitCandidato.inicio, dfTitCandidato.fin)"
   ]
  },
  {
   "cell_type": "code",
   "execution_count": 87,
   "metadata": {},
   "outputs": [],
   "source": [
    "# Creo un dataframe de nuevos titulos encontrados y su ubicacion.\n",
    "dfUbicacionNuevosEncontrados = pd.DataFrame(indicesCandidatos, columns=['ide', 'titulo', 'inicio', 'fin'])"
   ]
  },
  {
   "cell_type": "code",
   "execution_count": 88,
   "metadata": {},
   "outputs": [],
   "source": [
    "dfUbicacionNuevosEncontrados.to_csv('df_UbicacionNuevosEncontrados.csv',index=False)\n",
    "dfUbicacionNuevosEncontrados.to_excel('df_UbicacionNuevosEncontrados.xlsx',index=False)"
   ]
  },
  {
   "cell_type": "markdown",
   "metadata": {},
   "source": [
    "# Busqueda de expedientes sin titulos localizados"
   ]
  },
  {
   "cell_type": "code",
   "execution_count": 89,
   "metadata": {},
   "outputs": [],
   "source": [
    "# Guardo en dfExpNuevosTitulos los expedientes y su indice dentro del dataframe limpio (con todos los expedientes)\n",
    "\n",
    "dfExpSinTitulosEncontrados = dfExpTitulosCandidatos\n",
    "for id_e in dfUbicacionNuevosEncontrados.ide:\n",
    "    dfExpSinTitulosEncontrados = dfExpSinTitulosEncontrados.drop(dfExpSinTitulosEncontrados[dfExpSinTitulosEncontrados['ide'] ==id_e].index)\n",
    "# dfExpNuevosTitulosEncontrados = pd.DataFrame(expConTitulosMayusculas, columns=['ide','expediente'])\n",
    "# dfSinTitulosEncontrados = pd.DataFrame(expSinTitulosEncontrados, columns=['ide','expediente'])"
   ]
  },
  {
   "cell_type": "markdown",
   "metadata": {},
   "source": [
    "# PRUEBAS"
   ]
  },
  {
   "cell_type": "code",
   "execution_count": 90,
   "metadata": {},
   "outputs": [],
   "source": [
    "import seaborn as sns\n",
    "import numpy as np\n",
    "\n",
    "#sns.heatmap(dist)"
   ]
  },
  {
   "cell_type": "code",
   "execution_count": 91,
   "metadata": {},
   "outputs": [
    {
     "data": {
      "text/plain": [
       "840"
      ]
     },
     "execution_count": 91,
     "metadata": {},
     "output_type": "execute_result"
    }
   ],
   "source": [
    "import numpy\n",
    "numpy.argmax(dist[0])\n",
    "\n"
   ]
  },
  {
   "cell_type": "code",
   "execution_count": 92,
   "metadata": {},
   "outputs": [
    {
     "data": {
      "text/plain": [
       "0.7046265129941619"
      ]
     },
     "execution_count": 92,
     "metadata": {},
     "output_type": "execute_result"
    }
   ],
   "source": [
    "dist[0][437]"
   ]
  },
  {
   "cell_type": "code",
   "execution_count": 93,
   "metadata": {},
   "outputs": [
    {
     "name": "stdout",
     "output_type": "stream",
     "text": [
      "antecedentes medicos legales importancia\n",
      "puntos pericia medica parte demandada galeno\n"
     ]
    }
   ],
   "source": [
    "print(titCandidato[0])\n",
    "print(titEncontrado[437])"
   ]
  },
  {
   "cell_type": "markdown",
   "metadata": {},
   "source": [
    "# Count Pruebas"
   ]
  },
  {
   "cell_type": "code",
   "execution_count": 94,
   "metadata": {},
   "outputs": [
    {
     "data": {
      "text/html": [
       "<div>\n",
       "<style scoped>\n",
       "    .dataframe tbody tr th:only-of-type {\n",
       "        vertical-align: middle;\n",
       "    }\n",
       "\n",
       "    .dataframe tbody tr th {\n",
       "        vertical-align: top;\n",
       "    }\n",
       "\n",
       "    .dataframe thead th {\n",
       "        text-align: right;\n",
       "    }\n",
       "</style>\n",
       "<table border=\"1\" class=\"dataframe\">\n",
       "  <thead>\n",
       "    <tr style=\"text-align: right;\">\n",
       "      <th></th>\n",
       "      <th></th>\n",
       "      <th>a</th>\n",
       "      <th>ac</th>\n",
       "      <th>ad</th>\n",
       "      <th>an</th>\n",
       "      <th>au</th>\n",
       "      <th>c</th>\n",
       "      <th>ce</th>\n",
       "      <th>cl</th>\n",
       "      <th>co</th>\n",
       "      <th>...</th>\n",
       "      <th>ve</th>\n",
       "      <th>ven</th>\n",
       "      <th>vi</th>\n",
       "      <th>vic</th>\n",
       "      <th>x</th>\n",
       "      <th>xa</th>\n",
       "      <th>xam</th>\n",
       "      <th>z</th>\n",
       "      <th>zq</th>\n",
       "      <th>zqu</th>\n",
       "    </tr>\n",
       "  </thead>\n",
       "  <tbody>\n",
       "    <tr>\n",
       "      <th>0</th>\n",
       "      <td>3</td>\n",
       "      <td>0</td>\n",
       "      <td>0</td>\n",
       "      <td>0</td>\n",
       "      <td>0</td>\n",
       "      <td>0</td>\n",
       "      <td>0</td>\n",
       "      <td>0</td>\n",
       "      <td>0</td>\n",
       "      <td>0</td>\n",
       "      <td>...</td>\n",
       "      <td>0</td>\n",
       "      <td>0</td>\n",
       "      <td>0</td>\n",
       "      <td>0</td>\n",
       "      <td>0</td>\n",
       "      <td>0</td>\n",
       "      <td>0</td>\n",
       "      <td>0</td>\n",
       "      <td>0</td>\n",
       "      <td>0</td>\n",
       "    </tr>\n",
       "    <tr>\n",
       "      <th>1</th>\n",
       "      <td>1</td>\n",
       "      <td>0</td>\n",
       "      <td>0</td>\n",
       "      <td>0</td>\n",
       "      <td>0</td>\n",
       "      <td>0</td>\n",
       "      <td>0</td>\n",
       "      <td>0</td>\n",
       "      <td>0</td>\n",
       "      <td>0</td>\n",
       "      <td>...</td>\n",
       "      <td>0</td>\n",
       "      <td>0</td>\n",
       "      <td>0</td>\n",
       "      <td>0</td>\n",
       "      <td>1</td>\n",
       "      <td>1</td>\n",
       "      <td>1</td>\n",
       "      <td>0</td>\n",
       "      <td>0</td>\n",
       "      <td>0</td>\n",
       "    </tr>\n",
       "    <tr>\n",
       "      <th>2</th>\n",
       "      <td>1</td>\n",
       "      <td>0</td>\n",
       "      <td>0</td>\n",
       "      <td>0</td>\n",
       "      <td>0</td>\n",
       "      <td>0</td>\n",
       "      <td>0</td>\n",
       "      <td>0</td>\n",
       "      <td>0</td>\n",
       "      <td>0</td>\n",
       "      <td>...</td>\n",
       "      <td>0</td>\n",
       "      <td>0</td>\n",
       "      <td>0</td>\n",
       "      <td>0</td>\n",
       "      <td>1</td>\n",
       "      <td>1</td>\n",
       "      <td>1</td>\n",
       "      <td>0</td>\n",
       "      <td>0</td>\n",
       "      <td>0</td>\n",
       "    </tr>\n",
       "    <tr>\n",
       "      <th>3</th>\n",
       "      <td>2</td>\n",
       "      <td>0</td>\n",
       "      <td>0</td>\n",
       "      <td>0</td>\n",
       "      <td>0</td>\n",
       "      <td>0</td>\n",
       "      <td>0</td>\n",
       "      <td>0</td>\n",
       "      <td>0</td>\n",
       "      <td>0</td>\n",
       "      <td>...</td>\n",
       "      <td>0</td>\n",
       "      <td>0</td>\n",
       "      <td>0</td>\n",
       "      <td>0</td>\n",
       "      <td>1</td>\n",
       "      <td>1</td>\n",
       "      <td>0</td>\n",
       "      <td>0</td>\n",
       "      <td>0</td>\n",
       "      <td>0</td>\n",
       "    </tr>\n",
       "    <tr>\n",
       "      <th>4</th>\n",
       "      <td>4</td>\n",
       "      <td>0</td>\n",
       "      <td>0</td>\n",
       "      <td>0</td>\n",
       "      <td>0</td>\n",
       "      <td>0</td>\n",
       "      <td>0</td>\n",
       "      <td>0</td>\n",
       "      <td>0</td>\n",
       "      <td>0</td>\n",
       "      <td>...</td>\n",
       "      <td>0</td>\n",
       "      <td>0</td>\n",
       "      <td>0</td>\n",
       "      <td>0</td>\n",
       "      <td>0</td>\n",
       "      <td>0</td>\n",
       "      <td>0</td>\n",
       "      <td>0</td>\n",
       "      <td>0</td>\n",
       "      <td>0</td>\n",
       "    </tr>\n",
       "    <tr>\n",
       "      <th>...</th>\n",
       "      <td>...</td>\n",
       "      <td>...</td>\n",
       "      <td>...</td>\n",
       "      <td>...</td>\n",
       "      <td>...</td>\n",
       "      <td>...</td>\n",
       "      <td>...</td>\n",
       "      <td>...</td>\n",
       "      <td>...</td>\n",
       "      <td>...</td>\n",
       "      <td>...</td>\n",
       "      <td>...</td>\n",
       "      <td>...</td>\n",
       "      <td>...</td>\n",
       "      <td>...</td>\n",
       "      <td>...</td>\n",
       "      <td>...</td>\n",
       "      <td>...</td>\n",
       "      <td>...</td>\n",
       "      <td>...</td>\n",
       "      <td>...</td>\n",
       "    </tr>\n",
       "    <tr>\n",
       "      <th>24241</th>\n",
       "      <td>6</td>\n",
       "      <td>1</td>\n",
       "      <td>1</td>\n",
       "      <td>0</td>\n",
       "      <td>0</td>\n",
       "      <td>0</td>\n",
       "      <td>0</td>\n",
       "      <td>0</td>\n",
       "      <td>0</td>\n",
       "      <td>0</td>\n",
       "      <td>...</td>\n",
       "      <td>0</td>\n",
       "      <td>0</td>\n",
       "      <td>0</td>\n",
       "      <td>0</td>\n",
       "      <td>0</td>\n",
       "      <td>0</td>\n",
       "      <td>0</td>\n",
       "      <td>0</td>\n",
       "      <td>0</td>\n",
       "      <td>0</td>\n",
       "    </tr>\n",
       "    <tr>\n",
       "      <th>24242</th>\n",
       "      <td>0</td>\n",
       "      <td>0</td>\n",
       "      <td>0</td>\n",
       "      <td>0</td>\n",
       "      <td>0</td>\n",
       "      <td>0</td>\n",
       "      <td>0</td>\n",
       "      <td>0</td>\n",
       "      <td>0</td>\n",
       "      <td>0</td>\n",
       "      <td>...</td>\n",
       "      <td>0</td>\n",
       "      <td>0</td>\n",
       "      <td>0</td>\n",
       "      <td>0</td>\n",
       "      <td>0</td>\n",
       "      <td>0</td>\n",
       "      <td>0</td>\n",
       "      <td>0</td>\n",
       "      <td>0</td>\n",
       "      <td>0</td>\n",
       "    </tr>\n",
       "    <tr>\n",
       "      <th>24243</th>\n",
       "      <td>1</td>\n",
       "      <td>0</td>\n",
       "      <td>0</td>\n",
       "      <td>0</td>\n",
       "      <td>0</td>\n",
       "      <td>0</td>\n",
       "      <td>0</td>\n",
       "      <td>0</td>\n",
       "      <td>0</td>\n",
       "      <td>0</td>\n",
       "      <td>...</td>\n",
       "      <td>0</td>\n",
       "      <td>0</td>\n",
       "      <td>0</td>\n",
       "      <td>0</td>\n",
       "      <td>0</td>\n",
       "      <td>0</td>\n",
       "      <td>0</td>\n",
       "      <td>0</td>\n",
       "      <td>0</td>\n",
       "      <td>0</td>\n",
       "    </tr>\n",
       "    <tr>\n",
       "      <th>24244</th>\n",
       "      <td>7</td>\n",
       "      <td>1</td>\n",
       "      <td>0</td>\n",
       "      <td>0</td>\n",
       "      <td>0</td>\n",
       "      <td>0</td>\n",
       "      <td>0</td>\n",
       "      <td>0</td>\n",
       "      <td>0</td>\n",
       "      <td>0</td>\n",
       "      <td>...</td>\n",
       "      <td>2</td>\n",
       "      <td>0</td>\n",
       "      <td>0</td>\n",
       "      <td>0</td>\n",
       "      <td>0</td>\n",
       "      <td>0</td>\n",
       "      <td>0</td>\n",
       "      <td>0</td>\n",
       "      <td>0</td>\n",
       "      <td>0</td>\n",
       "    </tr>\n",
       "    <tr>\n",
       "      <th>24245</th>\n",
       "      <td>2</td>\n",
       "      <td>0</td>\n",
       "      <td>0</td>\n",
       "      <td>0</td>\n",
       "      <td>0</td>\n",
       "      <td>0</td>\n",
       "      <td>1</td>\n",
       "      <td>0</td>\n",
       "      <td>0</td>\n",
       "      <td>1</td>\n",
       "      <td>...</td>\n",
       "      <td>0</td>\n",
       "      <td>0</td>\n",
       "      <td>0</td>\n",
       "      <td>0</td>\n",
       "      <td>0</td>\n",
       "      <td>0</td>\n",
       "      <td>0</td>\n",
       "      <td>0</td>\n",
       "      <td>0</td>\n",
       "      <td>0</td>\n",
       "    </tr>\n",
       "  </tbody>\n",
       "</table>\n",
       "<p>24246 rows × 478 columns</p>\n",
       "</div>"
      ],
      "text/plain": [
       "           a   ac   ad   an   au   c   ce   cl   co  ...  ve  ven  vi  vic  x  \\\n",
       "0      3   0    0    0    0    0   0    0    0    0  ...   0    0   0    0  0   \n",
       "1      1   0    0    0    0    0   0    0    0    0  ...   0    0   0    0  1   \n",
       "2      1   0    0    0    0    0   0    0    0    0  ...   0    0   0    0  1   \n",
       "3      2   0    0    0    0    0   0    0    0    0  ...   0    0   0    0  1   \n",
       "4      4   0    0    0    0    0   0    0    0    0  ...   0    0   0    0  0   \n",
       "...   ..  ..  ...  ...  ...  ...  ..  ...  ...  ...  ...  ..  ...  ..  ... ..   \n",
       "24241  6   1    1    0    0    0   0    0    0    0  ...   0    0   0    0  0   \n",
       "24242  0   0    0    0    0    0   0    0    0    0  ...   0    0   0    0  0   \n",
       "24243  1   0    0    0    0    0   0    0    0    0  ...   0    0   0    0  0   \n",
       "24244  7   1    0    0    0    0   0    0    0    0  ...   2    0   0    0  0   \n",
       "24245  2   0    0    0    0    0   1    0    0    1  ...   0    0   0    0  0   \n",
       "\n",
       "       xa  xam  z  zq  zqu  \n",
       "0       0    0  0   0    0  \n",
       "1       1    1  0   0    0  \n",
       "2       1    1  0   0    0  \n",
       "3       1    0  0   0    0  \n",
       "4       0    0  0   0    0  \n",
       "...    ..  ... ..  ..  ...  \n",
       "24241   0    0  0   0    0  \n",
       "24242   0    0  0   0    0  \n",
       "24243   0    0  0   0    0  \n",
       "24244   0    0  0   0    0  \n",
       "24245   0    0  0   0    0  \n",
       "\n",
       "[24246 rows x 478 columns]"
      ]
     },
     "execution_count": 94,
     "metadata": {},
     "output_type": "execute_result"
    }
   ],
   "source": [
    "# Importo las librerias necesarias.\n",
    "import pandas as pd\n",
    "from sklearn.feature_extraction.text import CountVectorizer\n",
    "\n",
    "'''\n",
    "Creo el vectorizador - Función: countVectorizer.\n",
    "Entreno el vectorizador con títulos candidatos a nivel de caracteres.\n",
    "Creo las matrices de títulos candidatos y títulos encontrados.\n",
    "'''\n",
    "coun_vect = CountVectorizer(max_df=0.99,min_df=1,lowercase=True, analyzer=\"char\", ngram_range=(1,3),max_features = 1000)\n",
    "coun_vect.fit(candidatosEncontrados)\n",
    "count_candidatos = coun_vect.transform(titCandidato)\n",
    "count_encontrados = coun_vect.transform(candidatosEncontrados)\n",
    "count_array = count_candidatos.toarray()\n",
    "dfCountVec = pd.DataFrame(data=count_array,columns = coun_vect.get_feature_names_out())\n",
    "dfCountVec\n"
   ]
  },
  {
   "cell_type": "code",
   "execution_count": 95,
   "metadata": {},
   "outputs": [],
   "source": [
    "# Calculo de la similitud de vectores - Función: similitud coseno\n",
    "from sklearn.metrics.pairwise import cosine_similarity\n",
    "dist = cosine_similarity(count_candidatos, count_encontrados)"
   ]
  },
  {
   "cell_type": "code",
   "execution_count": 96,
   "metadata": {},
   "outputs": [
    {
     "data": {
      "text/plain": [
       "(24246, 57)"
      ]
     },
     "execution_count": 96,
     "metadata": {},
     "output_type": "execute_result"
    }
   ],
   "source": [
    "dist.shape"
   ]
  },
  {
   "cell_type": "code",
   "execution_count": 97,
   "metadata": {},
   "outputs": [],
   "source": [
    "# Calculo la distancia entre títulos candidatos y títulos encontrados. Solo se guarda el valor mayor de similitud.\n",
    "from operator import index\n",
    "import numpy as np\n",
    "\n",
    "candidatoList=[]\n",
    "encotradoList=[]\n",
    "distancia=[]\n",
    "for i_cand in range(dist.shape[0]):\n",
    "    i_enc = np.argmax(dist[i_cand])\n",
    "    if dist[i_cand][i_enc] > 0.9:\n",
    "        candidatoList.append(titCandidato[i_cand])\n",
    "        encotradoList.append(candidatosEncontrados[i_enc])\n",
    "        distancia.append(dist[i_cand][i_enc])\n",
    "    else:\n",
    "        dfTitCandidato = dfTitCandidato.drop(dfTitCandidato[dfTitCandidato['titulo'] == titCandidato[i_cand]].index)\n",
    "# Creo un dataframe de Nuevos títulos encontrados y sus distancias cosenoidales.\n",
    "dfPruebaCandidatosDistancia = pd.DataFrame({'candidato':candidatoList, 'encontrado': encotradoList, 'distancia': distancia})"
   ]
  },
  {
   "cell_type": "code",
   "execution_count": 98,
   "metadata": {},
   "outputs": [
    {
     "data": {
      "text/plain": [
       "(3380, 6)"
      ]
     },
     "execution_count": 98,
     "metadata": {},
     "output_type": "execute_result"
    }
   ],
   "source": [
    "dfTitCandidato.shape"
   ]
  },
  {
   "cell_type": "code",
   "execution_count": 99,
   "metadata": {},
   "outputs": [],
   "source": [
    "dfNuevo = dfPruebaCandidatosDistancia.drop_duplicates()"
   ]
  },
  {
   "cell_type": "code",
   "execution_count": 100,
   "metadata": {},
   "outputs": [
    {
     "data": {
      "text/plain": [
       "219"
      ]
     },
     "execution_count": 100,
     "metadata": {},
     "output_type": "execute_result"
    }
   ],
   "source": [
    "len(dfNuevo)"
   ]
  },
  {
   "cell_type": "code",
   "execution_count": null,
   "metadata": {},
   "outputs": [],
   "source": []
  }
 ],
 "metadata": {
  "kernelspec": {
   "display_name": "Python 3.9.5 ('proyecto-env')",
   "language": "python",
   "name": "python3"
  },
  "language_info": {
   "codemirror_mode": {
    "name": "ipython",
    "version": 3
   },
   "file_extension": ".py",
   "mimetype": "text/x-python",
   "name": "python",
   "nbconvert_exporter": "python",
   "pygments_lexer": "ipython3",
   "version": "3.9.5"
  },
  "orig_nbformat": 4,
  "vscode": {
   "interpreter": {
    "hash": "009f8d941f1a5e5fa5c53bd1fe1f1a27e75894b84557fa679569ec42254b5e02"
   }
  }
 },
 "nbformat": 4,
 "nbformat_minor": 2
}
