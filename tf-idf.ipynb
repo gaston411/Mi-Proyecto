{
 "cells": [
  {
   "cell_type": "markdown",
   "metadata": {},
   "source": [
    "# Vectorización de texto\n",
    "### Creación de los dataframe y limpieza de texto"
   ]
  },
  {
   "cell_type": "code",
   "execution_count": 2,
   "metadata": {},
   "outputs": [],
   "source": [
    "import pandas as pd\n",
    "import numpy as np\n",
    "from pprint import pprint\n",
    "\n",
    "df = pd.read_csv('pericias_medicas.csv', sep=',',  encoding='utf-8')\n",
    "#convierte en string los datos de la columna text\n",
    "df1 = df['text'].apply(str)"
   ]
  },
  {
   "cell_type": "markdown",
   "metadata": {},
   "source": [
    "# Fase de limpieza"
   ]
  },
  {
   "cell_type": "code",
   "execution_count": 4,
   "metadata": {},
   "outputs": [],
   "source": [
    "#Limpieza de caracteres no deseados\n",
    "import nltk\n",
    "import re\n",
    "\n",
    "def general(txt: str, bert=False, nums=False) -> str:\n",
    "    \"\"\"\n",
    "    Elimina caracteres no deseados\n",
    "    Params:\n",
    "        **txt**:texto a ser limpiado de caracteres no desaeados\n",
    "    \"\"\"\n",
    "    if nums:\n",
    "        txt = re.sub(r'\\d+', ' ', txt)\n",
    "    if not bert:\n",
    "        txt = txt.translate(str.maketrans(\n",
    "            'áéíóúýàèìòùÁÉÍÓÚÀÈÌÒÙÝ', 'aeiouyaeiouAEIOUAEIOUY'))\n",
    "        txt = re.sub(r'[^\\w\\s:.)-]', '', txt)\n",
    "\n",
    "    txt = txt.replace('\\r', ' ').replace(\"\\v\", ' ').replace(\n",
    "        \"\\t\", ' ').replace(\"\\f\", ' ').replace(\"\\a\", ' ').replace(\"\\b\", ' ')\n",
    "    txt = re.sub(' +', ' ', txt)\n",
    "    txt = txt.strip()\n",
    "    return txt\n",
    "\n",
    "dfLimpio = df1.apply(general)\n"
   ]
  },
  {
   "cell_type": "code",
   "execution_count": 5,
   "metadata": {},
   "outputs": [],
   "source": [
    "#limpieza de stopwords\n",
    "\n",
    "stops = nltk.corpus.stopwords.words('spanish')\n",
    "\n",
    "def remove_stops(texto: str) -> str:\n",
    "    \"\"\"\n",
    "    Función que elimina stopwords\n",
    "    Params:\n",
    "        **texto**:texto a ser limpiado de stopwords\n",
    "\n",
    "    \"\"\"\n",
    "    texto = [\n",
    "        i for i in texto.split() if i not in stops\n",
    "    ]\n",
    "    return ' '.join(texto)\n",
    "\n",
    "dfLimpio = dfLimpio.apply(remove_stops)"
   ]
  },
  {
   "cell_type": "code",
   "execution_count": 6,
   "metadata": {},
   "outputs": [
    {
     "data": {
      "text/plain": [
       "'Informa continuacion: J.T. 13 PERITO MEDICO PRESENTA INFORME PERICIAL Autos: BOIERO FRANCO IVAN cSWISS MEDICAL ART S.A. sAccidente - Ley Especial Expediente N.º: 713992017 I-PROEMIO: Sr. JUEZ NACIONAL: HORTAS MARIA ANDREA S. perito medico oficio siguientes autos domicilio constituido calle Austria 1754 3º piso Dpto. 10 Capital Z 172 tel. 4325-8802 domicilio electronico mashortashotmail.com 27- 16523394-3 cumplimiento dispuesto V.S. referente presentes autos despues haber examinado dijo ser Boiero Franco Ivan tomaron momento examen clinico actual consideraron capacidad generica particular puntos pericia solicitados partes V.S.: II-ANTECEDENTES DE INTERES MEDICO-LEGAL: Foja 3 Inicia demanda Foja 6 vta. Hechos accidente in itinere refiere 20 setiembre 2017 siendo 5:10h encontraba camino trabajo cruzar calle piso piedra pie izquierdo queda trabado girando cuerpo sufriendo entorsis tobillo izquierdo asi consecuencia fuerte dolor da aviso empleador realiza correspondiente denuncia ART realizan estudios radiograficos indican reposo kinesiologia otorgandole alta medica incapacidad. Cabe destacar previo accidente nunca presento sintomatologia tampoco ingresos ART dolencias zona denunciada . Jamas realizo examen preocupacional periodico . Sostiene presenta Incapacidad 8. Foja 7 vta. refiere accidente tambien determino daño psiquico actor. Foja 27 Puntos pericia medica Foja 27 vta. Puntos pericia psicologica Foja 45 Contesta demandada Foja 49 Niega cada hechos Foja 50 Hechos: siniestro laboral denunciado demandado respecto accidente ocurrido denunciado Swiss Medical bajo siniestro 21700033815 aceptado demandado brindo prestaciones correspondientes especie manteniendo atencion 251017 dado alta incapacidad. Foja 69 puntos pericia medica psicologica 1 III-EXAMEN FISICO DEL ACTOR: III-1 PROSOGRAFIA: Se presenta examen persona sexo masculino deambula propios medios ayuda terceros protesis alguna color piel blanca cabello castaño corto pronuncia correctamente palabras aspecto bueno colaborador presentacion correcta adecuada comportamiento acorde entorno ocasion. Concurre acompañantes presente examen medico solicitud estudios realizo 20 marzo 2019 Refiere hechos si mismo. III-2 MOTIVO DE LA EVALUACION: - Limitacion movilidad tobillo izquierdo - Depresion III-3 DATOS PERSONALES: El examinado concurre solo examen proporciona si misma datos asentados informe identifica DNI 32.385.243 declara haber nacido 23 mayo 1986 33 años nacionalidad argentina estudios terciarios completos Seguridad Higiene ocupacion comerciante. Domiciliado calle Robert Kennedy 3447 localidad Villa Mayo Pcia. Bs.As. soltero vive pareja hija 9 meses . No refiere alergias medicamentosas refiere antecedentes quirurgicos apendicectomia varicocele. No recibe tratamiento medicamentoso. Es zurdo actividad diaria fuma 2 cigarrillos dia consume alcohol practicaba futbol dejo . III-4 RELATO DE LOS HECHOS: El siguiente item corresponde relato hechos segun efectuado actor presente entrevista. : refiere agosto 2017 yendo trabajar ASPRO Delta Compresiones viaje primero tren luego tomaba colectivo Estacion Belgrano Norte. Comenta misma arreglando correr piso mal piedra doblo tobillo quedo inmovilizado. Dio aviso empleador departamento seguridad higiene trabajando agencia 2 empresa envio ART derivaron Villa Lynch Clinica Swiss Medical. Al llegar pie edematizado pesar ello hicieron recorrer haciendo tramites debio hacer saltando pie tenia trasladarse. Le dieron luego silla rueda examinaron diagnosticaron esguince mandaron casa analgesicos. Nunca inmovilizaron muletas consiguieron 15 dias despues. Nunca otorgaron traslado kinesiologia otorgaron vez dia casi mes 15 dias poder apoyar pie iba saltando pie sano. Los primeros dias casi podia tocarse . Le pusieron magnetoterapia dieron 15 min ejercicios apoyo 10 dias dieron apto seguia dolores otorgaron 5 sesiones mas continuaba mismos ejercicios. Cuando comenzo apoyo pisaba mal resintio rodilla pie seguia edematizado podia caminar otorgaron 3 sesiones mas alta firmo disconformidad reincorporo echaron. Las tareas realizaba montaje compresores gas actividad realizaba parado trepado III-5-SEMIOLOGIA DE LAS AFECCIONES: 1. GENERAL examinado presenta buen general actitud activa indiferente aprecian posturas patologicas marcha normal fases impulso apoyo balanceo presenta dificultades marcha punta pie talon . No presenta cicatrices region cuestion. Pesa 70 kg mide 166 determina IMC 2545 correspondiente categoria sobrepeso 2. TOBILLO: Anamnesis: refiere persisten dolores tobillo puede jugar mas futbol empieza doler maleolo externo tiron rodilla Si permanece pie tiempo prolongado pie comienza edematizarse sucede mismo camina mucho. Examen Fisico: momento examen constataron edemas palpacion presento dolor maniobras defensivas region retromaleolar externo Diametro bimaleolar derecho 23 cm izquierdo 24 cm. Se constato movilidad activa pasiva siendo misma mesurada goniometro volcada presente informe. Flexion dorsal Flexion plantar Inversion Eversion T. Derecho 30 40 30 20 T. Izq. 20 30 20 20 3 -EXAMENES COMPLEMENTARIOS : RMN tobillo izquierdo 4. PSICOENTREVISTA: El actor realiza relato hechos preciso coherente signos fabulacion. Con lenguaje escaso parco relato acorde nivel cultural presento entrevistas periciales buen prolijidad ropas modales. No ofrecio obstaculos referencias colaboro interrogatorio examen fisico pruebas sometido. Tiene dialogo sencillo acorde nivel educativo mantiene actitud atenta cordial dialogo correlacion pensamiento diccion. Se mantuvo orientado tiempo espacio. No presenta alteraciones juicio pensamiento presenta alteraciones memoria. No antecedentes familiares personales traumatismo craneo tumores sistema nervioso central. Su grupo familiar origen constituido padre vivo sana trabaja maestro mayor obra. Su madre viva sana ama casa 4 hermanos. Comenta nacio localidad Malvinas Argentinas describe infancia buena familia unida padres estan juntos. Los estudios primarios curso Escuela Jean Piaget aun conserva amigos. Practicaba handball respecto adolescencia comenta estudios efectuo Colegio Teresita Liseaux contacto aun amigos continuaba jugando futbol handball. Los fines semana salia amigos ir bailar poco. Le gustaba estudiar musica padre musico toca guitarra piano hoy dia casa padres sala ensayo. Cuando finalizo secundario comenzo trabajar padre Siemens comenzo UBA estudiar diseño grafico hizo CBC luego dejo dedico trabajar. Inicio luego UTN tecnicatura seguridad higiene 2014. En tiempo libre familia amigos. A señora conocio amigos trabaja comercio despues dejo trabajar ASPRO realizo diferentes tareas comenzo empresa montaje equipos diagnostico imagenes cerca 8 meses luego 4 cuestiones formales luego empezo trabajar empresa similar sede Cordoba septiembre 2018 realizo inversion puso libreria atiende junto señora. Asi dejo viajar luego cambiaron rubro hoy granja. Con respecto accidente afecto personal cuanto abandono deporte perdio oportunidades laborales habian llamado trabajo Mendoza temor volverse lesionar viajo deshecho ocasiono problemas señora tampoco amigos tampoco registro cambios caracter aunque veces reniega situacion. Lo pone mal humor dolores trata sobrellevarlo. No realizo psicoterapia hecho realizo 1 2 mando director colegio hiperactividad Le trajo problemas dormir principio duele pierna dias humedad . -EXAMENES COMPLEMENTARIOS: Psicodiagnostico test estan adjuntados autos) 5 IV-CONSIDERACIONES MEDICO-LEGALES: Comenta Sr Boiero mientras dirigia trabajo corre perder tren pisando mal pie izquierdo sufrio esguince 6 tobillo izquierdo. Fue asistido ART segun referencias brindo tratamiento kinesico luego den alta tareas habituales. A pesar actor refirio persistencia dolencias. La demandada refiere acepto siniestro brindo prestaciones correspondientes alta. No documentacion medica adjuntada autos estudios tratamientos efectuados. Del examen medico efectuado constato actor presenta dolor manifesto maniobras defensivas disminucion movilidad respecto contralateral. Se solicito RMN constato actor presenta esguince ligamento peroneo-astragalino anterior injuria parcial ligamento tibioperoneo anterior. El tobillo articulacion juega papel importante bipedestacion distribucion peso corporal alteracion biomecanica causa dolor predispone lesiones recurrentes. Es importante conocer anatomia evaluar estructuras involucradas afecciones . La region anatomica tobillo formada dos articulaciones articulacion tibioperoneo-astragalina compuesta extremo distal tibia perone astragalo) subastragalina troclea astragalo calcaneo) unido serie ligamentos mantiene estable permite realizacion movimientos tobillo: flexion extension inversion eversion . El diagnostico presento aun presenta esguince ligamento peroneo-astragalino anterior ligamento tibioperoneo anterior. El ligamento peroneo-astragalino anterior mas debil identifica banda delgada extiende maleolo lateral inserta region anterior astragalo funcion evitar desplazamiento posterior astragalo. El ligamento tibioperoneo anterior ve banda corta contribuye mantener sindesmosis. Cuando produce desplazamiento hacia adentro hacia afuera pie produce distension excesiva tendon segun grado misma va elongacion disrupcion fibras. GRADO I desgarro parcial ligamento): existe dolor cuya intensidad puede ser variable segun casos suele aparecer tras periodo menos dolor. La impotencia funcional existe minima existe poca tumefaccion zona. No inestabilidad articular. GRADO II desgarro incompleto ligamento incapacidad funcional moderada): dolor palpacion estructuras lesionadas. Existe tumefaccion precoz edema partes blandas equimosis primeras 24-48 horas. La impotencia funcional moderada. Existe inestabilidad articular pone manifiesto maniobras movilidad pasiva. GRADO III rotura completa perdida integridad ligamento): tumefaccion edema hematoma local inmediata tras accidente. La equimosis tambien precoz. El dolor intenso principio percepcion clara gravedad parte 7 paciente. Existe impotencia funcional total imposibilidad apoyo. En ocasiones fase inicial dolor agudo intenso puede seguir analgesia debido rotura haces nerviosos aferentes.1 La mayoria esguinces pueden ser tratados exito cuanto dolor inmovilizacion tratamiento kinesiologico adecuado cuadro deberia resolverse si fibras encuentran desgarradas puede requerir tratamiento quirurgico fin reparar tendon . De evolucionar forma satisfactoria permanecen sintomas hinchazon periarticular dolor rigidez tobillo inestabilidad articular mayor cuanto menos adecuado sido periodo tipo inmovilizacion posterior rehabilitacion. El paciente percibe cierta inestabilidad inseguridad tobillo frecuentes torceduras posteriores. En base expuesto surge lesiones tobillo Sr Boiero resuelto totalidad persistiendo aun dificultades movilidad asi dolores. Surge RMN lesiones tendinosas aun persisten actor. Esto determina actor dificultades movilidad presenta Incapacidad Parcial Permanente 6 segun Baremo Ley 24557. Psicotrauma: Pero ademas conocer historia sujeto debera prestar atencion literatura reconoce describe caracteristicas evento traumatico. La caracteristicas particulares suceso capacidad traumatizante. Asi ejemplo hecho ajeno experiencia cotidiana padezca peligro muerte tipo amenaza integridad condicionaran modalidad respuesta. Incluso mas alla caracteristicas personalidad. Sin embargo hecho saliente excombatiente sobreviviente catastrofes padezca trastornos cronicos obliga ponderar solo caracteristicas accidente traumatico sino tambien forma vivenciados. Se reconoce valencia negativa - decir significado moral peyorativo atribuya evento consecuencias comportamiento produccion mismo sensacion poder controlar marcha hechos ocurren condicionaran positivamente manifestacion patologia. Y condiciones jugara rol trascendente constitucion historia padezca trauma. La relacion sicopatologia fenomenologica semiologia descriptiva materia reaccion trauma ofrece formula integracion. La misma consiste brindar contexto comprensivo modalidad respuesta clinica desencadenada estimulo determinado persona especifica. Mas alla figura clinica adopte expresion morbida fenomenologia permitira establecer tipo vivencia subyace clinica. Entonces sujeto presente Reacciones Agudas 1 Esguince Tobillo .F. Sanchez Ruano E. Paya Zaforteza Especialista Traumatologia 8 Estres Trastornos Estres Agudo Trastornos Adaptacion cumplan curso natural luego remitan abordaje considerara respuesta adopta forma reaccion primaria. Pero si presentacion asume forma TEPT origen precoz tardio punto partido Trastorno Estres Agudo nocion aplicar sera desarrollo. Modelo abordaje niveles jerarquicos progresivos figura daño psiquico- Esteban Toro Martinez Binder analizo expuso acabada claridad conceptual particular manifestacion psicopatologica. Estudia asi aquellos trastornos producen ciertas vivencias llaman psicotraumatico provocan determinadas respuestas psicologicas anormales designa vivencias psicotraumaticas aquellas sacuden minan equilibrio animico persona trastornan mas menos balance interno previamente alterado. Se producen circunstancias medio ambiente pasando organos entran psique afectando ciertas disposiciones sensibles persona. De pueda ser controlada suficientemente aparato psiquico global. El mismo autor distingue respuestas animicas vivencias traumaticas reacciones desarrollos. En tal expresa Binder trastorno reaccion psicologicamente anormal psicotraumatico agudo equilibrio... cursa breve tiempo unas horas par meses) manifestacion aislada. Al cesar efecto traumatico vivencia persona recupera relativamente pronto dominio funciones psiquicas reaccion regla general cesa dejar tras si alteraciones permanentes psique. En cambio desarrollos psiquicos anormales mas dificiles superar toda vez bajo incidencia daños psicotraumatico cronicos repiten continuamente producen alteraciones desfavorables estructura determinadas disposiciones psiquicas ello respuestas anomalas larga duracion meses años) consecuente desadaptacion vida cotidiana. Importancia semiologia delictiva peritacion psiquiatrita-forense penal Dr. Brunoy Romi. Si analizamos hechos actor menester tener claro trata alteracion homeostasis individuo afecta distintas areas vida personal vida relacion pareja ambito laboral cambios humor animo. Estos hechos manifiesta depresiones inhibiciones fobias cambios alimentarios aislamiento desgano. La mencion sintomas aislados constituye si daño psiquico menester cualquier patologia constituya sindrome coherente. En cuanto actor observar secuelas fisicas asi accidente afectado distintas areas personal familiar pareja. A pesar lesiones actor logrado continuar vida normal reinsertarse ambito laboral mantener relacion pares. Son dificultades movilidad asi dolores hechos aquejan respuesta 9 dificultan compartir actividades deportivas amigos. Estas dificultades aisladas menciono secuelas accidente constituyen si mismas daño psiquico conforman Dr. Risso define daño moral mismo define sufrimiento normal afeccion . Las observaciones perito coinciden expuesto profesional llevo cabo psicodiagnostico Por puede concluir actor presenta incapacidad secuelas psicologicas. VII-CONCLUSIONES. 1. Las secuelas tobillo izquierdo presenta actor consecuencia accidente padecio. El tratamiento efectuo segun referencias actor adecuadas cuanto inmovilizacion tratamiento kinesiologico embargo obtuvo resultado satisfactorio. Podria corresponder inmovilizacion adecuada tratamiento kinesico incompleto. 2. Estas conclusiones base hecho aun persiste dificultades movilidad dolores consecuencia persiste esguince observa RMN solicitada . 3. tendones musculos mejorar movilidad. 4. misma articulacion agravando aun mas cuadro. 5. Con respecto daño psicologico expresado constatado sintomas refirio actor afectaron diferentes esferas vida alterado personal familiar pareja. Se ah reinsertado ambito laboral dificultades. Lo observado perito coincidente observado profesional llevado cabo psicodiagnostico. 6. Las dolencias dificultades movilidad presenta actor determina presente dificultades intermedias realizacion tareas habituales vista genera dificultades deambular pie tiempo prolongado. No considera requiera recalificacion vista desarrolla tareas laborales cuenta. 7. Que efectos fiscales denuncio CUIT N.º: 27-16523394-3 hallo inscripta RESPONSABLE INSCRIPTA momento deposito honorarios CONSIDERE EL DEPOSITO DEL I.V.A La articulacion factible inestabilidad actor sufra lesion El actor deberia completar tratamiento kinesico fin fortificar 10 VII-INCAPACIDAD: actor lesiones sufridas presenta incapacidad parcial permanente 6 segun baremo mencionado. Factores ponderacion: Amerita recalificacion: Dificultad tareas habituales: Intermedia 15 09 Edad: 2 012 Incapacidad Parcial Permanente 702 segun Baremo Ley 24557 VIII CONTESTACION DE LOS PUNTOS DE PERICIA: VIII-1-De parte actora 1. Ya contestado informe pericial. 2. Ya contestado informe pericial 3. Ya contestado informe pericial 4. Ya contestado informe pericial. 5. Ya contestado informe pericial 6. Ya contestado informe pericial 11 7. Ya contestado informe pericial. 8. Ya contestado informe pericial. 9. Ya contestado informe pericial. 10. Ya contestado informe pericial. Psicologicos 1. Ya contestado informe pericial. 2. Ya contestado informe pericial 3. Ya contestado informe pericial 4. Ya contestado informe pericial. 5. Ya contestado informe pericial. 6. Ya contestado informe pericial. 7. Ya contestado informe pericial. 8. Ya contestado informe pericial. VIII-1-De parte demandada 1. Ya contestado informe pericial 2. Ya contestado presente informe 3. Ya contestado informe pericial 4. Ya contestado informe pericial 5. Ya contestado informe pericial 6. Ya contestado informe pericial 7. Ya contestado informe pericial. 8. Ya contestado informe pericial. IX-PETITORIO: Habiendo finalizado trabajo encomendado respetuosamente solicito De cumplida tarea pericial legal tiempo forma. Ordene agregar presente informe autos elevara copia Oportunamente regule honorarios correspondientes cuenta V.S.: digitalizada sistema fin darle traslado partes. calidad tipo extension trabajo realizado. forma digitalizada. Es cuanto puedo informar V.S. A Quien Dios Guarde Se adjuntan copias traslado traves sistema informatico 12'"
      ]
     },
     "execution_count": 6,
     "metadata": {},
     "output_type": "execute_result"
    }
   ],
   "source": [
    "dfLimpio[0]"
   ]
  },
  {
   "cell_type": "code",
   "execution_count": 12,
   "metadata": {},
   "outputs": [
    {
     "ename": "ValueError",
     "evalue": "Iterable over raw text documents expected, string object received.",
     "output_type": "error",
     "traceback": [
      "\u001b[1;31m---------------------------------------------------------------------------\u001b[0m",
      "\u001b[1;31mValueError\u001b[0m                                Traceback (most recent call last)",
      "\u001b[1;32m<ipython-input-12-db605f330b77>\u001b[0m in \u001b[0;36m<module>\u001b[1;34m\u001b[0m\n\u001b[0;32m      3\u001b[0m \u001b[0mfrequency_vectorizer\u001b[0m \u001b[1;33m=\u001b[0m \u001b[0mCountVectorizer\u001b[0m\u001b[1;33m(\u001b[0m\u001b[0manalyzer\u001b[0m\u001b[1;33m=\u001b[0m\u001b[0mdfLimpio\u001b[0m\u001b[1;33m[\u001b[0m\u001b[1;36m0\u001b[0m\u001b[1;33m]\u001b[0m\u001b[1;33m)\u001b[0m\u001b[1;33m\u001b[0m\u001b[1;33m\u001b[0m\u001b[0m\n\u001b[0;32m      4\u001b[0m \u001b[1;33m\u001b[0m\u001b[0m\n\u001b[1;32m----> 5\u001b[1;33m \u001b[0mfrequency_vectorizer\u001b[0m\u001b[1;33m.\u001b[0m\u001b[0mfit\u001b[0m\u001b[1;33m(\u001b[0m\u001b[0mdf1\u001b[0m\u001b[1;33m[\u001b[0m\u001b[1;36m0\u001b[0m\u001b[1;33m]\u001b[0m\u001b[1;33m)\u001b[0m\u001b[1;33m\u001b[0m\u001b[1;33m\u001b[0m\u001b[0m\n\u001b[0m\u001b[0;32m      6\u001b[0m \u001b[0mfrequency_vectors\u001b[0m \u001b[1;33m=\u001b[0m \u001b[0mfrequency_vectorizer\u001b[0m\u001b[1;33m.\u001b[0m\u001b[0mtransform\u001b[0m\u001b[1;33m(\u001b[0m\u001b[0mdf1\u001b[0m\u001b[1;33m[\u001b[0m\u001b[1;36m0\u001b[0m\u001b[1;33m]\u001b[0m\u001b[1;33m)\u001b[0m\u001b[1;33m\u001b[0m\u001b[1;33m\u001b[0m\u001b[0m\n",
      "\u001b[1;32mc:\\Users\\gasto\\anaconda3\\lib\\site-packages\\sklearn\\feature_extraction\\text.py\u001b[0m in \u001b[0;36mfit\u001b[1;34m(self, raw_documents, y)\u001b[0m\n\u001b[0;32m   1168\u001b[0m         \"\"\"\n\u001b[0;32m   1169\u001b[0m         \u001b[0mself\u001b[0m\u001b[1;33m.\u001b[0m\u001b[0m_warn_for_unused_params\u001b[0m\u001b[1;33m(\u001b[0m\u001b[1;33m)\u001b[0m\u001b[1;33m\u001b[0m\u001b[1;33m\u001b[0m\u001b[0m\n\u001b[1;32m-> 1170\u001b[1;33m         \u001b[0mself\u001b[0m\u001b[1;33m.\u001b[0m\u001b[0mfit_transform\u001b[0m\u001b[1;33m(\u001b[0m\u001b[0mraw_documents\u001b[0m\u001b[1;33m)\u001b[0m\u001b[1;33m\u001b[0m\u001b[1;33m\u001b[0m\u001b[0m\n\u001b[0m\u001b[0;32m   1171\u001b[0m         \u001b[1;32mreturn\u001b[0m \u001b[0mself\u001b[0m\u001b[1;33m\u001b[0m\u001b[1;33m\u001b[0m\u001b[0m\n\u001b[0;32m   1172\u001b[0m \u001b[1;33m\u001b[0m\u001b[0m\n",
      "\u001b[1;32mc:\\Users\\gasto\\anaconda3\\lib\\site-packages\\sklearn\\feature_extraction\\text.py\u001b[0m in \u001b[0;36mfit_transform\u001b[1;34m(self, raw_documents, y)\u001b[0m\n\u001b[0;32m   1191\u001b[0m         \u001b[1;31m# TfidfVectorizer.\u001b[0m\u001b[1;33m\u001b[0m\u001b[1;33m\u001b[0m\u001b[1;33m\u001b[0m\u001b[0m\n\u001b[0;32m   1192\u001b[0m         \u001b[1;32mif\u001b[0m \u001b[0misinstance\u001b[0m\u001b[1;33m(\u001b[0m\u001b[0mraw_documents\u001b[0m\u001b[1;33m,\u001b[0m \u001b[0mstr\u001b[0m\u001b[1;33m)\u001b[0m\u001b[1;33m:\u001b[0m\u001b[1;33m\u001b[0m\u001b[1;33m\u001b[0m\u001b[0m\n\u001b[1;32m-> 1193\u001b[1;33m             raise ValueError(\n\u001b[0m\u001b[0;32m   1194\u001b[0m                 \u001b[1;34m\"Iterable over raw text documents expected, \"\u001b[0m\u001b[1;33m\u001b[0m\u001b[1;33m\u001b[0m\u001b[0m\n\u001b[0;32m   1195\u001b[0m                 \"string object received.\")\n",
      "\u001b[1;31mValueError\u001b[0m: Iterable over raw text documents expected, string object received."
     ]
    }
   ],
   "source": [
    "from sklearn.feature_extraction.text import CountVectorizer\n",
    "\n",
    "frequency_vectorizer = CountVectorizer(analyzer=dfLimpio[0])\n",
    "\n",
    "frequency_vectorizer.fit(df1[0])\n",
    "frequency_vectors = frequency_vectorizer.transform(df1[0])"
   ]
  },
  {
   "cell_type": "markdown",
   "metadata": {},
   "source": [
    "# TF-IDF"
   ]
  },
  {
   "cell_type": "code",
   "execution_count": null,
   "metadata": {},
   "outputs": [],
   "source": []
  },
  {
   "cell_type": "code",
   "execution_count": null,
   "metadata": {},
   "outputs": [],
   "source": []
  }
 ],
 "metadata": {
  "interpreter": {
   "hash": "42875111758dffc1ca879dbe67063d4b14d2fb8b4b9c438105dae1201065df52"
  },
  "kernelspec": {
   "display_name": "Python 3.8.8 ('base')",
   "language": "python",
   "name": "python3"
  },
  "language_info": {
   "codemirror_mode": {
    "name": "ipython",
    "version": 3
   },
   "file_extension": ".py",
   "mimetype": "text/x-python",
   "name": "python",
   "nbconvert_exporter": "python",
   "pygments_lexer": "ipython3",
   "version": "3.8.8"
  },
  "orig_nbformat": 4
 },
 "nbformat": 4,
 "nbformat_minor": 2
}
